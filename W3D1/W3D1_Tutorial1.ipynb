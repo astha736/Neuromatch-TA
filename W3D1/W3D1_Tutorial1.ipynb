{
  "nbformat": 4,
  "nbformat_minor": 0,
  "metadata": {
    "colab": {
      "name": "W3D1_Tutorial1",
      "provenance": [],
      "collapsed_sections": [
        "jWmfLbhzBpfz"
      ],
      "toc_visible": true,
      "include_colab_link": true
    },
    "kernel": {
      "display_name": "Python 3",
      "language": "python",
      "name": "python3"
    },
    "kernelspec": {
      "display_name": "Python 3",
      "name": "python3"
    },
    "language_info": {
      "codemirror_mode": {
        "name": "ipython",
        "version": 3
      },
      "file_extension": ".py",
      "mimetype": "text/x-python",
      "name": "python",
      "nbconvert_exporter": "python",
      "pygments_lexer": "ipython3",
      "version": "3.7.10"
    },
    "widgets": {
      "application/vnd.jupyter.widget-state+json": {
        "7503b1b03b194ef6b6d59fedaa5d5ac9": {
          "model_module": "@jupyter-widgets/controls",
          "model_name": "TabModel",
          "state": {
            "_view_name": "TabView",
            "_dom_classes": [],
            "_titles": {
              "0": "Youtube",
              "1": "Bilibili"
            },
            "_model_name": "TabModel",
            "_view_module": "@jupyter-widgets/controls",
            "selected_index": 0,
            "_model_module_version": "1.5.0",
            "_view_count": null,
            "_view_module_version": "1.5.0",
            "box_style": "",
            "layout": "IPY_MODEL_3562ac50ee10497094ffccc91dc0bd6e",
            "_model_module": "@jupyter-widgets/controls",
            "children": [
              "IPY_MODEL_95372be98ab747ee8c720a8c518403e9",
              "IPY_MODEL_54bf40e652e54265a6c69974d360654b"
            ]
          }
        },
        "3562ac50ee10497094ffccc91dc0bd6e": {
          "model_module": "@jupyter-widgets/base",
          "model_name": "LayoutModel",
          "state": {
            "_view_name": "LayoutView",
            "grid_template_rows": null,
            "right": null,
            "justify_content": null,
            "_view_module": "@jupyter-widgets/base",
            "overflow": null,
            "_model_module_version": "1.2.0",
            "_view_count": null,
            "flex_flow": null,
            "width": null,
            "min_width": null,
            "border": null,
            "align_items": null,
            "bottom": null,
            "_model_module": "@jupyter-widgets/base",
            "top": null,
            "grid_column": null,
            "overflow_y": null,
            "overflow_x": null,
            "grid_auto_flow": null,
            "grid_area": null,
            "grid_template_columns": null,
            "flex": null,
            "_model_name": "LayoutModel",
            "justify_items": null,
            "grid_row": null,
            "max_height": null,
            "align_content": null,
            "visibility": null,
            "align_self": null,
            "height": null,
            "min_height": null,
            "padding": null,
            "grid_auto_rows": null,
            "grid_gap": null,
            "max_width": null,
            "order": null,
            "_view_module_version": "1.2.0",
            "grid_template_areas": null,
            "object_position": null,
            "object_fit": null,
            "grid_auto_columns": null,
            "margin": null,
            "display": null,
            "left": null
          }
        },
        "95372be98ab747ee8c720a8c518403e9": {
          "model_module": "@jupyter-widgets/output",
          "model_name": "OutputModel",
          "state": {
            "_view_name": "OutputView",
            "msg_id": "",
            "_dom_classes": [],
            "_model_name": "OutputModel",
            "outputs": [
              {
                "output_type": "stream",
                "metadata": {
                  "tags": []
                },
                "text": "Video available at https://youtube.com/watch?v=JiEIn9QsrFg\n",
                "stream": "stdout"
              },
              {
                "output_type": "display_data",
                "metadata": {
                  "tags": []
                },
                "text/html": "\n        <iframe\n            width=\"854\"\n            height=\"480\"\n            src=\"https://www.youtube.com/embed/JiEIn9QsrFg?fs=1&rel=0\"\n            frameborder=\"0\"\n            allowfullscreen\n        ></iframe>\n        ",
                "text/plain": "<IPython.lib.display.YouTubeVideo at 0x7f33e6c43810>",
                "image/jpeg": "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\n"
              }
            ],
            "_view_module": "@jupyter-widgets/output",
            "_model_module_version": "1.0.0",
            "_view_count": null,
            "_view_module_version": "1.0.0",
            "layout": "IPY_MODEL_4f4a465d62ca4454876966447b63fee2",
            "_model_module": "@jupyter-widgets/output"
          }
        },
        "54bf40e652e54265a6c69974d360654b": {
          "model_module": "@jupyter-widgets/output",
          "model_name": "OutputModel",
          "state": {
            "_view_name": "OutputView",
            "msg_id": "",
            "_dom_classes": [],
            "_model_name": "OutputModel",
            "outputs": [
              {
                "output_type": "stream",
                "metadata": {
                  "tags": []
                },
                "text": "Video available at https://www.bilibili.com/video/\n",
                "stream": "stdout"
              },
              {
                "output_type": "display_data",
                "metadata": {
                  "tags": []
                },
                "text/html": "\n        <iframe\n            width=\"854\"\n            height=\"480\"\n            src=\"https://player.bilibili.com/player.html?bvid=&page=1?fs=1\"\n            frameborder=\"0\"\n            allowfullscreen\n        ></iframe>\n        ",
                "text/plain": "<__main__.BiliVideo at 0x7f33ea6afb50>"
              }
            ],
            "_view_module": "@jupyter-widgets/output",
            "_model_module_version": "1.0.0",
            "_view_count": null,
            "_view_module_version": "1.0.0",
            "layout": "IPY_MODEL_706e9f07aa0b4eecb59c37b0f0677d7f",
            "_model_module": "@jupyter-widgets/output"
          }
        },
        "4f4a465d62ca4454876966447b63fee2": {
          "model_module": "@jupyter-widgets/base",
          "model_name": "LayoutModel",
          "state": {
            "_view_name": "LayoutView",
            "grid_template_rows": null,
            "right": null,
            "justify_content": null,
            "_view_module": "@jupyter-widgets/base",
            "overflow": null,
            "_model_module_version": "1.2.0",
            "_view_count": null,
            "flex_flow": null,
            "width": null,
            "min_width": null,
            "border": null,
            "align_items": null,
            "bottom": null,
            "_model_module": "@jupyter-widgets/base",
            "top": null,
            "grid_column": null,
            "overflow_y": null,
            "overflow_x": null,
            "grid_auto_flow": null,
            "grid_area": null,
            "grid_template_columns": null,
            "flex": null,
            "_model_name": "LayoutModel",
            "justify_items": null,
            "grid_row": null,
            "max_height": null,
            "align_content": null,
            "visibility": null,
            "align_self": null,
            "height": null,
            "min_height": null,
            "padding": null,
            "grid_auto_rows": null,
            "grid_gap": null,
            "max_width": null,
            "order": null,
            "_view_module_version": "1.2.0",
            "grid_template_areas": null,
            "object_position": null,
            "object_fit": null,
            "grid_auto_columns": null,
            "margin": null,
            "display": null,
            "left": null
          }
        },
        "706e9f07aa0b4eecb59c37b0f0677d7f": {
          "model_module": "@jupyter-widgets/base",
          "model_name": "LayoutModel",
          "state": {
            "_view_name": "LayoutView",
            "grid_template_rows": null,
            "right": null,
            "justify_content": null,
            "_view_module": "@jupyter-widgets/base",
            "overflow": null,
            "_model_module_version": "1.2.0",
            "_view_count": null,
            "flex_flow": null,
            "width": null,
            "min_width": null,
            "border": null,
            "align_items": null,
            "bottom": null,
            "_model_module": "@jupyter-widgets/base",
            "top": null,
            "grid_column": null,
            "overflow_y": null,
            "overflow_x": null,
            "grid_auto_flow": null,
            "grid_area": null,
            "grid_template_columns": null,
            "flex": null,
            "_model_name": "LayoutModel",
            "justify_items": null,
            "grid_row": null,
            "max_height": null,
            "align_content": null,
            "visibility": null,
            "align_self": null,
            "height": null,
            "min_height": null,
            "padding": null,
            "grid_auto_rows": null,
            "grid_gap": null,
            "max_width": null,
            "order": null,
            "_view_module_version": "1.2.0",
            "grid_template_areas": null,
            "object_position": null,
            "object_fit": null,
            "grid_auto_columns": null,
            "margin": null,
            "display": null,
            "left": null
          }
        },
        "f635293b2e2d4e328f7df4fe0241192c": {
          "model_module": "@jupyter-widgets/controls",
          "model_name": "TabModel",
          "state": {
            "_view_name": "TabView",
            "_dom_classes": [],
            "_titles": {
              "0": "Youtube",
              "1": "Bilibili"
            },
            "_model_name": "TabModel",
            "_view_module": "@jupyter-widgets/controls",
            "selected_index": 0,
            "_model_module_version": "1.5.0",
            "_view_count": null,
            "_view_module_version": "1.5.0",
            "box_style": "",
            "layout": "IPY_MODEL_82172fc9e0304a54bc2cdd73cf19b57b",
            "_model_module": "@jupyter-widgets/controls",
            "children": [
              "IPY_MODEL_10320972941241ab8ee4c5dec4478154",
              "IPY_MODEL_b0b37c2e9c364e45bfe66f9a1110eb76"
            ]
          }
        },
        "82172fc9e0304a54bc2cdd73cf19b57b": {
          "model_module": "@jupyter-widgets/base",
          "model_name": "LayoutModel",
          "state": {
            "_view_name": "LayoutView",
            "grid_template_rows": null,
            "right": null,
            "justify_content": null,
            "_view_module": "@jupyter-widgets/base",
            "overflow": null,
            "_model_module_version": "1.2.0",
            "_view_count": null,
            "flex_flow": null,
            "width": null,
            "min_width": null,
            "border": null,
            "align_items": null,
            "bottom": null,
            "_model_module": "@jupyter-widgets/base",
            "top": null,
            "grid_column": null,
            "overflow_y": null,
            "overflow_x": null,
            "grid_auto_flow": null,
            "grid_area": null,
            "grid_template_columns": null,
            "flex": null,
            "_model_name": "LayoutModel",
            "justify_items": null,
            "grid_row": null,
            "max_height": null,
            "align_content": null,
            "visibility": null,
            "align_self": null,
            "height": null,
            "min_height": null,
            "padding": null,
            "grid_auto_rows": null,
            "grid_gap": null,
            "max_width": null,
            "order": null,
            "_view_module_version": "1.2.0",
            "grid_template_areas": null,
            "object_position": null,
            "object_fit": null,
            "grid_auto_columns": null,
            "margin": null,
            "display": null,
            "left": null
          }
        },
        "10320972941241ab8ee4c5dec4478154": {
          "model_module": "@jupyter-widgets/output",
          "model_name": "OutputModel",
          "state": {
            "_view_name": "OutputView",
            "msg_id": "",
            "_dom_classes": [],
            "_model_name": "OutputModel",
            "outputs": [
              {
                "output_type": "stream",
                "metadata": {
                  "tags": []
                },
                "text": "Video available at https://youtube.com/watch?v=McALsTzb494\n",
                "stream": "stdout"
              },
              {
                "output_type": "display_data",
                "metadata": {
                  "tags": []
                },
                "text/html": "\n        <iframe\n            width=\"854\"\n            height=\"480\"\n            src=\"https://www.youtube.com/embed/McALsTzb494?fs=1&rel=0\"\n            frameborder=\"0\"\n            allowfullscreen\n        ></iframe>\n        ",
                "text/plain": "<IPython.lib.display.YouTubeVideo at 0x7f33db395e90>",
                "image/jpeg": "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\n"
              }
            ],
            "_view_module": "@jupyter-widgets/output",
            "_model_module_version": "1.0.0",
            "_view_count": null,
            "_view_module_version": "1.0.0",
            "layout": "IPY_MODEL_d88ad368587249f98e5ab6a209b0b707",
            "_model_module": "@jupyter-widgets/output"
          }
        },
        "b0b37c2e9c364e45bfe66f9a1110eb76": {
          "model_module": "@jupyter-widgets/output",
          "model_name": "OutputModel",
          "state": {
            "_view_name": "OutputView",
            "msg_id": "",
            "_dom_classes": [],
            "_model_name": "OutputModel",
            "outputs": [
              {
                "output_type": "stream",
                "metadata": {
                  "tags": []
                },
                "text": "Video available at https://www.bilibili.com/video/\n",
                "stream": "stdout"
              },
              {
                "output_type": "display_data",
                "metadata": {
                  "tags": []
                },
                "text/html": "\n        <iframe\n            width=\"854\"\n            height=\"480\"\n            src=\"https://player.bilibili.com/player.html?bvid=&page=1?fs=1\"\n            frameborder=\"0\"\n            allowfullscreen\n        ></iframe>\n        ",
                "text/plain": "<__main__.BiliVideo at 0x7f33db3951d0>"
              }
            ],
            "_view_module": "@jupyter-widgets/output",
            "_model_module_version": "1.0.0",
            "_view_count": null,
            "_view_module_version": "1.0.0",
            "layout": "IPY_MODEL_347e511374874f529d6cb60ae0a6082a",
            "_model_module": "@jupyter-widgets/output"
          }
        },
        "d88ad368587249f98e5ab6a209b0b707": {
          "model_module": "@jupyter-widgets/base",
          "model_name": "LayoutModel",
          "state": {
            "_view_name": "LayoutView",
            "grid_template_rows": null,
            "right": null,
            "justify_content": null,
            "_view_module": "@jupyter-widgets/base",
            "overflow": null,
            "_model_module_version": "1.2.0",
            "_view_count": null,
            "flex_flow": null,
            "width": null,
            "min_width": null,
            "border": null,
            "align_items": null,
            "bottom": null,
            "_model_module": "@jupyter-widgets/base",
            "top": null,
            "grid_column": null,
            "overflow_y": null,
            "overflow_x": null,
            "grid_auto_flow": null,
            "grid_area": null,
            "grid_template_columns": null,
            "flex": null,
            "_model_name": "LayoutModel",
            "justify_items": null,
            "grid_row": null,
            "max_height": null,
            "align_content": null,
            "visibility": null,
            "align_self": null,
            "height": null,
            "min_height": null,
            "padding": null,
            "grid_auto_rows": null,
            "grid_gap": null,
            "max_width": null,
            "order": null,
            "_view_module_version": "1.2.0",
            "grid_template_areas": null,
            "object_position": null,
            "object_fit": null,
            "grid_auto_columns": null,
            "margin": null,
            "display": null,
            "left": null
          }
        },
        "347e511374874f529d6cb60ae0a6082a": {
          "model_module": "@jupyter-widgets/base",
          "model_name": "LayoutModel",
          "state": {
            "_view_name": "LayoutView",
            "grid_template_rows": null,
            "right": null,
            "justify_content": null,
            "_view_module": "@jupyter-widgets/base",
            "overflow": null,
            "_model_module_version": "1.2.0",
            "_view_count": null,
            "flex_flow": null,
            "width": null,
            "min_width": null,
            "border": null,
            "align_items": null,
            "bottom": null,
            "_model_module": "@jupyter-widgets/base",
            "top": null,
            "grid_column": null,
            "overflow_y": null,
            "overflow_x": null,
            "grid_auto_flow": null,
            "grid_area": null,
            "grid_template_columns": null,
            "flex": null,
            "_model_name": "LayoutModel",
            "justify_items": null,
            "grid_row": null,
            "max_height": null,
            "align_content": null,
            "visibility": null,
            "align_self": null,
            "height": null,
            "min_height": null,
            "padding": null,
            "grid_auto_rows": null,
            "grid_gap": null,
            "max_width": null,
            "order": null,
            "_view_module_version": "1.2.0",
            "grid_template_areas": null,
            "object_position": null,
            "object_fit": null,
            "grid_auto_columns": null,
            "margin": null,
            "display": null,
            "left": null
          }
        },
        "642a3f3498e84754816f1bb7a4d7a4d6": {
          "model_module": "@jupyter-widgets/controls",
          "model_name": "TabModel",
          "state": {
            "_view_name": "TabView",
            "_dom_classes": [],
            "_titles": {
              "0": "Youtube",
              "1": "Bilibili"
            },
            "_model_name": "TabModel",
            "_view_module": "@jupyter-widgets/controls",
            "selected_index": 0,
            "_model_module_version": "1.5.0",
            "_view_count": null,
            "_view_module_version": "1.5.0",
            "box_style": "",
            "layout": "IPY_MODEL_f9e2554ba16f43feb69e8e71a468295e",
            "_model_module": "@jupyter-widgets/controls",
            "children": [
              "IPY_MODEL_d76fe1b14e3e472694ac26f11ad94bc1",
              "IPY_MODEL_6ebfded671a34f108cb004378852c3c7"
            ]
          }
        },
        "f9e2554ba16f43feb69e8e71a468295e": {
          "model_module": "@jupyter-widgets/base",
          "model_name": "LayoutModel",
          "state": {
            "_view_name": "LayoutView",
            "grid_template_rows": null,
            "right": null,
            "justify_content": null,
            "_view_module": "@jupyter-widgets/base",
            "overflow": null,
            "_model_module_version": "1.2.0",
            "_view_count": null,
            "flex_flow": null,
            "width": null,
            "min_width": null,
            "border": null,
            "align_items": null,
            "bottom": null,
            "_model_module": "@jupyter-widgets/base",
            "top": null,
            "grid_column": null,
            "overflow_y": null,
            "overflow_x": null,
            "grid_auto_flow": null,
            "grid_area": null,
            "grid_template_columns": null,
            "flex": null,
            "_model_name": "LayoutModel",
            "justify_items": null,
            "grid_row": null,
            "max_height": null,
            "align_content": null,
            "visibility": null,
            "align_self": null,
            "height": null,
            "min_height": null,
            "padding": null,
            "grid_auto_rows": null,
            "grid_gap": null,
            "max_width": null,
            "order": null,
            "_view_module_version": "1.2.0",
            "grid_template_areas": null,
            "object_position": null,
            "object_fit": null,
            "grid_auto_columns": null,
            "margin": null,
            "display": null,
            "left": null
          }
        },
        "d76fe1b14e3e472694ac26f11ad94bc1": {
          "model_module": "@jupyter-widgets/output",
          "model_name": "OutputModel",
          "state": {
            "_view_name": "OutputView",
            "msg_id": "",
            "_dom_classes": [],
            "_model_name": "OutputModel",
            "outputs": [
              {
                "output_type": "stream",
                "metadata": {
                  "tags": []
                },
                "text": "Video available at https://youtube.com/watch?v=xvIVZrqF_5s\n",
                "stream": "stdout"
              },
              {
                "output_type": "display_data",
                "metadata": {
                  "tags": []
                },
                "text/html": "\n        <iframe\n            width=\"854\"\n            height=\"480\"\n            src=\"https://www.youtube.com/embed/xvIVZrqF_5s?fs=1&rel=0\"\n            frameborder=\"0\"\n            allowfullscreen\n        ></iframe>\n        ",
                "text/plain": "<IPython.lib.display.YouTubeVideo at 0x7f33eccd43d0>",
                "image/jpeg": "/9j/4AAQSkZJRgABAQAAAQABAAD/2wCEABALDBoYFhsaGBoeHRsfIyUlISIiIicuLygtLjEyMzInLi02PVBFNThLOS8tSGFFS1NWW1xbMkFlbWRYbFBZW1cBERISGRYYLxsbMFc/NT9dV1dXV1dXV1ddV11dV1deV1dXV1dXV1dXV1dXV1dXV1ddV1dXV1dXV1dXV1dXV1dXWP/AABEIAWgB4AMBIgACEQEDEQH/xAAbAAEAAQUBAAAAAAAAAAAAAAAABQECAwQGB//EAEYQAAIBAgMEBwQFCQgDAQEBAAECAAMRBBIhBRMxURciQVNhktIyUnGRBhZCgdEUFSMzNJOhsbJiY3JzgqLB4TXC8ENUB//EABgBAQEBAQEAAAAAAAAAAAAAAAABAgME/8QAIhEBAQEAAgIDAAIDAAAAAAAAAAERAhIhMQNRYUGxIqHw/9oADAMBAAIRAxEAPwDz+IiAiIgIiICIiAiIgIiICIiAiIgIiICIiAiIgIiICIiAiIgIiICIiAiIgIiICIiAiIgIiICIiAiIgIiICIiAiIgIiICIiAiIgIiICIiAiIgIiICIiAiIgIiICIiAiIgIiICIiAiIgIiICIiAiIgIiICIiAiIgIiICIiAiIgIiICIiAiIgIiICIiAiIgIiICIiAiIgIiICJ1/Rxje9w/mf0R0cY3vcP5n9EDkInX9HGN73D+Z/RHRxje9w/mf0QOQidf0cY3vcP5n9EdHGN73D+Z/RA5CJ1/Rxje9w/mf0R0cY3vcP5n9EDkInX9HGN73D+Z/RHRxje9w/mf0QOQidf0cY3vcP5n9EdHGN73D+Z/RA5CJ1/Rxje9w/mf0R0cY3vcP5n9EDkInX9HGN73D+Z/RHRxje9w/mf0QOQidf0cY3vcP5n9EdHGN73D+Z/RA5CJ1/Rxje9w/mf0R0cY3vcP5n9EDkInX9HGN73D+Z/RHRxje9w/mf0QOQidf0cY3vcP5n9EdHGN73D+Z/RA5CJ1/Rxje9w/mf0R0cY3vcP5n9EDkInX9HGN73D+Z/RHRxje9w/mf0QOQidf0cY3vcP5n9EdHGN73D+Z/RA5CJ1/Rxje9w/mf0R0cY3vcP5n9EDkInX9HGN73D+Z/RHRxje9w/mf0QOQidf0cY3vcP5n9EdHGN73D+Z/RA5CJ1/Rxje9w/mf0R0cY3vcP5n9EDkInX9HGN73D+Z/RHRxje9w/mf0QOQidf0cY3vcP5n9EdHGN73D+Z/RA5CJ1/Rxje9w/mf0R0cY3vcP5n9EDkInX9HGN73D+Z/RHRxje9w/mf0QOQidf0cY3vcP5n9EdHGN73D+Z/RA5CJKnYFYEjNT08W/CU/MNX3qfzP4TPaLlRcSSqbFqrxZPmfwlBsap7yfM/hHfiZUdEkvzLV95PmfwgbEq+8nzP4R34nWo2JJ/mOr71P5n8JQbFqe9T+Z/CO0MqNiSf5jq+8nzP4R+Y6vvJ8z+Ed4ZUZEk/wAxVfeT5n8I/MdX3k+Z/CO0Mr2yIiaQiJSBWJSIFYlIgViJSBWJSIFYlIgViUiBWIlIFYlIgViUiBWJSIFYlIgViIgIiICIiAiIgIiICIiAiIgIiICIiAiIgIiIHnFT2m+J/nLZFYna5FRgFFgx/nL02whtcETzWV11tYs6SxTLMXXUjQ3+E0DUVQXds1//ALSTDUqx0mrWxljYG5murlxdSRfsvN3D7GZteB8Y8T23JeXpGnFNcn75Shj2DXYyYqbIAXjrI/EYHLxFvGanKVLxsSFGqGFwZfeReE6rcf4yQzTNiMl4vLbzE9Sxt2m1oHqsRE9TijdqJd6VwCOve6M47LaCYa+IqIGyXFNaZIO7sAwUm1j9nt+Ol5vYmpU3iJTKrmDEllJ4W7ARzmsm1EayOtyeqwFiNWK8DqRofum5y8Y1OTDVxNceyWK3NmKWJNhYWynS5bsHDjLq1SqQwJqAhhdVTQKGXUG3K/ObFLaYcDLTcsTbLdb8L666fAyyvtMgMVRhbMBcDrEcQNdI7T6Xt+MK4mvdr5gL9ayklRmtcdXl8ecyIG/JlPWJFXMdDfKKl72+GsyVNrIpsysGF8y9W4tbx14jhM+Gxi1HdQCCvO3O3C9xwjt+J2/EdiC5LuofKxfKMp636MAXBHC4MBKmf7ajecQvYXq+HD2fnNjDbULKmam2dgpAFrNmvw10HVPGVO16egYML3uCBpoSSdeYy/GXv4xey7B1atSm5OjDqjgOsujHzX+UpUSr+T1g9yxRstiD9k8gJfVxa0VUCk1shbKuUZQLX0v49kfnFQHujAoGLDT7NtOPiJm3ymsVfFMQuQuoytcimScwAyrYjgdflMLYmvdx1hp2Louq6ezyvrrztpNmrj20KU2ILhQdOtrY210++ZhjVyI5BAY2N7dU68fvFvvl7T6O0+mA1qm4pscyktZzluwGutrfDs4HhLsC1VmJqEgACwygXvfU+NraeMxVdrgDRSGKFlvbjkLi4vcaCZn2kirmYH7Y7OKkD+JMm+PRrSp3Uod2xrAnObNft1vwK8hflLRiK5UmzEi5UleaH+yO2SSY5TTNSxsrWbhpqNb8CNbywbSUnRWyggFtLC7FQePaR8prv+L2/FrVKi06upJVrKxAvY21twPE/KaqYirmZlzOEzalLEgFLrw42vN+nikqrqvVNNXIYD2WvoflNentBEWwpFBZSB1ACGvY8fAyTlPpNjFv8QHUG/AG1tNbk9nZw4jh23meg1UpUDktempFxbVg1wLfAfOWrtUEXCMwIzAAAEAKrG9z4zYr4wJlsrNdS+ltFFrnU+I0jt+Hb8R+/rBFClyvVuxSxBym4tlOl7dnheUL11LMFOY8TlOl91e2h/tfKbzY69Kq6KbIGsWtZiL8LG9pRtpqATke3WsRbXKcp7dLHn2Ay9/xe340iax/SEtmC2By9hci/s6G1tbfdJXCOzU1LAhiNbixmqNrISosetl4FTbMSo4HXh2Tfmby1LdViImWSIiAiIgIiICIiAiIgIiICIiAiIgIiICUlYgeH49SlR78czfzmstzwkhtZc2IYDjnM36ZNv1Q+YnLt4bvtH4SqVBBEwORm6w0AkljWYJfd5QO24kRVe5N5J5Kn9jUFfIRqoP8rzrsFRHbOY2LQamlAnUVAW0+B0nTUcSigXuT4Cef5PPJ6vj8cfLbq4VSOAkLj8KOFpONWQJmJ6si8TWVr2BHK9pmRrXL4rD9Y25G8soVS6Ke203KtJmrBV7VN79msiTWyErlPVuBO89PPy8XW4cQO3QjlMaVQXzX8JoVsVm7JWjUBOugmsY17ZERO7m18TSptlNQ2tcA5yvHiLgjlLFw9EkEKBksLXIGhNrjgdb2vMG18O7jqJmJSoliAQM1teOh04yo2acynMLZiWAHtC+ZR9zf8wL/AMlw4B4aGxOc3FgermvcCxOniZkfDUcnWChNe2w601MNsnIUzFSFKczcKGFzft60zPgW3NKmrL1OOnEWI05cez4QL/yWibLpfU+2bm9ib63YcOMuppSR2I6rXtqT22NlBOnEcJr4XZm7yXKkqyG9uxaeS0V9mZ2qkleuHAuOGZEW/wDsPzgZ2w1G2XQZABoxBUC9tb3HE6y1sNh7C4S2UAa/ZBzD46i8xNs5iTqmjFwSupJYNZjy0t8uUtGytGzFSWy9mg/SFyB4a2gbtRaVS9ypOUg6/ZNj8tBMLUcPUfLoWIzGzHUHTsOo6o+U132SSz9YWJYjj9og5SL2tpb4TZw+FZahc5BdbEKLW1J058dYFKNOg36VbaHNcseqb34X6tzrLmFFgaJF1NiR2a3bj9xmoNlNlAzKCtrZQRmsSesf/ucHZBK5c4GltAdNHGlz/b/hAz1aeHZ1uMzVC1gGJHs5SbA24G15ecLQzNcC9jcZjpe1za+l7DWWYXAFHDkre7GwueIUcT/hmOpswsSCVy3c3tqcxuQ3gP8AgcoGfELTSg4DhVYHrE5r3Gp1PWNpVcNRuuguirpm7F9nMO23ZeWbQwJqiy5B1HSzC4Aa2o8RaYG2SSW6w1zEE37bGxF7W0+VoGzQSjTuUsAVHWzXFrmwBJtbjpMFDAUlJztcgqoNytrA2C68mPDTstFTZzNdjkBNjZQQBq3aO3rce3XSWHZTWbrISylTddBdEXMAO3qfxgblPC0R1VC3AIsDwFgvPkAPul9XCI4AZeAsLEjQ8RpxBsNPCYcPgcjq1xcGpc21OYgj+U3IGP8AJ0ysmXqte4+PGYzgaVycvG/adLm5I16puAbjtmzEDWXA0gQQvD+02ut7tr1tSTrfUzYlYgIiICIlIFYmrQ2jRqVqlFHBqUrZ1sdL+PA/dNmBWJibEICwLC6LmYdoBvY2+4/KVo1VqIrobqwBBsRofAwMkSkQKxKRArERAREQEREBERAREQPE9q616hU/abh8Zlwr5VAcm/xmy+zqm8cldCTy5zBUo7sk1CB4ThvjHTwuxVQBRoxv8pE4gENc9sl6VcVAUF8o5zW2nSAC/fLx8Vmp76L4zeYcUzqaTaX7AeH/ACJ04pC9wNRexnnGw8Tu8QmtgWAPwPP77T0WnV6tu2cPl45y16vi5S8crBiqv6O1+3jLWANiw10ueYiu6ld3nT4XF/hMVWroBbhMR0uI/G4kU989gDlsDyJ4TkRXPB9bdvbJHbeLJrFAdANR4yILE2vPVw45PLyfJy2+GQjjKEwIcXmmHu8RE6MqSsRAREQEREBERAREQEREBERAREQEREBERAREQEREBERATXx+LWhQqVn9mmpY/d2TYmHE4ZKq5KihluDY8Lg3H8YHIYXFih+SVmp1xVDsMSzUaiqRWN2OYi1g+W3gJMU6RxVfFbyvVp7lwiLTcrlGUNnPvEknjcaSZr0FqoyVFDIwswPAiauJ2PhqpBqUlYhQt9dVH2TzHgYEWmHy47FuKlQlcPTYHOdSd6NQNOy45S3CO+JfD0alWoqfklOqcrFWqMxsbsNdLDh72smX2bRaoKhprnC5ARp1dRl07NT85StsuhUREempWnonEFdLaEajSBB/lFVlFEV6lkxooiqCMzJluQTaxIJtfwkhs1TSxmIoCo70xTpVFDsWILFwbE626om+mAoqlNFpqEpkMgAsFIvqPHUzIKCBzUCjOwClu0gXsP4n5wIuuGxGNegajpTpU0YqjFS7OW1LDWwy9naZd9HSzJWdqr1VNZxTLG/USyfzU69s28XsyhWYPVpKzKLAnjbkbcR4TPhsOlJBTpqEReCjgO2BliIgIiICIiAiIgIiIHnrnrN8TOb21rWbxt/Kdy30axGYnNS1J+03pkbjPoLiKrlt7SW/ZdvwnDjwsrWuX2avWb4CW7YNss6qh9BcTTvatS1/xfhN/D/Q8qQ1RKVVh2tUa33DJNZd1I88wmz6tQBlWy3sCdLnkOc9BoMRYHkJJ4nY9V931KQyX/8A0bgRw9jTs+UtGxq/Kl+8b0Tn8nHny/h3+O8eM9tKqg4m9vukXiKpvZey8n6mxK7D/wDP943omu30brntpedvTMz4+TV+Xjf5ea4lrVqhPvH+ctYDsne4n6DVKpOdqfhZ2BB8uo8Jp9HmI76j/u/CejK89zXJga3lj6Tr+jzE9/R/3fhDf/55iSP19H5N+EnWmvRoiJ0ZIiICIiAiIgIiICIiAiIgIiICIiAiIgIiICYsTWFOm7kEhVLWHE2F5lmOtTDoyHgwIP3i0CPw220d8rKyXNMKSrWu6ggE2spuba/8zawu0KVVsqMSbZhdSAwvbMpI6w8RzE1k2RZMrVCSXouTlA/VZbC3jkHzjZmxkwzAqQcq5F6ig2uD1mGrHQQMzbUohmUsRlzXYqwXqe1ZrWNpgrbbpiwVWuQ5OZHXLlXN1urcAi0xP9H1Z2Z6hObe65RmtUvoW46X07NJlrbKeoP0ldmPWHsgCzJlIA7Od+cDONqUs2Usb8CcrZb5c2XNa17dkuwe0aVe4pkkhVaxVl6rXswuNQbH5TW/M+tt627zZ8mUe1ltx5X1tz7baTZwuBFN8wYn9FTpW8ELG/8Au/hAsTa+Ha1qnFEcCxvlc5VNrc9LTJhtoUqrZUYk2JF1IDAG2ZSR1hftHMc5pU9g01qrUzsSKjvbS1mtZPgCAR4iX7M2KmGYFSLKmReooOW49puLHQCBcm2aeViwcZXqLbI5Nk4toOErR2vTapUQkDK3VOpuu7Ry590de2swYnYe8zA1TlJqHKUBAz2JNjoWBvYkaX4Si/R6ndjna7rkcgAZk3a08h8uYHsJPOBIYTHU61whNwASGVlNmvY2I4Gx18DNYbZpBM9S4BzstlZjkU23hsNB2/eJds3Zgw5YgqSwVerTVNFvxtxOv4ASNxGzcQtMJSUginUo5lZLZCeoSG4adoueOh0MCUTalO75mAyhm+17KhSSbjj1hprB2tRuQWItfUq1rgZit7WuB2TA+xFZQC7frA5t2jKFZD/ZIEtqbBQu7ZgAxdv1a5gXUg9fjbUm38baQN3CY+nWLCmTdQpIKsps18rWI4Gx18JiTbFBuDnWxUlWAYFguZTbrDMwFxzEy4fBBKjVLklqdOnbwTPY/fnPymiNgjKimq1qSBKPVHUAZGF/eP6NB8B4wNx9p0hUFO7FyxWwRjqMt+A0AzDXhLH2oiV2pPcW3dmsxHXuBc2suotrKYXZmSrvWqF2u5PVAHXyfyyCMRswvVZt6Qj7vOgUa5DcWPZft8OUClbbFIK2S7MNQCGAazBSVJFjYnslRtekB12sbvfKGYKFYrmY26o07fHiBea1P6PIt7MALELamlxdg2rcTwt2eN5Sr9HkYk5hdswbNTVtC7P1b8CMxF4GSlttC1QVFKhXZUsrliEtmYjLoASOF+M3qGJzVKlMixTKR4qw0b5hh900cVsQVBbPbrVG1RTYv2qeKsOwg9vAzawuGZa1Wo3aERdbkqgPWPiSzfwgbkRECkrEQKRKxApErEBERApErECkrEQEREBERAREQEREBERAREQE1sfitzSaplLWsAo7SSAB8yJszDisOlWm1OoLqwsdbfIjgYGm22UFfc5H0ZUaoAMiuwuEJve+o7LaiSMj02PTVaaKzhUq71rm5dtTdmOvGx+4SQgViIgIiICIiAiIgJqbR2hTw1PeVSQtwNATx8BNuc/9Nv2E/wCNP5wH1xwfvP8Au2j64YP3n8jTz2JrFehfXHB+8/7to+uOD95/3bTz2IwehfXHB+8/7to+uOD95/3bTz2IwehfXHB+8/7to+uOD95/3bTz2IweiU/pbhGYKGe5Nh1Glo+mWC99/wB234Tg8F+up/4hNVeAko9H+uWC99/3bR9csF77/u2nnMSI9G+uWC99/wB20fXLBe+/7tp5zED0b65YL33/AHbR9csF77/u2nnMQPUtmbdw+LdkosxZRc3UjTh2yTnB/QD9pq/5f/sJ3kBERAREQEREBERAREQEREBERAREQEREBESkCsSksNZBmuy9T2tR1dL68tIGSJQGVgIlJrb93JFJRYGxdibX5ADj/CMG1E1WrVKetRVKdrJfTxKns8QZsgy4KzR2zWenhqj0zZgB1gL5RcBmA7bC5+6b00ds4lqOGqVEsGAGpFwoJALEdoAJP3SCGwuLCOKdHENUJxS5QXzl0NNS5J90XY9guBOhxeIFKk9QgkIpYgWubDgLyMxApYd6DYdKCvWqqrZEUGopBuQRy9q/hNvbGGWpQcGlTqsoYorqGGaxtoYGbDVqjk56WQW0OdWv8psSC2DhslWoRRSmrLwWmi2AYhRdeNxqQeBMnYCUlZSBCLi2zBMxLivUJW5vkAYi/hwjD7RqK1BCQwdUJPEkte/boPheTdpZSpKihVFgOA5Tr3n06dp9IyttQmuiIVKNlBNtbMDqDf8A4m5syoWoIWNzqL87Ei/32mwtMBcoAAAsAOUU6YRQqiygWA8Jm2WZIzbM8L5z/wBNv2E/40/nOgnP/Tb9hP8AjT+cxGXnsRE0qYwuyVbBVMQ5IIVyljp1SAARbtPjMKYfDfkxYuN9lJy5zx7Ork/5kbECVbZzVMLhnp09P0u9cDgA4sW+AvJNtmYfDPUYq1TLRqsA1jfIVAcXW2t/EDxnLxAkNvYdKWKdaaFEspUX43Uajw/7kfEQM2C/XU/8QmqvATawX66n/iE1V4CSlTezNjpVwlWvULDKKhUg8Mi31Fu0+ImHC4fCnDFqlQCtZrLvCNRe3VyHw7flIuJEdRsGhQahQFRKbPUesLNSUmplC2QOSMp10luG2JTq7nMr5jToBkQqpXOWzO1xrawHOczNnCY+rQvumy3sTdVOo4EXBsRzgT1TZmGtTBVgyKhYgqAw3+Q5tONjx8JCbXoiniq6KpRVdgFPYOz7uXhaajEkkk3J4ykDqfoB+01f8v8A9hO8nB/QD9pq/wCX/wCwneQKTWbHoC46xNP2rKTbS/8AKbLMALngJDYCoP1jO2apUZjTA436q30voLHXSb48dlrXGalKeJVy2W5ymx07bA2/iJYmORqW9GbJ2HKdezQTUDMKWMKAls75QOeVZfQyFaNKmbquUtbsCjQHxvbTwMvWLkbqVQSQOI4+Hh8ZV6gW1+02B8ZFJWZKKi5UtWdXb3esxJ++1h8RKO5bDYo3fUkIGJuLWC2vzYX++Oh1Si1wXKahgL6jsva8yTTT9q147kf1GW4taufqCtaw9hqYH+7WZ6pjfia2CDhTnz3v9soT/tmzJfCUiIkQiIgIiICIiAkftPBVahVqNY0yoNxdrGxBW4B5ix8CfCSE09oYI1goD5cpve1+y3O3zvNcblGk+z6xDCnXJGoBLvfTKLHkQVbXjr8ZStsyo+93dQZHBW2d7myZOs3E2I4dsuOxTZQtUKFd2Fk951bn4W+BlU2LYrapYKzkKFsOswa+h9oWtfkeE69p9/6EpSUhFB4gAG0vlJWcBhxbEUqhX2grEfG2kj9pCqtKkuGvYA8ASCAvVFxqPjYjnJWaqK9IZVXPTHsgEBlHu66Eff8AOa43BkwtYOvG5HVYcbMOIv2y3Z/6oDsBcD/CGIX+AEw06b2K00NJWZmZmYE9Y3OUAm2pPw5GbtNAqhVFgBYCLgumptTFbmg75M50AUmwYsQoBPK5m3NPa70lw1Q1lLU7WKjibmwA8b2tMiC2dTNCqKgwmEprvRRZ6Za4vocunDMbSY2xhBWRRvVpsM2XMFIN1INwfAmRVNMuJp1cRhalIVHGUivnQVLWUug0DHhfXWS22sOlTDVC9PeFFZlXW97HhbX5QK7P2aKDMRu9QB1KSp8yOMzY/Gph6TVal8i2vYXOpt/zIvYDJvHFN6NUZVJqUgwAN/YN2YX7eY7Zf9Lv/H1v9P8AUIGD654P+88kfXPB/wB55P8AueeRNYj0P654P+88n/cfXPB/3nk/7nnkRg9D+ueD/vPJ/wBx9c8H/eeT/ueeRGD0P654P+88n/cxYnaeF2nTbDq1VbWcnKBwI5/GcDJz6J/tFT/LP9SxixJ/VXDd9W+SfhH1Vw3fVvkn4SYiVpD/AFVw3fVvkn4R9VcN31b5J+EmIgQ/1Vw3fVvkn4R9VcN31b5J+Ek6mIRCFZ1UngCwBPwmWBD/AFVw3fVvkn4R9VcN31b5J+EmIgRVD6MYdXVhWrEg31C/hLR9EML39f5J+EmE4iXSVKhfqjhu/r/JPwj6o4bv6/yT8JNxMohPqjhu/r/JPwj6o4Xv6/yT8JMu4UEsQAOJJsBKUqquoZGDKeBBBHzECH+qOG7+v8k/CPqjhu/r/JPwk3EDD9H9iUcLVd6dSo5ZbEOF4X8BJ+aGz/aPwm/ASkrEDFToKrMyggsbnU6nnbh2TJKzXxWMp0QGqHKCbXsT/KXzavmsq0wGLAWJ4+NoemGIuL2Nx8ec1PztQ45j5G/CbGFxSVlzUzmW9r6y3jynmwssVWgocvY5iLXuTpxtbsmSImUJWIgIlIgViUlYCIiAiIgIlJqYjaVOmzK2fqgFmCkqoPAkjhwgbkTCuKQkjMPaKi5tcjiBzl7VVBsWAPIkQL4mFsSgZlLAFVDG+gAJIGvxBmFtp0RV3Rbr6WHiQSBfnYQNyJip4hGRXDDKwBBOnH4y2vikRQxNwxAUKLljyAHHgflAzxNZsagprUGZle2XKpJOl+HwB+UzUaquiupurAEHmDAvmjtqmHwtVWqCkLe2VvlsQQbXFzeb01do4XfUWphspNirWvYqQwJHaLgQILEis1enQfaFLeKwYL+Sm2axKhjntftA8JN1Kr4fCu9VhVemjMxVcga1zwubaTTpbIqZRnqKXauK1YhSL5fZVRfS2VBr2Azf2hm3FTIAXyNlBtqbcLHT5wMWz8XUqE51oAWBG6rGp8+otpp/S7/x9b/T/UJXYyWqvkFTd5FuaiIpzXOgsAbW49nC3bKfS7/x9b/T/UIHms3tjYNa9dUfMVsxOW19Bp/G3DWaMETaJb8lwyYytTqm1NNF/SHjp9oIb9vZLsDhqb4nEpRAddxU3QJv1rLaxYDW9+wSHgiBP4bYdMYao9fMtVM1wGHUsAVvxvm+MzfSCnRNGqaVEKaVWmmZSuimmDwAGl2t8dfCczlHKLQKyc+if7RU/wAs/wBSyDk39E/2ip/ln+pYI6yJSVhomrjMUaWSyM2ZlGg5m3zm1KEX4wInHojF6dOnnr1lGbNqEW1gzcvAdpkpTTKqre9gBc9tu2a1XZlF2Z2TrNxOZhf5GbSqAABwAsPugXREQKpxEulqcRLpKVWUlYmUR7VkrgLVpOlnXIKosGbUgCx14cJj2QCtTEo4UPnViE9mzLpb5azfxGHSquWooZdDY8xwI5GUw2FSkCKa2ubk6kk8yTqYGaIiBtbP9o/Cb80Nn+0fhN+AiIgJhxOHWqjI4urD/wCMzSyrUCKWY2AFyTLPfgiH2TiGo1DhKx1H6tuY5f8A3wktQoBM2X7TFreJteaWCpGrU/Kagtpakp+yvvHxM3hVBcoOKgE/fe38pv5Lt/tvndv9tejXdsRVS43aBRw1zEXte/YLfOWYfEu5Vbi7AuTbgl7L28T+MLhaimqFK2qsWzXOZbgDhbXhprLmolKqsg0NPd/Aj2T8NT/CLh4Z6WJR2KqbkX7DbQ2Ovxl1WsqWzHibAdpPICaSUKtMVGXLncqcupF/tHwvMmJw1RqodGUWRl1v1ST7Q+Uzk1MmrhiwTTYG9OoSoNrWbX+BtaaeI2k6tXylDuyoVSDd2IuV4/DsmZcKwWhS0O7IZjrbQGwvzJmbAYY01bPlLMzMSPEzX+M8r4hTxV945stNLg/EcT93CHxYBVh7BYIbgggngdfGw++YkoMu8pgAhnLdbgyt7S37DeUOEbd0aJJbKyszcgpuBft4ARnHTIkYlJWc2CIiBSaL7MR6z1KnWDBAFzNbq34rex49omPbFBqjYdVUMN6cwYErbdv7Vuy9vvtNI061EugclkpIUIUm2eq2cKOsbBQgvY2HPhAytsp3y+yppvU6xubhnDg24H4EcRx5yGJwCVHDsSCLcAvZ8QZhpvXfDIVzLV7c2VTYE66qRrp2D7pWtv8AdUlzMrs4DsArEDXX2bctbQMe0NltVqioGAtkspuL5c/Ej/H8xLKOyDT3ZBU5DTPA8FVlIHE/a0+E1PyusuVSXXrIoUU9GDE3LNbqnwuOznGHWuDhkd6pQbgk5B9pHBQ2X2QQvHUZtTwgSNDA5sOqVLqblyBY2LEtl1BGma0vrYE5KQpkZqL51zcDoykG3gxmHD71sIm6JzXIBuNUBIU3IN9MspjVfdUN6GZRUG+A611s1tFAuM2TgIGQYKoKIpA02FusGBs175h4C5BHwm1g6BpUadMtmKqBfnaRjqWwSoUdqnUChlYlc7ZVY345QbnlbWSuHoinTVFvlUAC5udOZgZZqbTxRo0HqKAWFgoJsLsQoueVzrNuRe38ctGgQ9FqyuLFQpK2JAIY9nHTnA16OOr07iq6VCMSlJiEy3Dop6ov2Fr630Bm3tqiz0SFF2s2uRGt1TfRiBrw+/lIjB0KKV6bUMLi2fONa4q5UBFi4LG1wunPsk7tQKcNWFQkJkbNYXNrdg7fhAjtg0gKtS1MIQqggU6CcdRfIzG/xmT6V2/IK2YEjq8DY+0O2xlmxqBSswqK6VCl9cnWzMSxupPaQLdg5yv0u/8AH1v9P9Qged3pe7U86+mL0vdqedfTMMTaM16Xu1POvpi9L3annX0zDMgoVMufdvk97KbfPhAuvS92p519MXpe7U86+mYmUg2IIPIi0FCCAQQTawI434QMt6Xu1POvpk59ExTOIcKHB3Z4sD9pf7InOyf+hv7S/wDlH+pYI6/cjxjcDmZkiGmPcDmY3I5mZIgY9wOZjcjxmtW2tRRyrFuqQrMEYqpPAMwFhN2Bj3A8Y3I5mZIgWLRFxxmTcDmYHGZJKVj3A5n+Ebgcz/CZYmUYtwOZ/hG4HM/wmQmYMHjaddC9JsyhiuYcCRxtzHjAv3A5n+Ebgcz/AAmWIFcLTCsbX4TbmvQ4n4TYgIiICaW0sB+UKENQot7mwGvK83ZSWWy7Fly7EN+YT/8A1VvN/wBzd2bs8YcMM7OWNyW48LS+7mvbrbsLy0v8e29/9s2pvl8nKzLWuXPlZlUiVic2FIlYgUiViBSJWICIiAiIgJaUFw1hcXAPK/H+Ql0QKRKxAxNhqZcVCilxoGsLj7/vMyESsQLVUAAAWA0AEuiIFIlYgJobbrNTwtV0OUgDrWvlFxd7eAufum9I3bdTEhAuFFMueIZrNYFfZFiDoTflAh6FcpXC/l1Z6gxCpuGandksOsQFBtbrX4W0nQ7TfLhqzZQ9qbdUgkHTgR2/CRSV69XErTZ8GlRGBcU6jNUyjUrYqNDJ6BAbGqU6VYoDnzqtn3VVTe56l2vp227Pvmb6Xf8Aj63+n+oSakL9Lv8Ax9b/AE/1CB5rJik+GGz2B3e/N7dUlrluHDSw7Qba8JDxNolPy/D/AJLutz+ly2z5KfHnfjJHA7WpLh6VLPlfc1VzlnyqxJsHQaG4PHsnNRGDssDQoVznVKbqCgqM6FuqKI0B+zZhre01cNtTDZqLPu81MYUB8pzaLapc9ttJy8SYMuKN6rkFSCzarw49nhJr6G/tL/5R/qWQEn/ob+0v/lH+pZSOziIhomvi2rC24Sm3G+dyvwtYGbEQOfx20KFWo+GNWlRphv07FlBc6Eoo/m33ToJbu15D5CXQERECo4zJMY4zJJSqyjXsbcey8rEyiPwgq1VqpiaaZCzC1ybjlYqOr49ss2GAErgWAGIrAAdnWknKAQKxEQMlDifhNia9DifhNiAiIgIiICIiAiIgIiICIiAiIgIiICIiAiIgIiICIiAiIgIiICQW06rYfF780alUGhkp7tC2V8xJBtwzdXXh1ZORA5mlsw0qeATd3xJqipUqBeB1aoWfxvl8bidNEQKzXx2DTEUmpVQSjWuASOBvxE2JSBA/U7A+4/7x/wAY+p2B9x/3j/jJ6I0QP1OwPuP+8f8AGPqdgfcf94/4yei8uiB+p2B9x/3j/jH1OwPuP+8f8ZPRJogfqdgfcf8AeP8AjNjB/R/DYZy9JWDEZTd2Omh7fhJeWVJYMG6EboS+JppZuhG6EviBZuhG6EviBZuhG6EviBZuhM25WWTNM1Ks3K8o3K8pkiRGPcryjcrymSIGPcryjcrMkQLFQDhL4iAiIgIiICIiAiIgIiICIiAiIgIiICIiAiIgIiICIiAiIgIiICIiAkftdjlpopOZ6ijqmxsNWtryB+ckJr1sIHdXzMGS+W1u3jxE1xuXV43LrSrJ1UYZ1z1EUqXPDMfHtmV+ti1UEhadPMwBOpJst/kZdWwZyjKSzCorkueNuzQaTK+EBcuGZGIAbKRqBw4jxOs1sa1qlyalgSBVqMvE6Kg1tyuwmTZv6zE/5v8A6LMtXCjLTyWBpm63+FiD8QTMbbNUszCpVQubsFewvYD/AIjZhsxqYjalQPUyC4ptlC7t2L249YaL4TXxaOXxFTMoINMA5TcA20Bvp485KVNmIxY5nAe2dQ1g1u0y+pgEYVAb/pMuax4ZeFuXCbnPjPX/AHpqcpPSzMVrLTY3FRCx4jrKRe2ugN/4SuzWP5OpNyetxPIntMuTDkPnPWKrkS57NLkm3E2HylcFQKUlRrEi97cNSZztmMX0x/lz9y3mp+qbLnQTF+b6Hc0/IJlcaCS5/Bc/hZERKEo17G1r20vzlYgRWzjV37oar1kRAKjMFAFXQ2SwGljqDe2njJWWU6QXNYk5mLG57Ty8JfAREQEzTDM0zUqsREiEREBERAREQEREBERAREQEREBERAREQEREBERARI/fN7xjfPzMCQiR++b3jG+fmYEhEj983Mxvm5mBIRI/fN7xjfN7xgSESP3ze8Y3z8zAkIkfvm5mN83vGBIRI/fNzMb5veMCQiR++b3jG+fmYG/E0N83vGN83vGBvysj983vGN8/MwJCJH75veMb5veMDfiaG+bmY3ze8YEhLWW80d83vGN83vGBu7uN3NLfN7xjfN7xl01u7uN3NLfN7xmDFY80wOtqeFzYDhqTy1HzEaalN3G7nPbR2jiKdO65qhI1yLawbgwJJuRY6eI4SRpYioRdjblY307De0aakN3G7mlvm94xvm94xprd3cumhvm94xvm94yCQiR++b3jG+b3jAkIkfvm94xvm94wJCJH75veMb5veMCQiR++b3jG+b3jAkIkfvn5mN83vGBIRI/fN7xjfN7xgSESP3zczG+b3jAkIkfvm94xvm94wJCJH75uZjfN7xgSESP3ze8Y3ze8YEhEj983vGN83vGBIRI/fN7xjfN7xgWSAxGFxIxOIqU1bX9U11IH6MDgX01v9kzp90vKN0OUCApU8SlYAlzSLkkqKV29nV79lr+zY/wmu+ExP5RUemjBt6WWo1TqFMgGQpfXreGnOdPuhyjdDlA5F8Hj3CEsczAhiSoIy2dPZ0N2zDQcDL1wGLvTOaohYo1TIyXBYVSw617hSyD4cOAt1e6HKN2OUDn6QrNgTSenVNZaaqSWUFnIHWDg9h7eOnaZr06WOp7tVuzCoTVcshWpdl61jqoyX0FrW+fUboco3Q5QOXpHGVKGLpVM+93K5L5B12D3yMulrgWub85bU2ZiaZXd1Gb7RKWFv0lLqLnJNsoc6m1/lOq3Q5RuhygcsibQRCovoxy5TTOljlvm/te14Wt2zKXx6OS4z0lJJyBczBbv1R43CW46X7bzpN0OUbpeUDntpYes2Jo1KSOwGS4L2Qda54MCDbwYG1rTWT855VvcHNc33RPsroewrmzcLHhOq3Q5Ruhygcw35w69ybF/sClcL17ZCdLexfNrxjF4LEGlhAqu1REUMM9lzdW5Yhgb6HrC/boZ0+6HKN0OUDl2THszG3ssWp5ilgctUW6trr+r485fSo426OztcWBB3fWGcXDAaezmNxbsnS7oco3S8oERgcNUFLDZ3ZGpqN4gy2Y5bWPwPKRRwmLXEVaiK+prZTnW1mtlsCxBtyKj4zrN0OUbocoHKum0GUqwLA03BH6IXa7ZSeZtk0FhNqrTxL0MWrZ94ysKetMLfrWyEa8MvtToN0OUbocoHJYehjqYtTV1BqZrFkPV6gykMWsPbOjfzmTe4+ohNNtBUZAQqXYLcCpZgNGPEDlpOp3Q5RuxygQ+zfyjPW39yub9GeoNLnQBdbWy6km/hJCbG6HKN0OUDXibG6HKN0OUDXkXtTFqj0+qzZmFNrJcLcq1zfS1gf4Sc3S8pa2HQkEi9r21PbodIEJ7DrbrsSTu2ZSUOtsoHD2tT2D7pI0aeRFW98qgX+AtNpaCDgoHwl26XlA14mxul5Rul5QNeJsbpeUbpeUDXibG6XlG6XlA14mxul5Rul5QNeJsbpeUbpeUDXibG6XlG6XlA5M7Nxe8IDHdbwqOv/8Ann3oY6342T4TIn5yypc9bN1tKWmg05FL5uTeM6jdLyjdLygc/gKWIWnXWurMOtu1RgCQSxtmvcNqO2wFrdsrs3CVjhmRzUw7s5YWYNkFwcqklrj48zwk/uhyjdjlA5zaeErPiGamj6pTFNxUyqjBmLFlvroRpY3mCtWx6Fz7zhaakIb5i6/ZHBeo2vIzqt2OUbscoEBtHDYlq+HamQ1OmyFusVJN+szACxFrafGb/wCTXapndmSoAMh0C2FjlI11+MkN0vKN0vKBzGFw2KoolNFcZgmdsytlOc5iSxJ9i1rX4Syiu0VpqozlhTI6xpEFsrcTxLZ8tuy3HW86rdLyjdLygcy1LGpUOQsQaisW/RdYBaQOYW4frOFjpM2zKeKSqi1M26FMg3KWDX56sTx7RadBul5Rul5QNeJsbpeUbpeUDXibG6XlG6XlAviIgIiICIiAiIgIiICIiAiIgIiICIiAiIgIiICIiAiIgIiICIiAiIgIiICIiAiIgIiICIiAiIgIiICIiAiIgIiICIiAiIgIiICIiAieadIWM7vD+V/XHSFjO7w/lf1wPS4nmnSFjO7w/lf1x0hYzu8P5X9cD0uJ5p0hYzu8P5X9cdIWM7vD+V/XA9LieadIWM7vD+V/XHSFjO7w/lf1wPS4nmnSFjO7w/lf1x0hYzu8P5X9cD0uJ5p0hYzu8P5X9cdIWM7vD+V/XA9LieadIWM7vD+V/XHSFjO7w/lf1wPS4nmnSFjO7w/lf1x0hYzu8P5X9cD0uJ5p0hYzu8P5X9cdIWM7vD+V/XA9LieadIWM7vD+V/XHSFjO7w/lf1wPS4nmnSFjO7w/lf1x0hYzu8P5X9cD0uJ5p0hYzu8P5X9cdIWM7vD+V/XA9LieadIWM7vD+V/XHSFjO7w/lf1wPS4nmnSFjO7w/lf1x0hYzu8P5X9cD0uJ5p0hYzu8P5X9cdIWM7vD+V/XA9LieadIWM7vD+V/XHSFjO7w/lf1wPS4nmnSFjO7w/lf1x0hYzu8P5X9cD0uJ5p0hYzu8P5X9cdIWM7vD+V/XA9LieadIWM7vD+V/XHSFjO7w/lf1wPS4nmnSFjO7w/lf1x0hYzu8P5X9cD0uJ5p0hYzu8P5X9cdIWM7vD+V/XA9LieadIWM7vD+V/XHSFjO7w/lf1wPS4nmnSFjO7w/lf1x0hYzu8P5X9cD0uJ5p0hYzu8P5X9cdIWM7vD+V/XA9LieadIWM7vD+V/XHSFjO7w/lf1wPS4nmnSFjO7w/lf1x0hYzu8P5X9cD0uJ5p0hYzu8P5X9cdIWM7vD+V/XA9LieadIWM7vD+V/XHSFjO7w/lf1wPS4nmnSFjO7w/lf1x0hYzu8P5X9cD0uJ5p0hYzu8P5X9cdIWM7vD+V/XA5OIiAiIgIiICIiAiIgIiICIiAiIgIiICIiAiIgIiICIiAiIgIiICIiAiIgIiICIiAiIgIiICIiAiIgIiICIiAiIgIiICIiAiIgIiICIiAiIgIiICIiAiIgIiICIiAiIgIiICIiAiIgIiICIiAiIgIiICIiAiIgIiICIiAiIgIiICIiAiIgIiICIiAiIgIiICIiAiIgIiICIiAiIgIiICIiAiIgIiICIiAiIgIiICIiAiIgIiICIiAiIgIiICIiAiIgIiICIiAiIgIiICIiAiIgIiICIiAiIgIiICIiAiIgIiIH/9k=\n"
              }
            ],
            "_view_module": "@jupyter-widgets/output",
            "_model_module_version": "1.0.0",
            "_view_count": null,
            "_view_module_version": "1.0.0",
            "layout": "IPY_MODEL_e62a5d5e0d3a4b79a935ef8f056d3495",
            "_model_module": "@jupyter-widgets/output"
          }
        },
        "6ebfded671a34f108cb004378852c3c7": {
          "model_module": "@jupyter-widgets/output",
          "model_name": "OutputModel",
          "state": {
            "_view_name": "OutputView",
            "msg_id": "",
            "_dom_classes": [],
            "_model_name": "OutputModel",
            "outputs": [
              {
                "output_type": "stream",
                "metadata": {
                  "tags": []
                },
                "text": "Video available at https://www.bilibili.com/video/\n",
                "stream": "stdout"
              },
              {
                "output_type": "display_data",
                "metadata": {
                  "tags": []
                },
                "text/html": "\n        <iframe\n            width=\"854\"\n            height=\"480\"\n            src=\"https://player.bilibili.com/player.html?bvid=&page=1?fs=1\"\n            frameborder=\"0\"\n            allowfullscreen\n        ></iframe>\n        ",
                "text/plain": "<__main__.BiliVideo at 0x7f33ec6d2550>"
              }
            ],
            "_view_module": "@jupyter-widgets/output",
            "_model_module_version": "1.0.0",
            "_view_count": null,
            "_view_module_version": "1.0.0",
            "layout": "IPY_MODEL_0baae6b75738482ea3edddc2739fd994",
            "_model_module": "@jupyter-widgets/output"
          }
        },
        "e62a5d5e0d3a4b79a935ef8f056d3495": {
          "model_module": "@jupyter-widgets/base",
          "model_name": "LayoutModel",
          "state": {
            "_view_name": "LayoutView",
            "grid_template_rows": null,
            "right": null,
            "justify_content": null,
            "_view_module": "@jupyter-widgets/base",
            "overflow": null,
            "_model_module_version": "1.2.0",
            "_view_count": null,
            "flex_flow": null,
            "width": null,
            "min_width": null,
            "border": null,
            "align_items": null,
            "bottom": null,
            "_model_module": "@jupyter-widgets/base",
            "top": null,
            "grid_column": null,
            "overflow_y": null,
            "overflow_x": null,
            "grid_auto_flow": null,
            "grid_area": null,
            "grid_template_columns": null,
            "flex": null,
            "_model_name": "LayoutModel",
            "justify_items": null,
            "grid_row": null,
            "max_height": null,
            "align_content": null,
            "visibility": null,
            "align_self": null,
            "height": null,
            "min_height": null,
            "padding": null,
            "grid_auto_rows": null,
            "grid_gap": null,
            "max_width": null,
            "order": null,
            "_view_module_version": "1.2.0",
            "grid_template_areas": null,
            "object_position": null,
            "object_fit": null,
            "grid_auto_columns": null,
            "margin": null,
            "display": null,
            "left": null
          }
        },
        "0baae6b75738482ea3edddc2739fd994": {
          "model_module": "@jupyter-widgets/base",
          "model_name": "LayoutModel",
          "state": {
            "_view_name": "LayoutView",
            "grid_template_rows": null,
            "right": null,
            "justify_content": null,
            "_view_module": "@jupyter-widgets/base",
            "overflow": null,
            "_model_module_version": "1.2.0",
            "_view_count": null,
            "flex_flow": null,
            "width": null,
            "min_width": null,
            "border": null,
            "align_items": null,
            "bottom": null,
            "_model_module": "@jupyter-widgets/base",
            "top": null,
            "grid_column": null,
            "overflow_y": null,
            "overflow_x": null,
            "grid_auto_flow": null,
            "grid_area": null,
            "grid_template_columns": null,
            "flex": null,
            "_model_name": "LayoutModel",
            "justify_items": null,
            "grid_row": null,
            "max_height": null,
            "align_content": null,
            "visibility": null,
            "align_self": null,
            "height": null,
            "min_height": null,
            "padding": null,
            "grid_auto_rows": null,
            "grid_gap": null,
            "max_width": null,
            "order": null,
            "_view_module_version": "1.2.0",
            "grid_template_areas": null,
            "object_position": null,
            "object_fit": null,
            "grid_auto_columns": null,
            "margin": null,
            "display": null,
            "left": null
          }
        },
        "1fa684103eaf4e71beb0794f615280c8": {
          "model_module": "@jupyter-widgets/controls",
          "model_name": "VBoxModel",
          "state": {
            "_view_name": "VBoxView",
            "_dom_classes": [
              "widget-interact"
            ],
            "_model_name": "VBoxModel",
            "_view_module": "@jupyter-widgets/controls",
            "_model_module_version": "1.5.0",
            "_view_count": null,
            "_view_module_version": "1.5.0",
            "box_style": "",
            "layout": "IPY_MODEL_07dc440dceeb423596dde872186a73a6",
            "_model_module": "@jupyter-widgets/controls",
            "children": [
              "IPY_MODEL_dbd6e41d60be4af38975e64ec36e33b3",
              "IPY_MODEL_d26c3d911dd8482a8eecc94ba8ecd98b"
            ]
          }
        },
        "07dc440dceeb423596dde872186a73a6": {
          "model_module": "@jupyter-widgets/base",
          "model_name": "LayoutModel",
          "state": {
            "_view_name": "LayoutView",
            "grid_template_rows": null,
            "right": null,
            "justify_content": null,
            "_view_module": "@jupyter-widgets/base",
            "overflow": null,
            "_model_module_version": "1.2.0",
            "_view_count": null,
            "flex_flow": null,
            "width": null,
            "min_width": null,
            "border": null,
            "align_items": null,
            "bottom": null,
            "_model_module": "@jupyter-widgets/base",
            "top": null,
            "grid_column": null,
            "overflow_y": null,
            "overflow_x": null,
            "grid_auto_flow": null,
            "grid_area": null,
            "grid_template_columns": null,
            "flex": null,
            "_model_name": "LayoutModel",
            "justify_items": null,
            "grid_row": null,
            "max_height": null,
            "align_content": null,
            "visibility": null,
            "align_self": null,
            "height": null,
            "min_height": null,
            "padding": null,
            "grid_auto_rows": null,
            "grid_gap": null,
            "max_width": null,
            "order": null,
            "_view_module_version": "1.2.0",
            "grid_template_areas": null,
            "object_position": null,
            "object_fit": null,
            "grid_auto_columns": null,
            "margin": null,
            "display": null,
            "left": null
          }
        },
        "dbd6e41d60be4af38975e64ec36e33b3": {
          "model_module": "@jupyter-widgets/controls",
          "model_name": "FloatSliderModel",
          "state": {
            "_view_name": "FloatSliderView",
            "style": "IPY_MODEL_0a6560e6b1944a179531c75f47d11ceb",
            "_dom_classes": [],
            "description": "p(s = left)",
            "step": 0.01,
            "_model_name": "FloatSliderModel",
            "orientation": "horizontal",
            "max": 1,
            "_view_module": "@jupyter-widgets/controls",
            "_model_module_version": "1.5.0",
            "value": 0.36,
            "_view_count": null,
            "disabled": false,
            "_view_module_version": "1.5.0",
            "min": 0,
            "continuous_update": true,
            "readout_format": ".2f",
            "description_tooltip": null,
            "readout": true,
            "_model_module": "@jupyter-widgets/controls",
            "layout": "IPY_MODEL_b9233c211e4940b49811c06c5147523f"
          }
        },
        "d26c3d911dd8482a8eecc94ba8ecd98b": {
          "model_module": "@jupyter-widgets/output",
          "model_name": "OutputModel",
          "state": {
            "_view_name": "OutputView",
            "msg_id": "",
            "_dom_classes": [],
            "_model_name": "OutputModel",
            "outputs": [
              {
                "output_type": "display_data",
                "metadata": {
                  "tags": [],
                  "image/png": {
                    "width": 723,
                    "height": 277
                  },
                  "needs_background": "light"
                },
                "image/png": "iVBORw0KGgoAAAANSUhEUgAABaYAAAIqCAYAAADfMp2/AAAABHNCSVQICAgIfAhkiAAAAAlwSFlzAAAWJQAAFiUBSVIk8AAAADh0RVh0U29mdHdhcmUAbWF0cGxvdGxpYiB2ZXJzaW9uMy4yLjIsIGh0dHA6Ly9tYXRwbG90bGliLm9yZy+WH4yJAAAgAElEQVR4nOzdeZgcVbn48e+bhEAIgbAKghA2FUV2cLsCelEWFxYR9IIadlkUFfXq/aGAole96nXhgkSWoKggIqDIJqu4sYsgBAQJEjAgkAQSEsjy/v6ompmazvQyMz09Wb6f56lnqqtPnTrdXdU99dap90RmIkmSJEmSJElSp4wY7gZIkiRJkiRJkpYvBqYlSZIkSZIkSR1lYFqSJEmSJEmS1FEGpiVJkiRJkiRJHWVgWpIkSZIkSZLUUQamJUmSJEmSJEkdZWBakiRJkiRJktRRBqYlSZIkSZIkSR1lYFqSJEmSJEmS1FEGpiVJkiRJkiRJHWVgWpIkSZIkSZLUUQamJUmSJEmSJEkdZWBakiRJkiRJktRRBqYlSZKkDoqICRGRlWlCJ8pJkiRJSxID05IkSVrmRMTUSqD2xgGsP7Em2Ltr+1spSZIkLb8MTEuSJEkDEBG7VoPXw92eZuxZLUmSpCWJgWlJkiRJkiRJUkeNGu4GSJIkScuTzJwKxJJanyRJktQJ9piWJEmSJEmSJHWUgWlJkiRJkiRJUkcZmJYkSZL6ISIml4Md3lCzPOtMk2vKtXUQwmb1RcTJZXsfqVn1kTrtvbFcb92IeKmy/KB+tuuGyrqXDuIlSpIkaRlkYFqSJEnSYjJzOlANKB/V6roR8Spg18qi77epWZIkSVpGOPihJEmS1D/3AFcDawA7VpZf3aD8cHqIom1jgJ0ry38LzO2j/F8q86cD7yvn3xIRW2Tm/S1s88jK/CPUf28kSZK0nDIwLUmSJPVDZn4T+GZE7EolnUdm7jFsjWogM88Hzi9TfFTTeXw4M6c2WffGiLgPeE256Cjg443WiYgVgQ9XFk3KzOxnsyVJkrSMM5WHJEmSpEbOqMx/KCJWalJ+f2DNcn4+cM6QtEqSJElLNQPTkiRJkhr5ITC7nF8dOKBJ+Woaj0sy86khaZUkSZKWagamJUmSJNWVmc8BP64sqjsIYkS8mt55rB30UJIkSX0yMC1JkiSpmdMr82+KiC3rlKsGrR/MzBvqlJMkSdJyzsC0JEmSpIYy8y/A7yuLFus1Xeae/lBl0ZlD3S5JkiQtvQxMS5IkSWpFtdf0ByNi5Zrn9wfWKOfnAZM70ShJkiQtnQxMS5IkaVk0vzK/4gDWX6nm8UuDaMuy4udA10CGqwEH1jxf7UX988x8tiOtkiRJ0lLJwLQkSZKWRTMr86sMYP1xNY9nDKIty4TMfAk4u7KoOxAdEa8B/q3ynIMeSpIkqSED05IkSVoWPV2Z3ygiop/rb9ygvuXZmcCicv71EbF1OV/tLX1vZv4eSZIkqQED0y2KiJMjIsvpxuFuTysiYnKlzZOHo+52l1NjEfGuiLgwIh6OiDmV9zQjYp/hbp8kSR10R2V+HLBZP9ffpjI/LTP/1UeZRdUHAwh+d9qimsf9bm9mPgr8urLoqHLQww9WljnooSRJA7C8xEYiYmLldU7tVDktedoSmK4J2vY1LYqIWRHx94i4NCJOiIh12rFtSRARIyLiJ8CvgAOATYDaAYkkSVqe/Lbm8f6trhgRGwBvqCy6uU7ROTWPx7S6jWHSrvZWB0E8CDgUWL2yjR8NsF5JWmK0EOdoZZow3K9DkpZkneoxHcCqFLdE7g18A3gsIk6JiFEdaoOWAcvL1cMBOAb4QOXxLOB3wNWV6clhaFcvEXFj5fM7eQloj/uTJC27rgMeqTz+RESs2eK6X6J3b+JJdcr9s+bx5i3WP1xmAvMqjwfa3quBh8v5VSn+t+9yQWbOGmC9kiQNWERMrZzfTRzu9iwPlrbsAvasXvIMVVD46prHI4A1gC3pGRV9NPAFYIuIODAzc4jaIi0PjqzMXwnsl5nz6hWWJGlZl5kLI+LLwFnlorWBqyJi38yc1tc6ZYeJLwATK4t/m5k31tnGExExHVi3XPTxiDg8Mxe24zW0W/me/Jme3uDHRMTV/f2fITMzIr4P/E+5qNrz2jQekpZVtXGOVsxteyskaRkyJIHpzNyjr+URMQb4CPAVYKVy8fuAm4D/G4q2aGhk5kR6n7QtUfUtT8rjasvKov8xKC1JEmTm2RHx7/TcVbQD8LeIuBC4EZgGvAisWT53IL1zUf8L+I8mmzkf+FQ5PxHYKyLuAWZXylyfmd8d+Ctpq/PpCUy/A/hnGax+DujqKHJvZp7YpJ5zKHqWr1RZdmdm3tbOxkrSkqJenENS/2XmZGDyklqfOqejaTQycy7wvxFxH0Wvzq5bJE+MiDMys3ZAFknNrUHv240fG66GSJK0BPow8CxwbPl4pXLZh5us91dgn8x8vEm5LwL/DmxbPl6nfFw1s+XWDr0zgXcDu5ePxwO71pQZ36ySzHy2DPBX38fvt6OBkiRJWj50Ksd0L5l5NcUgbV3WBbYfjrZIy4AVah4vGJZWSJK0BMrM+Zl5HPAW4HJgfpNVHqAIYu+QmQ+1UP/zwBuBoyg6XkxjCb51OzMXAHtR9AS/hCIP9xx6ekv3x12V+eeBnw66gZIkSVpuDEtguvSrmsdbVx/UG5QsIt4SEWdExL0R8UyzhOURsWdE/CAi7o+IGRExLyKmlYOwfTYi1hvMi4iIbSPitIj4a0TMjIjnI+K+iPh2RLy2H/WMKF/bSRHx64h4uKxrfkT8KyLujojvl7ejDkpE7Fy+v1PKbcws6/9yRGzUYh1tHTSuWX1dz9G7V86HG4x+vGu53vcqyx6MiKitu0Gbdqmpc5vBvs5K3atGxHERcUVEPBoRL0TEcxHxt4j4SUS8PyJGNlh/18p78kjN04/08X5MbEOb31Du67eXx95L5fH0dETcFRE/jYjjo2bk6YiYUGnrLpWnTmrw+fWqo6xndES8IyL+OyJ+U75vc8p2PBkRt5XH3Y4tvJYB7U8N6ts8Ir4QETeX3y/zyuPq/oiY1I7jVpI0OJn5u8x8N7Aa8FbgMODTwP+jGER4f+AVmfnqzDy9P2mxMvPFzJyUmXtl5isyc+XMjMo0sab81Jrnp9apt63lKuUXZeZPM3O/zNwkM1fJzBGV9Xdt8aVXf0fPz8zZdUtKkoiI15fnL13nGWe3uN7FlXXmRsRWfZRZbKD5KLwzIi6KiIfK886nI+LWiPiviFhrgK9j5/Lc667yXOyliHiqPCf7akS8eoD1vi4ivlieVz1Wvta55TnWtVEMtLdtzTrVc+NqPOPceud3w/H6yvPir0QRe+mKHU2JIhayc3/r6+e2+x2/iSaDBEY50CRwUmVxbQylbkyiWf391UJ7byzbe25l8UYN2ntyud57K8sWRsSG/WjTKlHEebrW//hgX+eyqKOpPGrUphto+IUYEWOB02gxD3FEbEaRX+bNfTy9fjntQpFG5EuZ+bVW6q3UPwI4heJkpjbYuUU5HRMRp2bmF5vUtQNFoH7dOkXWKqetgKMi4mbg/Zn5RD/bvBLwPeDwPp7eqpyOj4hPZma90eeXNmcAx5Xzm1OciF7f4rpHVeZvycw/t6NBEfFB4Fv0vc+Po8ht+QHg8xFxaGbe0o7tDlRErELx5b1/nSIrUuTm3AZ4P/DtiFglM+e0sQ3vAn4IrF6nyDrltAPFPnwJcEhmzmpXG+q0axXgm8ChLP59uiJF8OPVwBER8Rvgg5n55FC2SZLUWJla7sZy0gBFxOvpSV8CpvGQpKYy85aIOBHoij8cGhG/ycwL6q0TEccA+1UWnZCZf2m2rYhYneIc6l01T42hOH/bEfhERByWmb9spf1lnOX7LJ6yCopBhtemOCf7VET8X9nWpnf0RsTLKOI972Xx+Ar0xHD+naKD0ymZeXIrbe6PIXx9H6E4b1y55qlXldOHI+Is4KODaL6GxmXAE8DLKTr3Hk4xUHYr/oMixgPF3XTntb11y4DhDEzXph94qUHZAH4M7F0+ng3cD7wAbEjNF1dEbA38huJLo1r/vRS3GU6g50raWOCrEbF5ZvYVsK3nVOBz5fy8su45wCbAK8rlKwCnRMSqmfmpxavoti69g9IvAH+jyEe4CHgZxZdVVw/atwC3RMR2mfmvfrT5bHoG8HkeuI/ifXkVRVAPivfjzIgYnZmn9aPuodY1AvLrKL4QoPhyuKdO+WcBMvO+iLiJnp66R9FCYLq8clz98W/LyVZE/Bfw5ZrFTwEPUuwvr6Hni+s1wPURsV+Z/qbqWXrekzFA9Qrrb1n8FuJm+TEbuQTYrfJ4EcX++c9yfjWKYPpqlTLVY3Jupa070RNcfhiod4t0bfsn0Dso/Vy57iyK42K9sg1d290X2CQi3lgGIGoNaH+qKv95upLeJ+WLgCnAkxSfy5bAKuVzbwf+GBE7Z+a0OtuRJGlp8f8q8ze1EiSRJAHwP8Db6Mn1f2ZE3JqZf68tGBGvowhodrkkM09vYRsjKQJqbykfP0sRQxlB0XGm69xqLeDiiHhfZl7aqMKIeCNFh7o1K4vnUsQVZlGMfbQlRZxpJPAxYPOIeE+j4G35Gn9NTxyly6MU6bEWUMRENqcnJlIdC6F6brwLPYPy3ks/zoOH8PV9HPjfmsVPUsQARgOvpThnPJziHHJpSc15E8XnshmwablsBnBrnfKDiUm0w60Usbv1KT5Hysc31Sn/EBQp0CLiB/T0DD8sIr7YygUJend2/Flmzuh/s5cDmTnoCTiZIi9dFlW2tM6nq+sAB9U8P7nyXNco4U9T9JgeXVN2s8r8KhQ7UNe6C4GvAONr1nkj8JeaNhzX4mt8miIAtZBiNPJVa8ruQpGfsFr3exrU/S6KL6XPUQTKRvRRZvXyPZtdqfMXTd7j6nv4VPl3LnA8sFKl3AhgH4rAXFf5BcB2LdY9eUkrV7POAZV1XgLWaWGdT1XWmQGMacNxsmfNPvEY8J7q503xI3ocPbkeu7a/QYN6J9TUO2Gwba3UvXdN3V8H1qpT9pXlPvoQsEqdMjdW6jq5H+04Driz3Hc3q1NmXYpjfX5lG9/qxzHS0v5UrjcKuLmy7gsUx+/qNeVWoOhNPatS9ib6OMadnJycnJyWloki9Un1/4O3D3ebnJycnNo9MYA4Rz/qXoeio09X/bcCK9SUWZkiKNpV5tHa842a8tVzra7z/2eBDwKjKuX6Okd5rsk55wbAvyrl/0Fxl29tbGZ1it7giyplT21Q75rA1JrflHOBzfsoO5biLt4rgf+tU1+1ron9+DyG6vXtRBE36ir7OEXspRoDGAN8kiJIWv3s+nWO2uT1Te5vnRSxt651prZ4nNzYjza1Wv+wlKtZ5+X0jjPs08I6O9Ts129ox2e5LE7DkmM6IoKenrtd/thglXEUgbpdM3NyZvbqXZ29B6b5L3qu1gAck5n/lZkza9b5I8XVw2oPya9HazmW1qTomfnRzPx8Zj5XU/dNFD1Yp1YW/19E1Ouhfj3wqsz878y8JzMX1RbIzBmZ+T/AHhRfbAD7RMQrW2gvFL3HE3hfZn4nK3kTs8gzeClFmouuKzgjgf9rse4l3SUUP/pQ/Agf0sI6R1bmf5h997ptWfnZV3tdTwfekpm/rH7emTkvi57q+9DzOY9n8SusnfLuyvxPMvMzmfl0XwUz88FyH30lxfHaTpMzc7ty3+2zl3VmTs/M/6L4x6vLkRExvq/yg3QC8G/l/HMUn+V/Z80V0CwG3DqH4mLVC+XinSluUZMkaakQxdgXl0YxDspD9P4f8YrM/M1wtU2SlkaZ+RTFeUvXueCOFJ1sqr5LkSIUinPDg2rPNxpYm6JT2jsy80dZ6d1ZOUd5Jz0DAo+j6Mldzw/oSUV5D7BNFmMV1MZmZmTmfwIfqSz+TESsX6fe/6V3XujDMvOQzPxbbcHMnJOZP8/MPYHPN2jrQAzV6zuNnrHdnqWIaV1aEwOYm5nfokiLmfS+819LgCzS6F5WWXRUvbJ1yvwlM//U3lYtO4Zr8MNTKPLRdrkj+7htpcaXMvPeRgXKHMrVgOKVmXlmvfJZ5J89BLpHIR9DazsYFLcs1r2FJos8stX8QBtQ9I7tq+wLmZl9PddH2d8BF5YPgyJlQat+mJmXN6j7AXrnynlDRGzXj/qXSJk5HzirsuiI8uJInyLirRS3CXVpRxqPfSnSznQ5PhsMTFSe4FX3r337k2S/jaq3U93cygrlhY6W9udWZT8GU8oiP9sfyodj6blFri0iYkXgE5VFn8jMO5q06c/AVyuLzB0mSVqavJriLqq96N0B5BH6HrtEkpY5DQZJqzd9u1F9mXktPbmmAU6IiD3KbR1IMUhvl1PKWEB/fD0zb2+w/d9RBL+7vLdMV9hLRGxD0UEOikD2AZm5WKrDmron0ZNCcwX6iLNExMb07rB4Rhkwb6o/54fNDOHr25HigkOX/9dXwL1S56XAT/rRdHVWNT7zjoiYUK9gRIyjuNDQxXE4GuhIYDoKa0bEHhHxa3pf3VoE/GeTKhbSO7BYz870zgf0zXoFu5QBpRsri1oN9H6vhbovB6oB93b1kqz2Lt+pH+s1bTNwDkW6kC7LSs/OM+npgbwpvXMm16r+qPw2M+9vw/ar+9U/gItaWOdb9Fw0GUmdCxtDrNpTfNu6pZY8Az1GWrEnRS4tKG6z+mGL61UHOnhjRNQOfCFJ0tLgJYoUdN8AdsjMfzYpL0mq7wv0dKoJ4LyIeBMwqVLmRhYfp6iZhfQOpNXzPXrOOVeg73POiZX5yzNzSottqJ7/9HX+fSA9OaPnU6RJHQ4TK/PtfH3VMauep0in0cx3mxfRcMjM6ynGk4IilnpEg+IH0TPW1Gzg/CFs2lJvSAY/jIhWe0suAj6Wmdc1KXdfZj7TQn1vrMzPBm5osR2XUaSxANg6IlbOzBcalF9ET3L9Zq6gyI8L8PpmhSNiVYpB0rahuKVlHEXe4WoP3+ptIhu02I6nmvXqhKL3dkTcSM/IvU3bvDTIzMcj4pf0BIiPohggs5eIWJveQeS6Pe77qbpv/rqVHsWZOTUi7qbn7oI3UtwK1Em30TPo6BERMRU4LTOf73A7upWf0duBrSlyPa0KrFhTbLPKfKvHSKt2qczfmK0NekBm/iMiZlKkZhlF8bn+ofFakiQNv8w8mSKHpCQtz1qNAXRp2sEpi4HV/gP4M8V5wjoUd6p2dSJ8miKFx2LpPpu4s0wX0mz7j0bEX+kZDO71FGktqqrnP/1J3XR3ZX77iIia8+Bqvb8bxgudQ/X6qrGUG6vpVOvJzFsj4ml60opoyXIG8J1y/tCIOKlOPKDa2fGnwxk/WRoMSWC6RbcCJ7R4O0qzNB9dqsGoe/vx5V0dRXwURUC40Y/I1H7cOlLNYb1pRIzMzIW1hSJiTYqcUh+iZxTZVrSaP7dhGpQa99ATmG41h/XS4HR6gs57R8S6mTm9pswhFCPjQvFPwM8Hu9Eyv/SEyqK76xTty1/oCUxv1qjgEDmLIp/y6hQXR74CfD4irqO4cv8n4PbMfHGoGxIRG1HkPduX/n13tTvH9FaV+Z0i4qp+rFs9ts0dJkmSJC0lMnOP5qUGVO+jEXEYcHG5qHpn+8Qyv21/3dO8SK+yXYHpXuf/ZQrMLSuLDo+IvWnNmMr8aIoORbMqy7aozNdNOTKUhvj1Vd/L/n4eb21aSsPhPIqYyFhgXYpOfBdXC0TETvROXWwajyaGKjBdeyVxEcWtC89SBNp+m5l/7Ud9zzUvAhTBsy7/6kf9tWVX77NUj1Z6b9crO752WURsQtG7eyA5hGt7irbajlbLNnsvlibXUdx6+kqKff9QKgNMlD9K1dsxzq0d7GCAagOjA903O/5ZZOaTEfFu4BcUV++h+AF+Fz0XL+ZGxE3Aj4ELy5zebVXm57qGgQWZWz1GWlVNFzSB3hcd+mO1QbdEkiRJ0lIvM39R3rm8a2Xx2Zn56wFW2a7z/9XoHTcazBhUq9E7cLtGZb5p7+4hMpSvr/peDiaGpCVEZs6KiJ/QEzc6iprANL3HvbstM+/sSOOWYkOSYzoz96iZ9srMAzPz6Mw8o59BaegZqbaZagCqPwHF2t6ezXosD6buXkGyiBgB/IyeoHRSpBaZSHGVZS1gTGZG10TRq7e/Btrmdgf1hk15W80ZlUVHlO9/l7fR0ys56Z3XazBq38OBfhb96UnfNpn5e+BVFPnPHu6jyBiKwSJ+BDwQEf/Wzu1HxFiKwHhXUHo+RY6m9wOvo/iHZqWaY+SUdrahxtg21TNcg89KkiRJWoJExDvonVIC4O0RMdDOSe06/2/XuQ8sfv5TPb9tmuZiiAzl6xtdmR9MDElLlmru9t0iontQ6DI1b3XQw3alhl2mLWuBkZmV+XH9WG/VBvX0ZTB1z6p5vBewfeXxwZm5T2ael5l3Z+YzfeQi6s/2B7JOtc217V3aTQa68odPAN5Rea6aB+i6zHyoTdus3Z8G+lk02y+HTGbOzMwvZeZmFINHTqRI81EbqN4YuCYiBnOludYh9OSJng+8PTM/mJkXZua9mTmjj1QiAzlGWlX9HL5bDYj3c5o8hG2UJEmStBSIiJdRDKgeNU9tyOL5nlvVrvP/2nPQ/QZx/jO1pq4Zlfnhupt0KF9f9c7/wcSQhsvI5kWWP5n5Z+CP5cPau+4Ppudixyzgpx1s2lJrWQtMV2//2LRuqcXVlm12G8lGZdqHVmxSmZ+TmXNqnq/mqfptZv6khTpf0eK2qzbuR9lqm58cwLaWWJk5k95fDkcBRMQ6wD6V5W3LA1R+5tXBNAe6bw7X7U29ZObfywsnR5SB6q3oPSLxGOCrbdxk9Rj5aWbe1MI6AzlGWlXNS/6yIdyOJEmSpGVYGVf4ET3nFbOopJsE3hsRRy22YnNtOf8vz2Wr42u18/ynOtjhq9pYb8uG+PVV38uBfh7tUu2xvUKL6yxLaV3brdpr+pCI6HpPq2k8fpSZ1TiQ6ljWAtN3VOY3Ka88tuJNlfknM3Nak/KrAa9use7qSKx39PH8RpX5W1uscyCpEl5d3lbQimZtHk7VtC6tXhyoVf0SeVdEvJyiV27Xl8l0inQq7VR9H99Ut1RFOWjiTpVFwzIgRDOZeU9mTqTIMd1l14joKw3MQD6/fh0j5T93Lb3HA2zPHyrzb2xxHUmSJEmq9Rng7ZXHR2bm/wMuqSz734h4bT/r3bEmbWWfynPO6t2ufZ3/D9X5zx8r87v0o/NfI0vS+V31vXx93VIVEbEaQxOkr/beXqNuqd5e12K5dsRoOqkd7b2InvHA1gH2jYjXA1tXypjGo0XLWmC62pMyKLrRN1QGz6o5YFrpjQnwgRbqXoveqSL6qrvVq1Vddb6GgX1ZrgDs30L9W9F7VNpW349OqfY4H1O3VANl8vlbyoejKG69qN5+cXZmLhhY8+qqvo+7RcS6LazzTnoPtLekfRa1qkn/V6DvH7yBfH79OkYoeliv32LZgbTnysr8hhHx9rolJUmSJKkPZSDr1MqiszPzZ+X8YcA/yvkxwAUR0Z8xh9al90CK9exF756xfZ1zVs9/9o2IVgObzVxVmd+wbMtgDfb8rp2vr/peblXGcpo5kN6DMbbLo9W2NCtc7mt7tlj3oGM0HdaOmNKLwDmVRUfROzXs7zPz3oHUvTxapgLTmfkwcENl0efK4HAjn6H37RqtDnh3fESs16TMl+hJeJ/AuX2UeaIyv3Ojysornv/XYvv68oVyILlGvlaZf55iYMYlSfV2n80HUU+11/R/0pMyYxEDz+PVyNn0XJlbgd7v82LKCyb/XVn0KHDNELSroX5etV6l5vGMPsoM5PPrzzGyMvC/LdY7oPaUOaWurSz6XnllW5IkSZKaKs8ffkpPEHIK8LGu5zNzBnAQsLBctCX9O88B+EpE1M0TXKYfqAbG/07veEqXs4Fny/lxDC4mUXU5vccsasd51UDON4fq9f2M3kHQZjGAVYDPt2nbtap3X788Iprdhf8pYO0W666+55u2qef7UKq2d+1B7HPfpyfG81bgP2qeU4uWqcB06YsUQWAoepv+uswfvJiI+BBwcmXRzZl5XYvbWbWsu890IRHxceAjlUU/zsxH+ih6fWV+p4g4uk59KwPn09pVz3o2An4eEYsl3o+IkRHxTXrn8/1OZs6uLTvMqrfDbB0Ruw2wnp8Bz5Tz1atkV2Xmo32UH5RyIIRqHuYPRcTn+/rSLi8eXAhsUVn8pcxcWFu2A66PiI81Gw06ItYGPltZ9Mc+Bu2E3p/fOyKilduDqsfI/hHxrjptWJPin5v+3Po00P3p0/SMHP0q4KaIaJreJyI2iogvl8eaJEmSpOXTJHryDr8IvL82H21m/o4ivtHlIxGxXz+28XrgBxExuvaJskfsj+idruErmZm1ZTPzeeC/KoveHxE/jYjxzRoQETtGxA8j4j9qnyvPbz9TWbQxcGNENMyxHBE7RUS9u8Gr53cHRsQGzdo4hK/vOeB7lUXvioiv95VipUy7egnQtL0DdAtQTVn7vXqpXiPiUOCkftRdfc/XoEiTuiT7CzC/8viTA6mkjPF09bYPoCuV6TPAzwfauOXRUNwiMKwy88aI+BZwQrloJ+C+iPgB8HuKXsATKNJ3VIOwM4EPtbiZOyiupG0L/DUiJpV1z6FIVP9BegeQ/wl8ok5dF1EMbtA1WNvpEfEOisDptHI7OwGHlmXmU4zYe1iLbe1yLbANxWv+a0ScSXHVbD5FvuzD6J1b6l56Xz1dUlxP8X6uR3Hw/yYi7qW4zan65XJio1snMnNeRJxDEWCsGsorWx8HdqFnMIMvUvw4TQYeoOhJvR1FwvwJlfUuzcyzh7BdjWwMfAf4RkTcQJF/66/A08ACinxKbwQmAtW7E06pU9/FwLeBlYCVgT9HxJ8pekVXA+9HZmbXYI+TKHq1r0JxMe2yiPgR8CuKASVWB95CcYysSZE/69e0kG6HAe5PmfnniDiM4p+5ERS5pP4aEZdT9Gx/mOK7ZhzFbXRbU/T27jrGqhcpJEmSJC3hIuKq5qUW8/3MvLSmnsOBAyqLPp2Zd9dZ/2yE7jcAACAASURBVFTgbRTnkQBnRcTtmfmPOuW7XEpx7n8I8IYyHnIPxTnPVhRpB6o9iq9pdM6ZmWdGxLb0pCt4P8W57IXAb4HHKQbYW40iLce2FLmzu8YLup4+ZOYvyvhNV3BwG+D+iLgI+A3wGMV54ssozqXeSdF7/Dv0Hfz7CcW5Y1Cc4z0cEXdS5APuzi2cmft04vVRnBfvTU+ns08DbytjEVMoYgA7ltvdoGzn3cBAO+D1KTMXRcTX6AmUbwPcHRHfLbcXwCspXvfOFOf659NCetzMfCAibgd2KBedHRGfA/5G70EXv5uZ9d6njsnM2RFxGT2pbr9QBuPvA+ZWil6QmRc0qe50in2y6rw6nfRUT2YOeqLodZxdU5vqnFypc3I/1w2K21yyxekJYKt+vMYbKb7M/9VC3U8Cr2lS9xsogtrN6nqJIoA8sbJsaqvvIcWX2+wWtvMgsF47Pp92lyvLvqOF92vXFvaTTSh+5LrW+Qcwsh37b4NtbkAR9G9137wYWLFJnRNq1pnQxvZO7Udbs3w/P9qkzokUQd9G9UyoWWe/FtbJcv/ek5rjdaj2J4o8aDP6+R413cednJycnJycnJycnIZ3qjmnGOj08Zo6t6g59/hlC+1Yn6JjUNc6N/d13koRp+gqczJFh7lWzqH+AIxroR0B/D96n0O3Ok1sUvcXKALHrdb37QZ1fb7Z+p18feXn91ALdcymiNlMHorzRspOXi20Yz79iDuVdW9Ts482fY9arb/d5cqyGwCPNGnvyS2+pw/XrPfKTnw/LUvTspjKgyx8giLgdFuDorMpem9umZl/6ec2/kJxlexyevf07LKQIh3D1pl5X5O6/kQRnP5Dg2J/BP4tB9FzNjOvpeh9fXOdIi9SXPHZITP/WafMsMvMayhuOfo6xS0pz9C7d2urHqUnlxTAWTnE6TIycxrFFdET6RnFtS8PUuQU2z+LxPrD5bMUwfFnm5RbQNFLecfM/F6jgpk5GdieInfXXRR3KzQcbDIzf0HxI12vF/xCip7K22XmlXXK1Kt7wPtTZl5B0dPgv4GnmhR/keJK+rEM8HYhSZIkSUunMn3GBRR3jkLRQa5p2oPMfJzi7tAu/0YLqRYy80cUuW//XKfIbIpxsd6aRTqLZvVlZn6Z4tzpx8ALTVaZQdGr+b0UPZkb1f1Fih63l9P43PAFivPT8xvU9SWKO2rPobjb9zkqvaUbrDckr6/8/LanuDu73rn9zcBOZcxmSGTmIopewl+md8/gqjuBnfsbd8piHKbXUuyXN1PEOl5quNIwKuMyW1NkWriO4i7qfvdyLt/Taizxhsx8sC2NXI5EGeVfpkXEK4A3U9xSP4Yi8PQ3ipEyB32wRMTLKX4c1gdGUqTguC4zGwUe69W1BfAmihQJcykOkFuz7/zUAxYRm1LknHo5RVDvUeDaLPIgLRci4j0UVwyh+PHbKDOfaLBKu7c/giJI/VqKgQUWUAQ3b8vMKZ1qRyvKXNibU1zhfwVFjvUEZlFc/b09M5sFr9vVju0o/mlZkyJdxj+B32Xm9KHefgttex3F3RRrUaQemUPxo/wAcG9m1vsHQJIkSZIGLCJupCflxymZeXLluddR9Gp9OUWc4WHg+sGcn5S5q18PbEZx/rMCRbD7cYo0FfeXgbv+1juOIrC8IUXO4gUU51RTgDs71XFrKF5fOdDev1OkABlJcXHilsx8uOGKbVYOtPhWirvIV6I4p74zG6RD1eIiYi2K/aErj/uBmfmzYWzSUmm5CExLfYmIK+nJM/6LzHzvcLZHkiRJkqSBaBSYltR+EfGfwFfLh9OBDTNzIHfzL9eWyVQeUjMRsR29B79smH5CkiRJkiRJioixwPGVRWcalB4YA9Na7pSpV86tLPpDZt44TM2RJEmSJEnSUiAixgBnAOuVi57Hzo4DNmq4GyB1QkRcWs6uRZGjeEz5eBFFwntJkiRJkiSpl4g4FdgSGEsxcOLalae/lJnPDEvDlgEGprW82LvO8v/KzD91tCWSJEmSJElaWvwbPTncq34NfKvDbVmmGJjW8iaBmcBtwHcy84phbo8kSZIkSZKWDnOA+4EfAqdn5sJhbs9SLTJzuNsgSZIkSZIkSVqOOPihJEmSJEmSJKmjDExLkiRJkiRJkjrKwLQkSZIkSZIkqaMMTEuSJEmSJEmSOmrUcDdAkiSpT4EjNGu5Fx4FEgAJMdxtUDe/mSRJfen3b7U9piVJkiRJkiRJHWVgWpIkSZIkSZLUUQamJUmSJEmSJEkdZWBakiRJkiRJktRRBqYlSZIkSZIkSR1lYFqSJEmSJEmS1FEGpiVJkiRJkiRJHWVgWpIkSZIkSZLUUQamJUmSJEmSJEkdZWBakiRJkiRJktRRBqYlSZIkSZIkSR1lYFqSJEmSJEmS1FEGpiVJkiRJkiRJHWVgWpIkSZIkSZLUUQamJUmSJEmSJEkdZWBakiRJkiRJktRRBqYlSZIkSZIkSR1lYFqSJEmSJEmS1FGjhrsB0vLg/Dum5XC3YVl28PYbxHC3QZIkSZIA5s+fz+TJk7ngggu47777ePbZZ1l77bXZdtttOfjggznggAOIGPwpzNSpU9l4441bLn/SSSdx8sknt1R24cKF/OIXv+Diiy/m9ttvZ/r06YwYMYKXvexlbLbZZrz1rW9l3333ZfPNNx9g67W86dRx0cjDDz/M6173OubOndu9LHNg4ZoZM2awxRZb8OSTT3Yve+SRR5gwYcJgm7lcMTAtSZIkSZLUBlOnTmW//fbjrrvu6rX88ccf5/HHH+fyyy/nrLPO4qKLLmL8+PHD1MrG7rrrLg477LDFXgPA888/z0MPPcRVV13FE088wbe//e1haKGWNkvKcXHEEUf0CkoPxic/+cleQWkNjIFpSZIkSZKkQZo5cyZ77rknU6ZMAWCLLbbg0EMPZYMNNuChhx5i0qRJPPbYY1x77bXst99+XHPNNYwa1Z6wzFvf+lY+9rGPNSzz6le/umk9v//979lrr7147rnnANh1113Zfffd2XDDDRk5ciTTp0/njjvu4IorrmhLu7XsG87jouqss87ihhtuYOzYscyZM2dQdf3mN79h8uTJjBgxgtGjRzNv3rw2tXL5Y2BakiRJkiRpkE455ZTu4Nsee+zBJZdcwkorrdT9/DHHHMNuu+3GXXfdxQ033MCZZ57Jscce25Ztb7jhhuyzzz6DquPJJ59k77335rnnnmOttdbioosuYtddd+2z7MKFC3nqqacGtT0tH4bzuOjyz3/+k09/+tMAfPGLX+SEE04YcF0vvPACRx11FADHHnssv/zlL3n00Ufb0s7lkYMfSpIkSZIkDcJTTz3F6aefDsDYsWM577zzegXfANZYYw1++MMfdufRPfXUU1m4cGHH21rP8ccfzzPPPMOoUaO48sor6walAUaOHMl6663XucZpqbSkHBfHHnssM2fOZNttt+X4448fVF0nnngijzzyCOuvvz5f/vKX29TC5ZeBaUmSJEmSpEG49NJLeemllwD4wAc+wDrrrNNnuS233JK3ve1tAEyfPp2bbrqpY21s5NFHH+Wiiy4C4IMf/CA77LDDMLdIy4Il4bi4+OKLueSSSxgxYgSTJk1i5MiRA67r1ltv5Tvf+Q4A3/ve9xg3bly7mrncMjAtSZIkSZI0CNdcc033/B577NGwbPX5q666asja1B/nnXceixYtAuDggw8e5tZoWTHcx8XMmTM57rjjAPjoRz86qAsu8+fP5/DDD2fRokXsvffe7Lvvvm1p4/LOwLQkSZIkSdIg3Hvvvd3z22+/fcOy1eBYdb3BuPnmm9lxxx0ZP348K664Ii9/+ct5xzvewTe+8Q1mzZrVdP3f/va3AEQEO+64I7NmzeLUU09l6623Zty4cYwbN47XvOY1HHvssd35gqVmhvu4OOGEE5g+fTqveMUrOPXUUwdV11e/+lXuuecexo0bx2mnndaW9gkiM4e7DdIy7/w7pnmgDaGDt98ghrsNkoZA4HenlnvhUSABkOD/e0sOv5lqLFq0iBVXXJEFCxYwcuRI5s2bx6hRo+qWf+SRR9hkk00A2HTTTXnooYcGtN2pU6ey8cYbNy232mqrMWnSJA444IC6ZcaPH8+sWbMYP348119/PXvvvTePPfZYn2VHjhzJqaeeymc/+9kBtVvLh+E6Lrpcd9117LbbbgBcdtllvOc97+l+riufNUArcdH777+fbbfdlhdffJHvfOc7fOxjH+t+bsKECd2DHz7yyCNMmDBhUO1eyvX7t7r+HiFJkiRJkqSGZs+ezYIFC4AiwNso+Aaw5pprds/PnDlz0Nvfcsst2W233Xjta1/L+PHjef7557n77ru54IILePLJJ5k1axYHHnggc+bM4ZBDDlls/Xnz5nX3ql60aBF77bUX06dPZ/PNN+eQQw5h00035ZlnnuGyyy7j6quvZuHChXzuc59j9OjRfPKTnxx0+7VsGs7j4oUXXuDII48EYN999+0VlO6vRYsWcfjhh/Piiy+yww47dKcGUXvYY1rqAHtMDy17TEvLKHtMS/aYlkr2mF6i+M1U44knnmD99dcHYP3112fatGkNy8+fP5/Ro0cDMHr0aF588cUBbff555/noYceYtttt+3z+blz53Lsscdy7rnndm9rypQpi/Wynj59Ouutt16vZXvvvTc/+9nPutvZ5fvf/z5HH300ACussAIPP/wwr3jFKwbUfi3bhuu4APjUpz7FN7/5TcaNG8f999/f3Y4u/ekxfdppp/HRj36UkSNHctttty12vNljupd+/1abY1qSJEmSJGkpM27cuLpBaYAxY8Zw9tlns/vuuwPw0ksv8fWvf32xcl2DHnZZc801Oe+88xYLSgN85CMf4b3vfS9QBBLPOOOMwbwEqe1uv/12vv3tbwPwla98ZbGgdH/84x//4HOf+xwAH//4xxsebxoYU3lIkiRJkiTVmDJlSsOB/rbbbjs23HBDVlllle5l8+bNa1rv3Llzu+fHjRs3uEY2ERGcfPLJXH311QD8+te/XqxMbRsOPPBAVltttbp1HnnkkVx88cVAkcdXy5cl+biYP38+hx12GAsXLmSnnXbimGOOGVA9XY4++mhmz57NRhttxCmnnDKoutQ3A9OSJEmSJEk1LrjggobBqHPPPZeJEyeyyiqrMGrUKBYsWMDMmTNZsGBBw3y6zzzzTPf8+PHj29rmvuy0006MGTOGuXPn8thjj/HCCy+w8sordz9fbT/A9ttv37C+6vMPP/zw0DRaS6wl+bj4+te/zl/+8hdGjRrFpEmTGDFi4IkifvzjH3PFFVcAcPrppzN27NgB16X6DExLkiRJkiQN0IgRI9h000154IEHWLhwIdOmTWuYZ7YrHy3AK1/5yo60b/XVV+/ukTpz5sxegemIYPPNN+f+++8HaNhbuvb5rkETpVrDcVycddZZAGy22Wb86le/4le/+lXTdU499dTu+U9/+tOsuOKKvepad911ufPOO7nzzjv7XL96DJx22mndQfUjjjiCl73sZQN6HcsTA9OSJEmSJEk1Tj75ZE4++eSWym655ZY88MADANxxxx0NA3C33357r/WG2qJFi5gxY0b34756o2611Vbdgelmwebq882C2Fr2LMnHRddAhlOmTOHzn/98S+tUyx133HHdgemuuqZPn95yXd/85je759/1rncZmG6Bgx9KkiRJkiQNQtcAg0B3Pud6rrrqqu75PfbYY8ja1OW2227r7i29/vrr9+ot3WXPPffsnr/jjjsa1ld9vhM9vrX0WpKPCy0ZDExLkiRJkiQNwj777MPo0aMB+OlPf8pTTz3VZ7l7772X66+/HihSBOyyyy5D2q7M5KSTTup+vNdee/VZbu+99+4OWF944YUNe01PmjSpe94Aohrp9HExdepUMrPpVFVdXr2b4MYbb2ypro022qh7nUceeaR7+TbbbDOg17C8MTAtSZIkSZI0CGuvvTbHHHMMALNnz2bixInMmzevV5kZM2bwoQ99qDswduKJJzJy5Mg+69t1112JCCKCyZMnL/b87NmzOfHEE3n66afrtmnevHkcfvjh3T1VV1hhBT7zmc/0WXb8+PGccMIJQDEI3Yc//GFeeumlxcqdeeaZXHzxxQCMHTuWo48+uu72pU4fF1r6mGNakiRJkiRpkE466SSuuuoqpkyZwpVXXsl2223H4Ycfzvrrr89DDz3EmWeeyWOPPQYUAbYjjzxywNtasGABX/7yl/na177Grrvuyhve8AY22WQTVl11VZ5//nnuvvtuLrjgAqZPn969zumnn85mm21Wt87PfvazXHnlldx+++1cdtllbLnllhx66KFssskmzJgxg0svvbRXuoUzzzyTtddee8CvQcuHTh4XWvoYmJYkSZIkSRqk8ePHc+WVV7Lffvtx1113cf/993f3Qq7abbfduOiii1hhhRUGvc0FCxZw7bXXcu2119Yts+aaa/L973+f/fffv2FdK6+8MldccQUHHHAAN954I3/729/43Oc+t1i5MWPGcMYZZ3DQQQcNuv1a9g3HcaGlh4FpSZIkSZKkNpgwYQK33HILkydP5oILLuCvf/0rM2bMYK211mLbbbflgx/8IAcccAARMajtrLrqqtxwww388Y9/5E9/+hMPP/wwTz/9NM8++ywrrrhi9/Z23313Dj74YMaOHdtSvWuvvTbXX389F110ET/5yU+48847efLJJxkzZgybbLIJe+yxB8cddxwvf/nLB9V+LV86dVxo6RO1Sb8ltd/5d0zzQBtCB2+/gb9e0rIo8LtTy73wKJAASPD/vSWH30ySpL70+7fawQ8lSZIkSZIkSR1lYFqSJEmSJEmS1FEGpiVJkiRJkiRJHWVgWpIkSZIkSZLUUQamJUmSJEmSJEkdZWBakiRJkiRJktRRBqYlSZIkSZIkSR1lYFqSJEmSJEmS1FEGpiVJkiRJkiRJHWVgWpIkSZIkSZLUUQamJUmSJEmSJEkdZWBakiRJkiRJktRRBqYlSZIkSZIkSR1lYFqSJEmSJEmS1FEGpiVJkiRJkiRJHWVgWpIkSZIkSZLUUQamJUmSJEmSJEkdZWBakiRJkiRJktRRBqYlSZIkSZIkSR1lYFqSJEmSJEmS1FEGpiVJkiRJkiRJHWVgWpIkSZIkSZLUUQamJUmSJEmSJEkdZWBakiRJkiRJktRRBqYlSZIkSZIkSR1lYFqSJEmSJEmS1FEGpiVJkiRJkiRJHWVgWpIkSZIkSZLUUQamJUmSJEmSJEkdZWBakiRJkiRJktRRBqYlSZIkSZIkSR1lYFqSJEmSJEmS1FEGpiVJkiRJkiRJHWVgWpIkSZIkSZLUUQamJUmSJEmSJEkdZWBakiRJkiRJktRRBqYlSZIkSZIkSR1lYFqSJEmSJEmS1FEGpiVJkiRJkiRJHWVgWpIkSZIkSZLUUQamJUmSJEmSJEkdZWBakiRJkiRJktRRBqbVb1E4MCIuj4hpEfFiRPwzIq6LiMMjYlSbtrNyROwREZ+PiF9GxL0RMT0iXoqI5yPibxFxYUS8LyJGDqD+PSPinIiYEhGzImJORPw9Iq6PiC9ExDbteB2SJA3WLGbxM37G0RzN63k9a7ImK7ACq7M6W7M1x3AMt3Fb27c7hzl8i2/xZt7MOqzDSqzERmzEgRzI1Vzdr7rmM58f8AP+nX9nPdZjRVZkAzbg3bybC7mQJNvefi3j5s+H66+Hr30N9t8ftt4a1l8fVloJxo6FCRNgn33g3HNh7tz2b/9f/4IvfQm23x7WWANWXhk23RQOPRT+9Kf+1TVnDnzrW/DmN8M66xSvYaON4MAD4er+HWuSJElLi8j0JECti4jVgZ8Db2tQ7E5g38z8xyC3tQdwZYvF/wIcmJlTWqh3Y+Bs4K1Nil6Wmfu0uP2Gzr9jmgfaEDp4+w1iuNsgaQiEkUqAr/N1vsAXeJEXm5Y9mIM5kzNZmZUHvd27uIv92Z+/8/e6ZQ7iIM7hHEYzumFdU5nKfuzHXdxVt8xu7MZFXMR4xg+4zcui8Ciob8oU2GKL1spOmAA//jG86U3t2fa118JBB8FTT/X9fASccAL8z/80r+uuu4rA+t/rH2scdBCccw6MbnysLcsS/H9vyeE3kySpL/3+rW5Lz1YtHyJiNHAZ8JZy0WPAJOAhYAPgUGALYDvgyoh4Y2Y+14ZN3wfcCkwBpgHzgPHldt4PrAFsBdwUEVtn5vQGr+FVwPXAy8tFtwO/Ah4p610H2Bp4ZxvaLUnSoD3Ig91B6U3YhN3YjW3YhrVYixnM4Dqu42IuZiELOZ/zeYqnuJIrGTGIG+Me5VH2ZE+e5EkAdmInDuZg1mIt7uEeJjGJZ3iGH/NjguBH/KhuXTOZyZ7syRSKa8dbsAWHcigbsAEP8RCTmMRjPMa1XMt+7Mc1XMMo/0VVf2yyCbz+9fDa18KGGxY9l59/Hu65By68EB5/HKZOhbe/HW65BbbccnDbu+MO2HtveOGF4vHb3w7vfS+ssgrceiucfXbRA/ob34AVV4RTT61f16OPwp57wpPFscZOO8HBB8NaaxXtnzQJnnmmCKpHwI/qH2uSJElLG3tMq2URcTzw7fLhncBumTmj8vxKwKXA7uWib2TmpwexvTWB0Zn5zwZl1gCuAF5fLvp+Zh5dp+wY4G5gc+AFYGJmXlSnbADrZ+a0gba/yh7TQ8se09Iyyh7TABzBEfyTf/JpPs0u7NJnmZu5mb3Yi9nMBuAczuEQDhnwNvdlXy7lUgAO5VB+wA96Bbof5VF2Zmf+QXFz1OVczjvrXNP9BJ/g2+W/D3uwB5dwCSuxUvfzz/Isu7Fbd2/q0ziNYzl2wG1f1thjuoE5c4oeyxtvXL/M3Lnw/vfDL39ZPN5jD7iy1Rvy+pAJO+wAd95ZPD75ZDjppN5l7r4bdt4ZnnsORoyAP/8ZXve6vuvbd1+4tDjWOPRQ+MEPinW6PPpoUdc/yhsRL78c3rl89p+wx/QSxW8mSVJf+v1bbWBaLSnzRj8BrE3xj8jrMvOvfZRbB/g7MBZ4kSK4+8wQt21bikA5wGOZuWGdcl8F/rN8uG9mXjqU7aoyMD20DExreRYRk4EPA+dl5sQ21/0W4LPAThR3p4ygjWmOmjfAE1+AGcxgdVZvWu40TuOjfBSAndmZm7hpQNu7m7vZhmKYhQ3ZkAd4oFcgucsVXNEdjN6BHfrMcf0UT/EKXsFLvMRYxvJ3/s46rLNYuXu5l63YiiRZl3WZxjRG0u/hI5ZJBqbb4F//gvXWg4ULYdSoIqA90JQYl11W5K2Gopf2H/9Y9GSudfrpcGx5gWX//eGiPvpC3H03bFMOabLhhvDAA0Vu6VpXXNETjN5hB7it/fnklwYGppcofjNJkvrS799qBz9Uq95GEZQGuK6voDRAZj4FXFA+XBHYuwNtu68yv25fBSJiLNDVk/qGTgalJWlpFBFvoEh9tBewJvAs8CQwo3z+5HKaMFxtXF60EpQGeB/v656/h3sGvL0LubB7/kiO7DMoDbAne7IZmwFwO7f3mYv6Ui7lJV4C4AN8oM+gNMCWbMnbyuErpjN9wEF1qU9rr11MAAsWwNNPD7yuC3uODz760b6D0gATJ8Kqqxbzv/51EQxvVNeRR/YdlIYi1cdmxbHG7bc3zkUtSZK0FDEwrVa9ozJ/VZOy1ef3GIK21Nq0Ml8vv/R7gfLsgPOHtjmStEz4OMVYFL8H1srMtTNz3czsyg9xUjlNGKb2qcY4xnXPz2XugOu5hmu65/do8DMeBLt3Z++Cq/r496DVumqf76suacBmzSryNAOssAKsscbA67qmZ59m993rl1t5ZXhLOSzL3LlwUx8XW6p17dHg+Ijova2rPD4kSdKywcC0WlUdJeaOJmVvr7Ne25U9ob9bWfSLOkV3rszfGhErRsTxEXFLRMyMiDkR8VBEnBMROw1diyVpqdGVEPWCzHx2WFuiltzLvd3zG7HRgOpYxCLuK29EGsUotmbrhuV3YIc+t9/Xsu3ZflB1SQOyYAEcdxzMn1883muv+j2Tm5k+vSfAvdFGxQCFjezQs09zb80+vWgR3Ffe9DdqFGzd+FhrWJckSdJSyiHP1apXVuanNik7DVgIjAQ2j4jIQSYzj4hVgN26HlL0ft4K+ACwXrn8z8DJdaqo/DfPSIrg+mtrymxaTodExGnAxzNz4WDaLUlLsZXLv7OHtRVq2SQmdc/XG4iwmWlM6+5tvT7rM6rJv4rVAPiDPNjruUUs4mEeBmAkI9mADQZcl9TUokU9AxwCzJ4N999fpMt4uNgPmTABvvOdgW/jwcp+OWFC8/IbVS4QPVizT0+bVvSkBlh//SI4PdC6JEmSllIGptWq8ZX5hon5MnNBRDwHrE6xj41l8IGNDYBL6jz3LHAecGJmvlCnTDX39M8oAu1PAGdT5KgeC+wO7E8R+D6OYlCPjw2y3ZI0rMoc0B8H3g5sRHG31D+Aq4FvZuY/asrXXkg8NyLOrTw+j2KwxS43RO8cq49m5oR2tF2t+wN/4FyKj2klVuITfGJA9cxkZvf8WjTpDQqsyZp9rgswm9ksYAEA4xnfNMjdqC6pqZdegn337fu5VVaBAw6Ar32teS/nRmZW9stW6lmzZ5/utW6765IkSVpKGZhWq1apzM9rofxc6B6taRxD2+PuD8BN5TbrqQbWXwncAuyembMqy8+OiHdRBMBHAR+NiJ9k5p/a3WBJ6oSIOIjiAtyK5aIXgUXAq8rpkIjYPzMriU55svy7NkUQ+zl6f78uLMu8rHw8A8rR7Qr/audrUHPTmc4BHMAiFgHwJb7UtHdyPbMrP9f1Bj2sGsOY7vnneX7I6pIGZZtt4G1vg9VWG1w9syv/zraSDmRMzz7N8zX7dDvrkiRJWkqZY1pLhcyckpmRmUERNH4Z8G6KHn/vAi4FflbmnO5LdV+fD7y/aYmRAgAAIABJREFUJijdtZ3Lgeo9nvaYlrRUioi3Az+kSF/0dWBjYAzFHSKvBi6iuHB4UURs2LVeOcDhusBj5aLju5aV02Hl8132q3l+xw68PJXmMIe92ZvHeRwoUnicwAnD3CppGKy0EmQW06JFRS7o666DD3wAfvc7OPhg2G03+JfXziRJkpYU9phWq2bT0wN6JZr3gK5062hvt6cy7/NTwOXA5RHxJeBEijQcCRzQx2rPA11DsP8mM6c22MQk6D6rf1s72ixJnRQRI4D/o7god3RmTqop8gBwQERcBrwH+CRFuo9Ota/ZILoAJIManmCZN495vIf3cCu3AvBm3syFXEgQTdasb5XKDVLzWrhBam6lM/04xg1ZXVqOTJlSTPVstx1suGH95wEiYI01il7SXdMRR8Bvfwvvfjf88Y9Fmf5apXID4bwWbiCcW7nZZFzNPt3OuiRJkpZSBqbVqpn0BKbXokFgOiJGUQxOCEXv5DlD2zROoghGvxJ4X0S8JjPvqykzk57AdMOASGY+GBGzKdKXvCwiVslMB/+StDTZGdicYkyAsxqU+yFFYHr3TjRK7fMSL7Ef+3E91wOwEztxBVcwlno3DrVmfCXz1dONh5QA4Bme6XNdKALToxjFAhYwk5ksYEHDPNON6tJy5IIL4JRT6j9/7rkwcWL/6jz88KLe666DW26Bq66CPffsf9vGV/bLp5sfHzzTs0/3WrfddUmSJC2lDEyrVQ9S3AYOMAGY2qDsBhS3jgM8lJlD2uUtMxdFxG8oAtMAu1AMaFj1ALBJOb9YCo8+zKInr/ZqDG2ObElqtzeXf1cDnoj6PQNHl3//P3t3HmdXWd8P/PNkISSQhJAQVtmxgFDKooIioKKIKwpiEVGkilVRq/6srRux1lpbW5dfW41bwWpFBCv11wasC9SioCBlB4EAYV9CyE5CJs/vj3OTmSSzZJKZOzD3/eZ1X+fcc57znO+QM3NnPve5z9lt2CvqodZ66EY1LIZM9+bJPJnX5/WZkzlJkoNzcC7OxZmy9j3hTbdLdsnETMzyLM99uW/AMPnu3L12/ZlrX4YbYzIme2Wv3Jpb05Wu3Jt7s3t236S+YLO97GVNMJ0kl166acH0M3tcl3fdNXD7u7uv6XWOTZJddmnmjV6+PLnvvmTVqmRcP3+a9dcXAMDTlDmm2Vg39FgfKFA4rI/jhlPP6UJ6G0ZyXY/1jbnzTc+/7jcmyAZ4KtmptRyfZk7+vh5rPgkzcf0OeGpalVU5Jafk3/PvSZIDc2D+K/+VaWv/KTfPmIzJ/tl/7bmuzbX9tr8qV61dPyAHbLC/57ar+//A0oB90SFmzeqeK7q3x2BHS6/Rc/qLxx/ftD522CGZPr1Znzdv4JHOV3Vf0zlgvWt6zJhk/+Z7LatWJdf2/73Wb18AAE9Tgmk21iU91gf6yPfLeqxfPAy19GbvHuu9/ZUwp8d6v8F6KeWZydrJLR8wjQfwNLTmUytXrrlx7ECPEa2WjdKVrrwpb8qFuTBJsn/2z0/yk0zP9CE9z3E9XuYvWeflf101dZ39L1vn5X9wfSXJxT1+ZeitL9gst9/evT5jxqb3c1zrmq41+fGP+263bFnyi1806xMnJkcf3XdfSXJJP98fta67/2W+PwCA0UEwzcb6eZI1tzE/tpTyrN4alVJmJvnD1tMnklw03IWVUnZJ8vIem37ZS7NfJLm3tf6SUsru/XR5Zo/1dgXrAEPpwdayrVN0MHxWZ3XOyBn5Xr6XJPm9/F5+mp9mZmYO+blO7nEP4dmZ3eeNC+dkTm5PE/YdlsOy59oZs7qdkBOyRWvGmO/mu3k4D/fa1w25Ye182TtkhxydXkI82FRLliT/+q/dz5/3vE3v6w1v6F7/0pea0Lg355yTLFrUrL/iFclWvcz/fnKP+3XPnt33TRDnzOkO1g87LNlzw+81AICnI8E0G6XWuirJp1tPS5JvlVLW+dxwKWXLJOcma++89A+11vnpRSnlnFJKbT1m9dHms6WUfkOVUspeSf5fkkmtTZfVWm/spf7VaW6SmDQfbf9uKWWDKT1KKa9M8r7W09VJ/r6/8wM8RV3eWu5QSjms35abbk0aY7T1MKupeUfekW/lW0mSvbN3fpafZYfsMOi+Ts/pKa3/ZmVWr20OykE5ISckSeZlXs7KWVmd1eu0mZd5eWfeufZ5X31tl+3yrrwrSbIkS3J6Tt8g6F6QBXlz3pzauqQ+lo9l7NpB/9CPT30quXGDX/vW9dBDyQknJPff3zzfZ5/kJS/pve0xxySlNI9zzum9zatelRxySLN+5ZVNDeu77rrkIx9p1seMST7xid77OuigprakmRrkrLOS1et+r2XevOSd3d9rmTWr974AAJ6G3PyQwfhykhOTvCDJIUmuLaXMTnJ7mhse/lGS/Vptb0ryl5t5vnck+VAp5Yo0o6BvTfJ4mut2pyRHphkpvebmXQ8meVs//Z2T5LVJXpnk8CQ3lVK+3qp1qzRTlLw+3SHLx2ut7ZojG2Ao/TzNz+a9k3y+lPLiWuvKvhqXUrattT42yHMsSjNnf2/z+jOEPpqP5uv5epJkfMbnfXlffp1fD3jcS/PSTFr7vu3gfCFfyK/yqzyUh/KNfCM35IacltMyPdNzfa7P7MzO/DTvPZ+aU/OKvKLPvs7O2bk4F+eW3JI5mZNDckjelrdl5+yc23N7Zmd27sk9SZJjckzOXOeDS9CPCy9sQt+DDkqOOqqZs3nbbZtRzA891ATHF12ULF3atN966+Tcc5Mttui/3/6Uknz1q835li1Lzj47ufzy5KSTmlHRv/518vWvd5/zz/88OfDAvvv7wheSX/2qqfcb30huuCE57bRmLuvrr29GUs9vjfM49dRm9DUAwCghmGaj1VpXllJek+SCJC9K8oz0Hj7/Nslra61DcdPAkuSI1qM/lyZ5W631jr4a1FpXl1JOTjOq+/Vpwu3ehrB0pQmlP7NJFQOMsFrrqlLKH6eZjujIJP9dSvlokv+utT6ZJKWUPZO8NM2bihdl8G8m3pDk+UlOLaVcUmtdNmRfAOv4ZY8Zqp7Mk3lP3rNRx92ZO7N7dt+kc+6W3TInc3JSTsrczM2Vrf/W98a8Md/MN/vta5tskzmZk9fldbkm1+Tm3JwP5oMbtDs2x+b7+X7GZ/wm1UwHu/bagW8e+Ad/0AS/a0Y7b45DD20C7ze+MXnkkWau6fXnmy4l+cAHeh9R3dNuuzVTdZx0UjJ3bhOmX7nh91re+Mbkm/1/rwEAPN0IphmUWuuCUsqxSU5OclqSg5PMSLIgyY1Jzkvyz62pPzbXH6QZxfy8JAcm2TXN6LyuJAuT3JHkN0nOr7Ve3lcn69W/PMnJpZTjkrwlTeC9Q5Ink8xL8tM0U5DcNgT1A4yYWutPSymvT/KtJM9N8pMkT5ZSFiXZOsmEHs1/uAmn+EqaYPrEJK8upTycZFWSe2utR25W8TwlHJyDc12uy+zMzgW5ILfltizO4szMzByew3NGztjomxTunt1zZa7MOTkn5+W83JgbsyALMiMzcnAOzmk5LSfn5BQzwzAYF1/c3BTw8subYPrOO5PHH29C4SlTmtD30EOTE09Mjj22mVZjqBx7bDONyJe/3ITUc+c2c0TvtFMzmvrMM5MjBhpX0XLwwc30H7NnJxdckNx2W7J4cTJzZnL44ckZZ7jhIQAwKpXa1w07gCHz7avv9Y02jN506C6SDDpWKeWcNG+0nVtrPb2X/TOTvCvJ8Un2STIlydIkd6Z5c+8/kvzn+lN9lFLuSnPzxLfWWs/p49xvSjPt0oFJJqe5d8XdtdbdN/sLS5ISPzvpeMV3ASRJqnsaPJX4yQRAbwb9Wi2YhjYQTA8vwTSMUoJpEExDi2D6KcVPJgB6M+jX6iH8PBsAAAAAAAxMMA0AAAAAQFsJpgEAAAAAaCvBNAAAAAAAbSWYBgAAAACgrQTTAAAAAAC0lWAaAAAAAIC2EkwDAAAAANBWgmkAAAAAANpKMA0AAAAAQFsJpgEAAAAAaCvBNAAAAAAAbSWYBgAAAACgrQTTAAAAAAC0lWAaAAAAAIC2EkwDAAAAANBWgmkAAAAAANpKMA0AAAAAQFsJpgEAAAAAaCvBNAAAAAAAbSWYBgAAAACgrQTTAAAAAAC0lWAaAAAAAIC2EkwDAAAAANBWgmkAAAAAANpKMA0AAAAAQFsJpgEAAAAAaKtxI10AALRTKWVakmOTPDfJ7yfZLcm0JBOTLE/yWJK7k1yX5MokP6m1Pj4y1QIAAMDoJJgGYNQrpUxMckqS05IcmQ0/MVRay62STE+yT5rwOklWl1L+O8m/JPlerXX58FcMAAAAo5upPAAYtUop25ZS/irJPUm+luSoJGPTBNE9H4uT3JdkSS/7xiY5Jsk3ktxTSvl0KWXb9n4lAAAAMLoYMQ3AqFNK2SLJh1qPyekeEf1Ikv9JckWaaTpuTrKg1rqqx7HjkmybZL800308N80o6+1a2/8sybtLKX+T5HO11pXt+JoAAABgNBFMAzAa3ZRkjzSB9NIkFyX5TpIf11q7+juwFVI/3HpcliSllLFJXpLkTUlek2RKkk8leWuaaT8AAACAQRBMAzAa7ZlkQZLPJ/lirXXx5nTWCrMvTnJxKWVykvcleX/rPAAAAMAgmWMagNHo40l2r7X+5eaG0uurtS6utf5lkt2TfGIo+wYAAIBOYcQ0AKNOrfXTbTjH4iTDfh4AAAAYjYyYBgAAAACgrQTTAAAAAAC0lak8AGA9pZRnJXl+mtfJa2utl49wSQAAADCqCKYB6BillJ2S/J/W03Nqrdf10uYrSd6+3rb/TvK6WuuC4a8SAAAARj9TeQDQSU5J8idpgue56+8spbw3yZlJynqPo5Kc374yAQAAYHQTTAPQSY5qLX9ea13Sc0cpZVySj7SerkjyuSRnJflNmnD6RaWUl7erUAAAABjNBNMAdJI9k9QkV/ay70VJZrb2/3Gt9U9rrf+U5IVJ7mu1eWNbqgQAAIBRTjANQCeZ0Vre1cu+F7WWi5J8Z83GWuuyJP+aZtT0YcNZHAAAAHQKwTQAnWTb1nJZL/uen2a09M9qravW23dra7nzcBUGAAAAnUQwDUAnWdlaTu25sZSyZbpHQ/9PL8ctbC0nDFNdAAAA0FEE0wB0kjVzRR+83vZj0x06/7KX47ZpLZf0sg8AAAAYJME0AJ3kijRzRb+plLJXkpRSxib5P639jye5qpfj9mst5w17hQAAANABBNMAdJJ/bi23SfKbUsq/Jbk2yVFp5pf+dq21q5fjXtDaf31bqgQAAIBRTjANQMeotV6W5BtpRk1vk+TV6R4NfX+ST61/TCll9yTPbj29fNiLBAAAgA4gmAag05yZ5P1JbkxzM8THk5yf5Mha66O9tH93j/VLhr88AAAAGP1KrXWka4BR79tX3+sbbRi96dBdykjXwOhVStkhzY0Ra63VHNPtVOJnJx2v+C6AJEltPu3EU4OfTAD0ZtCv1eOGowoAGC1qrQ+OdA0AAAAw2pjKAwAAAACAthJMAwAAAADQVoJpAEadUsoXSynbD/M5diilfHE4zwEAAACjlWAagNHoPUnmllL+vpSy41B2XErZqZTyhSRzk5w1lH0DAABApxBMAzAaXZNkYpL3Jbm7lDKnlHJqKWXSpnRWSpnUOv7iJHelCb63bJ0HAAAAGKRxI10AAAyDw5K8I8knkuyQ5KWtx/JSym+S/DrJlUluTfJYksdqrStKKVsm2bb1+L0kz03ynFZ/E1t9lyQPJpmV5Gtt+noAAABgVBFMAzDq1Fprkq+UUs5N8u40I5yfkWRSkqNaj3WUUrqSjO2jy9JazkvyhSRfqbU+MdR1AwAAQKcwlQcAo1atdXmt9XNJ9kzy2iQ/SLI8TdC8/mNcH9uXJbkwyQlJ9qy1fkEoDQAAAJvHiGkARr1aa1eSi5JcVErZIsnz00zTcUCS3dJM3TEhyYo0U3vcleSGNNN9/LLWunIEygYAAIBRSzANQEdphcw/bz0AAACAEWAqDwAAAAAA2kowDQAAAABAWwmmAQAAAABoK8E0AAAAAABtJZgGAAAAAKCtSq11pGsAANhQiV9S6HjFdwEkSWpSRroG1vKTCYDeDPq12ohpAAAAAADaSjANAAAAAEBbCaYBAAAAAGgrwTQAAAAAAG0lmAYAAAAAoK0E0wAAAAAAtNW4kS4AAEZSKWXXJPslmZZki1rrt0a4JAAAABj1Sq11pGsAgLYrpZyZ5ANJ9um5vdY6dr12H01ydJJ7a61ntK9CUuKXFDpe8V0ASZKalJGugbX8ZAKgN4N+rRZMA9BRSilbJ/m3JC9as6nH7tpLMP3iJP+V5o+w36+13tiWQhFMQwTTsIZg+inFTyYAejPo12pzTAPQab6b5MVpXjTvTPKZJF/pp/3PkjzYWn/l8JYGAAAAnUEwDUDHKKW8PMkr0oz0OTfJvrXWjya5pK9javPRov9KE2Qf2Y46AQAAYLQTTAPQSd7cWv4uydtqras28rhrW8v9hr4kAAAA6DyCaQA6yRFpRkt/q9baNYjj1kzlsf3QlwQAAACdRzANQCeZ2VrePsjjVraWWwxhLQAAANCxBNMAdJInWsvxgzxuu9ZywRDWAgAAAB1LMA1AJ7m/tRzsXNFHtJZzh7AWAAAA6FiCaQA6yWVJSpI3lFI26jWwlLJ9khPTzE3982GsDQAAADqGYBqATvKt1nKvJJ8eqHEpZWKSf00yMUlXkm8MX2kAAADQOcaNdAEA0C611itKKecnOTnJn5ZS9kryd1lvzulSys5JXprkw0n2STNa+su1VlN5tNFhV410BTDyrjp0pCuAp4irR7oAhtqX/ufOkS6BDvTeI/cY6RL69Dc/v2OkS6BD/ekL9xqxcwumAeg0ZyTZLclz00zRcWJre02SUsqqNNN9rFGS/CTJB9tYIwAAAIxqpvIAoKPUWpclOTrJF5M8mSZ4XvNImtfGNc+fTDOi+uW11lXtrxYAAABGJyOmAeg4tdaVSd5fSvlsmmk9XpBk9yRTkyxJcl+aGyWeV2u9d6TqBAAAgNFKMA1Ax6q1PpjkS60HAAAA0Cam8gAAAAAAoK0E0wB0jFLKz0opPy2lPG+Qxz17zbHDVRsAAAB0ElN5ANBJjklSk8wY5HHb9jgWAAAA2ExGTAMAAAAA0FaCaQAY2ITWcuWIVgEAAACjhGAaAAb2+63lYyNaBQAAAIwS5pgGYFQqpeyaZPc+dh9QSnl8oC6SbJXkkCR/mmZ+6f8dsgIBAACggwmmARit3prkE71sL0k+Nci+Sppg+tzNLQoAAAAQTAMwupVBbu/Lk0k+V2s9fzPrAQAAACKYBmD0urSXbWenGfl8fpJbBjh+dZIlSe5M8ota6/whrQ4AAAA6mGAagFGp1npZkst6biulnN1a/W6t9d/bXxUAAACQCKYB6CyfbC0HGi0NAAAADCPBNAAdo9b6yYFbAQAAAMNtzEgXAAAAAABAZxFMAwAAAADQVqbyYFgc/fnL60jXQOe47P3PLyNdA08/pZQXJDktyXOT7JJkSgZ+w7bWWr12AgAAwGbyxzUAHaWUsnWSbyV5zZpNI1gOAAAAdCTBNACd5vwkx6UJpJcmuT7J4UlqkpuSLE+yW5LtWu1rkqtbbQEAAIAhYI5pADpGKeWVSV7Wevr9JDvWWp/Xo8lHa63PqbVun+TQJBelCbAnJvmjWusL21owAAAAjFKCaQA6yamt5WNJTq+1LumrYa31mlrra5N8OsmzklxUStmyDTUCAADAqCeYBqCTPDfN1Bz/Umtd3sv+DeabrrV+PMn/Jtk/yZnDWx4AAAB0BsE0AJ1kZmv5u/W219ayrxHR30kTWr9+OIoCAACATiOYBqCTrLnp7yPrbV8zpcd26d09reXeQ14RAAAAdCDBNACdZH5rudV62x9qLfft47gdWstpQ14RAAAAdKBxAzcBgFHjljQh817rbb82zWjoV5ZS3ltrXb3e/te1lvMDAAAwxP70hev/iQKjnxHTAHSSX6WZK/o5622/qLV8RpKvlVKmJEkpZatSyueTHJVmHupftKtQAAAAGM0E0wB0kotby6PXhM8t5ye5vbV+epJHSin3J1mY5L2t7auT/H07igQAAIDRTjANQMeotf5PknPTjJA+sMf2lUlOTPJomhHV49NM+TGm9bwryXtqrb9ud80AAAAwGpljGoCOUmt9ax/bry+l7JvkPUlenGT7JMuS/CbJP9Var21flQAAADC6CaYBoKXWuiDJX7QeAAAAwDAxlQcAAAAAAG1lxDQAHaOU8s3W6pdqrf87iOMOSPKBJLXW+kfDUhwAQAd575F7jHQJAIwwI6YB6CSnJ3lLkl0HedzOrWNPH9pyAAAAoDMJpgEAAAAAaCvBNAAMbM3UV6tGtAoAAAAYJQTTADCw32stHx/RKgAAAGCUcPNDAEalUsqUJNv0sXtmKWWgeaZLkq2SHJLkQ0lqkhuGrkIAAADoXIJpAEar9yf5RC/bS5LZg+yrpAmmv7e5RQEAAACCaQBGtzLI7f05L8nXNqMWAAAAoEUwDcBo9b9Jzl1v21vSjHy+NMm8AY5fnWRJkjuT/LTWev1QFwgAAACdSjANwKhUa70oyUU9t5VS3tJa/WKt9d/bXxUAAACQCKYB6CzfSjNieqDR0gAAAMAwEkwD0DFqraePdA0AAACAYBoANlBKKUn2SfM6eUetdcUIlwQAAACjypiRLgAA2qWUMqmU8urW4xl9tDklyf1Jbk5yfZKHSymz2lgmAAAAjHpGTAPQSU5Kck6SriR7rr+zlHJckm+vedpaTk7y8VLK5FrrB9tRJAAAAIx2RkwD0Ele0lpeWWu9p5f9f5smkC5JrkpyQZKFrefvK6Uc1JYqAQAAYJQTTAPQSfZPUpP89/o7SimHJDmgtf/va63PqbWenOTZSZamCafPaGOtAAAAMGoJpgHoJNu1lrf2su+41vLJJJ9es7HWenuS89ME00cOa3UAAADQIQTTAHSSGa3lol72rQmdf1lrXbDevt+0lnsMS1UAAADQYQTTAHSSNTc0nLjOxlJKkiPSxzQfSR5tLbcevtIAAACgcwimAegkj7SWz1xv+3OSbNNa/2Uvx01qLZ8YjqIAAACg0wimAegk/5tm1PQppZSeo6bf3lo+meTyXo7bs7V8YBhrAwAAgI4xbqQLAIA2+n6SVybZO8mlpZR/TfKsJGekmcbjP2qtS3s57rmt5c1tqRIAAABGOcE0AJ3kO0nek+SwHo81ViaZtf4BpZQpSV6YJri+YvhLBAAAgNHPVB4AdIxa6+okxye5qLWptB73Jzmp1np9L4ednmSL1vpPhrtGAAAA6ARGTAPQUWqt85O8tpSyXZq5o5clubEVWvfmliRvbQ6tV7WpTAAAABjVBNMAdKRa6yNJHtmIdj9uQzkAAADQUUzlAQAAAABAWwmmAQAAAABoK8E0AAAAAABtJZgGAAAAAKCtBNMAAAAAALSVYBoAAAAAgLYSTAMAAAAA0FaCaQAAAAAA2kowDQAAAABAWwmmAQAAAABoK8E0AAAAAABtJZgGAAAAAKCtBNMAAAAAALSVYBoAAAAAgLYSTAMAAAAA0FaCaQAAAAAA2kowDQAAAABAWwmmAQAAAABoK8E0AAAAAABtJZgGAAAAAKCtBNMAAAAAALTVuJEu4KmulFKSnJzktCR/kGS7JI8luSnJd5OcU2tdNQznHZvkdUlOTHJYkh2SrE7yUJLbk/w8yb/VWm8bZL9bJPltkmf12PzCWuulQ1A2ANAGTz72cBb98uIsvvrSLLv1mqy8/850LV+asVtPyYSd98zWBx+VGSe8LRP32G/oz73gkTx64Vfy+KU/zIr778zqFU9k/IwdM/mQozPjdWdm6wMP3+i+upYvzaMXzs6Cn12YFffclq6lizJ+2+2z1YGHZ/qrz8jUI44b8vp5+uqqXbnziZtz87KrcvOyq3Pzsqvyu2XXZkVdniR5+w5n5x07zRry8y7vWpoLH52dnz1+Ye5ZcVuWdi3KtuO3z4GTDs+rZ5yRI6Zs/HW6qj6ZH80/Jz9ecF7mLr8pi7oey7Rx2+X3Jh6c47d9U14y7eQ0f34AAIx+pdY60jU8ZZVSpiW5IMmL+mn22ySvrbXOG8LzHpzkG0kOHqDpF2utfzLIvs9OMmu9zUMeTB/9+ctdWLTNZe9/vr/gYBQ67Op4LenFvL99bx654J+Srq7+G44Zk+3f+P7s/J7PpowdOyTnXnTlT3Lnx0/Nqsce7r1BKdn+TR/MLu/72wH7WnbLNbnjwydl5X1z+2yz7fGnZrdPfDNjxm+xqSU/7c0+c6QreOr40NwT8/PHf9Dn/uEIpm9Zdk0+PPek3Ley7+v0+Gmn5hO7fTPjx/R/nd6/4q58aO7rcuvya/ps85zJx+aze3w/k8dts8k1j1aHXh2/7z11eH0GoDeDfq02YroPrZHFFyV5QWvTPUm+mma08i5JzkiyX5JDkswppRxRa100BOd9fpL/TDKltenSJJckmZekK83I6UOTvHwT+t4/yUdaT5cm2WozywUA2uyJO29aG0pvueezMvnZL8rEvQ/MuMnb5MnHHs7C//mPLPrlnGT16jz07b9L15KF2e1jX9vs8y69+erc8cHXZPUTy5Ikk5/7kkx70YkZM2nrLLvx13n0om9k9fKleehfPpcyfkJ2ftdf9tnXigfuzm3vOz6r5j+UJJn0rOdk+vFvyrhtZmT5HdfnkR98NV0L5+exOd9JUrLHp/5ls+vn6W91XffNmKljt83UcdMzb8WgPkC40R5YcXfed/vxmb+quU6fNek5OX7bN2WbcTNyx/Lr84NHv5qFXfMzZ8F3klLyqd37vk4Xr3o87739+Ny14pYkyR5b7pdXTz8jM8fvkntW3J5/e/SreejJe/LrxT/Jh+a+Lv+wz48zrvhjgvJKAAAgAElEQVRTDQAY3fy207d3pjuU/m2SY2utC9bsLKX8Q5IfJjkuyf5JPp7kQ5tzwlLK9mnC8ClJHk3y+r5GMrem+pg5iL7HpBmFvUWSH7XOcfTm1AsAtF8ZMzbbHn9qZr7x/dlqv0M32D/z5HdnwU8uyNyPnpJ0rcqjP/x6ph13SqY8u78PgPWv1pp5nz5zbSi945mzstOZZ6/dP/34UzP91Wfk1rcfldVLF+XBcz6TbV/6hkzc+8Be+7v37/5kbSg9/dVnZLePfS1lzJpbn5ySGa97R3739qOy8sF5eWzOt7PtcX+YqUe+YpPrZ3R41lbPyR5b7pd9Jx2a/SYdmp0n7JEfzT8nn7z7rcNyvr+790/WhtKvnn5GPrbr1zKmdF+nr5vxjrz9tqPy4Mp5mfPYt3PctD/MkVN7v06/+uAn14bSz5vysvztnv+WCWO2XLv/9du9K++67djcuvyaXLXk5/nBo7Nz8nbvHpavCwDgqcLND3tRShmX5KOtpzXJm3uG0klSa30iyZvTjDxOkveUUqZv5qm/mGR6klVJju9veo1aa1et9YFB9H1WksPT1HvW5hQJwPArpRxTSqmllCH/uGwpZVar70uHum+G3x5/dV72+NS3ew2l15h27EnZ/pT3rX0+//+du1nnXHjZv2fZLb9Nkmx1wHOz49s/sUGbSc88KDuf9ZnmyerVuf9rf9FrX8t+d20ev/SHSZItdtg1u374H3uE0o0JO+6WXf/sy2uf3//VWZtVP6PDGTt8JGft/JkcO+2k7Dxhj2E91++WXZtLFzbX6Q5b7JoPP+Mfe4TSjR0n7JY/e0b3dfrVB2b12tdjTz6cCx75pyTJxDFbZdZu564TSifJ1HHb5pO7fyul9QnYbzzwl+mqA0zXAwDwNCeY7t2L0tzkMEl+Wmu9sbdGtdaHk5zXejohyWs29YSllN2SvL719F9qrVdtal999P3p1tOPD+V82AB0nlLKCa1w+4SRrqUTjZsybaPaTTv29WvXl99+/Wad87H/+t7a9e3e8J4+b84241WnZ8xWzWxkC//nP9K1fOkGbRb06GvGa8/MmAlbbtAmSaY8//hMeMbeSZJlN12VFff2PccvDLX/WtB9nb52+pkbBMlrPH/K8XnGhOY6vWnZVbl3xYbX6aULf5gn68okyXHTTsm243v/0OPeEw/Isyc3n2yYv+rB/HbJZZv1NQAAPNUJpnv30h7rFw/Qtuf+l23GOd+S7n+Pb29GP72ZnWTrNFOSfGmI+wZgeCxLcmvr8VRzQpKzW0ueosZMmrx2va5Yvll9Lbrix2vXpx5xXN/n3HJSJh/8grXnXHL1hsFaz76mPK/vX51KKZlyePe5Fv5qoF/JYOhcsbj7On3e1P6v08OndF+nv1q04XV6xaLuvo6Y0v+fCz33/3Khax4AGN0E0707oMf61QO07Tmy+YA+Ww3sqNayJvlNKWVqKeVjpZRrSymLW4+bSin/WErZd2M7LaWclmYe7K4kZ9bqM4EATwe11l/XWvettW70z3zoafkdN6xd32LH3Ta5nycffTBdC+ev7WfcNjP6bT9pv8N6rSFJ6urVWT73pubJ2HGZtM9B/fe1f3dfT6zXFwyX1XV15i5vrtOxGZd9JvZ/ne4/qfs6vWP5htdpz237Tep7Cp5mf4++nnDNAwCjm5sf9u6ZPdbvGqDtvWlC37FJ9imllFrrpswHuua30IVJ9k5zE8RnrNdmv9bjHaWUj9Va/7q/Dksp2yX5fOvpl2qtA4XsAMAo8ei/fXXt+tTnb/qNA5+Y97u161vsuPuA7XuG4D2PTZInH7537ejtLWbunDKu/19FJ/TTFwyXh5+8Nytqc53O3GLnjCv9X6c7btF9nc5bse51urquzr0r7kiSjM3YzNxil03uCwBgtDFiunfb9Fh/tL+GtdZVSRa1no5LstVgT1ZK2TLJ1NbTMUn+M00ofVuSjyR5Q5J3Jbmk1WZsks+UUj4wQNdfSnMzxXuSbHiXIgBGRCnl0tbNB2eVUsaXUj5YSrmqlPJ4a/sxG3Pzw1LKgaWU75VSHiylPFFKmVtK+b+llJmDuXliKeXFpZT/KKU80urn5lLK2a3Xp57tjmn195bWpresOUePxzGb9T+HIfHYJedl8a9/miQZN337TH/NGZvcV9fix9euDzRaOknGTe2+F3TPY5Nk1SD7GttPXzBcFq/qvta2GTfwdTp1bPd1urhr3et02eol6cqqJMnWY7cZMOSeOq5HX6tc8wDA6GbEdO+27rH+xEa0X55kzZ2IJidZMsjz9QzCp7QeFyU5udbWnVIaXy6l/HGSNbf//utSyvdrrfes32Ep5ZVJ/rD19N211sHWBMDw2zLJpUmel2RVksVppnQaUCnltUm+l2R8a9OSJDsmOSvJiWne2NyYfj6U5LOtpwuTbJFk3ySzkhxdSnlJj2mgViZ5KM2bqVumeY1cuF6XK8OIWj73ptz9V2eufb7rh/5vxk4c9Pvma61e3v0rRF83KuxpzISJ3ccuW7xuX8u6+ypbDK6vrqWL+2kJQ2fZ6u7rdIsy8HU6YUz3dbq0a93rdHnXkh7tBu5ryx59LVvtmgcARjcjpp8a1v93mJ/kLeuF0kmSWutXklzYejo+yTvXb1NKmZzu8PrCWuuPhrBWAIbOu5P8fpK3JplSa902yXZJruvvoFLKnmlulDs+zY1tD6u1Tk4yKclL0oTDf78R5z8oyV+3HjNrrdPSvFn6F639L0z36OjUWn9Za90hTSCeJN+rte6w3uOXG3FehsmTjz6Y29//qqxuhbjbvf5dmXbs60e4KgAAgA0ZMd27JekeAb1lBh4BPbHH+qYMbVj/mO/VWtcfgdbTV9OMhkuSF/ey/7NJdkkzxch7N6EeANpj6ySv7vkGYq11fpKUUvo77iNpQuiHk7yk1vpY69ia5CellOOSXLsR598mySdrrbN6nH9RkrNLKQckeV2SU5J8cxBf04BKKRt1z4NDr9qUWzY8PT1x1y154q5b+tw/ad9DssUOu/bbx6qFj+W2s16alffNTZJs8+KT8oz/86XNrm3MxO4Pkq1eMfAHyVa35pBOkjGTJq/b16TuvurKwfU1dqvJ/bSEoTNpTPd1urIOfJ2uWN19nW41dt3rdOLYrXu0G7ivJ3r0NWmMax4AGN0E0717PN3B9Iz0E0yXUsalmXojSZ5MsnQTzrckzUe41/x7DPQHe8/9e61XzwuS/HHr6Z/XWu/fhHoAaI8bB/upltIk1mvenPzymlC6p1rrraWU85OcNkB3K5J8ro99F6UJpn9/MPWxaR675Lw88LVP9rl/t7P/OTNedXqf+7uWLMxtZ700y2+/Pkky9QWvyp6f/teUsWM3u7axk7tnHFv1eL+33mjaLJzf67FJMm6QfXX10xcMl8njuq+1x1cNfJ0u7Oq+TiePXfc6nTRm64zNuHRlVZZ0PZ5VdVW/80wvXNWjr3GueQBgdBNM9+53SfZore+e5K5+2u6S5maESXJ7a7TaoNRaaynltiT7tTb1N1p6/f1T19t3RpKSZt7rGaWUj/XRx2491k8rpRzZWj+/1uoW4ADtcfkmHLNnuu9NcFk/7S7NwMH0jf3cg2DNG5vbbnxpG6fWeujGtDvs6o2bb7vTdS1dnNvOOi7Lbm7et55yxHHZ87PfTxk3foAjN86Wuz5z7frKB+4asP3KB+7u9dgkGT9zl5QJE1NXLM/Kh+9LXbUqZVzfv46u6KcvGC4zx++SCWViVtTleXjlfQOGyQ+s7L5Od52w7nU6pozJLhP2yt0rbk1XuvLwynuz04TdN6kvAIDRRjDduxuSHNdaPzTNH/d9OWy94zbVdekOptcPm9fXc//6Ifaaz35PTNL30Kt1ndFj/YY0wTwAw+/hTThmux7r/X0q5r6N6Ku/6adWtZZ+V2iDnd4xKzu9Y9agj+tatiS3vff4LL3hyiTJ5Ge/KHt97ocZs8WEIatt/IwdMnbq9HQtnJ+VD87LqscfzbhtZvTZftnNV61dn7jXAevsK2PGZOKe+zcheteqLLvt2my1X9/vUyy7qbuvLdfrC4bLmDIme07cPzcvuzpdWZXbll+b/Sb1fZ3etKz7Ot1r4obX6V4TD8jdK25Nkty87Op+g+mbe/a1pWseABjd3Pywd5f0WD+uz1aNl/VYv3gzzjmnx/pAI8l67hciAzx9dW3m8UYUd7DVTyzL7X/yyiy9thl4v/UhR2Xvz/8oYyZsOeTnmnpE69ehWrPoih/3W9Pia36RJCkTJmbrQ4/eoM2Uw7t/tVr0q0s22L9GrTWLrujeP/WIl/XZFoba4ZO7r9NfLer/Or2ix/4jpmx4nR4xpbuvK/rpqzlX958Tz5vqmgcARjfBdO9+nuSR1vqxpZRn9daolDIzyR+2nj6RZj7OTXVRkmWt9TeUUvobNX1mj/V1wvBa6+m11jLQI+t+/PuFPfb9cDO+BgCG3yM91nfqp93Ow10II2f1iidy+wdekyW/bV7Otzro+dn7C/+RMVtOGpbzTXvJG9auP3zel9LXzGWP/uicrF66KEky9chXZOzErXrp6+Tu9j+Y3ecNFRddPicr7rk9STJp/8MyYZc9N7l+GKyXTOu+Tn/w6Ow+b1x4+aI5uWdFc53uP+mw7DJhw+v0mKknZHzZIklyyYLv5rEne/+wzO3Lb8hvFv8sSTJ93A45ZOsN39gBABhNBNO9qLWuSvLp1tOS5FullGk925RStkxybpI1f3H9Q611fnpRSjmnlFJbj1l9nPPxJH/Xejo9ybmltH6DXbevd6T7pldLk3x5o78wAEaDuWlu0pskx/TTrr99m2t1a1n6bcWwWP3kytzxpydm8a9/kiTZ6oDnZp8v/mfGTtp6k/q79cxjcvVhJVcfVvLoj87ptc3Uo16VSfsekiRZesOVeeDrn9qgzbLbrsv9//iR5smYMdnp7Z/ota9Jzzwo2xxzQpJk5YPzMu9vzkpdvXqdNisfnJd5f/3Otc93OnPWIL8q6Nusu07PYb8tOey3JbPvn9Vrm2dOOijHTG2u0wdXzsvf3HNWVtd1r9MHV87LX9/TfZ2euWPvfU0bv11O2u5dSZJlq5dk1t2nbxB0L1q1IGff9ebU1gdh/mjHj2Vs2fyblwIAPJWZN7JvX04TAL8gySFJri2lzE5ye5obHv5RuueEvinJXw7BOf86yfFp5q1+TZIbSinfTBNCTEtyQtadOuQdtdZHNugFgFGrdcPcH6S5P8Afl1K+WGtd0LNNKWWfJCf32sHQWNRabtNvK4bFXbNOz6LL/zNJMmarydnupHdm8VU/G/C4NWHwpiilZNePfjW/e/tRWf3Esjww++wsvfbybPPikzJ24lZZeuOv8+gPv57Vy5cmSXY4/c8zce8D++xvlw9+IUuu/1VWzX8o8y/6Rp6444Zs+/LTMm7q9Cy//fo88oPZ6VrYvN+/7fGnZuqRr9jk2hk97ltxZy6a/411tt22/Lq161ct+Vm67l+1zv4XbXNi9p108Cad74O7fCHXL/1V5q96KBfN/0buWH5DXj79tEwdOz23L78+P3h0dhZ2Ndfp8dNOzZFT+75Oz9zh7Pxq4cW5a8Ut+eWiOXnTLYfkNdPflpnjd849K27PDx6dnYeevCdJcujWx+R1M87ssy8AgNFCMN2HWuvKUsprklyQ5EVJnpHew+ffJnltrXX9mxBuyjmXlVJenuT8NCPd9knymV6aLk/yzlrrdzb3nAA8LX0mySlJtk/y41LKmbXWa0opJckLk3w9zfRQQ3cHvHWtudnvC0op+9Zabxmm89CLpdf9cu366qWLc9es0zfquEOv2rwpybfa79Ds9XcX5c6PvTGrFjySRVf8eMP5pkvJ9qd+IDu9c8MR1T1N2HG37PPFObnjwydl5X1zs/SGK9fewLGnbV/2xuz2iW9uVt2MHg+svDvffPDTfe6/Zskvcs2SX6yz7RkT9t7kYHrHCbvli3vPyYfnnpT7Vs7NDcuuzA3LNrxOXzbtjfnEbv1fp5PHbZMv7T0nH5r7uty6/Jrc+cTN+cJ9H9yg3XMmH5vP7vH9jCvjN6lmAICnE8F0P2qtC0opx6YZdXZakoOTzEiyIMmNSc5L8s+tqT+G6pyPlFJelOT1Sd6YZrT29mnC6Llp5pT+h1rr/UN1TgCeXmqtt5dS3pzku2k+ZfPbUsriJGOTTEpyX5IPJPnnJCuGoYQLk/xVku2S3FxKeTTN9FJJ8oe11iuG4Zw8BUx57rHZ//wb88gFX87Cyy7KivvmZvXKJzJ+xk6ZfMhRmfHaM7P17x+xUX1N2vfg7H/edXn0wtlZ8LMLsmLebelatjjjps3M1gcenumvPiNTn+fmb4ysfScdnPP2uy4XPjo7P3v8gsxbcVuWdS3OtHEzc+BWh+fV08/Y6JsU7jRh95y775X50fxz8uMF52Xu8huzqGtBthk3I7838eC8fNvT8pJpJ6d5jxEAYPQrfd28BjbH0Z+/3IVF21z2/uf7C46nlVLKpUmOTvLJWuusPtock+ZmvGndtLa3Ngcl+WiaT9lMTRNI/3ua+yQcmeQHSR6qte6w3nGzkpyd5LJa6zGbcv5Syr6tPl6QZGaSNcP7XlhrvbS3PgfrsKvjtYSON9uMDpAkOfRq9zV4CvH6DEBvBv1abcQ0ALRZX2Hwem0uzQAv7LXWa9PHXNKllMNaqzf2ctysJLM25/yt6TtO6a8PAAAA6MuYkS4AABhapZTtkryt9fTikawFAAAAeiOYBoCnoVLKe0spf1ZK2buUMq61bULrJrr/nWZ6jUeSuHMcAAAATzmm8gCAp6c9k7wvyWeSdJVSFiaZku7X9oVJTq61zh+h+gAAAKBPgmkAeHo6N0lXkqOS7JxkepLlSe5MckmSL9Za7xu58gAAAKBvgmkAeBqqtV6T5JqRrgMAAAA2hTmmAQAAAABoK8E0AAAAAABtJZgGAAAAAKCtBNMAAAAAALSVYBoAAAAAgLYSTAMAAAAA0FaCaQAAAAAA2kowDQAAAABAWwmmAQAAAABoK8E0AAAAAABtJZgGAAAAAKCtBNMAAAAAALSVYBoAAAAAgLYSTAMAAAAA0FaCaQAAAAAA2kowDQAAAABAWwmmAQAAAABoK8E0AAAAAABtJZgGAAAAAKCtBNMAAAAAALSVYBoAAAAAgLYSTAMAAAAA0FaCaQAAAAAA2kowDQAAAABAWwmmAQAAAABoK8E0AAAAAABtJZgGAAAAAKCtBNMAAAAAALSVYBoAAAAAgLYSTAMAAAAA0FaCaQAAAAAA2kowDQAAAABAWwmmAQAAAABoK8E0AAAAAABtJZgGAAAAAKCtBNMAAAAAALSVYBoAAAAAgLYSTAMAAAAA0FaCaQAAAAAA2kowDQAAAABAWwmmAQAAAABoK8E0AAAAAABtJZgGAAAAAKCtBNMAAAAAALSVYBoAAAAAgLYSTAMAAAAA0FaCaQAAAAAA2kowDQAAAABAWwmmAQAAAABoK8E0AAAAAABtJZgGAAAAAKCtBNMAAAAAALSVYBoAAAAAgLYSTAMAAAAA0FaCaQAAAAAA2kowDQAAAABAWwmmAQAAAABoK8E0AAAAAABtJZgGAAAAAKCtBNMAAAAAALSVYBoAAAAAgLYSTAMAAAAA0FbjRroARqfL3v/8MtI1AAAAAABPTUZMAwAAAADQVoJpAAAAAADaSjANAAAAAEBbCaYBAAAAAGgrwTQAAAAAAG0lmAYAAAAAoK0E0wAAAAAAtJVgGgAAAACAthJMAwAAAADQVoJpAAAAAADaSjANAAAAAEBbCaYBAAAAAGgrwTQAAAAAAG0lmAYAAAAAoK0E0wAAAAAAtJVgGgAAAACAthJMAwAAAADQVoJpAAAAAADaSjANAAAAAEBblVrrSNcAAMBTTCnl6iSptR460rXASPF9ADzV+LkEG/J98fRlxDQAAAAAAG0lmAYAAAAAoK0E0wAAAAAAtJVgGgAAAACAthJMAwAAAADQVoJp4P+3d+/Rmld1HcffH+U2JDcLxAuBKEmZNCqFy1BHjOiiCJpWkheqlYSlZheLajGprcgyJDXRZToapQgqZWl4gVHIVPIuIQU4pKCCCI4IMyPDtz9++3CeOXOey7k9Z8553q+1zvrd9m/v/TzPedb32Xvt396SJEmSJEnSWNkxLUmSJEmSJEkaKzumJUmSJEmSJEljZce0JEmSJEmSJGmsUlXLXQdJkiRJkiRJ0gRxxLQkSZIkSZIkaazsmJYkSZIkSZIkjZUd05IkSZIkSZKksbJjWpIkSZIkSZI0VnZMS5IkSZIkSZLGyo5pSZIkSZIkSdJY2TEtSZK0yiTZkKSSbFiCvB+X5N+S3JxkeyvnosUuR1qoJOva/2ctQd7rW94bFztvSauX8VnakbFauy13BSRJkrQyJHkMcAndb8gCbgG2A7e26+tb0g1VtWkZqiitCElOAtYCn60qO44kLYjxWVp8xurxsGNakiRJo3ox3e/H/wBOrKpvzbh+ZttuBDaNr1rSrO4Arl7uSvRxEvBc4K2AjV1JC2V81kplrJ5wdkxLkiRpVI9o23fM0uiVdilV9UngyOWuhySNgfFZK5KxWs4xLUmSpFHt3ba3L2stJElSL+OzpBXJjmlJkqQJk+SwJK9OcmWS25PckeRLSc5J8oOzpJ9alOawduotU+emFnGasWjNpTOubxrDy9IESbKx/W+tT7J7kt9N8l9Jbmvn142yoFKSRyQ5P8nXk2xJcl2S1yQ5aC4LMiV5Us+iY1uSXJXkzCR7zUi3ruX33HbquTO+K5Vk3YLeHEkrlvFZq4mxWqNwKg9JkqQJkuQU4O+BPduprcDdwMPa36lJfqGqPtBz2zfa9kC6gQ2bgTt7rm9vae7Xjm8FtvVcv3kxX4PUYy+6OVMfC9wFfIdu4a+hkpwMnA/s3k7dDtwf+C3g6cAZI+bz+8BftsNvA3vQPZa8HnhCkuOranu7vo3uu7Jfq/uWdk+vbUiaOMZnrWLGavXliGlJkqQJkeR44G3AvYFXAg8G1gDfR/fj/AJgH+CC3pFZVXVwVR0MfKWdetHUufb3a+36lKfNuP7jY3h5mkwvAI4CTgX2rar70nXQfH7QTUkOB86ja+h+Gji6qvahexz+eLoG59+MUP6PAWe1v4Oq6gBgf+Bl7foTmR5xRVV9rH1Xzm+nzp/xXTm4qj42QrmSVhHjs1Y5Y7X6smNakiRpAiS5F/A6ut9/L6iql1bVppp2dVU9E/gXYF/gJctZX2lE9wGeVVUbqupOgKq6ZYTFv86ga9jeBBxfVZ9q91ZVfQg4gek5WwfZH3h5VZ1RVd9seWyuqjOBd7c0vzznVyVpYhifNQGM1erLjmlJkqTJ8HjgCOCbwJsGpHtb256w5DWSFu7KqnrvXG5IErrHfwFeP1vDuKquBt45QnZbgb/uc+2f2/aoudRP0sQxPmu1M1arL+eYliRJmgw/2bb7ATd2v/dntUfbHrrkNZIW7j/mcc/hdKOnAD4yIN1G4NlD8rqyqm7vc+3Gtr3v6FWTNIGMz1rtjNXqy45pSZKkyfCAtt2d6UWQBlmzhHWRFstN87jnwJ79G/umghtGyOs7A67d1ba2uSQNYnzWamesVl9O5SFJkjQZ7t22n6iqjPK3rLWVRrN9gffXotRCkubP+KzVzlitvuyYliRJmgxfb1sfAdaku7ln/wF9U8EDl7oikoTxWZqNsXpC2DEtSZI0Gabm9zs4ydFLVMbUiBZHc2lXdh1wW9tfNyDdoGsLdXfb+l2RZHyWdmasnhB2TEuSJE2GS4Fr2v7ZSfYYlDjJfBaB2dy2+w9MJS2jqirg3e3wtCQHzEyT5AjgmUtYDb8rkqYYn6UZjNWTw45pSZKkCVBVdwGn0S3ycizw0SRPSrL7VJokhyc5LckVwOnzKOaLbXtKkr0XXGlp6fwFcCfdQmMfSPJIgHSOAy4G7ljC8qe+K49LcuQSliNpF2d8lvoyVk8AO6YlSZImRFV9GHgG3erkxwAfAr6b5JtJtgDXAq8HjmZ+C82c27ZPB25L8tUkm5JcvvDaS4unqq4BnkPXEXQ08Okkm4HbgQ8DewAvacm3LkEV3kU3f+YBwFVJbm7flU1JHrME5UnahRmfpZ0ZqyeDHdOSJEkTpKouAh4K/BnwSbof9/vT/aD/HPAm4GTgr+aR93nAs4HL6Uaw3J9uMacHLUbdpcVUVRfSNXQvoGt47gl8AzgHeCTw7Zb0tlkzWFjZtwKPB94B3ADsR/ddORTYa7HLk7TrMz5LOzNWr37ppm2RJEmSJE1J8ufAGcAlVfWk5a6PJEnakbF65XPEtCRJkiT1SHIg8Ovt8N+Xsy6SJGlnxurVwRHTkiRJkiZOkhcCewMXApuq6q4kewJPAl4FHEn32PAPV9Uty1dTSZImk7F69bNjWpIkSdLESfJq4EXtcDvdPJX7Aru1c98GTqqqjeOvnSRJMlavfrsNTyJJkiRJq85b6Rq5jwceCHw/cCfwZeBi4JyqumH5qidJ0sQzVq9yjpiWJEmSJEmSJI2Vix9KkiRJkiRJksbKjmlJkiRJkiRJ0ljZMS1JkiRJkiRJGis7piVJkiRJkiRJY2XHtCRJkiRJkiRprOyYliRJkiRJkiSNlR3TkiRJkiRJkqSxsmNakiRJWoAk65NU+1u33PVZSklOaq9zS5IHLmE5x7Zyvpfk4UtVjiRp9TNOL0k5xmktCjumJUmSpB5J1rZG7Poka5e7PruKJHsBZ7fDN1bVDUtVVlVdDlwC7Ab87VKVI0laeYzTszNOayWyY1qSJEna0VrgzPZng3fa6cBhwBbgrDGUt75tj0tywhjKkyStDMbp2RmnteLYMS1JkiQtQFWtr6q0v43LXZ+lkGQN8IftcENV3bjUZVbVZcDl7fDPlro8SdLqZJxeGsZpLQY7piVJkiQN8xzgwLb/tjGWO0iOH9cAAAp2SURBVFXWMUkeO8ZyJUlaSYzTWpHsmJYkSZI0zG+27bVV9Z9jLPdCYGvbP32M5UqStJIYp7Ui2TEtSZKkXUKSfZOckuTvk3wmyW1ttfdvJfl0klclecgc8zwuyRuTXNWT381JLkvyiiQ/0pP2eUkKeEtPFm9pq873/m2aUcb6nmvrhtTnkCRntdfzrSRbk9yQ5L2t/HsPuX/jVFk9534pyQeTfL3ld32SDUmOnMt7NaDMRwA/1g7/aYT0P5jkt5JckOTqJLcn2Zbkplb/lybZb5Syq+pW4P3t8OQk95nfq5AkLZRx2jg9k3FaC5WqGp5KkiRJWkJJ9gA2A3sOSXoX8OKqet2Q/A6ka5z91LCyqyrtnuexY2O3n+ur6rCestbTLcAE8MR+81cmeT5wNrBmQN5fAE6sqk198tgIPKEdrgHeDpzUJ6+twMlV9f4+10eS5E+Bl7XD46rq0gFp1wGXABmS7c3A06rq8iHpSPJC4Jx2eHJVXTS00pKkRWWcvodxeuc8jdOat92WuwKSJEkS3ZN8ewI3Ah8EPg98A7gbOAR4LHAi3e/X1ya5sareM1tGrbH7CeDB7dS36RqGV9A1qr8fWAs8GXhQz62XACcDxwG/3c69pp3vdcdcX1xr7J7bc+q9wL8BtwE/BJza6vsI4PIkj6yqm4dk+2a6xu6ngHcA/wf8AHAK3fu1J3BekodV1TfnWucex7ft3cB/DUm7F11j90rgUuAq4JZ2/pBW30fTzYP5r0nW9mvc9/h4z/4JgA1eSRo/47Rxuh/jtObNEdOSJEladu3R2OOBi6vPD9QkRwEXAwcD1wFHVNXds6R7H/Cz7fDDwDOr6luzpAvw1Jkje2aMyDq1qjYMqft6BozESnIY8N90I6e2A8+qqnfOSLMGuAD4+Xbqwqp6xixlbWR6JBbAnwN/2vueJbkX8C6mR2i9tKpeOeg19NM+l83A3sCVVfWjQ9IfCuxbVV8YkOaXgfPoOjk2VNWpQ/LsHaX3map61NxehSRpoYzTxukB6Y3TmjfnmJYkSdKyq6rtVfXv/Rq7Lc3ngTPa4eF0o412kG5F+KnG7jV0DdqdGrstvxrT46YvZPqx4FfNbOy2utwJPAv4Wjv19CRHDMn3kqr6k5nvWesE+P2eUyfMr9pA9z7v3favHpa4qq4f1Nhtad5O1+AF+MUkuw9Jv42ugwPg4a1BL0kaI+O0cXpAeuO05s1/FkmSJK0kH+vZP2aW66f07L+iqr67xPUZxdPa9i7gVf0SVdVm4O/aYegeVx7knH4Xquoa4Cvt8Ef6pRvBoT37s3YczNPU57gGOGqE9Le27R7A/RexHpKkxWWcnmacloawY1qSJEm7jCSHJTkzyaVJvpbkzqnV7dsK91/qSf6gWbI4tm2Lbn7IZZXkIKYbjZ+rqpuG3PKBnv3ZGvS9Pj7k+g1te8CQdIPct2d/5AZvkmOSvCbJFUluSbJtxufYO4/nbJ/jTLf07C/k9UiSFsA4bZzuwziteXHxQ0mSJO0SkrwYOItujsJR7DvLuanG0039Hg0es95RQ/8zQvreNMNGHA1bKGlr2476fs6m997vDEvc5pl8E/DsOZQx2+c40+ae/TV9U0mSloxxeqc0xulpxmnNix3TkiRJWnZJTgHO7jl1GfARYBNdQ2tbO38Q8Ia2f+9ZsppqPN2++LWcl3169kd5XLm33vv0TcU9c1Quta09+6M0TF/HdGN3K/A+4Aq6UWHfpVtUCuA44Lfb/myf40z79ezfOUJ6SdIiMk7fwzg9O+O05sWOaUmSJO0KXt62dwEnVtX7Z0uU5OFD8tlM91jrfRaxbgvRO3rp+0ZI31vvoSOfxqB3NNt9+6aie7wb+LV2+FXgCVV1XZ+0D5xjPeb1qLIkadEYpzvG6dkZpzUvzjEtSZKkZZXkcODB7fCifo3d5tAB16BraAEclGRgA21Mvtazf8QI6XvT3LjIdZmPTT37w97P4+gWgwI4q19jtxn2Oc40VfY2dnxPJUlLzDi9A+P07IzTmhc7piVJkrTc7tezf+2QtCcMuX5Z2wZ4yjzr0/vobfqmGkFbROn6drg2yYFDbvnpnv1PLqTsRfJlph9tftiQtIv5Od4jyZ7A4e3wi1VVo94rSVoUxulpxukZjNNaCDumJUmStNzu6Nl/SL9ESQ4BTh2S13k9+3+cZJTHcmfqnT9yPvfP9K623Q14cb9ESfYBTm+HBbxnEcpekKraDnyqHR6ZZND8laN+jk8FjppDNdYCe7T9T8zhPknS4jBOY5wewDitebNjWpIkScvtKqZH+zw1yU/MTJDkfsBFDF9o6ON0C/lA97jtRf0eFU7nxFkufbln/1FD6j6K1zC9ENAfJHn6LHXZi66x/oB26l1V9b+LUPZi+GDb3gs4ekC6K3r2fy/JATMTJDkGePMcyz+mZ//iOd4rSVo447RxehDjtObNxQ8lSZK0rKpqW5I3AC8Bdgc+muTNdA2o79E1Ok8F9gfeBjxnSJbPpXu89sHATwHXJnlHy28zcADdSKAnA4ex82PAXwBuAg4CfiXJzcDHmW603llVH5nD69uU5HeAc+l+f1+Y5J/pGua30TXMf5Xpx2BvYHpE1q7gIqYXvVoHXNIn3X/Sjdp6NN37+qUk5wJXA2vo5rb8xZb2H4FTRiz/iW37XeBDc6i3JGkRGKeN00MYpzVvceoXSZIkLbc2Eul9TDduZvMG4JVMz4v41qp6Xp/87gecDzxhSNFVVTs9RZjkN1p5s7m+qg7rSbseOLMdPrGqNvap02nA2cBeA+rzReApVbWpTx4baa+pqgbOqzmXtMMk+Qzdo7rXVtVDB6R7KF2D+JA+SbYAL6CbH/Qt7dypVbWhT377A18H9gTOq6pnz+sFSJIWxDh9D+P0jvkZp7UgTuUhSZKkZVdVW+gWFDqdbkTPd4CtdAsSvRM4oapOY8cFjwbl942qWgf8HPAPwHV0I3m+RzfK6iPAevosFFRVbwR+hm4U0ldbXRakqs4Ffgj4S+CzdKOwplavfx/daLO1/Rq7y+zv2vYhSR7bL1FVXQM8EvgLuke/t9DNBXo18Frg0VU1l0eEn0HX2AV4/VwrLUlaHMZp43QfxmktiCOmJUmSJA3URspdT/fY9Bur6vljKvejwOOAT1TVY8ZRpiRJK41xWiuVI6YlSZIkDdRGyp3VDp+T5AGD0i+GJMfSNXZh+hFsSZI0g3FaK5Ud05IkSZJG8Xrgy3Rzb/7RGMpb37aXVNXFYyhPkqSVzDitFcepPCRJkiSNJMlJwHvo5vJ8SFXdsETlHAtcBtxFN5/nlUtRjiRJq4lxWiuNHdOSJEmSJEmSpLFyKg9JkiRJkiRJ0ljZMS1JkiRJkiRJGis7piVJkiRJkiRJY2XHtCRJkiRJkiRprOyYliRJkiRJkiSNlR3TkiRJkiRJkqSxsmNakiRJkiRJkjRWdkxLkiRJkiRJksbKjmlJkiRJkiRJ0ljZMS1JkiRJkiRJGis7piVJkiRJkiRJY2XHtCRJkiRJkiRprOyYliRJkiRJkiSNlR3TkiRJkiRJkqSxsmNakiRJkiRJkjRW/w9JkwLbvO7uCwAAAABJRU5ErkJggg==\n",
                "text/plain": "<Figure size 1224x216 with 3 Axes>"
              }
            ],
            "_view_module": "@jupyter-widgets/output",
            "_model_module_version": "1.0.0",
            "_view_count": null,
            "_view_module_version": "1.0.0",
            "layout": "IPY_MODEL_d63c1957c2184c94898c5f64e1c76d37",
            "_model_module": "@jupyter-widgets/output"
          }
        },
        "0a6560e6b1944a179531c75f47d11ceb": {
          "model_module": "@jupyter-widgets/controls",
          "model_name": "SliderStyleModel",
          "state": {
            "_view_name": "StyleView",
            "handle_color": null,
            "_model_name": "SliderStyleModel",
            "description_width": "",
            "_view_module": "@jupyter-widgets/base",
            "_model_module_version": "1.5.0",
            "_view_count": null,
            "_view_module_version": "1.2.0",
            "_model_module": "@jupyter-widgets/controls"
          }
        },
        "b9233c211e4940b49811c06c5147523f": {
          "model_module": "@jupyter-widgets/base",
          "model_name": "LayoutModel",
          "state": {
            "_view_name": "LayoutView",
            "grid_template_rows": null,
            "right": null,
            "justify_content": null,
            "_view_module": "@jupyter-widgets/base",
            "overflow": null,
            "_model_module_version": "1.2.0",
            "_view_count": null,
            "flex_flow": null,
            "width": null,
            "min_width": null,
            "border": null,
            "align_items": null,
            "bottom": null,
            "_model_module": "@jupyter-widgets/base",
            "top": null,
            "grid_column": null,
            "overflow_y": null,
            "overflow_x": null,
            "grid_auto_flow": null,
            "grid_area": null,
            "grid_template_columns": null,
            "flex": null,
            "_model_name": "LayoutModel",
            "justify_items": null,
            "grid_row": null,
            "max_height": null,
            "align_content": null,
            "visibility": null,
            "align_self": null,
            "height": null,
            "min_height": null,
            "padding": null,
            "grid_auto_rows": null,
            "grid_gap": null,
            "max_width": null,
            "order": null,
            "_view_module_version": "1.2.0",
            "grid_template_areas": null,
            "object_position": null,
            "object_fit": null,
            "grid_auto_columns": null,
            "margin": null,
            "display": null,
            "left": null
          }
        },
        "d63c1957c2184c94898c5f64e1c76d37": {
          "model_module": "@jupyter-widgets/base",
          "model_name": "LayoutModel",
          "state": {
            "_view_name": "LayoutView",
            "grid_template_rows": null,
            "right": null,
            "justify_content": null,
            "_view_module": "@jupyter-widgets/base",
            "overflow": null,
            "_model_module_version": "1.2.0",
            "_view_count": null,
            "flex_flow": null,
            "width": null,
            "min_width": null,
            "border": null,
            "align_items": null,
            "bottom": null,
            "_model_module": "@jupyter-widgets/base",
            "top": null,
            "grid_column": null,
            "overflow_y": null,
            "overflow_x": null,
            "grid_auto_flow": null,
            "grid_area": null,
            "grid_template_columns": null,
            "flex": null,
            "_model_name": "LayoutModel",
            "justify_items": null,
            "grid_row": null,
            "max_height": null,
            "align_content": null,
            "visibility": null,
            "align_self": null,
            "height": null,
            "min_height": null,
            "padding": null,
            "grid_auto_rows": null,
            "grid_gap": null,
            "max_width": null,
            "order": null,
            "_view_module_version": "1.2.0",
            "grid_template_areas": null,
            "object_position": null,
            "object_fit": null,
            "grid_auto_columns": null,
            "margin": null,
            "display": null,
            "left": null
          }
        },
        "426035297c0f43d3a08d644f6da9f528": {
          "model_module": "@jupyter-widgets/controls",
          "model_name": "TabModel",
          "state": {
            "_view_name": "TabView",
            "_dom_classes": [],
            "_titles": {
              "0": "Youtube",
              "1": "Bilibili"
            },
            "_model_name": "TabModel",
            "_view_module": "@jupyter-widgets/controls",
            "selected_index": 0,
            "_model_module_version": "1.5.0",
            "_view_count": null,
            "_view_module_version": "1.5.0",
            "box_style": "",
            "layout": "IPY_MODEL_3e43e9403e3a4ee4a8bb86d2823bbeea",
            "_model_module": "@jupyter-widgets/controls",
            "children": [
              "IPY_MODEL_9055a14efb814bfca0faaa386d04cbed",
              "IPY_MODEL_c517695dd8bf4585a8e0488d3e5e42d2"
            ]
          }
        },
        "3e43e9403e3a4ee4a8bb86d2823bbeea": {
          "model_module": "@jupyter-widgets/base",
          "model_name": "LayoutModel",
          "state": {
            "_view_name": "LayoutView",
            "grid_template_rows": null,
            "right": null,
            "justify_content": null,
            "_view_module": "@jupyter-widgets/base",
            "overflow": null,
            "_model_module_version": "1.2.0",
            "_view_count": null,
            "flex_flow": null,
            "width": null,
            "min_width": null,
            "border": null,
            "align_items": null,
            "bottom": null,
            "_model_module": "@jupyter-widgets/base",
            "top": null,
            "grid_column": null,
            "overflow_y": null,
            "overflow_x": null,
            "grid_auto_flow": null,
            "grid_area": null,
            "grid_template_columns": null,
            "flex": null,
            "_model_name": "LayoutModel",
            "justify_items": null,
            "grid_row": null,
            "max_height": null,
            "align_content": null,
            "visibility": null,
            "align_self": null,
            "height": null,
            "min_height": null,
            "padding": null,
            "grid_auto_rows": null,
            "grid_gap": null,
            "max_width": null,
            "order": null,
            "_view_module_version": "1.2.0",
            "grid_template_areas": null,
            "object_position": null,
            "object_fit": null,
            "grid_auto_columns": null,
            "margin": null,
            "display": null,
            "left": null
          }
        },
        "9055a14efb814bfca0faaa386d04cbed": {
          "model_module": "@jupyter-widgets/output",
          "model_name": "OutputModel",
          "state": {
            "_view_name": "OutputView",
            "msg_id": "",
            "_dom_classes": [],
            "_model_name": "OutputModel",
            "outputs": [
              {
                "output_type": "stream",
                "metadata": {
                  "tags": []
                },
                "text": "Video available at https://youtube.com/watch?v=l4m0JzMWGio\n",
                "stream": "stdout"
              },
              {
                "output_type": "display_data",
                "metadata": {
                  "tags": []
                },
                "text/html": "\n        <iframe\n            width=\"854\"\n            height=\"480\"\n            src=\"https://www.youtube.com/embed/l4m0JzMWGio?fs=1&rel=0\"\n            frameborder=\"0\"\n            allowfullscreen\n        ></iframe>\n        ",
                "text/plain": "<IPython.lib.display.YouTubeVideo at 0x7f33dad8aad0>",
                "image/jpeg": "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\n"
              }
            ],
            "_view_module": "@jupyter-widgets/output",
            "_model_module_version": "1.0.0",
            "_view_count": null,
            "_view_module_version": "1.0.0",
            "layout": "IPY_MODEL_fb4db23427654f6fbf07a65c9d2d45b8",
            "_model_module": "@jupyter-widgets/output"
          }
        },
        "c517695dd8bf4585a8e0488d3e5e42d2": {
          "model_module": "@jupyter-widgets/output",
          "model_name": "OutputModel",
          "state": {
            "_view_name": "OutputView",
            "msg_id": "",
            "_dom_classes": [],
            "_model_name": "OutputModel",
            "outputs": [
              {
                "output_type": "stream",
                "metadata": {
                  "tags": []
                },
                "text": "Video available at https://www.bilibili.com/video/\n",
                "stream": "stdout"
              },
              {
                "output_type": "display_data",
                "metadata": {
                  "tags": []
                },
                "text/html": "\n        <iframe\n            width=\"854\"\n            height=\"480\"\n            src=\"https://player.bilibili.com/player.html?bvid=&page=1?fs=1\"\n            frameborder=\"0\"\n            allowfullscreen\n        ></iframe>\n        ",
                "text/plain": "<__main__.BiliVideo at 0x7f33dad8afd0>"
              }
            ],
            "_view_module": "@jupyter-widgets/output",
            "_model_module_version": "1.0.0",
            "_view_count": null,
            "_view_module_version": "1.0.0",
            "layout": "IPY_MODEL_02125631116b47b395c89c86283d28fe",
            "_model_module": "@jupyter-widgets/output"
          }
        },
        "fb4db23427654f6fbf07a65c9d2d45b8": {
          "model_module": "@jupyter-widgets/base",
          "model_name": "LayoutModel",
          "state": {
            "_view_name": "LayoutView",
            "grid_template_rows": null,
            "right": null,
            "justify_content": null,
            "_view_module": "@jupyter-widgets/base",
            "overflow": null,
            "_model_module_version": "1.2.0",
            "_view_count": null,
            "flex_flow": null,
            "width": null,
            "min_width": null,
            "border": null,
            "align_items": null,
            "bottom": null,
            "_model_module": "@jupyter-widgets/base",
            "top": null,
            "grid_column": null,
            "overflow_y": null,
            "overflow_x": null,
            "grid_auto_flow": null,
            "grid_area": null,
            "grid_template_columns": null,
            "flex": null,
            "_model_name": "LayoutModel",
            "justify_items": null,
            "grid_row": null,
            "max_height": null,
            "align_content": null,
            "visibility": null,
            "align_self": null,
            "height": null,
            "min_height": null,
            "padding": null,
            "grid_auto_rows": null,
            "grid_gap": null,
            "max_width": null,
            "order": null,
            "_view_module_version": "1.2.0",
            "grid_template_areas": null,
            "object_position": null,
            "object_fit": null,
            "grid_auto_columns": null,
            "margin": null,
            "display": null,
            "left": null
          }
        },
        "02125631116b47b395c89c86283d28fe": {
          "model_module": "@jupyter-widgets/base",
          "model_name": "LayoutModel",
          "state": {
            "_view_name": "LayoutView",
            "grid_template_rows": null,
            "right": null,
            "justify_content": null,
            "_view_module": "@jupyter-widgets/base",
            "overflow": null,
            "_model_module_version": "1.2.0",
            "_view_count": null,
            "flex_flow": null,
            "width": null,
            "min_width": null,
            "border": null,
            "align_items": null,
            "bottom": null,
            "_model_module": "@jupyter-widgets/base",
            "top": null,
            "grid_column": null,
            "overflow_y": null,
            "overflow_x": null,
            "grid_auto_flow": null,
            "grid_area": null,
            "grid_template_columns": null,
            "flex": null,
            "_model_name": "LayoutModel",
            "justify_items": null,
            "grid_row": null,
            "max_height": null,
            "align_content": null,
            "visibility": null,
            "align_self": null,
            "height": null,
            "min_height": null,
            "padding": null,
            "grid_auto_rows": null,
            "grid_gap": null,
            "max_width": null,
            "order": null,
            "_view_module_version": "1.2.0",
            "grid_template_areas": null,
            "object_position": null,
            "object_fit": null,
            "grid_auto_columns": null,
            "margin": null,
            "display": null,
            "left": null
          }
        },
        "1e95a71955ec45bcaa0c954e783770dd": {
          "model_module": "@jupyter-widgets/controls",
          "model_name": "TabModel",
          "state": {
            "_view_name": "TabView",
            "_dom_classes": [],
            "_titles": {
              "0": "Youtube",
              "1": "Bilibili"
            },
            "_model_name": "TabModel",
            "_view_module": "@jupyter-widgets/controls",
            "selected_index": 0,
            "_model_module_version": "1.5.0",
            "_view_count": null,
            "_view_module_version": "1.5.0",
            "box_style": "",
            "layout": "IPY_MODEL_cf479651e8c143ccbc2a1e2c1292645c",
            "_model_module": "@jupyter-widgets/controls",
            "children": [
              "IPY_MODEL_59fc00de46bc44bc8fd4e7498a39f8ce",
              "IPY_MODEL_3f2db45d8de34791a0ad1b3b98913b7b"
            ]
          }
        },
        "cf479651e8c143ccbc2a1e2c1292645c": {
          "model_module": "@jupyter-widgets/base",
          "model_name": "LayoutModel",
          "state": {
            "_view_name": "LayoutView",
            "grid_template_rows": null,
            "right": null,
            "justify_content": null,
            "_view_module": "@jupyter-widgets/base",
            "overflow": null,
            "_model_module_version": "1.2.0",
            "_view_count": null,
            "flex_flow": null,
            "width": null,
            "min_width": null,
            "border": null,
            "align_items": null,
            "bottom": null,
            "_model_module": "@jupyter-widgets/base",
            "top": null,
            "grid_column": null,
            "overflow_y": null,
            "overflow_x": null,
            "grid_auto_flow": null,
            "grid_area": null,
            "grid_template_columns": null,
            "flex": null,
            "_model_name": "LayoutModel",
            "justify_items": null,
            "grid_row": null,
            "max_height": null,
            "align_content": null,
            "visibility": null,
            "align_self": null,
            "height": null,
            "min_height": null,
            "padding": null,
            "grid_auto_rows": null,
            "grid_gap": null,
            "max_width": null,
            "order": null,
            "_view_module_version": "1.2.0",
            "grid_template_areas": null,
            "object_position": null,
            "object_fit": null,
            "grid_auto_columns": null,
            "margin": null,
            "display": null,
            "left": null
          }
        },
        "59fc00de46bc44bc8fd4e7498a39f8ce": {
          "model_module": "@jupyter-widgets/output",
          "model_name": "OutputModel",
          "state": {
            "_view_name": "OutputView",
            "msg_id": "",
            "_dom_classes": [],
            "_model_name": "OutputModel",
            "outputs": [
              {
                "output_type": "stream",
                "metadata": {
                  "tags": []
                },
                "text": "Video available at https://youtube.com/watch?v=vsDjtWi-BVo\n",
                "stream": "stdout"
              },
              {
                "output_type": "display_data",
                "metadata": {
                  "tags": []
                },
                "text/html": "\n        <iframe\n            width=\"854\"\n            height=\"480\"\n            src=\"https://www.youtube.com/embed/vsDjtWi-BVo?fs=1&rel=0\"\n            frameborder=\"0\"\n            allowfullscreen\n        ></iframe>\n        ",
                "text/plain": "<IPython.lib.display.YouTubeVideo at 0x7f33db3482d0>",
                "image/jpeg": "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\n"
              }
            ],
            "_view_module": "@jupyter-widgets/output",
            "_model_module_version": "1.0.0",
            "_view_count": null,
            "_view_module_version": "1.0.0",
            "layout": "IPY_MODEL_3999f7818b7948d48b4947f3a5613e09",
            "_model_module": "@jupyter-widgets/output"
          }
        },
        "3f2db45d8de34791a0ad1b3b98913b7b": {
          "model_module": "@jupyter-widgets/output",
          "model_name": "OutputModel",
          "state": {
            "_view_name": "OutputView",
            "msg_id": "",
            "_dom_classes": [],
            "_model_name": "OutputModel",
            "outputs": [
              {
                "output_type": "stream",
                "metadata": {
                  "tags": []
                },
                "text": "Video available at https://www.bilibili.com/video/\n",
                "stream": "stdout"
              },
              {
                "output_type": "display_data",
                "metadata": {
                  "tags": []
                },
                "text/html": "\n        <iframe\n            width=\"854\"\n            height=\"480\"\n            src=\"https://player.bilibili.com/player.html?bvid=&page=1?fs=1\"\n            frameborder=\"0\"\n            allowfullscreen\n        ></iframe>\n        ",
                "text/plain": "<__main__.BiliVideo at 0x7f33dad72790>"
              }
            ],
            "_view_module": "@jupyter-widgets/output",
            "_model_module_version": "1.0.0",
            "_view_count": null,
            "_view_module_version": "1.0.0",
            "layout": "IPY_MODEL_ac961caa5dc1437f929949d87a578e46",
            "_model_module": "@jupyter-widgets/output"
          }
        },
        "3999f7818b7948d48b4947f3a5613e09": {
          "model_module": "@jupyter-widgets/base",
          "model_name": "LayoutModel",
          "state": {
            "_view_name": "LayoutView",
            "grid_template_rows": null,
            "right": null,
            "justify_content": null,
            "_view_module": "@jupyter-widgets/base",
            "overflow": null,
            "_model_module_version": "1.2.0",
            "_view_count": null,
            "flex_flow": null,
            "width": null,
            "min_width": null,
            "border": null,
            "align_items": null,
            "bottom": null,
            "_model_module": "@jupyter-widgets/base",
            "top": null,
            "grid_column": null,
            "overflow_y": null,
            "overflow_x": null,
            "grid_auto_flow": null,
            "grid_area": null,
            "grid_template_columns": null,
            "flex": null,
            "_model_name": "LayoutModel",
            "justify_items": null,
            "grid_row": null,
            "max_height": null,
            "align_content": null,
            "visibility": null,
            "align_self": null,
            "height": null,
            "min_height": null,
            "padding": null,
            "grid_auto_rows": null,
            "grid_gap": null,
            "max_width": null,
            "order": null,
            "_view_module_version": "1.2.0",
            "grid_template_areas": null,
            "object_position": null,
            "object_fit": null,
            "grid_auto_columns": null,
            "margin": null,
            "display": null,
            "left": null
          }
        },
        "ac961caa5dc1437f929949d87a578e46": {
          "model_module": "@jupyter-widgets/base",
          "model_name": "LayoutModel",
          "state": {
            "_view_name": "LayoutView",
            "grid_template_rows": null,
            "right": null,
            "justify_content": null,
            "_view_module": "@jupyter-widgets/base",
            "overflow": null,
            "_model_module_version": "1.2.0",
            "_view_count": null,
            "flex_flow": null,
            "width": null,
            "min_width": null,
            "border": null,
            "align_items": null,
            "bottom": null,
            "_model_module": "@jupyter-widgets/base",
            "top": null,
            "grid_column": null,
            "overflow_y": null,
            "overflow_x": null,
            "grid_auto_flow": null,
            "grid_area": null,
            "grid_template_columns": null,
            "flex": null,
            "_model_name": "LayoutModel",
            "justify_items": null,
            "grid_row": null,
            "max_height": null,
            "align_content": null,
            "visibility": null,
            "align_self": null,
            "height": null,
            "min_height": null,
            "padding": null,
            "grid_auto_rows": null,
            "grid_gap": null,
            "max_width": null,
            "order": null,
            "_view_module_version": "1.2.0",
            "grid_template_areas": null,
            "object_position": null,
            "object_fit": null,
            "grid_auto_columns": null,
            "margin": null,
            "display": null,
            "left": null
          }
        },
        "cd3710f0540e41eab31425d90c09415d": {
          "model_module": "@jupyter-widgets/controls",
          "model_name": "VBoxModel",
          "state": {
            "_view_name": "VBoxView",
            "_dom_classes": [
              "widget-interact"
            ],
            "_model_name": "VBoxModel",
            "_view_module": "@jupyter-widgets/controls",
            "_model_module_version": "1.5.0",
            "_view_count": null,
            "_view_module_version": "1.5.0",
            "box_style": "",
            "layout": "IPY_MODEL_f0a5f3c223704a19a05a631f839b7bbe",
            "_model_module": "@jupyter-widgets/controls",
            "children": [
              "IPY_MODEL_1d2fca57c5b7410c8b099e84bca3fac3",
              "IPY_MODEL_8a55d1f2aa8843caaf33f7b4363f0518",
              "IPY_MODEL_6d0edc7ef4504f079302f37e6e8a4e7b",
              "IPY_MODEL_c18c799c704549a08af19e6dd2618b87"
            ]
          }
        },
        "f0a5f3c223704a19a05a631f839b7bbe": {
          "model_module": "@jupyter-widgets/base",
          "model_name": "LayoutModel",
          "state": {
            "_view_name": "LayoutView",
            "grid_template_rows": null,
            "right": null,
            "justify_content": null,
            "_view_module": "@jupyter-widgets/base",
            "overflow": null,
            "_model_module_version": "1.2.0",
            "_view_count": null,
            "flex_flow": null,
            "width": null,
            "min_width": null,
            "border": null,
            "align_items": null,
            "bottom": null,
            "_model_module": "@jupyter-widgets/base",
            "top": null,
            "grid_column": null,
            "overflow_y": null,
            "overflow_x": null,
            "grid_auto_flow": null,
            "grid_area": null,
            "grid_template_columns": null,
            "flex": null,
            "_model_name": "LayoutModel",
            "justify_items": null,
            "grid_row": null,
            "max_height": null,
            "align_content": null,
            "visibility": null,
            "align_self": null,
            "height": null,
            "min_height": null,
            "padding": null,
            "grid_auto_rows": null,
            "grid_gap": null,
            "max_width": null,
            "order": null,
            "_view_module_version": "1.2.0",
            "grid_template_areas": null,
            "object_position": null,
            "object_fit": null,
            "grid_auto_columns": null,
            "margin": null,
            "display": null,
            "left": null
          }
        },
        "1d2fca57c5b7410c8b099e84bca3fac3": {
          "model_module": "@jupyter-widgets/controls",
          "model_name": "FloatSliderModel",
          "state": {
            "_view_name": "FloatSliderView",
            "style": "IPY_MODEL_8fd007fe5a1e4b06ba0e268b3f801283",
            "_dom_classes": [],
            "description": "p(color=golden)",
            "step": 0.01,
            "_model_name": "FloatSliderModel",
            "orientation": "horizontal",
            "max": 0.99,
            "_view_module": "@jupyter-widgets/controls",
            "_model_module_version": "1.5.0",
            "value": 0.69,
            "_view_count": null,
            "disabled": false,
            "_view_module_version": "1.5.0",
            "min": 0.01,
            "continuous_update": true,
            "readout_format": ".2f",
            "description_tooltip": null,
            "readout": true,
            "_model_module": "@jupyter-widgets/controls",
            "layout": "IPY_MODEL_040f666c6a8f42a4ab7d3f9f0e9eaf89"
          }
        },
        "8a55d1f2aa8843caaf33f7b4363f0518": {
          "model_module": "@jupyter-widgets/controls",
          "model_name": "FloatSliderModel",
          "state": {
            "_view_name": "FloatSliderView",
            "style": "IPY_MODEL_1ae0f1b251814cbbb510160dc61c1f2c",
            "_dom_classes": [],
            "description": "p(size=large)",
            "step": 0.01,
            "_model_name": "FloatSliderModel",
            "orientation": "horizontal",
            "max": 0.99,
            "_view_module": "@jupyter-widgets/controls",
            "_model_module_version": "1.5.0",
            "value": 0.3,
            "_view_count": null,
            "disabled": false,
            "_view_module_version": "1.5.0",
            "min": 0.01,
            "continuous_update": true,
            "readout_format": ".2f",
            "description_tooltip": null,
            "readout": true,
            "_model_module": "@jupyter-widgets/controls",
            "layout": "IPY_MODEL_40509c63625246de9c9b1255d1c4f92b"
          }
        },
        "6d0edc7ef4504f079302f37e6e8a4e7b": {
          "model_module": "@jupyter-widgets/controls",
          "model_name": "FloatSliderModel",
          "state": {
            "_view_name": "FloatSliderView",
            "style": "IPY_MODEL_4db76256d82b468bac8be0544b21624d",
            "_dom_classes": [],
            "description": "ρ",
            "step": 0.01,
            "_model_name": "FloatSliderModel",
            "orientation": "horizontal",
            "max": 0.4288013033833557,
            "_view_module": "@jupyter-widgets/controls",
            "_model_module_version": "1.5.0",
            "value": 0.23331,
            "_view_count": null,
            "disabled": false,
            "_view_module_version": "1.5.0",
            "min": -0.9666867720468236,
            "continuous_update": true,
            "readout_format": ".2f",
            "description_tooltip": null,
            "readout": true,
            "_model_module": "@jupyter-widgets/controls",
            "layout": "IPY_MODEL_ea4e0c10095b41488afee4868d5420f6"
          }
        },
        "c18c799c704549a08af19e6dd2618b87": {
          "model_module": "@jupyter-widgets/output",
          "model_name": "OutputModel",
          "state": {
            "_view_name": "OutputView",
            "msg_id": "",
            "_dom_classes": [],
            "_model_name": "OutputModel",
            "outputs": [
              {
                "output_type": "display_data",
                "metadata": {
                  "tags": [],
                  "image/png": {
                    "width": 393,
                    "height": 361
                  },
                  "needs_background": "light"
                },
                "image/png": "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\n",
                "text/plain": "<Figure size 360x360 with 3 Axes>"
              }
            ],
            "_view_module": "@jupyter-widgets/output",
            "_model_module_version": "1.0.0",
            "_view_count": null,
            "_view_module_version": "1.0.0",
            "layout": "IPY_MODEL_d82e6c6e3a6748bbb67ff5082a1420e2",
            "_model_module": "@jupyter-widgets/output"
          }
        },
        "8fd007fe5a1e4b06ba0e268b3f801283": {
          "model_module": "@jupyter-widgets/controls",
          "model_name": "SliderStyleModel",
          "state": {
            "_view_name": "StyleView",
            "handle_color": null,
            "_model_name": "SliderStyleModel",
            "description_width": "initial",
            "_view_module": "@jupyter-widgets/base",
            "_model_module_version": "1.5.0",
            "_view_count": null,
            "_view_module_version": "1.2.0",
            "_model_module": "@jupyter-widgets/controls"
          }
        },
        "040f666c6a8f42a4ab7d3f9f0e9eaf89": {
          "model_module": "@jupyter-widgets/base",
          "model_name": "LayoutModel",
          "state": {
            "_view_name": "LayoutView",
            "grid_template_rows": null,
            "right": null,
            "justify_content": null,
            "_view_module": "@jupyter-widgets/base",
            "overflow": null,
            "_model_module_version": "1.2.0",
            "_view_count": null,
            "flex_flow": null,
            "width": null,
            "min_width": null,
            "border": null,
            "align_items": null,
            "bottom": null,
            "_model_module": "@jupyter-widgets/base",
            "top": null,
            "grid_column": null,
            "overflow_y": null,
            "overflow_x": null,
            "grid_auto_flow": null,
            "grid_area": "widget002",
            "grid_template_columns": null,
            "flex": null,
            "_model_name": "LayoutModel",
            "justify_items": null,
            "grid_row": null,
            "max_height": null,
            "align_content": null,
            "visibility": null,
            "align_self": null,
            "height": null,
            "min_height": null,
            "padding": null,
            "grid_auto_rows": null,
            "grid_gap": null,
            "max_width": null,
            "order": null,
            "_view_module_version": "1.2.0",
            "grid_template_areas": null,
            "object_position": null,
            "object_fit": null,
            "grid_auto_columns": null,
            "margin": null,
            "display": null,
            "left": null
          }
        },
        "1ae0f1b251814cbbb510160dc61c1f2c": {
          "model_module": "@jupyter-widgets/controls",
          "model_name": "SliderStyleModel",
          "state": {
            "_view_name": "StyleView",
            "handle_color": null,
            "_model_name": "SliderStyleModel",
            "description_width": "initial",
            "_view_module": "@jupyter-widgets/base",
            "_model_module_version": "1.5.0",
            "_view_count": null,
            "_view_module_version": "1.2.0",
            "_model_module": "@jupyter-widgets/controls"
          }
        },
        "40509c63625246de9c9b1255d1c4f92b": {
          "model_module": "@jupyter-widgets/base",
          "model_name": "LayoutModel",
          "state": {
            "_view_name": "LayoutView",
            "grid_template_rows": null,
            "right": null,
            "justify_content": null,
            "_view_module": "@jupyter-widgets/base",
            "overflow": null,
            "_model_module_version": "1.2.0",
            "_view_count": null,
            "flex_flow": null,
            "width": null,
            "min_width": null,
            "border": null,
            "align_items": null,
            "bottom": null,
            "_model_module": "@jupyter-widgets/base",
            "top": null,
            "grid_column": null,
            "overflow_y": null,
            "overflow_x": null,
            "grid_auto_flow": null,
            "grid_area": "widget003",
            "grid_template_columns": null,
            "flex": null,
            "_model_name": "LayoutModel",
            "justify_items": null,
            "grid_row": null,
            "max_height": null,
            "align_content": null,
            "visibility": null,
            "align_self": null,
            "height": null,
            "min_height": null,
            "padding": null,
            "grid_auto_rows": null,
            "grid_gap": null,
            "max_width": null,
            "order": null,
            "_view_module_version": "1.2.0",
            "grid_template_areas": null,
            "object_position": null,
            "object_fit": null,
            "grid_auto_columns": null,
            "margin": null,
            "display": null,
            "left": null
          }
        },
        "4db76256d82b468bac8be0544b21624d": {
          "model_module": "@jupyter-widgets/controls",
          "model_name": "SliderStyleModel",
          "state": {
            "_view_name": "StyleView",
            "handle_color": null,
            "_model_name": "SliderStyleModel",
            "description_width": "",
            "_view_module": "@jupyter-widgets/base",
            "_model_module_version": "1.5.0",
            "_view_count": null,
            "_view_module_version": "1.2.0",
            "_model_module": "@jupyter-widgets/controls"
          }
        },
        "ea4e0c10095b41488afee4868d5420f6": {
          "model_module": "@jupyter-widgets/base",
          "model_name": "LayoutModel",
          "state": {
            "_view_name": "LayoutView",
            "grid_template_rows": null,
            "right": null,
            "justify_content": null,
            "_view_module": "@jupyter-widgets/base",
            "overflow": null,
            "_model_module_version": "1.2.0",
            "_view_count": null,
            "flex_flow": null,
            "width": null,
            "min_width": null,
            "border": null,
            "align_items": null,
            "bottom": null,
            "_model_module": "@jupyter-widgets/base",
            "top": null,
            "grid_column": null,
            "overflow_y": null,
            "overflow_x": null,
            "grid_auto_flow": null,
            "grid_area": "widget001",
            "grid_template_columns": null,
            "flex": null,
            "_model_name": "LayoutModel",
            "justify_items": null,
            "grid_row": null,
            "max_height": null,
            "align_content": null,
            "visibility": null,
            "align_self": null,
            "height": null,
            "min_height": null,
            "padding": null,
            "grid_auto_rows": null,
            "grid_gap": null,
            "max_width": null,
            "order": null,
            "_view_module_version": "1.2.0",
            "grid_template_areas": null,
            "object_position": null,
            "object_fit": null,
            "grid_auto_columns": null,
            "margin": null,
            "display": null,
            "left": null
          }
        },
        "d82e6c6e3a6748bbb67ff5082a1420e2": {
          "model_module": "@jupyter-widgets/base",
          "model_name": "LayoutModel",
          "state": {
            "_view_name": "LayoutView",
            "grid_template_rows": null,
            "right": null,
            "justify_content": null,
            "_view_module": "@jupyter-widgets/base",
            "overflow": null,
            "_model_module_version": "1.2.0",
            "_view_count": null,
            "flex_flow": null,
            "width": null,
            "min_width": null,
            "border": null,
            "align_items": null,
            "bottom": null,
            "_model_module": "@jupyter-widgets/base",
            "top": null,
            "grid_column": null,
            "overflow_y": null,
            "overflow_x": null,
            "grid_auto_flow": null,
            "grid_area": null,
            "grid_template_columns": null,
            "flex": null,
            "_model_name": "LayoutModel",
            "justify_items": null,
            "grid_row": null,
            "max_height": null,
            "align_content": null,
            "visibility": null,
            "align_self": null,
            "height": null,
            "min_height": null,
            "padding": null,
            "grid_auto_rows": null,
            "grid_gap": null,
            "max_width": null,
            "order": null,
            "_view_module_version": "1.2.0",
            "grid_template_areas": null,
            "object_position": null,
            "object_fit": null,
            "grid_auto_columns": null,
            "margin": null,
            "display": null,
            "left": null
          }
        },
        "1ce5355c080a42e2830676f2244fdae1": {
          "model_module": "@jupyter-widgets/controls",
          "model_name": "VBoxModel",
          "state": {
            "_view_name": "VBoxView",
            "_dom_classes": [
              "widget-interact"
            ],
            "_model_name": "VBoxModel",
            "_view_module": "@jupyter-widgets/controls",
            "_model_module_version": "1.5.0",
            "_view_count": null,
            "_view_module_version": "1.5.0",
            "box_style": "",
            "layout": "IPY_MODEL_71d0897b2f134bc08cbfba651620b801",
            "_model_module": "@jupyter-widgets/controls",
            "children": [
              "IPY_MODEL_9d700b1a16444d588d4eb8ef9145cf46",
              "IPY_MODEL_35a6ca0430cd4a24ab709727d097075b",
              "IPY_MODEL_76a59e2df0a24cb38c2b6df3cefba3d0",
              "IPY_MODEL_7afaacb2be2a4a349b62c5b0f0d8ee75",
              "IPY_MODEL_0138a74c967247929fc6adaf21df73ac"
            ]
          }
        },
        "71d0897b2f134bc08cbfba651620b801": {
          "model_module": "@jupyter-widgets/base",
          "model_name": "LayoutModel",
          "state": {
            "_view_name": "LayoutView",
            "grid_template_rows": null,
            "right": null,
            "justify_content": null,
            "_view_module": "@jupyter-widgets/base",
            "overflow": null,
            "_model_module_version": "1.2.0",
            "_view_count": null,
            "flex_flow": null,
            "width": null,
            "min_width": null,
            "border": null,
            "align_items": null,
            "bottom": null,
            "_model_module": "@jupyter-widgets/base",
            "top": null,
            "grid_column": null,
            "overflow_y": null,
            "overflow_x": null,
            "grid_auto_flow": null,
            "grid_area": null,
            "grid_template_columns": null,
            "flex": null,
            "_model_name": "LayoutModel",
            "justify_items": null,
            "grid_row": null,
            "max_height": null,
            "align_content": null,
            "visibility": null,
            "align_self": null,
            "height": null,
            "min_height": null,
            "padding": null,
            "grid_auto_rows": null,
            "grid_gap": null,
            "max_width": null,
            "order": null,
            "_view_module_version": "1.2.0",
            "grid_template_areas": null,
            "object_position": null,
            "object_fit": null,
            "grid_auto_columns": null,
            "margin": null,
            "display": null,
            "left": null
          }
        },
        "9d700b1a16444d588d4eb8ef9145cf46": {
          "model_module": "@jupyter-widgets/controls",
          "model_name": "FloatSliderModel",
          "state": {
            "_view_name": "FloatSliderView",
            "style": "IPY_MODEL_d16b8bb21651496d9378b624e28f43ff",
            "_dom_classes": [],
            "description": "p(s = left)",
            "step": 0.01,
            "_model_name": "FloatSliderModel",
            "orientation": "horizontal",
            "max": 0.99,
            "_view_module": "@jupyter-widgets/controls",
            "_model_module_version": "1.5.0",
            "value": 0.6,
            "_view_count": null,
            "disabled": false,
            "_view_module_version": "1.5.0",
            "min": 0.01,
            "continuous_update": true,
            "readout_format": ".2f",
            "description_tooltip": null,
            "readout": true,
            "_model_module": "@jupyter-widgets/controls",
            "layout": "IPY_MODEL_66c71b3ec8db47c28a428b979576fef4"
          }
        },
        "35a6ca0430cd4a24ab709727d097075b": {
          "model_module": "@jupyter-widgets/controls",
          "model_name": "FloatSliderModel",
          "state": {
            "_view_name": "FloatSliderView",
            "style": "IPY_MODEL_a5606d42472843c8b6999ce9dd456282",
            "_dom_classes": [],
            "description": "p(fish | s = left)",
            "step": 0.01,
            "_model_name": "FloatSliderModel",
            "orientation": "horizontal",
            "max": 0.99,
            "_view_module": "@jupyter-widgets/controls",
            "_model_module_version": "1.5.0",
            "value": 0.94,
            "_view_count": null,
            "disabled": false,
            "_view_module_version": "1.5.0",
            "min": 0.01,
            "continuous_update": true,
            "readout_format": ".2f",
            "description_tooltip": null,
            "readout": true,
            "_model_module": "@jupyter-widgets/controls",
            "layout": "IPY_MODEL_4227a2b70cbb469bad4a85c471ccbed2"
          }
        },
        "76a59e2df0a24cb38c2b6df3cefba3d0": {
          "model_module": "@jupyter-widgets/controls",
          "model_name": "FloatSliderModel",
          "state": {
            "_view_name": "FloatSliderView",
            "style": "IPY_MODEL_8ca87d421ac945cc8c977bc9bd2b01d7",
            "_dom_classes": [],
            "description": "p(fish | s = right)",
            "step": 0.01,
            "_model_name": "FloatSliderModel",
            "orientation": "horizontal",
            "max": 0.99,
            "_view_module": "@jupyter-widgets/controls",
            "_model_module_version": "1.5.0",
            "value": 0.1,
            "_view_count": null,
            "disabled": false,
            "_view_module_version": "1.5.0",
            "min": 0.01,
            "continuous_update": true,
            "readout_format": ".2f",
            "description_tooltip": null,
            "readout": true,
            "_model_module": "@jupyter-widgets/controls",
            "layout": "IPY_MODEL_90361b3784584394bf2a5139ac5933ce"
          }
        },
        "7afaacb2be2a4a349b62c5b0f0d8ee75": {
          "model_module": "@jupyter-widgets/controls",
          "model_name": "CheckboxModel",
          "state": {
            "_view_name": "CheckboxView",
            "style": "IPY_MODEL_d88d7a910c4846f69f7788fdee0693e3",
            "_dom_classes": [],
            "description": "Observed fish (m)",
            "_model_name": "CheckboxModel",
            "_view_module": "@jupyter-widgets/controls",
            "_model_module_version": "1.5.0",
            "value": false,
            "_view_count": null,
            "disabled": false,
            "_view_module_version": "1.5.0",
            "indent": false,
            "description_tooltip": null,
            "_model_module": "@jupyter-widgets/controls",
            "layout": "IPY_MODEL_c509a8f6460b4833adbc1852e41256f5"
          }
        },
        "0138a74c967247929fc6adaf21df73ac": {
          "model_module": "@jupyter-widgets/output",
          "model_name": "OutputModel",
          "state": {
            "_view_name": "OutputView",
            "msg_id": "",
            "_dom_classes": [],
            "_model_name": "OutputModel",
            "outputs": [
              {
                "output_type": "display_data",
                "metadata": {
                  "tags": [],
                  "image/png": {
                    "width": 689,
                    "height": 310
                  },
                  "needs_background": "light"
                },
                "image/png": "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\n",
                "text/plain": "<Figure size 720x288 with 3 Axes>"
              }
            ],
            "_view_module": "@jupyter-widgets/output",
            "_model_module_version": "1.0.0",
            "_view_count": null,
            "_view_module_version": "1.0.0",
            "layout": "IPY_MODEL_9de7bcb9e2d445d68a467779f0d9d4ba",
            "_model_module": "@jupyter-widgets/output"
          }
        },
        "d16b8bb21651496d9378b624e28f43ff": {
          "model_module": "@jupyter-widgets/controls",
          "model_name": "SliderStyleModel",
          "state": {
            "_view_name": "StyleView",
            "handle_color": null,
            "_model_name": "SliderStyleModel",
            "description_width": "",
            "_view_module": "@jupyter-widgets/base",
            "_model_module_version": "1.5.0",
            "_view_count": null,
            "_view_module_version": "1.2.0",
            "_model_module": "@jupyter-widgets/controls"
          }
        },
        "66c71b3ec8db47c28a428b979576fef4": {
          "model_module": "@jupyter-widgets/base",
          "model_name": "LayoutModel",
          "state": {
            "_view_name": "LayoutView",
            "grid_template_rows": null,
            "right": null,
            "justify_content": null,
            "_view_module": "@jupyter-widgets/base",
            "overflow": null,
            "_model_module_version": "1.2.0",
            "_view_count": null,
            "flex_flow": null,
            "width": null,
            "min_width": null,
            "border": null,
            "align_items": null,
            "bottom": null,
            "_model_module": "@jupyter-widgets/base",
            "top": null,
            "grid_column": null,
            "overflow_y": null,
            "overflow_x": null,
            "grid_auto_flow": null,
            "grid_area": null,
            "grid_template_columns": null,
            "flex": null,
            "_model_name": "LayoutModel",
            "justify_items": null,
            "grid_row": null,
            "max_height": null,
            "align_content": null,
            "visibility": null,
            "align_self": null,
            "height": null,
            "min_height": null,
            "padding": null,
            "grid_auto_rows": null,
            "grid_gap": null,
            "max_width": null,
            "order": null,
            "_view_module_version": "1.2.0",
            "grid_template_areas": null,
            "object_position": null,
            "object_fit": null,
            "grid_auto_columns": null,
            "margin": null,
            "display": null,
            "left": null
          }
        },
        "a5606d42472843c8b6999ce9dd456282": {
          "model_module": "@jupyter-widgets/controls",
          "model_name": "SliderStyleModel",
          "state": {
            "_view_name": "StyleView",
            "handle_color": null,
            "_model_name": "SliderStyleModel",
            "description_width": "initial",
            "_view_module": "@jupyter-widgets/base",
            "_model_module_version": "1.5.0",
            "_view_count": null,
            "_view_module_version": "1.2.0",
            "_model_module": "@jupyter-widgets/controls"
          }
        },
        "4227a2b70cbb469bad4a85c471ccbed2": {
          "model_module": "@jupyter-widgets/base",
          "model_name": "LayoutModel",
          "state": {
            "_view_name": "LayoutView",
            "grid_template_rows": null,
            "right": null,
            "justify_content": null,
            "_view_module": "@jupyter-widgets/base",
            "overflow": null,
            "_model_module_version": "1.2.0",
            "_view_count": null,
            "flex_flow": null,
            "width": null,
            "min_width": null,
            "border": null,
            "align_items": null,
            "bottom": null,
            "_model_module": "@jupyter-widgets/base",
            "top": null,
            "grid_column": null,
            "overflow_y": null,
            "overflow_x": null,
            "grid_auto_flow": null,
            "grid_area": null,
            "grid_template_columns": null,
            "flex": null,
            "_model_name": "LayoutModel",
            "justify_items": null,
            "grid_row": null,
            "max_height": null,
            "align_content": null,
            "visibility": null,
            "align_self": null,
            "height": null,
            "min_height": null,
            "padding": null,
            "grid_auto_rows": null,
            "grid_gap": null,
            "max_width": null,
            "order": null,
            "_view_module_version": "1.2.0",
            "grid_template_areas": null,
            "object_position": null,
            "object_fit": null,
            "grid_auto_columns": null,
            "margin": null,
            "display": null,
            "left": null
          }
        },
        "8ca87d421ac945cc8c977bc9bd2b01d7": {
          "model_module": "@jupyter-widgets/controls",
          "model_name": "SliderStyleModel",
          "state": {
            "_view_name": "StyleView",
            "handle_color": null,
            "_model_name": "SliderStyleModel",
            "description_width": "initial",
            "_view_module": "@jupyter-widgets/base",
            "_model_module_version": "1.5.0",
            "_view_count": null,
            "_view_module_version": "1.2.0",
            "_model_module": "@jupyter-widgets/controls"
          }
        },
        "90361b3784584394bf2a5139ac5933ce": {
          "model_module": "@jupyter-widgets/base",
          "model_name": "LayoutModel",
          "state": {
            "_view_name": "LayoutView",
            "grid_template_rows": null,
            "right": null,
            "justify_content": null,
            "_view_module": "@jupyter-widgets/base",
            "overflow": null,
            "_model_module_version": "1.2.0",
            "_view_count": null,
            "flex_flow": null,
            "width": null,
            "min_width": null,
            "border": null,
            "align_items": null,
            "bottom": null,
            "_model_module": "@jupyter-widgets/base",
            "top": null,
            "grid_column": null,
            "overflow_y": null,
            "overflow_x": null,
            "grid_auto_flow": null,
            "grid_area": null,
            "grid_template_columns": null,
            "flex": null,
            "_model_name": "LayoutModel",
            "justify_items": null,
            "grid_row": null,
            "max_height": null,
            "align_content": null,
            "visibility": null,
            "align_self": null,
            "height": null,
            "min_height": null,
            "padding": null,
            "grid_auto_rows": null,
            "grid_gap": null,
            "max_width": null,
            "order": null,
            "_view_module_version": "1.2.0",
            "grid_template_areas": null,
            "object_position": null,
            "object_fit": null,
            "grid_auto_columns": null,
            "margin": null,
            "display": null,
            "left": null
          }
        },
        "d88d7a910c4846f69f7788fdee0693e3": {
          "model_module": "@jupyter-widgets/controls",
          "model_name": "DescriptionStyleModel",
          "state": {
            "_view_name": "StyleView",
            "_model_name": "DescriptionStyleModel",
            "description_width": "",
            "_view_module": "@jupyter-widgets/base",
            "_model_module_version": "1.5.0",
            "_view_count": null,
            "_view_module_version": "1.2.0",
            "_model_module": "@jupyter-widgets/controls"
          }
        },
        "c509a8f6460b4833adbc1852e41256f5": {
          "model_module": "@jupyter-widgets/base",
          "model_name": "LayoutModel",
          "state": {
            "_view_name": "LayoutView",
            "grid_template_rows": null,
            "right": null,
            "justify_content": null,
            "_view_module": "@jupyter-widgets/base",
            "overflow": null,
            "_model_module_version": "1.2.0",
            "_view_count": null,
            "flex_flow": null,
            "width": "max-content",
            "min_width": null,
            "border": null,
            "align_items": null,
            "bottom": null,
            "_model_module": "@jupyter-widgets/base",
            "top": null,
            "grid_column": null,
            "overflow_y": null,
            "overflow_x": null,
            "grid_auto_flow": null,
            "grid_area": null,
            "grid_template_columns": null,
            "flex": null,
            "_model_name": "LayoutModel",
            "justify_items": null,
            "grid_row": null,
            "max_height": null,
            "align_content": null,
            "visibility": null,
            "align_self": null,
            "height": null,
            "min_height": null,
            "padding": null,
            "grid_auto_rows": null,
            "grid_gap": null,
            "max_width": null,
            "order": null,
            "_view_module_version": "1.2.0",
            "grid_template_areas": null,
            "object_position": null,
            "object_fit": null,
            "grid_auto_columns": null,
            "margin": null,
            "display": null,
            "left": null
          }
        },
        "9de7bcb9e2d445d68a467779f0d9d4ba": {
          "model_module": "@jupyter-widgets/base",
          "model_name": "LayoutModel",
          "state": {
            "_view_name": "LayoutView",
            "grid_template_rows": null,
            "right": null,
            "justify_content": null,
            "_view_module": "@jupyter-widgets/base",
            "overflow": null,
            "_model_module_version": "1.2.0",
            "_view_count": null,
            "flex_flow": null,
            "width": null,
            "min_width": null,
            "border": null,
            "align_items": null,
            "bottom": null,
            "_model_module": "@jupyter-widgets/base",
            "top": null,
            "grid_column": null,
            "overflow_y": null,
            "overflow_x": null,
            "grid_auto_flow": null,
            "grid_area": null,
            "grid_template_columns": null,
            "flex": null,
            "_model_name": "LayoutModel",
            "justify_items": null,
            "grid_row": null,
            "max_height": null,
            "align_content": null,
            "visibility": null,
            "align_self": null,
            "height": null,
            "min_height": null,
            "padding": null,
            "grid_auto_rows": null,
            "grid_gap": null,
            "max_width": null,
            "order": null,
            "_view_module_version": "1.2.0",
            "grid_template_areas": null,
            "object_position": null,
            "object_fit": null,
            "grid_auto_columns": null,
            "margin": null,
            "display": null,
            "left": null
          }
        },
        "10b22660599b440393c70444b1239b0a": {
          "model_module": "@jupyter-widgets/controls",
          "model_name": "VBoxModel",
          "state": {
            "_view_name": "VBoxView",
            "_dom_classes": [
              "widget-interact"
            ],
            "_model_name": "VBoxModel",
            "_view_module": "@jupyter-widgets/controls",
            "_model_module_version": "1.5.0",
            "_view_count": null,
            "_view_module_version": "1.5.0",
            "box_style": "",
            "layout": "IPY_MODEL_d2c61d1b790c4bdc8d9f5e4d20296653",
            "_model_module": "@jupyter-widgets/controls",
            "children": [
              "IPY_MODEL_fda58b8494dd47f7801a0b53b65d50e7",
              "IPY_MODEL_836556efe14845d3b04635056f5818ed",
              "IPY_MODEL_34953b40bcb34fdd813c89d6bfe44f8e",
              "IPY_MODEL_b4026a46005142538d39b192b22fda92",
              "IPY_MODEL_90b2f9de8d9e4cbb83f5fd81f1d20f5b"
            ]
          }
        },
        "d2c61d1b790c4bdc8d9f5e4d20296653": {
          "model_module": "@jupyter-widgets/base",
          "model_name": "LayoutModel",
          "state": {
            "_view_name": "LayoutView",
            "grid_template_rows": null,
            "right": null,
            "justify_content": null,
            "_view_module": "@jupyter-widgets/base",
            "overflow": null,
            "_model_module_version": "1.2.0",
            "_view_count": null,
            "flex_flow": null,
            "width": null,
            "min_width": null,
            "border": null,
            "align_items": null,
            "bottom": null,
            "_model_module": "@jupyter-widgets/base",
            "top": null,
            "grid_column": null,
            "overflow_y": null,
            "overflow_x": null,
            "grid_auto_flow": null,
            "grid_area": null,
            "grid_template_columns": null,
            "flex": null,
            "_model_name": "LayoutModel",
            "justify_items": null,
            "grid_row": null,
            "max_height": null,
            "align_content": null,
            "visibility": null,
            "align_self": null,
            "height": null,
            "min_height": null,
            "padding": null,
            "grid_auto_rows": null,
            "grid_gap": null,
            "max_width": null,
            "order": null,
            "_view_module_version": "1.2.0",
            "grid_template_areas": null,
            "object_position": null,
            "object_fit": null,
            "grid_auto_columns": null,
            "margin": null,
            "display": null,
            "left": null
          }
        },
        "fda58b8494dd47f7801a0b53b65d50e7": {
          "model_module": "@jupyter-widgets/controls",
          "model_name": "FloatSliderModel",
          "state": {
            "_view_name": "FloatSliderView",
            "style": "IPY_MODEL_00c433e0dc884a589b1184d4b701697e",
            "_dom_classes": [],
            "description": "p(s)",
            "step": 0.01,
            "_model_name": "FloatSliderModel",
            "orientation": "horizontal",
            "max": 0.99,
            "_view_module": "@jupyter-widgets/controls",
            "_model_module_version": "1.5.0",
            "value": 0.3,
            "_view_count": null,
            "disabled": false,
            "_view_module_version": "1.5.0",
            "min": 0.01,
            "continuous_update": true,
            "readout_format": ".2f",
            "description_tooltip": null,
            "readout": true,
            "_model_module": "@jupyter-widgets/controls",
            "layout": "IPY_MODEL_e66babb4b05f42b7a53776707a7991bd"
          }
        },
        "836556efe14845d3b04635056f5818ed": {
          "model_module": "@jupyter-widgets/controls",
          "model_name": "FloatSliderModel",
          "state": {
            "_view_name": "FloatSliderView",
            "style": "IPY_MODEL_03d2019692054194b1b8fef3a830202b",
            "_dom_classes": [],
            "description": "p(fish | s = left)",
            "step": 0.01,
            "_model_name": "FloatSliderModel",
            "orientation": "horizontal",
            "max": 0.99,
            "_view_module": "@jupyter-widgets/controls",
            "_model_module_version": "1.5.0",
            "value": 0.82,
            "_view_count": null,
            "disabled": false,
            "_view_module_version": "1.5.0",
            "min": 0.01,
            "continuous_update": true,
            "readout_format": ".2f",
            "description_tooltip": null,
            "readout": true,
            "_model_module": "@jupyter-widgets/controls",
            "layout": "IPY_MODEL_eda25df0e78649a68c61c7cb2168da83"
          }
        },
        "34953b40bcb34fdd813c89d6bfe44f8e": {
          "model_module": "@jupyter-widgets/controls",
          "model_name": "FloatSliderModel",
          "state": {
            "_view_name": "FloatSliderView",
            "style": "IPY_MODEL_b88689f58171409585a636fd0a433d5a",
            "_dom_classes": [],
            "description": "p(fish | s = right)",
            "step": 0.01,
            "_model_name": "FloatSliderModel",
            "orientation": "horizontal",
            "max": 0.99,
            "_view_module": "@jupyter-widgets/controls",
            "_model_module_version": "1.5.0",
            "value": 0.79,
            "_view_count": null,
            "disabled": false,
            "_view_module_version": "1.5.0",
            "min": 0.01,
            "continuous_update": true,
            "readout_format": ".2f",
            "description_tooltip": null,
            "readout": true,
            "_model_module": "@jupyter-widgets/controls",
            "layout": "IPY_MODEL_bd9cc505d4e14c75aea4af510112dede"
          }
        },
        "b4026a46005142538d39b192b22fda92": {
          "model_module": "@jupyter-widgets/controls",
          "model_name": "CheckboxModel",
          "state": {
            "_view_name": "CheckboxView",
            "style": "IPY_MODEL_e6c5adfe17284b0a9670fbfd1b1daa61",
            "_dom_classes": [],
            "description": "Observed fish (m)",
            "_model_name": "CheckboxModel",
            "_view_module": "@jupyter-widgets/controls",
            "_model_module_version": "1.5.0",
            "value": false,
            "_view_count": null,
            "disabled": false,
            "_view_module_version": "1.5.0",
            "indent": false,
            "description_tooltip": null,
            "_model_module": "@jupyter-widgets/controls",
            "layout": "IPY_MODEL_b3e18393b98942e9992c4f880e9fe80b"
          }
        },
        "90b2f9de8d9e4cbb83f5fd81f1d20f5b": {
          "model_module": "@jupyter-widgets/output",
          "model_name": "OutputModel",
          "state": {
            "_view_name": "OutputView",
            "msg_id": "",
            "_dom_classes": [],
            "_model_name": "OutputModel",
            "outputs": [
              {
                "output_type": "display_data",
                "metadata": {
                  "tags": [],
                  "image/png": {
                    "width": 1083,
                    "height": 303
                  },
                  "needs_background": "light"
                },
                "image/png": "iVBORw0KGgoAAAANSUhEUgAACHcAAAJeCAYAAAA0xnsYAAAABHNCSVQICAgIfAhkiAAAAAlwSFlzAAAWJQAAFiUBSVIk8AAAADh0RVh0U29mdHdhcmUAbWF0cGxvdGxpYiB2ZXJzaW9uMy4yLjIsIGh0dHA6Ly9tYXRwbG90bGliLm9yZy+WH4yJAAAgAElEQVR4nOzdd7wkRbn/8e+XjOQcRFhJSlBQCQYkGBAjIigoF1lEAUGvOXORcOViVlSiwIr8ACMooGKABUQUEEmCisiCSI6SWZbn90fVODWzE3rmzDkz55zP+/Wa13b3VFdXTzg7Xf3UU44IAQAAAAAAAAAAAAAAYDQtMOwGAAAAAAAAAAAAAAAAoD2COwAAAAAAAAAAAAAAAEYYwR0AAAAAAAAAAAAAAAAjjOAOAAAAAAAAAAAAAACAEUZwBwAAAAAAAAAAAAAAwAgjuAMAAAAAAAAAAAAAAGCEEdwBAAAAAAAAAAAAAAAwwgjuAAAAAAAAAAAAAAAAGGEEdwAAAAAAAAAAAAAAAIwwgjsAAAAAAAAAAAAAAABGGMEdAAAAAAAAAAAAAAAAI4zgDgAAAAAAAAAAAAAAgBFGcAcAAAAAAAAAAAAAAMAII7hjhNmeZTvyY9aw2zNV2P5Jfk2fsr3BOB9rIdt/y8e7w/bS43k8AAAAAAAAAAAAAPObLvdebc8sznPORJXD+CO4o2D74OKD2erxtO0Hbf/D9pm2P2J75WG3G9XZfp2kN+XVEyPi+vE8XkQ8JenTeXUVSYeM5/EAAAAAdGd72/Jab9jtmSps71S8rocPuz2tNF33Hzzs9owH29sU53j0sNsDAAAAtFLhnlyVx4xhnwcATCSCO3pjSUtLerakHSV9SdI/bR9ie6Ghtgxd2V5Q0pfz6lxJh03EcSPih5Kuyqvvs73ORBwXAAAA44fAcKCR7cUlfTWv3iPpiCE2Z1qLiAsknZNX97H9gmG2BwAAAMDUYHtO0e8xc9jtmQ6a+p9mD7s93ZDhY/wRkNDZuU3rC0haXtLGkhbN2xaRdJCkDWzvGhGM+hpd75T03Lx8SkT8cwKPfYSk05S+c4dK2n0Cjw0AAICJVwsML4PDD7d9hKTDcoa3SSV33JyUV2+OiBnDaw1G0IclrZWXvxwR/x5mY6CDJL1eqR/jK5K2G25zAAAAgK6a78lV8djAWwEAI4zgjg4iYodW2/OIpP0kHS5psbz5rZIukPStAR5/pqSZg6pvOrO9gKTPFJu+NsFN+IFSppdnStrN9mcj4u8T3AYAAACMHwLDMW3ZXk7SR/Pqg5KOGmJzICkirrB9rqTXSNrW9qsj4lfDbhcAAADQTrt7cgB6FxGzJM0a1frQP6Zl6UNEPBYRX5X0Zkllh+yBOYgAo2dHSbXpUH4fEVdP5MEjYp7qoxwXkPTBiTw+AAAAxldE7ND02D4iNpO0nFJGg8eL4m+VtP9QGgpJUkTMjgjXHsNuzxTwfknL5uUTydoxMspBDf8ztFYAAAAAAICBIBBhDCLiXElnFZtWlfSiITUHnZWd5ycPqQ3lcfe0vcSQ2gEAAIAJQmA4pjrbi0o6oNh03LDagvn8UtLNefnltumvAAAAAABgEqMzcezOalrfpFyxPct25MesYvvLbR9t+1rb9+bn51TZtxPbi9p+l+0f2f6H7YdtP2L7Jttn2H637cW61yTZnl0c/+Bi++tsn2z7L7YfyM/PrlJnm+PMLI4zp9i+nu0jbF+ZX6NHbd9g+3jbL+6h/jUkvSKvPi3pxz3su7HtL9j+ne27bT+ZH/fZvsb2j21/wvYG3eqKiBskXZVXl5T0lqrtAAAAwORGYDimsF0krZyXL42IvwyzMaiLiKclnVJsOqBdWQAAAGAqsL1lvodTu+d0QsX9flTs85jt57coM989Myevt/0D23/P97HusX2p7U/bXrHP89ja9tds/8n2nfmc7rJ9Wb5v9tw+632e7UNtX2T7n/lcH7N9q+1f2z7Y9gua9tm2dt6S1iqeOql4PRoewzg/2zNsH277qnzv8qF8H3OW7a17ra/HY/dzP7flvdHi+Tn5tfxssXmbdq+57Zm91N+rCu2dndt7UrF5rQ7tPTjvt3OxbZ7tNXto05K2/13sPy1mTSC4Y+z+2bTe8Q+17SVsnyTpQkn7SdpIaS7uMbO9g6S/SjpBKXDg2ZKWkPQMSTOURgseL+lvtl/fR/0r2T5H0jmS9pD0HEnLDKLtLY51gKRrJX1CKWBmeUmLS1pX0rsl/c72UbYXqlDdzqp/1v8YEXdWOP5Ctr8l6WpJH5P0EqX3duH8WE5p/vSdJB0h6TrbG1Zoy8+K5bdVKA8AAICpo2NgeMn283OHxuVNHR1/dAo+fkG7fdvUt4rtj9n+Ze60edT23HwRfIPtc21/zvY2bsoo0u8Feoe2LGf7fbbP9vwB6T+0/c4qv/PLDqay88j26rY/bvvifK5zc5ltu+1b4Zgvs32k7audOuyesH277UtsH2J73Yr1tAtwXzfXc1mu96lcZkbVNrY4VvnebJu3PcMp8P83Th16j9v+V/587G174R4OsWex/IMe2rWM7ffaPsup0+rhfL4P5c/Ceba/5DS4oJf2DIVTR2L5Ws/I25fJn/cL82v8pO07bJ9p+9Ud6vpi/pw97NTZeqPtY6p+xgo/LJZ3sf2M/s4QAAAAGH0R8QdJBxab3mV7t0772N5fjYNxPxIRV3c7lu3lJP1U0tlKQe/rKN3HWkHS5pI+J+l622+q2v58TfhrSRdI+oCkTZWC6ReWtJKkzZTum11r++tVrp1zvavY/oHSAOT/kbSVpDUkLZYfz5T0SqVAgiu6Xdf3axzPbz9Jf5b0KUnPV7p3uaTSfcw9JV3gNHC80uB3TKifSLotLy+gdA+4qndIWiovPybpOwNs18iq9KVAR82dTE92KGtJ/0/Sjnn9YUnXS3pU0pr5+b7YfqekEyUtWGx+INcfSn/AVsjbnyXpJ7bfExEnqZpFlYI6Ns/r90n6m6S5ktbut92t2N5H0jfz6lNKQR4PKLV7nVoxSe+VtKLt3fKIpHbKQJbzKzbjGEl7N237h6Rblc55KaXgmZWK56sES52v9J+LJL3C9mIR8XinHQAAADBldA0Md5q675uS3qn5f1+ulB8vlPRR26dI2j8iHu50UNvvlvRVpY6NZkvlx7qStpf0aaXR/Ud1O5l+2P6QpIMkLdvi6Rn5sbPStDV75I65Xup/h6SjJS09tpbOV+/Kkr4t6Y0tnl41P14s6VO2vyHpExHxVI/H+LCk/5O0yBib2+04Gyvd8H9O01Or58erJf237V27ZeGwvbzqWRKlxmD2Tvu9Sen1XKnF00vmxwxJ20n6iKQvSvp4lbpHie2XSDpd6Xq/tIpSv8COtg+PiM8U+7xP0peUrsFLa0vaV9LM/N2oFEgTEVfavl3Sakrf9ddK+lE/5wMAAABMEl9Uuk55TV4/1valEfGP5oK2nyfpy8WmMyKiyvXwgko3pV+e1+9Tuh+3gKTnKg0QltJ1/49svzUizuxUYb5+OEv1e3lSumF9naQHlQZBb6x0b3dBSf8taT3bb+p0/ZnP8Ryle2ylm5XueT2ldI2ynur3GMtr9vsknZuXt1EKBpHSvbt/dTqnCTq/Dyr1eZTuVLqHuYjSIPsllYIGFlc638ngAqX3ZV3V743eL+nSNuUrvxfj5FJJjysFCm2ctz2udB6t/F2SIuIp28ernqFkb9uHVuxT2bdY/n5E3N97sycfgjvGrnk6jk5ZIXZS6ky5V9JHJZ0aEf8JBuljBE5tv02UMnLU/ujeL+lDuf65ucxCSpkijlT6w7mg0n9oV0bEnyoc5oDc9puVounOjoh5Y217CytI+npePk7SgRFxd3GcTSUdK2mLvOmtki4u9mmQz3urYlO7P3rlPpuqMbDjO5L+JyKaO+PllB7oDZL26VZvi+M/Q6kDeHbFfQEAADC5dQwMt72sUofJFk3lrle6zlhJ0oZKgc5Wyqa3ge3t213A2t5D6VqhdKekG5WCzJdQuum7lurB5s1BJX1doDe1YyGlDIPvbHrqZkm35OX1lIIkasvn506cX7c5TvMx3qIUTC+lAPfa67a8UudaX/Jv/t8odajUzFMaFXSf0uuyXt6+sKQPK70vO0XEExWP8WHVOxTnKXWS3ac0gqnvtrfwTEnfVz2o4mZJc5Q6up6nemDJ85Ve/63z9JLt7KD6dehdEXFdtwbY3k4puKDsj7hP0g2SHlLqbFtFKZih9lmcjFlHN1YK7FhCaXrQ6yTdrfSeblSU+7Tt2yPim7Y/qtQRLaXv2LVKr8k6qgeILCrpVNs3RMSVFdtyvtKIJikNfiC4AwAAAFNWREQeEH2V0jXm0pJOt/2y2j0zKWU0lPQ91YMVbtH8g37b2Vfpuup+pXtmp9VuRufMg3soBRwsrXTtc7LtDSPi1laV2V5DKQtILfDhn0oZLH7UdB9xOUmfVMo4b6Xg7YPVmK2krHcFpYCKMrBjlqTDm6/18mCT1yq9Bv/JcJmzmOyQy8xRfWqWL0fErFbHncDz20KNwTm3Kd3P/GltULjtxZUGix8uaXel67KRFxF7SlLOolILfLg6InYYWqM6iIiPSylTqeqZX++s2N7jJH1G6buyutJ9127BUJspDX6qOabHJk9ak7GDZGTYtuodJDWXdNhlKUmPSNo2ImaVf7AkKSLm6wSt6GjVO+EekfSqiPhO+Z9URDwVEacqpVV6KG9eWOkLU8VSSlFfL4uIn5SBHWNse7Mllf4j/WJE7FsGduTjXKkUcXl5sflz+T+oVjZW6hys6ZpKS+mPRs3FETGzVWBHbs8tEXFURGyq1HncUUQ8qNR5WrN5m6IAAACYeroFhh+jxsCOn0paOyI2jIjtImJjpWwG5Y3ZzdTmN30OqCg7OS6VtEVErBoRL4uIV0fESyPi2UqjinZVGs3TkBUvIj6eL8bLuu6MiB3aPE5p0Zz/VWNgx0mS1ouIGRGxdX6spvRbv/a7enGlm9irtTq/Fmblf4+X9MyI2CgiXpF/q6+uatcCDWwvKOk0NQZ2fDvXv0l+X9ZXullfBru8VikFbxUrS/q80ut+uKSVImLT3PaNlW7qd51asqKvKnVA/lnSVvn13zYiNlMKqPii6p14qyq9/gu2rkpSyqxR0zWQPvuK6oEdNyhdo64YES/On8mtImI9pWvQNyq9/nNbVzXSZikFdpwoaY2IeF7xnm6sNKVqzUF5ipbPS3pCqSNzhYjYPO+zltJgkUdz+ebvdjdlBpxXtC0FAAAATBERcZdSgEXt+nZzpeut0pGqX6fPk7R7DyP/V1LKOrF9RHy3zDIQEXMj4kSlwOratcxSqgdyt3K86tk9r5G0aUSc1uI+4v0R8QlJ+xWbP277mW3q/arqwRiStHdE7NUqiD8iHomIH0bEa5Wmbhmk8Tq/b6p+r/s+pfuvZ5bZ/iPisYj4iqTdlK53W2WQxBBFxG1KmXBq9m1Xtk2ZqyPi94Nt1egiuGNsDlGaD6rmj63SOjU5LCKuHVQDcmTSS4pNh0bEFe3KR8RVSlFuNZvZflnFw30kIiYirc8NShFaLUXEI0qRg7U/zkuocZ7n0obF8tOSbqpw/DKC8bcVytfaNa97KUmNIxk3blsKAAAAU0a3wHDb2ysFV9ScKunNEdHw+zUiblHKXndysXkX2+VUhDUvVr3T4mFJO0TEZa3aFxEPRsT3I+INSpnyBsb2i9U4pcY+EfGuVgHiEXG+0vVNLcBjJbUZodPCUpIOiYh9IuL2pnrvi4j7em+99pb00mL9iIh4T0Q0BFvkjBXbK2X4qPlwTn/bzeJKN+v3jojPNHcmRsRtEfFYH21vZSWloIKtI+LipuM8kEfafLLYvJk6z3dbBqtXmZN6DdWvoUPSGyLivIiI5rIR8WhEnB0R71D1z8AoWUHp87J3i8/jnyW9WfV0wCspzdNtSTtFxJci4tGmfc5UytBZs53tspO2k6uK5bVs05kJAACAkWM7enx8rVN9kbJAfr7Y9BHbtQwUu6oxS8chEVH5flD2hYi4vN2Tub4ji007216luVzOJl/LbjBX0tu6Xb9GxHGSzsurC6vFzXDbz1ZjP8TROeikq+gy/WsvxvH8NlfjNelnWgWtFHWeqdTXgtFUToe0ve0Z7QraXkopWKdm2mTtkAju6ImTFWzvYPscNUauPa2UQqiTeUqjvAbpLcXyo0pZPLo5Vqlzt2anCvvco4lL3XpsFFlHWomUBqocGbdzm6LPLpbvjGpzNJUdpy+oUL5XZdqtGeNQPwAAAEZPt8DwDxTLd0p6b6sb3lJKMauUZvS2YvMHWxQtg5b/XHUEUg9By1V9UvUpX74bEc3TxDQf/0E1dtzMzBfu3fxZ0mH9NbGt/y6Wr1GH0Ut5xNFeqmdXcNP+nfwiKqazHYD9unSkfVFSGQR0QKtCOWCpnDKmSjbH8jN5V0T8rcI+4/GZnAh/U+fPy1+UpkupWUTSSRHx8w51nqz6tbwlVR2o0fzeMMgAAAAA08VBkn6Xly3pO7ZfqsYMmLNVPfNizTw13oxu5xuqZ0dcWNKbWpSZWSyfna8VqvhOsfyqFs/vqvo0mnM1+OvlqmYWy4M8v/L+6EOqZ/Ps5MjuRTAMEXGepNpnYwFJ7+lQfHelmSCkdI3cKoPslEVwRwfNUYBKARz3SPq5pNcVRZ+W9N8R8ZtW9RSui4h7B9zMMmvHBRHxUNuSWc58Uc5b/ZJ2ZQuXVAyMGIROnVmlc4rlF+Z5zJqVI5KqjtQrOzK3t/012yu2Ld27slN95QHWCwAAgBHRS2B4nud3++L54yPi353qz6Noygwbr7C9dFOxMmh5/Tx/7oSyvbzS1Bo1X6qyX0RcpHrWvWeo2jXLtwcZBGC7Nt1Kzde7XRNFms7xe8WmN1c83ECzpXRwbUTM7lQgBw99s9j0PNvrtSi6uqRFi/UqWR7Lz+TKHVLrTgUnVriGbk4b23Ha1Ih4XNKVxaYN25VtcodS53PNjIr7AQAAABPp3B4f17eupi7/Jn+HpAfyppUlXSSpdv18j9J0LE+32L2TK/LUL92Of7PSQISaLVsU26ZY/lUPbSgz9L0oB+C3q/e3zRkFJ9B4nV/5Ws7O10sdRcSlSu85RlOZwOBdebrhVsoBQadVuTc+lbR7UVDdpUrTlVRJ19RtypZ+lHM/X9W21PyuVr2jcd1OBbPxaHsrc9U493An1xTLiymNAmtuZ9mBXTWV8Q8lHSpp7bz+AUn7275QaWTVJZL+kINk+lGm153wDnYAAAAMXg4Gr6JVYPjmarw2O6tiXT9RyggipcD9LdXYUXK50gghS1pO0k9sv6+HUTKD8HLVBxXclTPwVXWV6pn4NpP0yy7lL+yxbd00B5T08r7slZdXtL1ep9Sw2aDb3k4/gfRS+mw1n0Pz1B5Vgumvl/SI0nWQJZ1te5920wVNcpd0L6I7iuUnJf2xwj5lh+xyVRoSEfNs/7sozyADAAAAjJyI2KF7qb7qvdn23qpnpy8Hvs+MiNta7NbNNd2LNJStZc9bv3wiByyUmfXebXvHivUuXiwvohSw8mCxbYNiue30MeNpnM+vfC17fT+266E8Js53JB2u1GewqqQd1TSrhO0t1JgZd1pNySIR3NHNuU3rTyul9rlPKTjiwjxXblUdR9/1qezMubuH/cqyVTqExqPtrTzQw2i75iwo3c6jOaqvpYh4Is9ZfrakdfLmhSW9Mj8kaa7tSySdLunkHgM9KrUDAAAAU067wPAy2DqUrjWquE7SU6pf162rIrgjIm61fZrqc+y+UtL1tq/M5X6nlKHvzp7OojfPL5YXs/2LHvZ9XrHcHEjQyqAD0sv35Y4qo7Ky5vdvXc0fGFF6sNt8wwNUqcMrIu61fbuk1fKm9VsUaw5U7xpMn6+1vi7p03nTppIutf03pevvi5U+k7dUaeeIu6N7kYbA/3srZsss93lGD+15VPVrZgYZAAAAYFqJiB/bni1p22LzCRHRHNheVS9Z+suyzfexllHjvdoX9tmeWl1l8MPyxXLV69lBG8/zK1/Lft8PjJCIeND2qapPybKvmoI7JO1TLF8WEVdMSONGCMEdHYxDlGCvaZ2qKNPgPtnDfk8UywvbXrBLUMV4tL2Vfs9Banwtasqgi8VbPN9SRPzF9sZKfzjepcZOaSkFe2ydHwfb3i8izqhYfdmOfrN/AAAAYLSMJTC87JB4uEoqUUmKiLm2H5S0Qot6avbLz7+m2LapilEOtv+slL3u2xFxa5Vj92CFYnnppnb0YpkKZQYdkD6IQPrmelqZqEB6qfcOr1pwR5UBAVWD2D8r6ZmS9iy2rZ8f75ck2zdKOkPpM1k1s+Oo6eXatp/yUm8DBxhkAAAAgGnL9vZqnB5Ekl5te7mIuL+PKvu9l9V8H2uQgdcLNK0vVixX6mcYB+N5fosUy2O5t4jRcpTqwR2vsr1ORNwoSXk64t2KshM1xe1Iaf4iYPJ5oFheqof9yvm4Hxrk3NRj1O85SI0RezVlx+ryLZ5vKyIej4ivR8QmSp2Pb1eae7q5U35lST/M2T6qGIVoSQAAAAxQROzQ9HhdROwaEe+NiKO7ZPzrN2BbauyUWKz5yYh4KAetv0XSr5UyfTTbSOmG+99tf9b2IK8TB9WR07VNfcyR3M0gAumlFu9Lk4kKpJcG1wEpzR+oXimYPiKeioiZkl6hNIVNq461dSR9VNJ1tr9lu9Xx0RsGGQAAAGBasr2KpJM1f8DzmpKO77Pafu9lNd/HeqBp/S0R4T4fc5rqKoNWqgyYGA/jeX7lQImx3FsclgWH3YBRFBFXqj7NqVUP9JCk/1K9n+lBSadNYNNGBsEdk18ZHLBO21LzK8uOUoDB0rarBmGs3bTe6jxuKpZXtr1wP42KiNsi4vSIeH9EbKz0+n1V9Y7YBfJ6FWsUy3P6aQ8AAACmlH4DtqXGTonmTpP/iIgzIuLVSoHGr5P0OUm/VWOwx6KSDpb0fz22oZOyTVePoRNn5gDb1E/bx9JR1PZ9GYJBdUBK82co6TWY/vyIeLNSVpBXSjpIKQCpHFG2gKT9lTpi0SfbC6rx/RylPgAAAABg3Ni2pO9KWiVvelDS4UWRnW3v20fVz+6hbHkvq2Fa1Ih4RNLDxaZVNDi3F8vPGWC9lY3z+ZWvZb/vx6CUAymq3oeskiFzujqqWN6ruLdbTsny3Ygopy2dNgjumPz+WCy/tIf9yrKXD6gtg7JlH+VuiYhWqZLLEZILaEB/tCPiHxHxYTV2fK9nu8p/IOXc3ZXmvAYAAMCUVt5oXcT2Gm1LFmyvLGnJNvW0lDN5/DwiDoyIlytlofuAGkf0fNj2mlXaUMEdxfIgO3EmQvl6rmm76rSmzUH3o3QjvVKHVz7XZxWb7mxR7DY1Zt2o9LltFhGPRcR5EXFYDkBaUdJeksopgt5mu5frXTRaTY2jwuYMqR0AAADARPu4pFcX6/tExGeUpoGs+artjXqsd/MqWS/ztdULi01/bFHsd8XyS3psRyeXFMvb5ECXsSozT1atb7zOr3wtK91XtL2MxifQpcwiUnXgw/MqluvnNR+mQbT3B6oPKFlZ0k62t5S0SVFmWk7JIhHcMRVcUCxvYPtF3XawvYkavwAXtCs7JG/vVsD2IpJ2KTa1O4c/S3qsWH/+GNrVyo+a1lftVDj/x7FWsemyAbcHAAAAk09z507Vm9jN5XoO2o6I+yPiSElvKzYvpJRJodlYO3FWqRgMPSrK92UxNXbIdVK+L/MkXTmwFo1d1UD6TdQ4ncx8HZAREZKuLzat21ymHxHxSETMkrS9pLnFU68ZRP3TVPN7wyADAAAATHn5ZvD/FptOiIjv5+W9Jd2SlxeXdLrtblNqllaVtG2Fcq9TY4aGVveyfl4s79RDdvtuflEsr5nbMlblFI+VpubU+J1f+Vo+3/aGFfbZVanPY9BuLtvSrXD+rL22Yt39vObDNOb2RsQTkk4sNu2bHzUXR8S1/dQ9FRDcMfl9T40RYV/qFH2Xn/tyselhSaeOU9v69Y4cgNLJh9QYSHFCq0IR8ZRSuumarp2ZPUYvLtm0fl+X8uXxH5X0hx6OBQAAgCkoIv6hxiwFe1Tcdc9i+U5Jfx1DG36txqk3WgUt93OBfpmke4v1d/fYtGG6VI1ThFR9X95ZLP8xIh5uW3Livd52lfmFdy+WH1P7oPRy+0AD6SPiejUGj3QMpEdH5fX1nIi4Z2gtAQAAACZAHmh7muo38v8i6b9rz0fE/UrXPfPypo0lfbXHwxyep0Bs14aF1Rhc8g9J57coeoLq95aWkvStHtvRztmSbizWv5Ffl7Eop3pZr+I+43V+31djP8XnOxW2vaSk/xnQsZuVg21Wt71Vl/IflbRSxbrL13ydAWVgGU9le1caw2fuGNUHGW0n6R1Nz01bBHdMcrmjsAzW2FbSscX8Q/+R0z8dpcZReF+LiFbzJw/TgpJ+YrvlyC/bu6jxP8SLIqJT9pGfFcvbVTj+6bYPtL1ap0K2nyHp0GLTvyTd0KXu8vjnR8TjbUsCAABgOjm+WH6D7Y6/W21vLenN5f45k0JZpvIFv+1F1TgvbKug5Z4v0HOwddlB9kHbL6jarmHK11qnFZv2sf3cTvvY3kNSeX7HjUfbxmAJdenMytlV9is2fa9DgMrsYnmLbp+5PjqhymD6boH0aK8cZNCqMxkAAACYao5TfVrKJyTtFhGPlgUi4rdqvMezn+239HCMLSUdnzPNN8iZGb6rxqk3Dm++bs/teEjSp4tNu9k+zfay3Rpge3PbJ9t+R/NzETFPaVqammdLmm177S51bpHvw7VSZnXctcq0suN4fv+W9I1i0xtsf6HVdDl5kMMZ6nM60Qr+oMZBO99oN7DC9rskfbaHusvXfHmlaUxH2dVqzML54X4qiYg5qmd9saRF8/K9kn7Yb+OmgvFIPYOJd7hS+p4X5/X3SNrK9reV0q2GpI2URsltXOx3mRr/4xoFt0q6SdLLJV2Vz+E8pTnAnyXprZJ2LMo/rO6j/36kFACzgKQX2F49Im7rUH4VpbTUh9i+WNJFSq/j3Uoj91aU9CKlkZLlXOSHRcTT6qxMs/T9tqUAAAAw3Rwl6X2qjwiv1P0AACAASURBVNz4ge3XRMR802Hk4IjyQvZeNXZo1Hwid9p8IyK6TcNwqKRnFOutbgDXLtBrQSAfVrUOiSOVfjuvl4/xK9t7RsQ5nXbKHT1vl7RTRGxf4Tjj4fO5DYtJWkTS2ba3z9lWGth+tRrnfL1B0v+bkFb25iO2b4iI+QJPbD9TaXRXLTPLk5K+0KGuc5VG0iygdJ20sTpP+bG77TdI+npEXNKhnGzvL6nsdCQooX/bFss/a1cIAAAAGCbbv+heaj7HRMSZTfW8W41Tj34sIq5qs///SnqFpG3y+rdtXx4Rt7QpX3OmpB2UbrS/2PbxStdCVspquK8aM1v8MiJaZqCXpIg4Nl/r16ae2E0pWOF7ki5UGlz8pKRllO5LvUDSqyWtlcuf16beH9v+iuo32DeVdL3tH0j6laR/KmUvWUVpKtLXK13XfV2tb6CfKukT+TxXk3Sj7SuU7p/95/5YRJSDUcbt/CQdonTPcIO8/jFJr7B9olK2loUlbZ6Pu0Zu51WSXtWmvr5ExNO2P69638ymSvc4j8zHs6T1lc57a0lPSTpF0n9VqPuvti+XtFnedILtTyn1OTxZFD0yItq9ThMmIh62/RNJtQChg3JAy3VKmUFrTo+I07tUd5TSZ7L0nek+cJ7gjikgIp6yvYOknyr9UZDSH7Ivt99LF0t6Y0TM7VBmGOYpdZ5eqNSR998qUmU1eUTS6yPib50qjIh/2j5fKWOJJe2kammfFlAKMnl5hbJfiIhjOxXImUhq6XAfUQo6AQAAABQR99jeW9JPlH6zriDp97a/q3Qz9i6lwI8dlAIlagEWIek9EXFXi2oXUwr8fo/t6yX9WtKfJN2mFCS9pKQNlToXtij2O73Vb+x+L9Aj4iHbOypdgyyXz+1s25fl871aKZh7sfzcRkqB69vm8yznrp1QuRPlY6p30Kwj6ercUfQbpXavrpRF5W1K752UOlj+awQ7HE5Tut46No/EOlUpuH4ppeuefSSVo6cOydOjtBQR99o+T/WOsderc3DHQkpzHO9q+2alOaCvUOpQ/LdSUMn6StdsZWfb75Q+v+iR7U2VOl2l9L0nuAMAAACj6jV97NMQEGJ7A6XAhJqzIqLVYAhJ/7kpv7vSDfgVlK5Z/5/tbXPmi3aukvRjSScq3Y/7Soeyl6h+Hd3Je5WujQ5Vuj+1pKS986NvEfER2w9KOljpmnURpSlpdu+0X5u6rrH9WdUHji+i+sDzbgZ+fhHxeB5ocYHS9bqUBme/qEXxR5Sm9ugaUNGno5QCUt6U12eo9efiKaVsmfN6aMt7lK6JV8jr6+ZH6UyNjg8pBaPMyOtraP6sKVdWqOcXStMZlQM/Ot6LnQ4I7pgiIuJB269U+oJ/Uo0ZJUq3Ko0+OyanSB45EfEv2y9SGuG3q9J/Dg1FlCIKD4iIv1estpyOZg91Du44Quk/mFep87zOoZTV45CK0XDlH+nvRsQjbUsCAABg2omIs2y/XdLJSr+BF1IaBdQu5eZcSTMj4owK1W+g+kiWTn6jdIO/nb4u0CPiettbKHU2bJQ3b54fIy0ivpmnrfmiUkfYEpLenx+tPKSUbeTSCWpiL45Tat8+Sp1Or+5Q9psRcXiFOr+jeiDGzkrXU1WspfqorU6ukrRLhSyJaK3sRP5RcypqAAAAYKrIU6GcrnpWyttUYQqLfE/qXUqDDyRpK6UslQd12e+7tm9SGgywaYsiDytNU/q5iHiiQjtC0udsn6E0jclOasyw2ex+pWv405QyMHaq+1DbZytluthB7e8PP6o0FcYpHeo6LA+o3ktpappnKQVqzDcdStN+43J+xT3FI3KbFm1R7CJJ+0XEdbbHJbgjBwrtovTZ+bDqGTFLV0h6X0RcYntmD3VfaXsjpWvoV0l6rlKWk/mmBBoFEXGr7U2UZl54ndLAouWUBvX0Us/Ttq9WPbjj/G4D/qcDt5jeCVNA/tJsKmnlvOluSVdGRJVIqAmV/4CdlFdvjogZxXPLK43YW0PpS3+7pAsqpMRqPsYCkv6meuTeph3ScJX7zVDqfF5TaQSblUaUzZF0eUTcUfH4C+Z91lAKCtkgIv7ayzkAAABgdNg+WMWUJBHh9qV7rvs5SlMvvlH1DB2lpySdI+lTnbIq5Av/9yh13Dyny2H/Iulrko7vdhM9zxvb6QL9kIg4uM2+iyh1tnxQqTOinVC6qf9TpcDo+YK6bW+rYqqOXt6Dfva1vbmk/5O0nVp3Wj0u6XuSDoyIW1s8X9Y1U22ugQbNdnnRv11EzLa9j9Lnd/UWu/xT0icj4tSK9S+mlF2ldu25YbvPpe01lUZrvVZp7ulOnX+3SDpa0lerdIRW1fTdbftZ7aPeGUpZUGqenecI7rTPTPX4ObA9Syl7j5TS0c7sUNaSblR9rvEXR8Qfuh0DAAAAwPxsz1Z9+paGawnbz1O6J7e6UmbLGyWdFxGPqU/5+nlLpQwNKyr1DzysNIXJXyRd308QvO1a5sY1JS2v1Mdwd67zikFef3Vpx8DPz/YySgO915K0oFKAzx8i4sYBNr1KO5ZU6jtYW/V7m1dExLUT2Y7JzvaKSp+HWhDLrhHx/SE2aSQQ3IGhm6iOTdt7KaXIkqRZEdE1YnOAx36bUkevlNJUv32ijg0AAIDJKQdRbKM0CmZZSQ8q3Xi/ICIe7LGuFZTm/V1bKY3nIkopSW+T9KdhjHyw/Syl9K0rK53fE0ojc/4u6ZqIuG+i21SF7ZWUpsNcXWk6k/uUArkvHMWsCK2CO/L22jSU6ylN+XOfpGsl/S567CjIaXkPzqtfi4gPVdhnKaXOz7Xz8RdXGiV2p1Jgz7W9tqNiWw/WOAR3jCLb20s6N6/+LiJeNsz2AAAAAJNZp+AOAINn+xOqZwe9Q9KaETF3iE0aCUzLgunkZEmfUBq1uLvtgyLinxN07E/lf59SMcITwPRVddTlZLlosD1HKSJakvaKiFljLNfyRhS662fk8KjJqRQvVRrRfVpEvGPITRq4pvdpXEft98v2upKuUxo58YuIeO2QmzTtRMS/JZ01oLruVcpUcX63shMl/xafqN/jAxMRd0v60bDbMVZ5BNQF+TFWRypN2bOMpL1sfzZ/fjsd/yGl1LgXDeD4aO2DxfKhbUsBwBRU9bpo0OUAAAAwdraXkPSBYtOxBHYkHec/AqaSiJgn6SN5dWFJ/zMRx7W9s+rzrR3FfFDA5GT7YNtRewy7PcBUlVPIf0vpd+qTkj4z3BZNX3kajOPy6g62dxxmewCMroi4X9IX8+oySlOvYIhsb6o0/Y0kXRQR53YqDwD9sD2nuE6e3cf+M8vr7DxtGgAAAKYx24srTdO6Wt70kKRvDK9Fo4XgDkwrEXGO0rzdkvQu2xuM5/FsL6Q0X7ok3SXpoPE8HgAAU8A7lObblKSTIuKmToUx7j6nNFWGJH0p/7YBgFa+KunmvPzRPK0Qhuew/O/TSllVAGBSsr3tZBpoYXtGU8DKjGG3CQAAYNTZ/l/bZ9r+lVLfwh7F04fljLQQwR2YhiJix4hwRCwUEdeP87Geiojn5OOt0uvc6AAATCc5cOCQvDpP0heG2BxIiojbJc3Kq+tK2mt4rQEwyiLiUdWDCFaU9MkhNmdas721pDfk1eMj4o/DbA8AAAAAAF1sJWlHSa+StFKx/RxJXxlKi0YUI+8AABiCiJgpaeaQmzHhImLGsNuAkfYOSevk5Z9GxD+G2Rj8x9cl7ZuXP237xDzdHQA0iIgzJHnY7ZjuIuJC8T4AmOYiYo4G+Ldw0PUBAACgrUckXS/pZElH0Q/ZiOAODF1EzFJ9RCgAAJi+PlwsHzu0VqBBRFxv+7dKEfQzJO0k6YdDbRQAAAAAAMAEiohth90GYKri+1Ud07IAAABg6Gy/TNImefUOSb8aYnMwv+8Uy/sPrRUAepaniKw9Zg+7PQAAAAAAAOgPwR0AAAyB7Vm2Iz9mDbDe/W3PK+o+0/bibcouZHtX2yfb/ovt+2w/Yftftn9j+2O2lx9U2/Ix5xRtm9njvgvZfqvts2zfZPtx2/fY/r3tA20v00d7nm/7CNuX277T9pO277L9R9tfsP2CXuscr3qdvM32T2zfks//Ntu/tf3BQb9XLY4/33tne2Hbu9k+u3hP7rR9UW7TEj0cYs9i+UcR8XSFNkXx2DZvW8z2TNu/zK/TE7bvzetvbVPPSrYPtn2Z7X/nfW62/V3bL+rhHEaK7e1tn2D7atv3237K9mP5PbrM9nds72t7lQrVnSmplgJxW9trjmPTAWA8zZZ0SH7MHmpLAABt1a6ZJZ3ftD3aPGY1lZvR9PyMMbanY335eiIk3dS0601t2js777dqvl6sbd+9x3adX+x75hhOEQAAAJMA07IAADBF2P6cpE8Xm46VdECrOelsv0bSNySt16Kq1fPjFZI+bfsjEXHiODS5MttrSTpN0kuanlpU0gqStpT0ftuvj4jLK9S3hKRvSnqn5g92XSk/Xijpo7ZPkbR/RDw8xHqfqXT+L296arX8eJmkj9veTdIt3eobBNvPkvR9SS9uemrl/NhK0gds7x4Rv+tS1wKS3lJs+lmfbXpubtPzmp5aXtKrJb3a9nclzawFj9jeRdIJkpZu2mdNSf8l6R35O/C1fto0DDlY43uStmnx9IKSFlN6jzZT+qweltfbioh7bF+q9B20pLdK+vIAmw0AEyJnL5k95GYAACBJiog7clBGLRB9X0n/r8q+tp8jadti0zGDbR0AAABGDcEdAABMcrYXkvRtNWY++GxEHNqm/HuVAjsWLDbfK+kGSY9JWkP1oI9lJZ1ge7WI+Nyg217RykpTQtQyBdwiaY6khSU9X9ISRblzbW8UEXe0q8z2spLOlbRF01PXS7pTKQBjQ6Ub2Ja0h6QNbG8fEfcPod5VJJ0naf1i8zxJ10q6X+n9WlcpyOMXknZtV9cALSnp10Wb7lD6/CwqaSPV35MZSu/J9hFxSYf6XqwUpCOlc7uojzatphQAs2pe/6uk25Q+w5uoHmyzh6S7lAJs3pb3WUDSU5KuUXpNn6X6d2ABSV+1/feIOLuPdk0o24tK+o3S+1AzV+n1uDuvL6d0frX3qWo2v/NVD7B6vQjuAAAAwPi5Run6anlJmxfbz+1Qfpj+rtS2xSVtXWy/UOk6u9nVxfJRqgd3vNz2BhFxfYVj7lMs36T2rw0AAACmCII7AACYxHKmiB9K2iFvmidpv4j4dpvyr5X0LaXgAkn6rVK2j99GRBTl1pP0FUlvyJsOs31ZRPxy8GfR1bckrSjpAkkfiog/1Z6wvZikAyV9Jm9aXikLwXs61HeMGgMwfirpgxHxn/S5ecqJr0jaOW/aTNJxqne4TWS931ZjYMcsSZ8qA1hsP08pU8tLlLJQjLeDlIJV/inpvZJ+Vvv82H6GpPcpvQ+LKAWCnG5744h4qE192xXL13co18k3lAJEzpL04Yj4e+2J/LqfJumledP7bZ8l6SSl78LnJR0REQ8U+2wl6UeqZ7T4qu1zyu/JiNpP9cCOuUrfj6ObX1PbVgqO2kmNWVM6+UOx/DLbi0TEk2NsLwAAADCfiPiypC/n6RfPL7bv0HanIYqIUySdkqdrKadm2TMi5nTZd7bt65QGA0gpe8cHO+2Tg7rLAR7HTYJrFQDjh+8/AEw+7l5kflVH6QEAgBFje2WltOK1zq1HJe3UIbBjSaUMGLUfDSdL2jYiLmruBIqIGyS9SfV0sFYKShiGFZVu2L+qDOyQpIh4PCIOVGNAw262F29Vke3t1ZjZ4lRJby4DMHK9tygFXJxcbN7F9usnuN7XqR5gI0nfiIi9mjOTRMQ1kl4p6RKloIvxtpJS9outI6Ih4CEiHo2ILyhlyKhZU41TBjUrR+Jd3bZUZysove47loEduU23SNpR0oN50yKSfinpGZLeGxGfLAM78j6/VeM5rKv5p8UZRW8slr8YEV9oFSwTyVURcbCkF1Ss+6pieRGljCgAAAAAxu7oYvmdeSBDJ7uonv1wrqShTqUKAACAiUFwBwAAk5DtdSX9Tinzg5SmVXllRJzVYbd3q37j/0ZJ+0TEvHaF8w37/SXVbnpvZPsVY2p4fx6SNDMinupQ5gvF8pJqf7P6A8XynUo39luObsjbD1Ca2qOm3eip8ar3gGL5Zkkfb1NOEfGYpHcpTS8yET7RaQRaRHxfKfNFzbttL9Km+IbF8t/blOnmAXV+3e+R9P1i0yKSzouIY9tVmDPVlO3Zqs+2TaRnFcuVprfp9HegyS1KHcc1G1dtFAAAAICOTpb0cF5eTtLbupQvp2Q5IyLuGpdWAQAAYKQQ3AEAwCRje3OlwI518qabJW0VEb/vsuvMYvnIiHii27Ei4t+Szig2vaqHpg7K6RFxX6cCEfE3SWU2i42ay+TpQrYvNh2fz69TvQ8rTXdS8wrbS09QvUtIek1TvY93qfcvkn7VqcyA3Kd6VpdOjiyWV5S0TXOBPD3IWsWmf/XZptO7ve6Smr8jx1Wot9xnw7alRkc5n3fVjByV5MCZ8v2ZMcj6AQAAgOkqX8uU11j7titr+7mSti42HTNe7QIAAMBoIbgDAIBJxPZrleYbrmXguErSS/JN/U77LSvpecWmXgIAyqkYNmtbavxcXLHcrcXysi2e31zSQsV6pywnpZ8UywtI2nKC6n2RpAWL9Z9XrPeciuXG4jcRMbd7MV2klHmlpvkcJWkZpSwaNR0DeTq4pEKZO5rWq+xze7G8XPXmDM1lxfJnbb8nz8c9KPcXyysPsF4AAABgujuqWH6p7XaZ8srAj79FxPnj2CYAAACMkIW6FwEAACPiDZI+o/r/3+dLenOFbAVSCuwogzqPtF11KoZnFssrtS01fppvyLfzSLH8jBbPr1ssh6SrK9Z7ndJUJ7XXfV01BseMV73rN9X754r1XlOx3FhUOkZEhO1rJb0kb1q/RbElmtYfa1Gmiiqfk0fHuE+rz9Wo+bqkdyoFzCyqlJ3kS7bPlXShUiaSP/UwFUuz8vVofu8AAAAA9CkirrZ9saSX5U37Snp/Wcb2Ykq/92vaTjMJAACAqYfgDgAAJo8XFctzJe1bMbBDklZoWu93epVl+txvLLpOH9OCW2wrsy483G2Kk5qImGv7QdVfw+bsDRNVb9XX4d6K5cail2OUZatkvmj13lXxZK87RESv+/TbtgkTEdfa3k1pzu4l8+alJb01PyTp37Z/ncv8NE+3UtXIvwYAAADAJHaU6sEde9j+RESUAda7SFo+Lz8uadYEtg0AAABDxrQsAABMHuepntVgYUm/sv3sivsOaoT9ZP7tUE5N0etN/TKwYrEJqrecqqSXevsJhulVv+1pNT3II03ri/feHJQi4gylLClflHRbiyJLS3qLpDMlXWF7wx6qL9+f5vcOAAAA00s5VWM/UwE2XwP1HLA9Bf1Q0l15eRlJuzY9X07J8sOI6HdaSwAAAExCk/kGDQAA081Fkl6n+g3VtSRdYHvd9rv8xwNN68tHhPt4zBjg+Uy08jVYqsd9l25Tz3jWW2Zl6aXepbsXGbN+2/Ngi+cfVGMn7vItyqBHEXF7RHw8Ip4paSOlTuBTNH+wx6ZKf0fWrFh1+f7c1bYUAAAApoPyGmbJtqXaa76uuH8MbZkScnbBE4pN/wnmyEHZWxXPHTNR7QIAAMBoILgDAIBJJCJmS9pB0kN507OUbsw+p8uudzStrzLgpk0G5Y3oRWyvUWUn2yursaOy+Yb2eNV7Z1O9q1epV9LaFcuNRdWMMVJje+5sfjJPCXJzsanS64fqIuK6iDguIvZQen1fKumcosiKkg7sVo9tSyo/h3MG2U4AAABMOvcUy2vl34u9aL6uuKdlqennWElP5+UtbW+Sl8usHddGxMUT2ywAAAAMG8EdAABMMhHxW0nbq54FYXVJs7tMrXC1GqdQeMk4NW+U/bFp/aUV92sud/mQ6t2yYr1Vy41FpWPYXlGNwR3N51Tz52K5SiYa9CmSSyS9SdKFxVOvqbD7WkpTQtVcM8i2AQAAYNIpf98vpd5/y29aLN8aEXe3KPN0udJHAMlEe7ppvef2RsTNagzG3tf2YpL2KLYd20fbAAAAMMkR3AEAwCQUEb+X9CrV09auqhTg8fw25edK+nWx6d3j28LRExH/kHRrsWmPdmWb7Fks3ynprxNU741N9b69W4W2F5L0torHH4stbK9Todw71NiZeWGbcpcVyy0/wxisiHha0pnFplUr7LZJsfykUtAYAAAApq/m3/e7VN0xZzx8cbHpojZFH2laX7zqMYZkUO09qljeXdK7JC1XHOO7fdYLAACASYzgDgAAJqmIuFzSK1RPXbuSpPNsv6DNLl8sll9qe7/xbN+IOr5YfoPt7ToVtr21pDeX++dpRCaq3lnF8s62N+9Ur6QDJK3ZpcygHNHpSdvLSPpUsWl2DlhpZXax/Jy8L/rQ40jGclqg+yqULzO2XJznAwcAAMD09RtJNxXrH7K9QsV9D1NjIPhxbcrd3rS+XsX6h+UBSY8X6/2291xJteunpSV9qXju9Ih4cP5dAAAAMNUR3AEAwCQWEVdK2k7SXXnTCpJ+0yoIIM/He3qx6Zu2P5GzPbRle2Hbb7J9vu21BtX2ITlKUpnq9we2X9SqYA6S+WGx6V5J35jger+p1Dkopd9tZ9h+bpt6d1RjAM9428X2Ya2CCWwvK+knaswG8b8d6vqD6sEFC0raemCtnH6utj3T9hKdCtleW9L+xabzK9RdBi39rJ/GAQAAYOqIiHmSPldsWknSL3JWjpZsL2T7UEkzi80XRsTsNse4TdIdxaYP2l6w70aPs/yaXFls2j9PqdJrPSHpmGJTmQGEKVkAAACmqY43cwAAQGu2H+9eqsFVEbFl92K9i4hrbW+rNGpqNaVUrb+yvUOevqW0t6T1Jb1Q6Sb6EUqdTd+TdKlSgIIlLZvLbSZpe0m1TAqjPr9xRxFxj+29lQIPrBQM83vb31W6WX2XUofkDkrTpixc21XSeyLirvlrHdd677T9QdUzeDxT0p9sn6A0zc59ktaQtLOkt+QypypNhzKevqc0/cuBkra3fZLStDKLStpC0r6SVi/KHx8Rv2lXWUTMs/1j1acLer2ks8aj4dPAxpJOkvQt279SCpy5XvXgmdWVgmf2UD1zx5OS/q9TpbZXlFQLGgtJPxhsswEAADAZRcQJtl+p+jSSm0m6IV9jzlaaavIJpWukzSTtKmndooq71f365RRJH83LMyW9zvY1kh4uypwXEUf2fyYDdYrqU85sL+l221dK+rfSb2lJujYiDuxSz4lKGU7K4JArIuKyNuUBAAAwxRHcAQBAfxYd5/I9iYjrc4DHeUoBAMtI+qXt10XEb4tyj9reRilYYOe8eU1JHxvP9o2SiDjL9tslnSxpEaXfQ3vlRytzJc2MiDOGVO93bK+m+s33xZSmXzmgRfGfSTpI4x/c8QtJVyuN0tsiP9o5U40ZItr5jurBHW+2vX9EPD2mVk5vz5C0Y3508rik3SPimi7l3qwUECalkZU3j7F9AAAAmDr2VAomrl2jLJa37dllvz9LenNE/KtLuUMlvVJSbQrSlfN66QGNjmMlvVHSa/L6spK2bSqzbLdKIuK+HCRTvo7HtCsPAACAqY9pWQAAmCIi4m9KI/JvyZuWUkqJu21TuYcjYhdJr1UaSTWvS9VzJB0taauImDO4Fg9PRHxP0vMl/VgpyKKVp5QycWwSEacOud4jlLJ+/LVNkXuVsmi8Ud3fz4GIiMMl7STp7x3a9AFJO0fEUxXq+61SwIgkraI0wg29O0ApyOehLuUel3SapOdFxI8r1PtfxfLRfbYNAAAAU1BEzI2I90l6uaSz1f5aqOavSr9bN4uIdtcTZf0PSXqJUobAnytlA3lsTI0eR/n653VKQfdnSLpJ0iOqZ+3oxZ+K5YeUfsMDAABgmnKavg8AAExXtpeR9DKl6T1WUOpwelApqOO6qT5C3/bSkraR9Cyl0VMPSvqnpAsi4sERrPdFSiPWVlIaHXeTpNkR8WS/dVY87hxJa+XVvSJiVvHclpI2VArKeEips3Z2laCOpmPsqfoUNGdGxE5ja/Xosj1D6b2TpJsjYsaA619Q6T1ZX+m7vaRS4M/9Su/P5RHxcPsaGup6jqS/5NVbJK2d5xIHAAAA5mN7cUlbSlpb0vJKmQ3vV5qu8g8RcesQmzep2L5C9YwlR0dElayIAKYfbvQBwOTjvnYiuAMAAADddAruGOAxFlIKIlhHKRBh/Yj4x6CPMwrGO7hjkGwfJem9eXW/iDh2mO0BAAAApoMcRP/7YtMmEXF1u/IApjVu9AHA5NNXcAfTsgAAAGAk5Ewfn82rC0r62BCbA0m2V5W0V169UdKJQ2wOAAAAMJ18pli+gMAOAAAAENwBAACAUXKqpEvz8rtyhgsMz2ckLZaXPxYR3eZPBwAAADBGtveX9MZi0+eG1RYAAACMDoI7AAAAMDIizRm4v6SnlebmPny4LZq+bK8jad+8em5EnDHM9gAAAABTle3dbJ9p+xzbf5f0reLpn0XEr4bVNgAAAIyOhYbdAAAAAKAUEX9UmpYFQxQRNyoF2AAAAAAYX8+VtGOL7TdJevcEtwUAAAAjiuAOIPvFn++OYbdh1O2w0UoedhsAAACms4vu+DW/WSW9fNVX8bsUAABMVU9KmiPpp5L+LyLuG25zAAAAMCoI7gAAAEBXETFj2G0AAAAAgKkoIg6WdPCQmwEAAIARR3AHAAAAMPEekHRIsQwAAAAAAAAAQFsEdwAAAAATLCIeECPzAAAAAAAAAAAVLTDsBgAAAAAAAAAAAAAAAKA9gjsAAAAAAAAAAAAAAABGGMEdAAAAAAAAAAAAAAAAI4zgDgAAAAAAAAAAAAAAgBFGcAcAAAAAAAAAAAAAAMAII7gDAAAAAAAAAAAAAABghBHcAQAAAAAAAAAAAAAAaPRLbAAAIABJREFUMMII7gAAAAAAAAAAAAAAABhhBHcAAAAAAAAAAAAAAACMMII7AAAAAAAAAAAAAAAARhjBHQAAAAAAAAAAAAAAACOM4A4AAAAAAAAAAAAAAIARRnAHAAAAAAAAAAAAAADACCO4AwAAAAAAAAAAAAAAYIQR3AEAAAAAAAAAAAAAADDCCO4AAAAAAAAAAAAAAAAYYQR3AAAAAAAAAAAAAAAAjDCCOwAAAAAAAAAAAAAAAEYYwR0AAAAAAAAAAAAAAAAjjOAOAAAAAAAAAAAAAACAEbbQsBsAAMB4+NkKq8Ww2wCMlx1+c8qwmwCMmwU2faWH3QYAANDE4voKU5b5dGMKC4nrKwAAphAydwAAAAAAAAAAAAAAAIwwgjsAAAAAAAAAAAAAAABGGMEdAAAAAAAAAAAAAAAAI4zgDgAAAAAAAAAAAAAAgBFGcAcAAAAAAAAAAAAAAMAII7gDAAAAAAAAAAAAAABghBHcAQAAAAAAAAAAAAAAMMII7gAAAAAAAAAAAAAAABhhBHcAAAAAAAAAAAAAAACMMII7AAAAAAAAAAAAAAAARhjBHQAAAAAAAAAAAAAAACOM4A4AAAAAAAAAAAAAAIARRnAHAAAAAAAAAAAAAADACCO4AwAAAAAAAAAAAAAAYIT9f/buPM7Ksm78+OeaGRhmAdkFRSBwX3Jfck8xUMtdNNFSMiy1p8es5/mVpZT29GTa9rSIuaBpaWapmSAiZqYmLoT7gigqhuz77HP9/rhvZg7DbMzCnDl83r7u17nuc1/nur5H7jMz9znf871M7pAkSZIkSZIkSZIkScpiJndIkiRJkiRJkiRJkiRlMZM7JEmSJEmSJEmSJEmSspjJHZIkSZIkSZIkSZIkSVnM5A5JkiRJkiRJkiRJkqQsZnKHJEmSJEmSJEmSJElSFjO5Q5IkSZIkSZIkSZIkKYuZ3CFJkiRJkiRJkiRJkpTFTO6QJEmSJEmSJEmSJEnKYiZ3SJIkSZIkSZIkSZIkZTGTOyRJkiRJkiRJkiRJkrKYyR2SJEmSJEmSJEmSJElZzOQOSZIkSZIkSZIkSZKkLGZyhyRJkiRJkiRJkiRJUhYzuUOSJEmSJEmSJEmSJCmLmdwhSZIkSZIkSZIkSZKUxUzukCRJkiRJkiRJkiRJymImd0iSJEmSJEmSJEmSJGUxkzskSZIkSZIkSZIkSZKymMkdkiRJkiRJkiRJkiRJWczkDkmSJEmSJEmSJEmSpCxmcockSZIkSZIkSZIkSVIWM7lDkiRJkiRJkiRJkiQpi5ncIUmSJEmSJEmSJEmSlMVM7pAkSZIkSZIkSZIkScpiJndIkiRJkiRJkiRJkiRlMZM7JEmSJEmSJEmSJEmSspjJHZIkSZIkSZIkSZIkSVnM5A5JkiRJkiRJkiRJkqQsZnKHJEmSJEmSJEmSJElSFjO5Q5IkSZIkSZIkSZIkKYuZ3CFJkiRJkiRJkiRJkpTFTO6QJEmSJEmSJEmSJEnKYiZ3SJIkSZIkSZIkSZIkZTGTOyRJkiRJkiRJkiRJkrKYyR2SJEmSJEmSJEmSJElZzOQOSZIkSZIkSZIkSZKkLGZyhyRJkiRJkiRJkiRJUhYzuUOSJEmSJEmSJEmSJCmLmdwhSZIkSZIkSZIkSZKUxUzuyEEhcVYI4cEQwgchhIoQwr9DCI+GEC4MIRR00DzFIYRxIYTvhBAeCCG8HEJYFEKoDCGsCSG8FUK4O4RwZgghfzPG7RFC+GIa77/T+D8IIfwlfV6hI+KXJEmSJNhy11DpXMNDCBeFEO5Mr6FWp9dQS0II/wghfC+EMLwV40wNIcQ2bJM76rlIkiRJkiRpy+mwN6iUHUII/YA/Asc0ODQk3Y4BvhxCODXG+F47pzsSmNbEsR7Ajuk2HngxhHBWjPH15gYMIYwE/gTs2+DQ9un2aeDCEMKZMcaVbQ9dkiRJkrbsNVQI4T7gJKCxhPWB6XYY8F8hhG/HGK9rz3xNmN8JY0qSJEmSJKmTmdyRQ0IIPYH7gSPSu94HbgTmAcOAicBuwH7AtBDCJ2KMqztg6leB2cDrwAdAOdA3nedsoD/wceDxEMLeMcZFTcTflyRZZNf0rteAW9IxdwQmATsAY4A/hRA+FWOs7oD4JUmSJG2FuuAaak/qEzueBR4D3gRWp/OdTpLcUQj8KIRQGGP8fhNj/Ry4rxVz7gRcm7bXkCSySJIkSZIkqZsxuSO3fJn6NyVfAMbEGFdsOBhC+AXJm39jgd2B7wDfaMd8zwLbxRj/3cTxm0MI3wEeAg4GBgNXpXE25irqEzumA6fGGMsz4v8VMJOkqscngYuAX7YjfkmSJElbty19DVVOcg3zfzHGNxo5/pMQwmXAj9P9ySGEe2KMbzbsGGN8IY25WSGE/83YvTvGuL4NcUuSJEmSJKmL5XV1AOoY6RrQV6S7Efhc5puSAGmixOeAdeldXwkhDGjrnDHGZc0kdmzos5yNkzlObKxfCGEwcHG6uw74fGZiR8ZYnyN5fgDfDiHktyV2SZIkSVu3rriGAo6IMV7aRGLHhjl/Atyb7hYAE9o6WXq99LmMu25t61iSJEmSJEnqWiZ35I5jgEFp+9EY4yuNdYoxLgbuSncLgZO3QGyvZrSHNNHnFKBn2v59GucmYowvA7MyxjqqQyKUJEmStLXZ4tdQDZNHmnFPRnuvts4HjAOGpu3XY4xPtWMsSZIkSZIkdSGTO3LHpzLa01vom3l8XCfE0tDojPaiJvpkc/ySJEmSck82X4OsyWgXtWOciRltq3ZIkiRJkiR1YyZ35I49M9rPt9D3uSYe1+FCCCXAzzPu+lMTXbMyfkmSJEk5K5uvQTLnWNCWAUIIA4HPpLvVwO3tDUqSJEmSJEldp6CrA1CH2Tmj/W4LfT8AaoB8YKcQQogxxvZMHkIoBcZs2AX6AB8HPkt9GeB/AZMbeWwe9dU9atL4mpP55ubOTfaSJEmSpKZ16TVUU0IIBcAFGXf9tY1DnQv0SNvTYoxNVVGUJEmSJElSN2ByR+7om9Fe2lzHGGN1CGE10I/kHCgB1rZz/mHAn5s4thy4Dfh2jHF9I8dLqT8XV8YYq1uYa1lGu2+TvSRJkiSpaV19DdWUrwO7pu0XaXtyR2aCyC3tikiSJEmSJEldzmVZckdpRru8Ff3LMtq9OziWhp4CHm8wZ6Zsjl2SJElSbsq665AQwieBq9PdauBLMcbaNoyzP0klRYDFwIMdE6EkSZIkSZK6iskd6hAxxtdjjCHGGEi+ybYtyfrODwOfBu4D/hBCKOnCMCVJkiQpK4UQdgXuob6q4bdijE+3cbjMqh2/bUV1REmSJEmSJGU5kztyR2ZJ4F6t6F+U0V7TkYHEGGtijItjjA/GGMcB16SHzgBubeQhWRO7JEmSpK1G1lyHhBA+BswEBqR3/TTG+KM2jlUInJNxl0uySJIkSZIk5QCTO3LHyoz2wOY6hhAKgD7pbhWwrrOCSl0FvJm2zwwh7N7g+FqSksMAfdP4mjMgo72yyV6SJEmS1LSsuIYKIewAzAK2T++6IcZ4WTuGPAXol7afiTG+2p74JEmSJEmSlB1M7sgdb2a0R7bQdxiQn7bnxRhjp0SUSteIfiTjrqMaOf52upufxtecERntN5vsJUmSJElN6/JrqBDCdiSJHRvmvwW4uJ3DTsxoW7VDkiRJkiQpR5jckTtezmjv30LfA5p4XGfKLFvct5Hj2R6/JEmSpNzSpdcgIYQhJIkdO6Z33QF8sT2JIyGEYcCYdHc9cFe7gpQkSZIkSVLWMLkjdzyc0R7bQt9xGe3pnRBLY3bMaC9t5Hi2xy9JkiQpt3TZNUgIYRDwKLBLetfdwPlpVcP2OJ/66/x7Y4yr2zmeJEmSJEmSsoTJHbnjMWBJ2h4TQtijsU4hhMHA2eluOXB/ZweWfnvshIy7nmqk231AZdr+bBpnY2PtCRyT7i4CHu+oOCVJkiRtVbrkGiqE0B+YCeye3vUn4NwYY017xk2dn9F2SRZJkiRJkqQcYnJHjogxVgPfT3cDcHsIoV9mnxBCL+A2oCS96xcxxmWNjRdCmBpCiOk2uYk+PwwhjGgurhDCaOBBoDi96/EY4yuNxL8E+FW6WwpMTePNHKsfcHv6/ACu6aA3QCVJkiRtZbroGmobYAbw8fSu+4Gz01jaJYRwFDA63X0bE+ElSZIkSZJySkFXB6AO9WvgdOAIYD9gbghhCjAPGAZ8Adgt7fsqcE0757sI+EYI4Z8k1TjeAFaSnFfbAYeTVOzomfZfBFzYzHjfJSl3vCtwPPBCCOEmYCHJsi4XATukff8G3NjO+CVJkiRt3bb0NdQ0YP+0/SHwO+DEEELTj4D1McYZrRj7goz21BhjbFuIkiRJkiRJykYmd+SQGGNlCOFk4I8kS5fsQONvPr4AnBpjXNUB0wbgE+nWnL8BF8YY326qQ4xxZQjheJKyxPuSvIl6fSNdZwJnxhir2hSxJEmSJNEl11CZ103bAXe34jELgJHNdQgh9AbOSHdrgaltiE2SJEmSJElZzOSOHBNjXBFCGAOMB84jSZIYCKwAXgHuAm7tiLK/wD7AWOBQYC9gOLANUAOsIikF/Czwhxjjk62M/90QwsEka0WfDewB9AOWAnOA36bj+S00SZIkSe22ha+hOst46peOeSTG+EFXBiNJkiRJkqSOF/yMXEpMf2WJL4YWjNtjULP1oqVs8tCAob6mlbPGPXpHV4cgdZq8fY71741mPLFopr/fgCOGjPE8kaQtKeDvH+Ws4NmtHBaTytvKff4kk6Tup02/o63cIUlSjokx8kRlObMqy5lfXcWqWEvvkMfw/AKO6tmLMYVF5IeOu7aPMfJsVQV/qyznreoqltfWUkWkJAS2yy/g4wU9+VRhEUPzm/+zY3FNDc9XVfBydSXv1FSzuKaGKiLFITAsHWdsYTGD8/M7LHZ1PzFG/jDjb9zx15nMfeNtlqxYRf9terP7qBGcNfaTnH/SWAoKOuYcWV9Wztw35/P8q2/w/Gtv8fyrb/L6u+9RU1MLwKO/uY6jD9hns8b8+/MvcvtfZvDMS6/x/kdLKKuooHdxMaO2H8ph++7JBSeP4+M7j+qQ+CVJktQ+q1jFwzzMYzzGC7zAPOaxmtWUUspwhnMYh3EBF3AgB3bovOtYxxSmcC/38hZvsZrVbMu2HMIhTGQiYxnb6rGqqGIqU7mLu3iVV1nOcgYxiH3Zl3M5l/GMJ/jZr6qq4Ikn4Nlnk+2tt2DpUli2DPLzYdAg2GcfOPlkOPtsKCrq2PmXLIEbboD77oN33oHychg6FI46CiZNgkMOaf1Y69bBlClw773J81i9GrbdNhlj4kQY2/rXjyRJUraxcoeUsnJHy6zcoe5ka63csaa2lh+sXcnc6som+4zOL+Dbpf06JEliVTrfS83MB0k26XlFpZxRVNro8avXrOCZqooWv2bQAzivqDenF5W00DO3ba2VO1asXsP4b3yPWbPnNNlnv9124t7rJzN86Lbtnm/Q0aeyfNWaJo9vTnJHWXkFF1x1LffMeLzZfnl5eVx69ilcf/mXyMvL26x4c4WVO5pn5Y6ElTskaQvbCit3XMu1XMmVVFDRYt9zOZcpTKGY4nbPO4c5nMEZzGd+k30mMIFbuIWe9Gx2rHd5l9M4jTk0/ffzGMZwD/fQl75tjrm7s3IH8PrrsNtures7ciTceSccemjHzD1zJkyYAIsXN348BLj8cvjRj1oea84cOOMMmN/064cJE+CWW6Bn86+fXGHljq2GP8kkqfuxcockSVuzqhi5eu0KXqmuAmBQXh7jCosZmpfP0tpaHqlYz/u1NbxdU81Va1dwfZ/+FIe2f3hcEyNXrVnOWzXVAPQEjiks4mP5PSgNgaW1NcyuquCV6iqqgVvL1tIr5PHpXpu+4bmgprruKnTn/B7s1aMn2+fnUxzyWFpbw1OV5bxaXUUVcEvZGqqInN1EoohyU2VVFaf+55U8MeclAHYYMogvnnYio3fYnoWLl3DrfdN57Z33eOG1tzjx0m/x5G0/p09p+5KANlTo2GD4kMFUVlezaOnyzR5rwrf+h/sfexKA/Pw8xn/qaA7eczcG9e/Lv5cs49HZLzDtH7Opra3l57/7Ez17FPDD/5zUrvglSZLUdm/yZl1ixyhGMYYx7MM+DGQgK1jBozzKvdxLDTXcwR0sZjHTmEYebb/GWsACjud4PuIjAA7iIM7lXAYykJd4iRu5kWUs407uJBD4Lb9tcqyVrOR4jud1XgdgN3ZjIhMZxjDmMY8buZH3eZ+ZzOQ0TmMGMyjwrWKNGgUHHwx77AHDh0NxMaxZAy+9BHffDQsXwrvvwnHHwTPPwJ57tm++559PqoGsX5/sH3ccnH46lJbC7Nlw881JJY7rroPCQrjmmqbHWrAAjj8ePkpePxx0EJx7LgwcmMR/441JJZI770wSRn7b9OtHkiQpW1m5Q0pZuaNlVu5Qd7I1Vu64v3wdN65PqgyMzi/g+7370zvjm/+VafLHC1VJlY3TehXzheI+bZ5vVkUZ169bBSSJJNf2HtBoNZDp5ev5v/WrAegTAnf0HbzJsjAXr1rKXgU9+UyvYoY1sXzLn8vXcVP6/PKBX28zkO1bWOolV22NlTt+/rs/cdmPfgUk1Tlm3HAt/fr0rjteXlHJqV+7khlPPQfA5Z87k2svu6hdc57/nR+yy8gd2G+3ndh/t50Z2G8bLrjyWm7/ywyg9ZU7nnjhJY7+wmUA9Ckt5rGbfsw+u+y4Sb/pT87mpK9+m5qaWgoK8lk44w8M7LdNu55Dd2TljuZZuSNh5Q5J2sK2wsodX+SL/Jt/8w2+wVEc1WifJ3iCEziBtawF4BZu4QIuaPOcp3Iq93EfABOZyG/4zUbJIgtYwJEcyXu8B8CDPMiJnNjoWJdxGT/lpwCMYxx/5s/0olfd8eUsZwxj6qp6/IJfcAmXtDn27szKHSQJFIsXw8c+1nSfsrJkSZYHHkj2x42DadPaPmeMcMAB8MILyf7kyXDVVRv3mTsXjjwyWVolLw/+9S/Ya6/Gxzv11GRZF0iWX/nNb5LHbLBgQTLWe8nrhwcfhBMbf/3kEit3bDX8SSZJ3U+bfkdvnbWeJUkAhBCmhhBiCGFqJ4x9RAjhryGEJSGEmnSe+zp6HiVqYuTusnVA8hfB5SXbbJTYAdAzBC4v2YZe6d8Mfylfz+ra2oZDtdrzVfXlic/oVdrkMi/jehWzY5qEsTpG3k8rfWT6Ye/+fLmkT5OJHQCn9irhsB6FANQAj1WUtTl2dS/V1TX8z02/AyCEwNSr/3ujxA6AXoU9ue3q/6akKHnD+hd33ceylavaNe/Uq/+bb37hHMYeemC7kixmPP1sXXvS6Z9uNLEDYNxhB3Hy0YcByXN++sVX2zynJEna8ry+yi3Xci0P8mCTiR0AR3AEP+AHdftTmdrm+eYyty6xYzjD+SW/3KQKyAhG8Gt+Xbc/mcmNjrWYxfyKJDG6hBJu47aNEjsA+tOf27mdkF4fXsM11FDT5vjVzZWUNJ/YAVBUBDfdBBuu/WfOhMrml2ht1gMP1Cd2HHwwXHnlpn323ht+kL7Gamvhe99rfKy5c+sTO4YPh1/+cuPEDoARI+DX9a8fJk9ue+ySJEldxOQOSVKHCyEcAswCTgAGAMuBj4AV6fHJ6Tayq2LMNXOrK1kVk0SNvQt6MqKgR6P9+ublc2Rh8qZeFfDPqvI2z7kqIzFk+yYSO+qP1ydtlDfyZYKGiShNObxn/RuS7zaSJKLcNOvZOSxZsRKAYw7alz1Gj2y03+D+/Thr7CcBqKis4v6/PbWlQmzW4uUr69o7Dt++2b47jxhW115X1vbXpyRJyh1eX3WNfvRrVb8zObOu/RIvtXm+u7m7rj2JSZskY2xwPMezI0my8HM8x3zmb9LnPu6jkuRD98/yWQYzuNGx9mRPjuEYABaxiMd5vM3xaysxaFCyAVRXw9KlbR/r7vpznq98JVkqpTHnnw990qqjf/1rUmWkubEmTYJejb9+OP542DFNtn/uOZi/6etHkiQpm5ncIUnqDP8JFABPAgNjjINijENijBvq016VbiO7KL6c80JGFY390+oWTck8/nxV279l0zcjIWNhTfPf8PowTcTIA7bPa/tSKkUhY5kZK05uNR55+vm69rhDD2y279iM4w8/9WwzPbecbfvXfzAw772FzfZ9K+P4bh8b3mkxSZKkbsXrqyzWm/qKcmW0vbrgDGbUtccxrsl+gcBYxtbtT2d6m8dqeLyxsaSNrFoFy5Yl7R49oH//to81o/48ZezYpvsVF8MRRyTtsjJ4vJEkpMyxxjVzzoew8VzTPeclSVL3YnKHJKkzbFgA9a4Y4/IujWQrsSCjisWOBc0nT+yUUUVjQXVVm+c8JKOKxh/L17K4iQSP6eXreSuN75ieRa2u0tGYBTX18Q7Oa75aiHLHy2+/U9feb/edmu17wB4717VfmfduZ4W0WU46+tC69o33Psi/3pjXaL/pT87mvsf+AcDRB+zN3ruM3iLxSZKkrOf1VRZ7mZfr2iMY0aYxaqnlVZIl+QooYG/2brb/ARzQ6PyN3bc/+7drLKlOdTVceilUpdflJ5zQdIWMlixaVJ8kMmIEDBzYfP8D6s9TXm5wntbWwqvpkpYFBclSLm0dS5IkKcu1/auzkiQ1rTi9XdulUWxFMitnbNtC0sPAvHzygFrgw9oaYoyEpsqfNuOwHoV8okchT1dVsKS2lotWLeGYwiJG5fegNASW1tbyTFU5r6QJJJ/oUciXSnq3MGrTamLkkYr6b8Id2EKFEuWOtxZ8UNceud2QZvsOGzyI/Pw8ampqeev9hW0+vzvSAXvswlcnnMbP7vwTq9eu56AJFzP+U0dzyF67Mah/X/69ZBmPzp7DQ088A8Dh++7J73/47S6NWZIkZRWvr7LYjdxY1z6RE9s0xgd8UFf1Y3u2p6CFt2wzk0je5M2NjtVSy9u8DUA++QxjGM1pbixtpWpr4YEH6vfXroXXXkuWPnk7ObcYORJ+9rO2z/Fmxrk2cmTL/UdkJE692eA8/eCDpKIHwPbbJwkebR1LkiQpy5ncIUlqUrpm838CxwEjSCo+vQc8DFwfY3yvQf+G62TcGkK4NWP/NuDzGfuPNfjQdUGMcWRHxL61WRdr69p9WqiMkR8CxSGwNkZqgHIiRWz+h98hBL5Z2pc7ytbyl/L1lBGZXlEGDUoRj84v4NyiUg7sUdiuD9nvLV/HB7VJEsvH8gtM7tiKrFxTv6bywL7bNNu3oCCfPiUlrFi9hurqGtaVlVNaXNTZIbbox1+/mJHbDeF/bvodS1as5PfTZvH7abM26jNq2FCuvmQipx97BD16+Ge6JEm5xuur3PMUT3EryT9JL3pxGZe1aZyVrKxrD6SFCgbAAAY0+liAtaylmqRyYl/6tpgo0txY2kpVVsKppzZ+rLQUxo+HH/6w5WobzVmZca61ZpwB9efpRo/t6LEkSZKynO8aS5IaFUKYANwMbPgEvYKk2MMu6XZBCOGMGGPGwqZ8lN4OInmjcjUbf9Jfk/bZNt1fAVRmHF/Skc9ha1Ie69/37dmKRI1CAmtJHlMWI0VtzLnID4HTe5VQGvL4bdkaGlvk5e2aav5Yvo7SkMfuPXq2aZ65VRXcUZZ8UTEfuKS4D3ldXI1BW87a9fU/Rnr1bPkcKirsyYq0vWbd+qxI7gC48NQTKCkq4r9+MoWVazb94u38D/7NtbfeRUlRLz5z1Ce6IEJJktRZvL7KPYtYxHjGU0uSaH81V7dYJaMpazOKsvSi5WUuiqj/+3YNazptLGkT++wDxxwD2zSfdN+itRnXQ61Z2qUo45puTYPztCPHkiRJynJtX/RekpSzQgjHAbeTfI5+LfAxoAgoAXYF7gF6A/eEEIZveFyMcUiMcQjwfnrXVzfcl25fSI9vcFqD4wdugaenDvRcZQUTVy3hlrI17FrQk6t79+MPfQdzX79t+c02A/l8USm9CLxSXcUVa5bzdGX5Zs/xfk01/7t2JRsWnvl8UW92a2OSiNRVnnvlDXY95Xwmfe96Rm63LX+8fjIfzbqX8tnTeeehO/nFN7/CoH59mfvm25z2tav49R8eaHlQSZLULXh9lXvWsY6TOZmFLASS5Vgu5/IujkrqIL16QYzJVlsLy5bBo4/CZz8L//gHnHsujBkDS8wfkyRJ2tKs3CFJ2kgIIQ/4JUkC4JdjjDc26PIGMD6EcD9wEvA1ktLCWyq+51vT76/9h7TcKYf0SpdZAahsxTIrFdRX+ihqYwWM5yor+O7aFdQCh/Uo5P+V9t2omsZ2+QWMLypl7x49+e/Vy6kErl+7ihv79qB/Xn6r5lhUU80Vq5ezOn1uJxcWc3pRSZviVfdVWlzEitXJN6rKKyspLWi+EkdZRf0XVnuXFDfTc8t48c35HH3h1ygrr+DQvffgkSk/oldhfYLS8KHb8uXxJzP20AM55LxLWbZyNV+99hccuvce7L3L6C6MXJIktVeuXF9FGq4Qs/Uqp5yTOInZzAbgMA7jbu4mtGGpyw1KKd1o/JaUZRRw6U3vThtL3dzrrydbU/bbD4YPb/o4QAjQv39SrWPD9sUvwt//Dp/5DDz9dNJnc5XWn6eUt+JLIGUZRYt6NzhPO3IsSZKkLGflDklSQ0cCOwFLgZua6Xd7eju20yNSi0pC/a/01bW1zfatiZH1abJEAdCrjW9C3ly2hlqSPyYuKml6mZRdCnoypjD5ML6MyMyKskb7NbSkpoZvrVnBspg8nxMKi5hU0qdNsap769u7PqFn6cpVzfatrq5h9bp1APQoKKCkqBVleTvZN39+E2XlFQBcd/mXNkrsyDRq2HZcft6ZANTU1HLDPX/ZYjFKkqRO4/VVDqmkktM4jVnMAuAgDuIhHqKE9iWg96VvXXspS1vsv4xljT4WkuSOgvT7fCvDKNk6AAAgAElEQVRZSTXVbR5L3dxdd8Gppza9zZq1+WNeeCEce2zSfuYZmD69bbH1zTjXlrZ8zrOs/jzd6LEdPZYkSVKWs3KHJKmhw9LbbYAPQ9PfwNjw6eSITo8oQ4xx/9b0e2jA0K3qq2Xb5+fzUW2ycMlHtTVsm9/0r/iltTVsSP8YmpdPM//GTVpUU817NcmbhDvkFzCghUoc+/QoZFqa1PFmdVWL4y+rreFba5bXPafjehZxcbGJHVurnUYM452FiwB498NFjNyu6co8HyxeQk1NcobvuMN2bTq/O1JFZSWPPvMCkFQROWjPXZvtf+zB+8H/3QzAs6808y07SZLUXeTE9RXB0h1VVHEmZzKNaQDsy75MZzp9aP91yjCGUUQRZZSxkIVUU12XoNGYBSyoa+/MzhsdyyOP0YzmDd6ghho+4ANGMrJNY0mNGjcuWaYF4G9/g+OP3/wxds441959t+X+C+rP040eCzBsGBQVJRU5Fi6E6mooaOZjj+bGkiRJynJW7pAkNbRdetsD2LaZrV/ar/n1EbRFjMhI5phX3fw3s96qqT8+oqBHm+ZbnlEdpLgVH56XZPSpiM2/L7y8toZvrV7Oh2lixyd79uI/Svp0+Yf06jp7jv5YXfuFV99qtu9zr7xZ195jx5GdFVKrLV25mqr0Ndm7uKjF83ib0vpvfa4ra0VJYUmSlO28vsoB1VTzWT7LAzwAwF7sxSM8Qr+6f7b2ySOP3dm9bq65zG22/3M8V9fekz03OZ553/M0v/JOS2OpG5s8GWJsejv//LaNm7mUycqVbRtjyBAYMCBpv/deyxU3nqs/T9mzwXmalwe7J68fqqthbvOvn2bHkiRJynImd0iSGtpQguGZGGNozdal0QqA/XsU1rVfqKpotu/zGcf379H48hAtyUzoWJomYTRncU19n955Tf/5saq2livWrOCDdMwje/bispJtmlzyRVuHTx16QF374aefa6YnPPzUs3XtsYce2GkxtVafkuK69tKVqymvqGy2/4J/f1TXHrCN1WokScoBXl91czXUcC7nci/3ArA7uzOTmQxgQIfOMzZjRZ6HebjJfpG40fFxjGvzWADTqV9Wo7GxpE3Mm1ffHjiw7eOMTc/TGGHGjKb7rV8PTzyRtIuK4Kijmh4L4OFmzvkYNz4+znNekiR1LyZ3SJIaWpTebtFywGqfjxf0ZJuQ/Fr/V3UlC5pY+mRlbQ1/r0iqAfQEDunRq03zDc0vqKsbvaS2llermv/A+vHK+goEO+U3Xi1kTW0tV6xZXrfcy6E9Cvl6yTbkm9ix1fvkAfswqF+yFvKjz7zAK2+/22i/xctXcPfDjwHQq7AnJx996JYKsUm9S4oZPmQwAJVVVfxp1hPN9r/74b/Vtfff3RLBkiTlAK+vurFaapnIRO7mbgB2YRce5VEGM7jD5xrP+Lr2FKZQTuNV3KYxjXkkH64fwAGMYtQmfU7hFHqmV2y/5/csZnGjY73My8xiFgBDGMJRNPKhuZRp7Vr43e/q9w9txzXXWWfVt3/+8yTxojFTp8Lq1Un7xBOhpGTTPuPrXz9MmQLlTVRBnDatPjnlgANg1KavH0mSpGxmcockqaEn09shIYQDmu3Zdhuu2P3UvoPkh8BZRckbHBG4ft0q1mQsnQJQGSM/XreK8vR//6d7FdOniSoaP167khOXL+LE5Yu4c/2aTY4XhsAhPesTQ36ybtVG1Tky3V22lrnVSfJHD+CIwk0TStbV1vLtNct5J03sOKRHIf9d2tfEDgFQUJDPty48B4AYI+d/54esWL3xeVleUcn537m2bimTS846mQF9t2l0vAuuvJb8fceQv+8YvnvDbZ0bPHD2uE/WtS+79le8+Ob8Rvvd8deZ3Hp//Tcnz/30mE6PTZIkdTqvr7qpSOQiLuJ2bgdgR3ZkFrMYwpDNHut8ziek/01mcqN99mZvTuEUAN7jPS7lUmrZ+JruPd7jy3y5br+psQYxiIu5GIC1rOV8zt8kWWQFK/gcnyOmp8+3+Tb5dYVmtNW5+mp45ZXm+3z0EZxyCnz4YbK/005w3HGN9z36aAgh2aZObbzPZz4D++2XtJ95JomhoRdfhG99K2nn5cGVVzY+1t57J7FBsszLpZdCg/dEeO89+HL964fJkxsfS5IkKYsVdHUAkqSs8xgwD9gR+EkI4dgYY5NlGUII/WOMyzdzjtXANkDftoephk4oLObJynJeqa7i7ZpqvrJ6KeMKi9kuL5+ltbXMqFjP++lyJ8PzCzi7V2m75vtcUSlzqipYEyMf1tZw8aqlfLKwF7sW9KRnCCypqeEfleW8UVNfReScolIG5m36huGVa1cwL03sGBDyOLpnL55tYXmZwhDYL2M5GuW2L535Gf408wmemPMSL7z2FvueNYlJp3+a0Ttsx8KPlnLLfdN47Z33ANh91AiuuHBCu+ecNXsOjz07Z6P7/vV6fQniW+6bzqPPvLDR8cs/N56+vTd+bf3XBWdzzyOP887CRSxduYpDzruE8Z86miP3/zh9SkpYtHQZDz7xTx55un499C+efiIH7rFru5+DJEnqcl5fdVNXcAU3cRMAPejBV/kqs5nd4uM+xacoprjFfo35KT/laZ7mIz7iZm7mZV7mPM5jAAN4iZeYwhSWsQyACUzgRE5scqyruIrpTOd1Xmca09iP/biQC9me7ZnHPKYwhfd5H4CjOZpJTGpTzMoR996bJE7svTcceSTsvjv0759U0/jooyT54v77Yd26pH9pKdx2G/Rs21KvQJL4ceONyXzr18NVV8GTT8IZZyTVOWbPhptuqp/zm9+EvfZqeryf/hSefjqJ9+ab4eWX4bzzYMAAeOmlpKLHsuT1w4QJSRUQSZKkbsbkDknSRmKM1SGELwHTgcOBv4cQrgD+HmOsAgghjAI+BXwBuB+4ZjOneRk4DJgQQng4xri+w57AVqxHCHyntB8/WLuSudWVLKmt5bdlazfpNzq/gG+X9qOkiaodrTU0v4Brevfnh2tX8mFtDWVEHqoo46GKsk365pMkdowvajyh5PWMZWSWxVr+d92qFucfnJfHrX07vhyyslPPHj3480+/x/hvfI9Zs+fw/qIlfOeXt27Sb7/dduLe6yezTe/2JS8BPPHCi/zPTb9r8vidf525yX1fOPWETZI7+vXpzSNTfsTZ/3U1z736JhWVVfz2wUf47YOPNDruJWedzI+/fnH7gpckSVnB66vu6ymeqmtXUcVX+EqrHvcO7zCSkW2acwQjmMY0zuAM5jOfZ9L/GjqHc7iFW5odqy99mcY0TuM05jCH13iNy7l8k35jGMM93EMPGl8+U1uZuXOTrTn77JMkT2youtEe+++fJI2ccw4sWQIzZiRbphDga19rvLJHphEjkmVXzjgD5s9PElKe2fT1wznnwC3Nv34kSZKylckdkqRNxBgfDSGcCdwOHAzMBKpCCKuBUiCzXMJ9bZjiBpI3H08HTgohLAaqgQ9ijIe3K/itXO+8PL7fux9PVJYzq7Kc+dVVrIq1lIY8RuQXcGTPXhxXWNRhy53sWNCDX24zkCcqy3m6spz5NdWsrK2lmkhJCGyXV8BePXoytrCIofn+2aH26denNzNuuJY/zPgbd/x1Jv96fR5LV66mX59S9hg9kvFjj+aCk8ZRUJB95aQ/tv1Qnrr9/3jg8ae5Z8bjPP/qmyxatpyyigp6FxczathQDttnTyaecjwf39l1nyVJyiVeX2lz7Mu+vMiLTGEKf+SPvMVbrGENgxnMIRzCRCYyjnGtGmskI3mGZ5jKVO7iLl7hFVawgoEMZF/25TzOYzzjCa7oo+nT4eGHk8oZc+fCO+/AypVJYkWfPknixP77w+mnw5gxyRIpHWXMmGRJmF//Okn0mD8fysthu+2Sqh6TJsEnPtG6sfbdN1nKZcoU+OMf4a23YM0aGDwYDjkEJk6Eca17/UiSJGWjEGNsuZe0FZj+yhJfDC0Yt8cgr/ZzTAhhKvB54LYY4/mNHB8MXAwcD+wE9AHWAe8AzwJ/BR5qWFY4hPAuMAK4IMY4tYm5zwUuAvYCegN5wIIY48h2PzHgoQFDfU0rZ4179I6uDkHqNHn7HOvfG814YtFMf78BRwwZ43kiKevk8vUVAX//KGcFz27lsIjZW1sJf5JJUvfTpt/RJndIKZM7WmZyh7oTkzuUy0zuUC4zuaN5JnckTO6QpC3M5A7lMJM7lMtM7thq+JNMkrqfNv2O7sD6aZIkSZIkSZIkSZIkSepoJndIkiRJkiRJkiRJkiRlMZM7JEmSJEmSJEmSJEmSspjJHZIkSZIkSZIkSZIkSVnM5A5JkiRJkiRJkiRJkqQsZnKHJEmSJEmSJEmSJElSFjO5Q5IkSZIkSZIkSZIkKYuZ3CFJkiRJkiRJkiRJkpTFTO6QJEmSJEmSJEmSJEnKYiZ3SJIkSZIkSZIkSZIkZTGTOyRJkiRJkiRJkiRJkrKYyR2SJEmSJEmSJEmSJElZzOQOSZIkSZIkSZIkSZKkLGZyhyRJkiRJkiRJkiRJUhYzuUOSJEmSJEmSJEmSJCmLmdwhSZIkSZIkSZIkSZKUxUzukCRJkiRJkiRJkiRJymImd0iSJEmSJEmSJEmSJGUxkzskSZIkSZIkSZIkSZKymMkdkiRJkiRJkiRJkiRJWczkDkmSJEmSJEmSJEmSpCxmcockSZIkSZIkSZIkSVIWM7lDkiRJkiRJkiRJkiQpixV0dQCS1J2EEPoBY4CDgY8DI4B+QBFQBiwHFgAvAs8AM2OMK7smWkmSJEmSJEmSJEm5wOQOSWpBCKEI+CxwHnA4m1Y9CultCTAA2IkkAQSgNoTwd+C3wN0xxrLOj1iSJEmSJEmSJElSLnFZFklqQgihfwjhf4D3gd8ARwL5JMkcmdsaYCGwtpFj+cDRwM3A+yGE74cQ+m/ZZyJJkiRJkiRJkiSpO7NyhyQ1EELoCXwj3XpTX5ljCfAP4J8kS668BqyIMVZnPLYA6A/sRrJ0y8Ek1T4Gpff/P+CSEMK1wHUxxsot8ZwkSZIkSZIkSZIkdV8md0jSpl4FPkaS1LEOuB+4E5gRY6xp7oFposfidHscIISQDxwHnAucDPQBrgYuIFnCRZIkSZIkSZIkSZKaZHKHJG1qFLAC+AnwsxjjmvYMliaETAemhxB6A18FLkvnkSRJkiRJkiRJkqRm5XV1AJKUhb4DjIwxXtPexI6GYoxrYozXACOBKztybEmSJEmSJEmSJEm5ycodktRAjPH7W2CONUCnzyNJkiRJkiRJkiSp+7NyhyRJkiRJkiRJkiRJUhYzuUOSJEmSJEmSJEmSJCmLuSyLJHWwEMIewGEkP2Pnxhif7OKQJEmSJEmSJEmSJHVjJndIUiuFELYDvp7uTo0xvthInxuALza47+/AaTHGFZ0fpSRJkiRJkiRJkqRc47IsktR6nwX+kyR5Y37DgyGE/wAmAaHBdiTwhy0XpiRJkiRJkiRJkqRcYnKHJLXekentYzHGtZkHQggFwLfS3QrgOuBS4FmSBI9jQggnbKlAJUmSJEmSJEmSJOUOkzskqfVGARF4ppFjxwCD0+NfijH+V4zxV8AngYVpn3O2SJSSJEmSJEmSJEmScorJHZLUegPT23cbOXZMersauHPDnTHG9cDvSKp3HNCZwUmSJEmSJEmSJEnKTSZ3SFLr9U9v1zdy7DCSqh2zYozVDY69kd5u31mBSZIkSZIkSZIkScpdJndIUutVprfbZN4ZQuhFfVWOfzTyuFXpbWEnxSVJkiRJkiRJkiQph5ncIUmttzC93bfB/WOoT9x4qpHH9U1v13ZGUJIkSZIkSZIkSZJym8kdktR6/wQCcG4IYTRACCEf+Hp6fCXwXCOP2y29fa/TI5QkSZIkSZIkSZKUc0zukKTWuzW97Qs8G0L4MzAXOBKIwB0xxppGHndEevylLRKlJEmSJEmSJEmSpJxicocktVKM8XHgZpLqHX2Bk6ivyvEhcHXDx4QQRgIHprtPdnqQkiRJkiRJkiRJknKOyR2StHkmAZcBrwCVJEux/AE4PMa4tJH+l2S0H+788CRJkiRJkiRJkiTlmoKuDkCSupMYYwR+lm6tcT3wi/Sh73VaYJIkSZIkSZIkSZJylskdktSJYoyLujoGSZIkSZIkSZIkSd2by7JIkiRJkiRJkiRJkiRlMZM7JEmSJEmSJEmSJEmSspjJHZLUQAjhZyGEbTt5jiEhhJ915hySJEmSJEmSJEmScoPJHZK0qa8A80MIPw4hDO3IgUMI24UQfgrMBy7tyLElSZIkSZIkSZIk5SaTOyRpU3OAIuCrwIIQwrQQwoQQQnFbBgshFKePnw68S5I80iudR5IkSZIkSZIkSZKaVdDVAUhSFjoAuAi4EhgCfCrdykIIzwKzgWeAN4DlwPIYY0UIoRfQP912AQ4GDkrHK0rHDsAiYDLwmy30fCRJkiRJkiRJkiR1YyZ3SFIDMcYI3BBCuA24hKTSxg5AMXBkum0khFAD5DcxZEhv3wN+CtwQYyzv6LglSZIkSZIkSZIk5SaXZZGkJsQYy2KM1wGjgFOBPwFlJMkaDbeCJu5fD9wLnAKMijH+1MQOSZIkSZIkSZIkSZvDyh2S1IIYYw1wP3B/CKEncBjJkit7AiNIlmEpBCpIlml5F3iZZOmWp2KMlV0QtiRJkiRJkiRJkqQcYXKHJG2GNFHjsXSTJEmSJEmSJEmSpE5ncoeUGrfHoNDVMUiSJEnNOWLIGP9mlSRJkiRJkrZCeV0dgCRJkiRJkiRJkiRJkppmcockSZIkSZIkSZIkSVIWM7lDkiRJkiRJkiRJkiQpi5ncIUmSJEmSJEmSJEmSlMVM7pAkSZIkSZIkSZIkScpiJndIkiRJkiRJkiRJkiRlMZM7JEmSJEmSJEmSJEmSspjJHZIkSZIkSZIkSZIkSVnM5A5JkiRJkiRJkiRJkqQsZnKHJEmSJEmSJEmSJElSFjO5Q5IkSZIkSZIkSZIkKYsVdHUAktSdhRCGA7sB/YCeMcbbuzgkSZIkSZIkSZIkSTnG5A5JaoMQwiTga8BODQ7d3qDfFcBRwAcxxolbKDxJkiRJkiRJkiRJOcRlWSRpM4QQSkMIjwC/JknsCBlbY/4JjAE+H0LYY8tEKUmSJEmSJEmSJCmXmNwhSZvn98CxJMkc7wA/AG5opv8sYFHa/nTnhiZJkiRJkiRJkiQpF5ncIUmtFEI4ATgRiMBtwK4xxiuAh5t6TIwxAo+QJIMcviXilCRJkiRJkiRJkpRbTO6QpNb7XHr7JnBhjLG6lY+bm97u1vEhSZIkSZIkSZIkScp1JndIUut9gqRqx+0xxprNeNyGZVm27fiQJEmSJEmSJEmSJOU6kzskqfUGp7fzNvNxleltzw6MRZIkSZIkSZIkSVuRqqoqfvOb33DssccydOhQCgsLGTZsGJ/5zGe4++67iTF2+JxLlizh6quvZv/996d///4UFxczevRoJk6cyD//+c8WH3/00UcTQtjsberUqR3+XLq7gq4OQJK6kXKSBI0em/m4Qentio4NR5IkSZIkSZIkSVuDd999l9NOO405c+ZsdP/ChQtZuHAhDz74IDfddBP33HMPffv27ZA5Z86cyYQJE1i8ePFG98+fP5/58+czdepULr/8cn70ox91yHyZRo0a1eFjdncmd0hS630I9AF228zHfSK9nd+x4UiSJEmSJEmSJCnXrVy5kuOPP57XX38dgN12242JEycybNgw5s2bx4033sj777/PzJkzOe2005gxYwYFBe1LBXj++ec5+eSTWb9+PQDHHXccp59+OqWlpcyePZubb76ZdevWcd1111FYWMg111zT6DjXXHMNS5cubXG+J598kuuuuw6A0aNHc8QRR7Qr/lxkcocktd7jJIkdZ4UQroox1rb0gBDCtsDpQAQe6+T4JEmSJEmSJEmSlGO++93v1iV2jBs3jj//+c/06tWr7vjFF1/MmDFjmDNnDo899hhTpkzhkksuafN8MUYmTZpUl9gxefJkrrrqqrrjEyZMYOLEiRx55JGsXr2aH/zgB5x11lnstddem4x1+OGHt2rOu+66q659wQUXEEJoc/y5KnTGujuSlItCCIcAT5EkalwbY/xmev/JwJ+BGGPMz+hfBDwIfBKoBnaNMVq9Ywt5bND2/oJTzjryL7/u6hCkTpN/yEletUmSlGVCch0s5aToX5/KZRHP8K1Du39PL+SKjohDAmB7vt/VIWyiu5/jSxev46AdfkFlZQ3FJT14av7FDBxcskm/119ezHEfv4kYYfCQEp794Cvk5+e1ac6H73+TL5zyRwD2PXg7Hnj6840mW9z2q+e54pKHATjxjF2Zcs9pbZpv5Yoy9h/6cyoqasjLC/x/9u48zuqqfvz468wGw7AMm6KgkruCGrhrKiEGpKYiomYqkmJfyzLtW9/KBEq/1a/db2WYIZYLLuWWgeSCSxomIquogIC4sa/DMNv5/XEvMwPMcmfmDrO9nvP4PD7nfj7nc8578Dgzn89933P+vfyr7Nunc73a2hPSMM7r9Tu6fv81JakNijH+G3iIxA/cb4cQHgohnAhkV64XQugdQrgKmA0MIvHH9R0mdkiSJEmSJEmSJKkupj32DkVFpQCcd2m/KhM7AA7vvxenDu4LwKqPt/LvF1bUu88nHlxYXr7q+uOqnUVj1Oij6dS5HQDPPrWYgq1F9ervsfsXsH174ns87axPNevEjqZkcock1c0YYCaJBI8LSczk8SDJ7OgQQgmwArgLOCRZ71ngpqYIVpIkSZIkSZIkSS3Xi9MrPjs8aNiBNdatfP75afX/zPGL09+raHNo9X3mdsjmhNP2A6BwWwmv1jOh5MFJc8vLl4w5ul5ttAUmd0hSHcQYC4AzgN8AxSSSN3ZskPi5uuN1MfAL4PMxxpI9H60kSZIkSZIkSZJasrfnry4vH31srxrrHn3cPlVeVxerPt7C+rXbAOhzQBe69ehQS58VMdWnz4VzVzHvjY8ByO+Wy+fOO7TObbQVWU0dgCS1NDHGIuCbIYSfAqOA04C+QBdgC/AB8AIwJca4sqnilCRJkiRJkiRJUstVVhZZvmQDAJmZgX1qWa6kzwFdystL31lXrz4rX9enb5caaqanzwcnzSkvX3BZP9q1M4WhOv7LSFI9xRg/Bm5PbpIkSZIkSZIkSVLabN1SRElJGQCd89uTlVXzwhxdu+eWlzdtKKxXn5Wv69Yjt4aaDe+zuLiUR++bX/76kjHH1On6tsZlWSRJkiRJkiRJkiRJama2bikqL7drX/u8De1zK+ps3VxUQ82a+iyuY5/Z9e5z+hPvsm5NYgmY/gP2pt+n967T9W2NyR2SlKIQwnMhhGdDCKfU8brjd1zbWLFJkiRJkiRJkiRJLclDd88tL1/srB21clkWSUrdICACPep4XbdK10qSJEmSJEmSJKkNW7xoDYsXra32/FEDe9F7/y7kdcwpP7a9sKTWdgu3VdTJ65RTQ83q5XWsmIkjtT4rZvqoS5+ffLSFGdOWANCuXSYXXNavDlG2TSZ3SJIkSZIkSZIkSZJapd7c1tQh7OaPU8YzYcKd1Z6/++67OWH0aMo6lpGV9RtKSkrYtKGIvUsmkJVV/Vv87619D/gFAN3y963X935Q/ovAIwBsXdOr9jbW3l1ef5/8z6Tc571//imlpYnPRZ9//kj6df1lnWNta1yWRZIaX7vkvn6Lm0mSJEmSJEmSJKnNycjI4KCDDgKgtLSUlStX1lh/+fLl5eVDDz20Xn1Wvm7ZsmW11q9vn3fffXd5ecyYMSlf15aZ3CFJje/o5H5dk0YhSZIkSZIkSZKkJjd+/HhijNVuo0ePLq/bv3//8vKsWbNqbPf111+v8rq66NWrF927dwdgxYoVrFmzJu19vvLKK7z99tsA7L///gwZMqResbY1JndIUhVCCPuHEE6vvFU63X/Xc1VsZ4QQPh9CuBn4NhCBN5vmu5EkSZIkSZIkSVJLNHTo0PLy008/XWPdadOmlZeHDRvW4D5jjEyfPr3aegUFBbz00ksA5ObmcsYZZ6TU/qRJk8rLV155JRkZpi2kwn8lSaraVcDzu2wAAfhRFed23Z4DngQmAB2T196zh2KXJEmSJEmSJElSK3D++eeTk5MDwAMPPMCqVauqrDd//nyee+45IDH7RqqJFlW5+OKLy8u33347McYq602ePJlNmzYBcPbZZ5OXl1dr2wUFBTz00EMAhBC46qqr6h1nW2NyhyRVL+yyVXe8tq0Y+EmM8aE9FrkkSZIkSZIkSZJavJ49e3LdddcBsGXLFkaPHk1hYeFOddavX88VV1xRnoRx8803k5mZWWV7gwYNIoRACIHJkydXWefcc89l4MCBAMycOZMf/ehHu9WZO3cu3/ve9wDIyMjglltuSen7efjhh9m8eXN5LJ/61KdSuk6Q1dQBSFIzNaOKY+NILK/yELColuvLgC3Ae8BLMca1aY1OkiRJkiRJkiRJbcK4ceOYNm0aixYtYurUqQwcOJCrr76a3r17s3jxYiZOnMj7778PJBImxo4d26D+QgjceeednH766RQUFDBu3Dj+9a9/MXLkSPLy8njttde466672Lp1KwDf/e53Oeqoo1Jq++677y4vjxkzpkFxtjUmd0hSFWKMLwAvVD4WQhiXLD4QY3xiz0clSZIkSZIkSZKktiY/P5+pU6cyYsQIZs+ezVtvvcVNN920W70hQ4bw8MMPk52d3eA+jz32WB5//HG++MUvsnr1aqZPn8706dN3qhNC4MYbb6xyZo+qLFmyhBdffBGALl26cOGFFzY4zrbE5A5JSt2E5L62WTskSZIkSZIkSZKktOnbty8zZ85k8uTJTJkyhQULFrB+/Xp69OjBgAEDuPzyyxk1ahQhhLT1OWTIEBYsWMAdd9zB448/ztKlSyksLGTffffl9NNPZ0WnuXoAACAASURBVOzYsZx88skptzd58uTypWMuueQScnNz0xZrWxB2/ONJktSaPN+zt7/g1Gqd/uQdTR2C1GgyT/pC+u4+JUlSWoTEEqVSqxT961OtWcQR3jY0+Pf0B3w/HXFIAPTmtqYOQWoJ6vU7OiPdUUiSJEmSJEmSJEmSJCl9TO6QJEmSJEmSJEmSJElqxrKaOgBJaolCCKcBlwMnAn2AztSeMBdjjP7clSRJkiRJkiRJklQnvskoSXUQQugI/Bk4b8ehJgxHkiRJkiRJkiRJUhtgckczcMy4Z2NTxyClYs6EM01kgIeAoSSSOrYC84CTgAgsBLYBBwA9k/UjMCtZV5IkqUEO//Vw7x3UKiy6Yar3FpIkSZIkSXVQ2xICkqSkEMI5wLDky4eBfWKMp1Sq8v0Y4wkxxr2BY4HHSSSB5AJfjjF+do8GLEmSJEmSJEmSJKlVMLlDklJ3WXK/DhgdY9xSXcUY4+wY4wXAbUA/4PEQQvs9EKMkSZIkSZIkSZKkVsbkDklK3Ykklln5S4xxWxXnd5taOsb4A+BN4EhgbOOGJ0mSJEmSJEmSJKk1MrlDklK3V3L/zi7HY3Jf3cwc95FI/LioMYKSJEmSJEmSJEmS1LqZ3CFJqctK7lfvcnzH8iw9q7nu/eT+4LRHJEmSJEmSJEmSJKnVM7lDklK3NrnP2+X4J8n94dVc1yu575r2iCRJkiRJkiRJkiS1eiZ3SFLqFiX3B+1yfA6JZVfOCSFU9XN1RHK/topzkiRJkiRJkiRJklQjkzskKXWvkkjiOGGX448n9/sBfwwhdAYIIeSFEH4FnA5E4KU9FagkSZIkSZIkSZKk1sPkDklK3bTk/owdCRxJDwGLk+XRwOoQwofARuDryeNlwC/3RJCSJEmSJEmSJEmSWheTOyQpRTHGl4F7SMzUcVSl40XAhcAaEjN7ZAO9SPyMDUApcH2M8bU9HbMkSZIkSZIkSZKkli+rqQOQpJYkxnhVNcfnhRAOB64HzgT2BgqA/wC/jzHO2XNRSpIkSZIkSZIkSWpNTO6QpDSJMa4HfpjcJEmSJEmSJEmSJCktXJZFkiRJkiRJkiRJkiSpGTO5Q5JSFEKYlNw+Xcfr+iev+1NjxSZJkiRJkiRJkiSp9TK5Q5JSNxq4Eti/jtf1Tl47Or3hSJIkSZIkSZIkSWoLTO6QJEmSJEmSJEmSJElqxkzukKTGl5XclzRpFJIkSZIkSZIkSZJaJJM7JKnxHZbcb2jSKCRJkiRJkiRJkiS1SFm1V5GktieE0BnIr+b0XiGE/WtrAsgDBgL/DURgfvoilCRJkiRJkiRJktRWmNwhSVX7JnBLFccDMLGObQUSyR0PNjQoSZIkSZIkSZIkSW2PyR2SVL1Qx+M1mQL8sQGxSJIkSZIkSZIkSWqjTO6QpKq9Cdyzy7ErSczAMQNYUcv1ZcAW4D3g2RjjvHQHKEmSJEmSJEmSJKltMLlDkqoQY3wceLzysRDClcnib2KMT+z5qCRJkiRJkiRJkiS1RSZ3SFLq/kxi5o7aZu2QJEmSJEmSJEmSpLQxuUOSUhRjHN3UMUiSJEmSJEmSJElqe0zukKQ0CyEE4BASP2OXxBi3N3FIkiRJkiRJkiRJklqwjKYOQJJaihBChxDCF5LbftXUuRT4EHgLmAesCiGM34NhSpIkSZIkSZIkSWplnLlDklI3EpgMlAIH7noyhDAUuHfHy+S+E/CDEEKnGONNeyJISZIkSZIkSZIkSa2LM3dIUurOSu5nxhjfr+L8z0gkdQTgdeARYGPy9TdCCMfskSglSZIkSZIkSZIktSomd0hS6o4EIvDiridCCAOB/snzv4wxnhBjHAUcD2wlkeAxZg/GKkmSJEmSJEmSJKmVMLlDklLXM7l/u4pzQ5P7YuC2HQdjjIuBh0gkd3ymUaOTJEmSJEmSJEmS1CqZ3CFJqeuR3G+q4tyOxI1XYozrdzn3n+T+U40SlSRJkiRJkiRJkqRWzeQOSUpdSO5zdzoYQgBOppolW4A1yX3HxgtNkiRJkiRJkiRJUmtlcockpW51cn/oLsdPAPKT5VequK5Dcl/YGEFJkiRJkiRJkiRJat1M7pCk1L1JYvaOS0MIlWfvuCa5Lwb+VcV1Byb3HzVibJIkSZIkSZIkSZJaqaymDkCSWpCHgXOAg4EZIYT7gX7AGBJLsjwVY9xaxXUnJvdv7ZEoJUmSJEmSJEmSJLUqJndIUuruA64Hjqu07VAEjN/1ghBCZ+CzJJI//t34IUqSJEmSJEmSJElqbVyWRZJSFGMsA4YDjycPheT2ITAyxjivistGAznJ8jONHaMkSZIkSZIkSZKk1seZOySpDmKMa4ELQgg9gQOBAmBBMvGjKouAqxKXxtf3UJiSJEmSJEmSJEmSWhGTOySpHmKMq4HVKdSbvgfCkSRJkiRJkiRJktSKuSyLJEmSJEmSJEmSJElSM2ZyhyRJkiRJkiRJkiRJUjNmcockSZIkSZIkSZIkSVIzZnKHJEmSJEmSJEmSJElSM2ZyhyRJkiRJkiRJkiRJUjNmcockSZIkSZIkSZIkSVIzZnKHJEmSJEmSJEmSJElSM2ZyhyRJkiRJkiRJkiRJUjNmcockSZIkSZIkSZIkSVIzZnKHJEmSJEmSJEmSJElSM2ZyhyRJkiRJkiRJkiRJUjNmcockSZIkSZIkSZIkSVIzZnKHJEmSJEmSJEmSJElSM2ZyhyRJkiRJkiRJkiRJUjNmcockSZIkSZIkSZIkSVIzltXUAUiSpPSKMTKjqJB/FhawuLSYjWVldAoZHJCVxeB2uQxr14HMEBrczzc3rGFOSVGdr/t2x3yGte9Q7fklJcU8WbiVOcVFrC4rpSRGumdkcmR2Dp9rl8vxOe0bErZauBgjDz/7MvdOncGcd99j9YaNdOvciSP67sclnzuNKz9/JllZmWnpa8XHq5n26ixeenMBcxcvY8XHqyksKqZLxw4cun9vPnvsUXz5C59j/149a22rqLiYeUuW88aiJcxatJg3Fi1h3pLlFJeUAPCnm7/OlWefmZa4JUmS1IhWrYJp02DGDJg9G957D7Zuhc6d4cAD4fTT4eqr4Ygj0t/36tXwhz/AY48l+i0shH32gTPOgLFj4aSTUm9r61aYOBH++ld4913YtAn23jvRxpgxMHRo+uNXs1JKKW/xFq/zOrOYxeu8zhzmsI1tAIxjHOMZn/Z+t7KViUzkr/yVd3mXTWxib/bmJE5iDGMYSupjr5hiJjOZKUxhIQtZxzp60pMBDOBLfIlRjCLQ8OcfkiRJzYXJHZIktSKby8oYv3kds4t3TrpYF8tYV1zE7OIinthWwA87d2XvzKb5M2CfzKrfeC+NkT9s3cRfC7fudu6jslI+2r6NZ7dv47M57flOp67kpCFBRS3L+k1bGPW9n/L8rLk7Hf947Xo+Xrue52fNZeLfpvHIT76bUsJFTUZ853958qXXiDHudm7Nhk2s2bCJV+a+xc/ve5Qfjr2Mmy67oMb2PnPNd3jj7SUNikmSJElN7Otfh9//HkpLdz+3bl1ie/11+PWv4ZvfhJ/+FKq5/6mzZ56Byy5LJJdUtnRpYps8GW66CX72s9rbmj0bRo5MXFfZihWJ7aGHEn1NmgQ5OemJX83OKEbxN/62R/uczWxGMpKl7Dz2ViS/HuIhLuMyJjGJHGoee8tYxghGMJvZOx3/IPn1d/7OXdzFwzxMPvlp/14kSZKagskdkiS1EsUxcvOmdcxLzqaxV0YmZ7fvQO/MLFaXljJtewHLS0t4t7SY/9m0jt926UFeRv1XaBuT14mNZWW11ptfUsRD2xIJG/tmZHJ0VtUPaH61ZSP/2F4AJP5AGdIul6Oz25ETAitKivnH9gLWlJXxfFEhRZvX88NOXQkmeLQZRcXFXPCd23j5zYUA7Ld3D64+bygH9+nFylVrmfz3Z3hr2UreeHsJ59w4gZf/+P/onFf9DDG1WbBkeXlix3FHHMKgY4/i0P32pXNeB1auWsPfZrzKK3PfYntRMd/57WS2FxfzvdGjqm2vdJf/V3p170q77GyWf7yqmiskSZLU7CxcWJHY0a8fDB4MRx0F+fmJpIunnoKpU6GsDH7xC9i4Ef74x4b3O2sWnHceFCTulzjrLLjwQujYEV57Df70p8RMHD//ObRrB7feWn1by5fD8OHwySeJ1yecAF/6EvToAfPmwZ13wtq1cN99EAL85S8Nj1/NUik7Jyl1oxvd6c67vNso/S1nOcMZzickxt4JnMCX+BI96ME85nEnd7KWtdzHfQQCf6H6sbeBDQxnOItYBMARHMEYxtCHPixmMXdyJ+/zPs/wDCMYwXSmk+VbIZIkqRXwLxpJklqJJwq3lid2HJKZzc+7dKdTpeSNC3Lz+MGmdfyneDvLS0v4y7bNfCWvS737Oyq7XUr1nt++rbw8rH2HKhMyZhYVlid2dAiBn3fuzuHZlZJA2uUyKrcj300mr/yrqJB/bt/G52pY3kWtyx/+Nq08sWPgYQfx9O0/pGvnjuXnvzrybEZ853+ZPnM2C997n1snPcj/u/6qevfXvl0O1134eb560dkcdkCf3c7fcOl5/PqBx/nW7ZMA+OFdUxg5+FQO3b93le0NOvYozj3tBI49/CCOPfxg9u3ZnQl3PcCP/jSl3jFKkiRpD8vMTMxo8c1vwrHH7n7+q1+FRx6BSy+FkhK4665EefDg+vcZY2LJlR2JHePHw7hxFecvuyyxjMrppyeWVvnxj+HiixNJJ1W54YaKxI4xYxLJJzvuGy+9FK69NtHWihVw771wySVw9tn1j1/N1gmcwBEcwbHJr0/xKSYzmauo/31UTW7ghvLEjjGM4Y/8kQwSY+9SLuVaruV0TmcFK7iXe7mESzibqsfeBCaUJ3YMYxiP8ijtqVjC9TquYwhDmM1snud5JjKRr/LVRvm+JEmS9qT6f1xXktRshRAGhRBiCGH39QQa3vb4ZNsz0t226q80Ru4r2AJAAP6nU/5OiR0AOSHwP53yaZ9cb/bRbVtTmnmjITaXlfFyUSGQ+KNjaLuqkzEe3VaxFMuXO3TeObEjqUNGBjd36kp28vWkgs1VLpmh1qekpJQf3/MwACEE7r7lhp0SOyCRjDH5lhvIy0080PvdI0+xduOmevc5444fc/u3rq0ysWOHGy49jxGfPTkRY2kp9z/9QrV1f/GNLzP+mi9y7mknsm/P7vWOS5IkNQ3vsQTAlCmJhIeqEjt2GDkSvvGNitf33NOwPp94At54I1E+8US45Zbd6xxzTCKpAxKzhvzwh1W3NWcOPPZYorz//vC731UkduxwwAFwxx0Vr8ePb1D4ar6+x/f4MT9mJCP5FJ9q1L7mMIfHSIy9/dmf3/G78sSOHQ7gAO6gYuyNZ3yVba1iFb/n9wDkkcc93LNTYgckZiH5M38mJJ9/3Mqtu81UIkmS1BKZ3CFJ2qNCCOcnH16e39SxtCZvFG9nQ0wkagzMzuFTWdlV1uuakcngdrkAFAOvJBMvGsuz27dRnCwfm92OnlWsN10WI3OKEzOOBBLLsVSnZ2YmA5IzhqwqKy2fqUSt23Oz5rJ6/UYABh93NP0O3L/Kent1y+fiIZ8BYHtRMU+8+Fq9+9w1eaQ6IwefWl6ev2R5vfuTJEmqL++x9qCuXVOrd9FFFeV58xrW54MPVpSvvz6xVEpVRo+Gzp0T5aeeSizTUlNbY8dC+/a714HEsi0HH5wov/46LF1a57Clyh6kYuyNZexuyRg7DGc4B5MYe6/zOkvZfew9xmMUkXgWcCmXshd7VdlWf/ozmMSsOR/zMS9QfTK+JElSS2FyhyS1TgXA28mtuTkfGJfcK01eL95eXj4+u5oHdDvO51Qsp/JaIyd3TC0sKC8Pr2YJlU2xjO0kPgCZHzJ2m3FkV30yK1aVm1m0vYaaai3+OfPN8vLQkwbWWLfy+af//UajxbRDxw4VyUjbtptsJElSK+Y9llLXqVNFedu26uulYvr0ivLQodXX69ABTjutos8Xqngju3Jbw4ZV31YIO/c1bVpqsUrVmE7F2BtG9WMvEBhKxdibxu5jL9W2dj1fVVuSJEktjckdktQKxRhfizEeHmM8vKlj0Z6xrKSkvHxoNbN27HBYpfPLSktqqNkwS0qKebc0MW9H5xA4JafqpJOGzGv9Xklx7ZXU4i1YWjEjxsDDD6qx7rFHHFzldY1lwdIV5eUDevVs9P4kSVLT8B5LdTJ/fkX5gAPq387HH8PatRXt9OhRc/3jjqs6Bkgs17JwYaKclZVYyqW+bUl1UEYZC0mMvSyyOIaax95xVIy9+ew+9iofO5YalkhKoS1JkqSWxuQOSZJagZWVkjR6VbH0SWU9MzLL/wBYWVpCjGlfNhzYedaOM9t1IKea6YM7hwx2zMWxMZaxpaysxnYrf6/vN2JyipqPd9//sLzcd5+qp9zdoU/PHmRmZiSv+6jRxjdASUkp9/z92fLXw085robakiRJajPuvLOifPbZ9W/nnXcqyn371l6/ciJJ5WsBVq6smEWkd+9Egkd925LqYCUr2UZi7PWmN1nUPPYOoGLsvcPOY6+MMpawBIBMMulDn3q3JUmS1BKZ3CFJLUwIYUYIISbXVM4OIdwUQng9hLAheXxQcoshhGrf1QwhHBVCeDCE8HEIoTCEsDSE8H8hhL1Sub5SO2eGEJ4KIaxOtvNWCGFcCKH9LvUGJdu7Mnnoyh19VNoGNegfpw3bEisSIrrUsqxJZgjkJRMtSoHCBs2dUbWSGHl2e8X0w9UtybIjniOycgAoA57ZXv20xatLS5ldaQmaLY34xr2ajw2bK9YL79Glc411s7Iy6dwhMd5KSkvZuq3xlh76xf2Psmj5SgCOPrgvZ59qcockSS2R91hKqylT4NlkAvDee8OYMfVva8OGinJts3YAdO9e9bXpbkuqgw1UjJ8e1D72ulMx9ipfC7CFLZSQ+JBHPvm1JorU1JYkSVJLZHKHJLVc7YEZwM+BY0i8L57SO90hhAuAWcAoYG+gGNgH+BrwJtA3xXb+G/gnMBzIAnKAw4HxwD9CCJWnkCgCPgF2vNNamHxdeStKpV/tblulJIccqp4ho7LKs2gUNEKCxCtFhWxMJpwcnJnNwbUsFXN2peSPPxVs4p2S3YfCtljG/25eT+WFWApizbN8qHXYUilBo31OTq31c9tV1Nlc0MA1zqvx/Ky5jLvzfgCyMjP53bf/i4xaEqskSVKz5z2WGmbhQhg7tuL1//0f5OXVv70tWyrK7ate5nInubkV5c2bG68tqQ62UDH22lP72MulYuxtZuexl862JEmSWiKfQEtSy/VV4GjgKqBzjLEb0BOYW9NFIYQDgXuBbOAN4LgYYyegA3AWiYd/v0yh/2OAnyS3vWKMXYF84IfJ85+l4hNkxBhfiTH2Ah5MHnowxthrl+2VFPpVCzCt0pIsNc3ascOZ7XIZkJ14Q35rjFy/YQ0/27yBpwsLeH77NiZv3cRV61czp6SIfTIqnmfXnsYipd+iZSu55Pv/j5LSUgBu/cqXOPmow5s4KkmSlAbeY6n+Pv4Yzj23IhHiuuvgoouaNiZJkiRJrUotiytKkpqxjsAXYoxP7jgQY1wLEEKNb3l/j8RDxlXAWTHGdclrI/BMCGEoMCeF/vOBCTHG8ZX63wSMCyH0B0YAlwKT6vA91SqEMCuVes/12Ded3TZ7uSGwOTkDRxGR3FrSHooqzdbRoebxUmdry0p5Lbl0SjYwpF1uzReQWJplQqdu3Lp5Pa8Vb6cYmLq9gKnbC3aqd1hWNtd06My3Nq0FoJMzJbQJHXPbs35z4hNahUVFdMyqeUxt217xAdVOHWoff3Xx3oefMPTrt7B2Y+Kh/dcvPpdvfWlEWvuQJElNps3dY6V6f0VrXg5x0aLEVp2BA2H//WtuY906+NznYOnSxOuRI+H22xseW8eOFeXCFJYb3FZp1rpOnRqvLakOOlIx9gqpfexto2LsdWLnsZfOtiRJkloikzskqeVaUPmhYypC4onkhcmXd+x46FhZjPHtEMJDwOW1NLedxHTFVXmcxIPHo+sSn+qvY8hgc0zMIrCxrIzczOqTHkpjZGvy4WwW0D7N819MLyxgx2Ipn8lpn3ICRseMDH7SpTuvFhXydGEBb5UUsaGsjHYhsH9mFkPadeDc9h2YW1zxxn3XnWalVmuV3ymvPLljzcZNdKwhYaOkpJRNBYmkoOysLPJyU5hyOkXvf7Kas752Mx+sTiQXXXvBMH55w9Vpa1+SJDU577HaoilTYMKE6s/ffTeMHl39+Y0bE4kd8+YlXp97Ltx/P2Sm4V4lP7+ivGZN7fXXrq362nS3JdVBPhXjZw21j721VIy9ytdCIrkjiyxKKGEDGyihhKwa3uKoqS1JkqSWyOQOSWq5/lWPaw6E8rvZF2qoN4PaHzwuiDFuqebch8l9t9RDS02M8dhU6j3fs3cr/mjZ7vpkZvFRWSK54+PSUnplVv8rfnVZaXnyRe/MrNo+hVhn07ZXfDJmWApLsuzq5Jz2nJxT/Rvyy0tLysuHZ2fXuX21PIfsty/vffgJAMs+WkXfffautu7K1WsoLU2M8IP79Erb+P5w9VrO+toPWPbRKgCuOmcIv/3vr6SlbUmS1Gy0uXusVO+vArSp+6uUbd4MQ4fCrOQEKEOHwsMPQ7ruUw49tKK8bFnt9Zcvr/pagD59IDc3MSPHBx9ASQlk1fBouKa2pDroQx9yyWUb2/iAD2pNyFhOxdg7lJ3HXgYZHMRBvM3blFLKSlbSl771akuSJKklMrlDklquVfW4pmel8ofV1oIPUmhrcw3ndrz77u+ZPaRvVhb/SS6F8k5JMZ/OaVdt3bdLiiuuqyEJpD7mFxfxfjL5Yq+MTI7Nrj6O+pqT/D4BjsrKSXv7an76HXgA02fOBuCNRUsYNPCoauvOemvxTtelw8dr13PW137A4pUfAXDZsEFM/O5X054YJUmSmpz3WG3R+PGJra62bIHhw2HmzMTrwYPhscegXRrvgXr1gu7dE7NorFiRmHGjR4/q67/+ekW5f/+dz2VkwJFHJhJRSkpgzhw4tobcnprakuoggwyO5EhmMYsSSpjDHI6l+rH3OhVjrz+7j73+9Odt3gZgFrNqTO6orS1JrU9xcSkPTZ7LE1MW8u7CNWxYV0i3nh3oP2BvRnypP+eOOiKtz3NKS8t4fMpCnnp4EXNe/4h1qwvIzcum9/6dGXLOwVw2dgC99+9SYxvbCor594srmPOfj5jzn49YsXQ969ZsY8O6beS0y6JnrzyOGtiLs0cezvARh5FZw4zNklo/fwJIUstV2sDr/eRVK3J8pSSK/1RKfqjKf4oqzp9QwwwZ9TGtsKC8PLRdLhlpfvN7Y1kp/07G3zEETmuX3vjVPH3upAHl5R1JHtV5+t9vlJeHnjSwwX2vXr+Rz13/A95ekXg/ZtSQzzDp5q+TkeJyQ5IkqUXxHkupKSiAc86BfyUnezn9dHjySWjfCPcnQ4cm9jHC9Ok1x/TSS4lybi6ccUb1bQE8/XT1bcW48/lhw1KPV6rCUCrG3tNUP/Yicafzw9h97KXaFsA0ptXYlqTW5f1lGzj3xMl8Z+xU/vXcclZ9vJWiolI+/mAzz/x9Mddd8hhf/NwDbNxQmJb+li1Zz/BjJ/H1Lz3B04+/w8cfbKaoqJSN6wtZOGcVt9/2CoP7/ZFH/jKvxnb+/eIKLh/+ID+/5UX++eS7vL1gDas/2UpxcRlbtxSxbPF6nnzoLb4y6lGGDZzE4kUpLK8mqdXyqbQktS2rK5X3raFe78YOROk1ILsd+SHxa/2N4u28V2l2jsrWl5XyXHLZlBzglDQmdxTGMmYUJdoO1G9JltrcsXUT25PPzM9rn0f74J8ybcFnBx5Fz66JTzk8+585LFi6osp6q9Zt4MFnXgagfU4OXzj9hAb1u27jZoZ+/RYWvvc+ABcMOpk/j7uRzHSsny5JkloL77HamsJCOO88eCG5Cs+pp8JTT0GH9N//AHDxxRXl229PJF5UZfJk2LQpUT77bMjL273OqFEV5YkTE99LVaZOhcXJGfGOOw4OPLDOYUuVjaJi7E1kIoVUPfamMpXFJMbecRzHgew+9s7nfHJIzOL5AA+wqppJl+Yzn+d4DoBe9OIMqkh4ktRqbNxQyOXDH2T+7MSyvocc0Z2bfzaY3z1wHv/9o9PZd7/OALz0zDKuGfFXSkrKamquVp98tIWLBt3LwjmJn0G99+/MjeNP4/dTzucXk87mwsv7k5WVwdYtRdw4+u889ddFtbZ56JE9GDX6aL77k89y+71fYOIjI/jZXZ/nyusGkt8tF4C35q5i5Bn3surj6lbyk9Ta+Y6IJLUtS4ENyfKgGurVdK6hdvzl7HoGaZQZApd16AgkPi74k80b2Fy2801KUYz8dPMGCpPJEefn5tGlmtkHfrp5PYPXfMjgNR8yeeumlGJ4YXshBckHjcdk57BPHZd8WVhcRFE1DyqLYuT3WzYyPZmYsn9mFpd36FSn9tVyZWVl8t0rLwIgxshVP/w16zftfBNbuL2Iq370G7ZuSzwkvG7k5+nepXOV7Y350W/IOvk8sk4+jwl3PVBlnY1btjL8hnHMXbwMgC+cfiL3/+hbZGWZ2CFJknbiPVZbUlQEF14IzzyTeH3iifCPf0DHjvVrb9AgCCGxTZ5cdZ1zz4WByRnpZs6EH/1o9zpz58L3vpcoZ2TALbdU3dYxx8D55yfKK1bA174Gu9w3smIF/Nd/Vbyuz5I1alNGM5qQ/BrP+CrrHMMxnE9i7K1gBV/ja5Sx89hbwQr+i4qxV11bPenJdVwHwBa2MJrRuyWLrGc9V3AFMfn842ZuJhPv5aTW7FcTXmLxorUADBp2IFPf+DJf+dZJnHdJP75x82d4+s0v03/A3gC88vxy7p34Rk3N1Wr8Df/ko5WJFfU+c2ZfCWujjQAAIABJREFUnl84lhvHncYXLj6Si686ht/8+Qs8POMycjtkU1YW+Z9rp1Y7Y8inj9+HWR9+necWjOWXd5/DV79zMiMu68/ZFx7OpV/+NLf9bhgvvfsVBpyYyCNes6qAX014qUHxS2q5XKdTktqQGGMMIfwNGAN8JYTwmxjj+sp1QgiHQKWPVKTfjkyB/Ebso036Qvs8XtxeyLySIt4tLeaaDas5p30Hemdmsbq0lKnbC1hemliq+4DMLL6Um97kiMpLsgxvV/dPrd1bsJkFJUWcmNOew7Oy6ZaRyfYYWV5awozt2/i4LDFLdo+MDG7t3I2cNC/5oubtKyOG8bcZr/Dymwt54+0lDLziG1xz/lAO7rMPK1et5e4n/8lby1YCcOSn9uP7VzXsx9jZ35zArEVLANi3RzcuPet0/vGv12u8Jrd9Oz534oAqz81+eyl/m/HKTsdeenNBefnRGa+yeOVHO50fc+5ZfGrfvesTviRJ2kO8x2pjRo9OJHMAdOqUSIJ47rnar9uRUFEfIcCddyaWfikogHHjEsvBjByZmJ3jtdfgrrtg69ZE/e9+F446qvr2fv1rePVV+OQT+NOfYP58uPxy6N4d5s1LzOixNvHmGJddlpgFRK3Se7zHn/jTTsfmMre8/BzPUULJTucv5EIGUPU9T21+za95lVf5hE/4E39iPvO5nMvpTnfmMY+JTGQtibF3GZdxNtWPvXGMYxrTWMQipjKVgQzkaq6mN71ZzGImMpH3SczAOIhBjGVsvWKW1DKsWbWVP/8+kazRIS+bX99zLu3b7/z2Z9duufz6z+dy1tF3ESPcfuu/uPwrA8nMrPtn4D/5aAt/f/gtANrnZvHb+8+jQ17ObvWOP3U/bhx/Grd9+znWr93Gnb+YyX//aPdZhLp2r/05atduufz4jmEMGzgJgGefWlLnuCW1DiZ3SFLb82PgUmBvYHoIYWyMcXYIIQCfBe4CCoB2jdT//OT+tBDC4THG2uekU0qyQ+DWzt0Yv3kds4uLWFVWyqSCzbvVOyQzmx927krHambtqI8PSkuYW1IEQF4InN4ut17tbI6RZ7Zv45nkDB27+nR2Dv/dMb/Os4Ko5cvJzubRn36fUd/7Kc/Pmsv7n6zhlon37VZv4GEH8chPvkuXjlVMQ10H/57/dnn5wzXruPQHP6v1mgN67cWSR/9Y5bm5i9/jx5Mfrvbav7/8H/7+8n92Onbm8ceY3CFJUsvgPVZb8UqlZN3NmxPJHqmobimVVB17LDz+OHzxi7B6NUyfntgqCwFuvLHqmT0qO+CAxLIrI0fC0qWJ2UBmzty93he/CJMmNSxuNWvLWc5t3Fbt+ZeSX5UdzMH1Tu44gAOYylRGMpKlLGVm8mtXX+SLTKLmsZdPPlOZyghGMJvZvMVb3MRNu9UbwhAe5mGyya5XzJJahmmPvUNRUeJDYedd2o8ee1X9TOjw/ntx6uC+vPzsMlZ9vJV/v7CCUwf3rXN/r85YXv6r/YyhB1bbH8DIK/pz27cTiaCPPbCwyuSOVB1yZI/y8mqXZZHaLJdlkaQ2Jsa4GLgCKAGOA94IIWwCtgDPAjnAjcnq2xshhL+SWJe6K/BWCGF1CGFZcjupEfprUzplZPDzzt35QaeunJTdju4ZGWQDXUMGA7JzuLFjF36f34O905wc8XRhATseVw5ul0u7esyqMTqvE1d26MSns3PolZFJOwK5IdAnI5Oh7XL5cedu/LJLDxM72rCunTsy/f9+yP0/+hafP+U49u3RjZzsLPbuls9njz2aP/zPV3nlrp+xf6+eTR2qJElqQ7zH0h4xZAgsWAATJiSWacnPh/bt4cADE0km//oX/PzniSSP2gwYkFjK5Re/gJNPhh49oF072G8/uOiiRPLHffdBzu6fQpYaYgADmMtcfsEvOJmT6UEP2tGO/diPi7iIqUzlPu4jh9rHXl/6MpOZ3MmdDGYwe7M3OeSwL/tyNmczhSlMZzr5TmoktXovTl9aXh407MAa61Y+//y0pTXUrN6O5VgADjqse411e+7dkU6dE/m9y5esZ8nba+vV547ry9vtVc8l4SS1eL47IkltUIzxkRDCu8D3Saz93AX4AHgCuA34TLLqhiobaFjf60MIpwPjgNOAvYAdacft091fWxRC4LPtcvlsPWfPAPhOp658p1PXlOuPyevMmLzO9e4P4NCsHA7NygHSu1yMWpcQAqOGnMaoIafVu41JP/gGk37wjRrrlLz6eL3br8qVZ5/JlWefmdY2JUlS8+E9VhuxbFl625sxo271e/aEW25JbA2Vl5eY6ePGG2uvq1ZpEIOINHBWGWBy8itVeeRxY/KrobLJ5prkl6S26+35q8vLRx/bq8a6Rx+3T5XX1UVswIxcb81bVWtCSFUKthZxy9f/Wf56+IjD6h2DpJYtrckdyekmRwGXA58GegLrgIXAA8DkGGNJ9S2k3M8MoD5zF10VY5xcQ7t7JH5JaogY46AU6swAavy4ToxxDtWs+xxCOC5ZXFDFdeOB8Q3pPzlN8KU1tSFJkiTVRUt8JpGM+RTg+OR2BIm4ewCRRPzzgKeAe2OMaU8MkPdYkiRJLVVZWWT5ksSfyJmZgX361Pzhsz4HdCkvL31nXb363KvSrBlL36l5Jo7Vn2xh86aKiduWvl1zn1u3FPHSM+8BiVXdtmzazltzV/H4Awv55KPEUiz9Pr03N46v/4eeJLVsaUvuCCF0BR4BBu9yqldyGwz8VwjhghjjinT1W0fVzrHUQuKXpEYXQugJXJ18Oa0pY5EkSZJS0ULu6at6JtEOeLmGa3ont2HALSGEa2KM6Z1eSo3OeyxJkqTGsXVLESUlZQB0zm9PVlZGjfW7dq+Y6XjThsJ69XncqX3Kyy88/R5rV2+le8+8Kuv+9S/zd3q9sZY+P1q5iasv+GuV5/K75XLRlUfx7VvPILdDdh2jltRapCW5I4SQAzxOYupHgPeBO4HFQB9gDIlPnwwEpoYQTo4xbmpAlzdTMb1kTU4FvpUsLwFeqqpSE8QvSU0qhPB1oAOJB+DLYowlIYR2wJnAL0hM47samNR0UUqSJEm1a+nPJJI+AGYCc4HlwGYSf68fDlwEHEJiRo+/hhCGxxj/WV1DahreY0mSJO15W7cUlZfbta/9Lc/2uRV1tm4uqqFm9foe1JVTPnsArzy/nG0FxVx/2RP86bGRuyVczPr3B/xy/M63AFsqzeJRV8ed0puTzth/p+9BUtuTrp8A/0XFQ5Q3gCExxvU7ToYQfgs8BgwFjgR+APx3fTuLMdb0qZZyIYRLKr28O1a/ENYejV+SmoEDgW8APwZKQwgbgc5U/F7YCIyKMdY8r5wkSZLU9FryM4kioF+McWEN7dwC/B+J7zMTuJ1EsoqaF++xJEmS2ogf3n4WXzjpHgq2FvPiP99jcL87uXjMMRx0WDe2FZTw6ozlPHb/AoqLyzjgwHyWL00sHZORUeMqfxx8eA9Wxu8BUFpaxvq123jztQ+5+7ezeObvi3nm74s5e+Th/GryOXTIy2n071NS89Pg5I4QQhbw/eTLCFxR+SEKQIyxMIRwBYkpSPOA60MIP2nMG9rklKznJ1+WAfdUU69Zxi9JjeweoBQ4ncQ0z92BbcB7wNPAb2KMHzRdeJIkSVLtmus9farPJGKMZUC1iR3JOqUhhG8Ao0j83X54COHAGGO1S8+qSXiPJUmSlCaLF61h8aLq/1w/amAveu/fhbyOFQkO2wtLam23cFtFnbxO9U+OOLz/Xvxl6sVcO/JvrFlVwPvLNvLzW17cqU4IcMMtn2Hr5iL++KvXAOjSNbeq5qqUmZlBj73yGHLOIQw55xB+9oMX+M2t/+KpRxYRAvzhoRH1jl9Sy5WOmTsGk5gaFODZGOOCqirFGFeFEKYAXyaxpux5NO5UlF9M9gPwzxjjymrqNdf4JanRxBhnA7ObOg5JkiSpgZrrPX2qzyRSEmMsDiG8SyJhAKAXiWQVNRPeY0mSpJasN7c1dQg7+eOU8UyYcGe15++++25OGD2aso5lZGX9hpKSEjZtKGLvkglkZVX/1ud7a98jsWIedMvft0Hf94jT4Mx3fsvEiRN58sknWbhwIZs3b6Znz56cdtppXH/99Zx66qlceeWVQCK545BeF9Obr9erv19OKGPqQ0fwzjvv8PeHF7Fx4WUceeSR9Y5fUsuUkYY2PlepPK2WupXPD0tD3zUZU6lc0wOb5hq/JEmSJEmqWXO9p0/1mURKQggZQN9Khz5uaJuSJElSS5eRkcFBBx0EQGlpKStX1pxTvXz58vLyoYce2uD+u3Tpwre//W1eeukl1q5dS1FRER988AFTpkzh1FNPBWDhwoqJ+o4//vh695WRkcFZZ51V/vqFF16of+CSWqx0JHf0r1SeVUvd16u5Lq1CCEcDA5Mv1wGP11C92cUvSZIkSZJS0uzu6ev4TCKV9gJwK4nZOgDedEkWSZIktWbjx48nxljtNnr06PK6/ftX/Gk/a1bNtwSvv15xS1D5usayfv165s6dC0BeXh4DBgxoUHudOnUqL2/YsKFBbUlqmdKR3FE5tW1ZLXVXklh/FOCQ5AOKxlD5EzL3xRi311C3OcYvSZIkSZJq1xzv6evyTGInIYRhIYTzk9sXQwi3kFjq47vJKmtJLC0jSZIkCRg6dGh5+emnn66x7rRpFZP5DRvW+BP033///RQVFQFw2WWX0b59+wa1t3jx4vJyjx49GtSWpJYpHckd+ZXKa2qqGGMsATYlX2YBeWnofychhGzgskqHapv+tFnFL0mSJEmSUtas7unr8UxiV5OBR5PbfcAE4BigCHgEOD7G+EbDI5UkSZJah/PPP5+cnBwAHnjgAVatWlVlvfnz5/Pcc88B0KtXL84444xGjWvVqlVMmDABgOzsbG644YYGtbdy5Ur+8Y9/lL8+5ZRTGtSepJYpHckdHSuVC1Oov61SuVO1tervC8COdLXZMcY3a6nf3OKXJEmSJEmpaW739HV9JpGqRcAzQNVPqiVJkqQ2qmfPnlx33XUAbNmyhdGjR1NYuPOtwfr167niiiuIMQJw8803k5mZWWV7gwYNIoRACIHJkydXWWfbtm289tpr1ca0ZMkSzjrrLFavXg3A97//fY444ogq637nO99h+fLlNX6PS5Ys4ZxzzqGgoACAM844g379+tV4jaTWKaupA2gEV1Uq1/UTMpIkSZIkSfXVoGcSMcZeAMklYzoB/YEvAWOBPwDXhxDOizEuSUOskiRJUqswbtw4pk2bxqJFi5g6dSoDBw7k6quvpnfv3ixevJiJEyfy/vvvA4nkjbFjxzaov61bt3LiiSfSr18/hg0bRr9+/ejUqRNr1qzhxRdf5NFHHy1PMLn00ku5+eabq21r4sSJ/OxnP+Okk07ilFNO4bDDDiM/P5+SkhI+/PBDXn75Zf7xj3+UL+/Sq1cv7rrrrgbFL6nlSkdyxxaga7LcPvm6JrmVypvT0H+5EMI+wI5FsraTmMK0Ns0mfkmSJEmSVCfN5p6+ns8kqhQTHyncBLwCvBJCeBx4CugH/DOEcFSMcWsDQ5YkSZJahfz8fKZOncqIESOYPXs2b731FjfddNNu9YYMGcLDDz9MdnZ2WvpdsGABCxYsqPJcTk4O3/72t5kwYQIZGTUvpBBj5NVXX+XVV1+tsd6gQYO46667OOigg+ods6SWLR3JHRuoeJDSgxoepIQQsoDOyZfFQLofRFwB7JhH6bEY4/oUrmlO8UuSJEmSpNQ1p3v6+jyTSEmM8ekQwmTgy8Cnkn3dka72JUmSpJaub9++zJw5k8mTJzNlyhQWLFjA+vXr6dGjBwMGDODyyy9n1KhRJCbJa5iuXbvy4IMP8txzzzFz5kw++ugj1q1bR35+PgcccADDhw/nyiuvTCkJ48033+Tpp5/mlVdeYd68eaxYsYKNGzeSmZlJly5dOOiggzj++OMZNWoUp556aoNjl9SypSO54x0SDxYA+gLLaqjbh4oHHYvjjsWt0qc+0582p/glSZIkSVLqmtM9fWMvEzuNRHIHwCBM7pAkSZJ2kp2dzTXXXMM111xT7zZmzJhRa53MzExGjRrFqFGj6t3PDn379uXaa6/l2muvbXBbklq/mucBSs38SuVja6l7XDXXNVgI4RTgsOTLFcAzKV7aLOKXJEmSJEl11izu6RvwTKIuKi8jk98I7UuSJEmSpGYsHckdT1cqD62l7rBK5Wlp6LuyMZXK98QYy1K8rrnEL0mSJEmS6qa53NPX95lEXRxcqbymEdqXJEmSJEnNWDqSO54HVifLQ0II/aqqFELYC7gk+bIQeDwNfe9ouwOwY+6jCNxdh8ubPH5JkiRJklQvTX5P38BnEqn2kUHFkiwAr6S7D0mSJEmS1Lw1OLkjxlgC3JZ8GYA/hxC6Vq4TQmgP3APkJQ/9Nsa4tqr2QgiTQwgxuY1PMYyLgE7J8owY43tNFb8kSZIkSdozWvoziRDCDSGEk2qp0wn4CzAgeWgdMCXVPiRJkiRJUuuQlaZ27gAuBE4DBgJzQggTgcVAHxKfLjkiWXchcGua+t3hqkrlSfW4vqnjlyRJkiRJ9dPU9/QNeSYxCPhVCOFd4DlgPoklV0qBniS+nwuAbsn6JcDVfuBEkiRJkqS2Jy3JHTHGohDCecAjwGBgP6p+WPIGcEGMcWM6+gUIIRwEnJ58uRH4a13baMr4JUmSJElS/bX0ZxJJhyS3miwFro0xPlPPPiRJkiRJUguWrpk7iDGuDyEMIbHO7OUkpgvtAawHFpCYMvTu5JSp6TSaxNSrAFNijNvq00gTxi9JkiRJkhqgBT+TuAo4i0SCyKeBA4HuJJbR3Qy8D8wGngD+HmMsSkPMkiRJkiSpBQoxxqaOoc07Ztyz/kdQizBnwpmh9lpS8/B8z97+bFWrdfqTdzR1CFKjyTzpC/69UYPDfz3c329qFRbdMNX/16UWJIC/f9RqRX8jqTWLOMLbBn9PS1LLU6/f0RnpjkKSJEmSJEmSJEmSJEnpY3KHJOn/s3ff8bJV9d3HP186KFUpBhFEUdRgUIgYI4ogotFQxI4ReEzsLSbGLteoCfrEFjWKFXw0iiViQ7EAChZEUaOoqMhFBaQJXHr9PX/sdTzDMHPaPefMnHs+79drXrutvfZv9pm5d689v72WJEmSJEmSJEmSpDFmcockSZIkSZIkSZIkSdIYM7lDkiRJkiRJkiRJkiRpjJncIUmSJEmSJEmSJEmSNMZM7pAkSZIkSZIkSZIkSRpjJndIkiRJkiRJkiRJkiSNMZM7JEmSJEmSJEmSJEmSxpjJHZIkSZIkSZIkSZIkSWPM5A5JkiRJkiRJkiRJkqQxZnKHJEmSJEmSJEmSJEnSGDO5Q5IkSZIkSZIkSZIkaYyZ3CFJkiRJkiRJkiRJkjTGTO6QJEmSJEmSJEmSJEkaYyZ3SJIkSZIkSZIkSZIkjTGTOyRJkiRJkiRJkiRJksaYyR2SJEmSJEmSJEmSJEljzOQOSZIkSZIkSZIkSZKkMWZyhyRJkiRJkiRJkiRJ0hgzuUOSJEmSJEmSJEmSJGmMmdwhSZIkSZIkSZIkSZI0xkzukCRJkiRJkiRJkiRJGmMmd0iSJEmSJEmSJEmSJI0xkzskSZIkSZIkSZIkSZLGmMkdkiRJkiRJkiRJkiRJY8zkDkmSJEmSJEmSJEmSpDFmcockSZIkSZIkSZIkSdIYM7lDkiRJkiRJkiRJkiRpjJncIUmSJEmSJEmSJEmSNMZM7pAkSZIkSZIkSZIkSRpjJndIkiRJkiRJkiRJkiSNMZM7JEmSJEmSJEmSJEmSxpjJHZIkSZIkSZIkSZIkSWPM5A5JkiRJkiRJkiRJkqQxZnKHJEmSJEmSJEmSJEnSGDO5Q5IkSZIkSZIkSZIkaYyZ3CFJkiRJkiRJkiRJkjTGTO6QJEmSJEmSJEmSJEkaYyZ3SJIkSZIkSZIkSZIkjTGTOyRJkiRJkiRJkiRJksaYyR2SJEmSJEmSJEmSJEljzOQOSZIkSZIkSZIkSZKkMWZyhyRJkiRJkiRJkiRJ0hgzuUOSJEmSJEmSJEmSJGmMmdwhSZIkSZIkSZIkSZI0xkzukCRJkiRJkiRJkiRJGmMmd0iSJEmSJEmSJEmSJI0xkzskSZIkSZIkSZIkSZLGmMkdkiRJkiRJkiRJkiRJY8zkDkmSJEmSJEmSJEmSpDFmcockSZIkSZIkSZIkSdIYM7lDkiRJkiRJkiRJkiRpjJncIUmSJEmSJEmSJEmSNMZM7pAkSZIkSZIkSZIkSRpjJndIkiRJkiRJkiRJkiSNMZM7JEmSJEmSJEmSJEmSxpjJHZIkSZIkSZIkSZIkSWPM5A5JkiRJkiRJkiRJkqQxZnKHJEmSJEmSJEmSJEnSGFtn1AFIkrQQHnbxeRl1DMtBkh8AVNVuo45Fmm9+viVJkjoFtq8WidegI1CjDmD58PMtSZK0euy5Q5IkSZIkSZIkSZIkaYyZ3CFJkiRJkiRJkiRJkjTGTO6QJEmSJEmSJEmSJEkaYyZ3SJIkSZIkSZIkSZIkjTGTOyRJkiRJkiRJkiRJksaYyR2SJEmSJEmSJEmSJEljzOQOSZIkSZIkSZIkSZKkMWZyhyRJkiRJkiRJkiRJ0hgzuUOSJEmSJEmSJEmSJGmMrTPqACRJ0tJVVbuNOgZpofj5liRJ0mLzGlRrMj/fkiRJq8eeOyRJkiRJkiRJkiRJksaYyR2SJEmSJEmSJEmSJEljzOQOSZIkSZIkSZIkSZKkMWZyhyRJkiRJkiRJkiRJ0hgzuUOSJEmSJEmSJEmSJGmMmdwhSZIkSZIkSZIkSZI0xkzukCRpmUqydpIXJ/lhkquTVHsdmOTkNr9ino41r/VJiynJ4Um+k2RVz/fkRW3b0W356Hk61rzWJ0mSpMWzkNdySfZM8sUkFye5uR3nuPk+jjRMkr0m2kMLUPeKVvfJ8123JEnSmmSdUQcgSZJG5m3A89r8DcCFbf660YQjjZ8k/wT8R1u8CbgIKODqkQUlSZKkZSXJA4ET6e7lFnApcDNwWdu+ohU9uqpWjiBEaaSSHAjsCvyoqkx6kiRJayyTOyRJWoaSbAw8sy3+C/AfVVU9258CnAVcMoLwpHHykjb9T+Cfq+rGvu0X0H1XLljUqCRJkrScvIjuPu63gP2r6o99249o05OBlYsXlpaZa+jaPuPoQOBQ4BjA5A5JkrTGMrlDkqTlaWdg3Tb/7t7EDoCqetrihySNlyRbAlu3xfcNSOygql4OvHxRA5MkSdJys0ubfnxAYoe0KKrqe3T3EiRJkjQia406AEmSNBIbTcxU1VWjDEQaYxv1zPs9kSRJ0qhMXJd6TSpJkiQtYyZ3SJK0jCQ5LEnRddc7sa56Xie3dSe35RUD6lgnyTNamUuS3Jjk0iRnJTk2ydOniSFJ/iHJaUlWJbkyyXeSPHV+362Wgt7P2up8NpI8NskXklyY5IY2/UKSg+YQ017te7KyZ/U5Pd+TlT1lj27rjh5S1xOTfKnFc2OSy5P8Ksnnkjw3yQbTxPK4do7+mOSaJD9K8sIkXsdLkiQtMUl2SPK2JGcmuapd3/0iyduT3GVA+WrXpTu0VR/qa78d3bZPOKlv+8pFeFtaA/S1y9ZN8k9Jvt/aL9XaSHv1fCaH1bNLuy/whyTXJflNknck2Wom+/fUs0+SLya5uNXz8yRH9Lefetpuh7ZVh/Z9ByrJXqt1ciRJksaIw7JIkrS8XAtcCKwHbN7WXdizfcoufpOsDRwP7Nuz+grgdsAWwD2AJwAfGFLF2sBngAOAm+jG7N0YeCDwwCQ7VdURQ/bVmm1On40k6wEfBp7YVt1C95m8I/Bo4NFJPgYcOmhYlSFuoPterN3qAbgEuLnNXzyTSpJ8EDi8Z9VVdMMh3b29/hb4IkPGRU/yTuC57T2tAjYE/gJ4G3B/Jm9gSpIkacwlOYSunbR+W3U93XXePdvr8CSPq6qv9Ow20Vbbku4hvVV0bboJN7cyE0MJXkZ3LTthRtetUo8N6B4GeRBdu+xKYNpkDICWWH8sk0PAXgXcCXgecDDwihnW8xLgjW3xCrr7FzsDK4CHJtm3qibaZhNtt01b7Ne1fXrdgCRJ0hrC5I4x8OPX7pNRxyBJWh6q6ljg2Pbkyklt3TazqOLJdIkd19HdoDm2qq5KErobjn8NPGWK/Z9Ld1PyMOATVXVtkjsD/0X3Q/erknykqn41qzemNcFcPxv/RpfYUcDrgbdU1eVJNgf+me4G4pOB3wIvm0kgVfVtYJskOwDntNV/WVUrZ/pmkjyYLrHjFuDlwPsnxkdPcgdgN7rvyrAbjfvTJU29GPhAVa1q+x0J/D3wtCTHVNWJM41Ja4ZfvOhLth0kSVpikuxLl5B8C/Am4N3AuW3zPYDXAY8HPplkl6r6LUy21VoPHNsDL6yqowfUP/Hj+2Or6uQFeyNaDp7bpofTtfevbe2QAu47bKckOwIfoUvsOAN4RlX9oN0r2Ad4P/CWGRz/L4A96do9b6mqS5JsAvwT8BrgYXRJ7h+EW7Xdjm7rj62qw2b1jiVJkpYQu3OWJEmz8aA2/XBVfaCqrgKozkVV9ZmqevwU+28OHFRVx1TVtW3f39PdyDyf7trkCQsYv8bXrD8bSbYFXtgWj6yq11TV5W3fy6rqlUzeQHxxkjstwvuYMPFd+VpVvWkisaPFdmlVfaWqDquq84fsvznwzKp6a1Wt6tnvH4AftDJPXrDoJUmSNC/acHrvoruefW5VvbSqVtaks6rqCcDngE3oknulUbk98JSqOrqnXXZpb3tmiFcAGwEXAftW1Q/avlVVXwP2a9unsxnwuqp6RVVd0upY1Xpx/J9WxnaQJElatkzukCRJs3F5m86mt49e36qqk/pXVtX1wAltcejTQFqjzeWzcTBdT3TX0T3ZNcjr6bq8Xhd43PyEOiMT35Ut23AriS1pAAAgAElEQVRGs/U74Jgh2z7Xpn5XJEmSxt9DgJ3ohvl7/xTlPtym+y14RNJwZ1bV52ezQ+ud4+C2+O5BiSBVdRbwiRlUdz3wH0O2fbZNbQdJkqRly+QOSZI0G8fTdce6f5IvJXlykj+bxf6nTbFtogeDLeYcnZayuXw2dm/T0yd6t+hXVZcB3+8rvxi+Tpd0cj/glCRPT3LXWex/elUNG9va74okSdLS8ddtuilwfpI/DHoB72vlth9NmBIA35rDPjvS9bgB8I0pyp08g7rOnOghdADbQZIkadkzuUOSJM1YVZ0KvBS4AXgk8N/AeUl+l+RDSR42TRVXTrHtpjZdd/Uj1RI0l8/GVm163jR1/76v/IKrqrOBvweuAv6K7inN3yS5KMmxSQ5oT7gN43dFkiRpzTCRDL8usPUUr81buQ0XO0Cpx0Vz2GfLnvlhw07C9O02mFk7aJ0Z1CNJkrRGMrlDkiTNSlX9X+CuwD8Cx9Hd/LkzcBhwYpJPJvFHZy17VfVRuicvnwUcSzfUypbAE+i+O99IssnoIpQkSdIimBii77SqykxeI41Wy93Nq7n/sN4HJUmSNA9M7pAkSbNWVedX1duq6qCq2ppuzNuJ8aMfBzx7dNFpGZl4quzO05Sb2D6Xp9BWS1X9saqOqqonVdVdgLsDR9Ld9NwTWLHYMUmSJGlR/aFNHW5Fa6qLe+anGrZ124UORJIkaU1ncockSVptVfWTqvoHJsfn3XeU8WjZ+H6b7p5k00EFkmwG7N4WT1+UqKZQVWdX1cvphjQCvyuSJElruok20jZJdp+y5NxN9JZgrx8ahd8Al7f5vaYoN9W21XVLm/odkCRJazSTOyRJ0owlWX+aIte26S1TlpLmx6fpxl3eAHjpkDKvANYHbmzlF4XfFUmSJDUnAb9u829Nst5UhZNsMYdjrGrTzeawr7RaqqqA/2mLz0qyeX+ZJDvRDU+5UPwOSJKkZcHkDkmSNBvHJflgkke1HhGA7gZkklcB+7RVXxxNeFpOquo84O1t8WVJXjvxuUyyWZLXAS9p299SVRcsYnjvTPKJJAcn2WpiZZLbJ3kW8LS2yu+KJEnSGqyqbgKeRZeU/GDgm0n2SbLuRJkkOyZ5VpLTgefM4TA/bdNDkmy02kFLs/fvdAnsWwNfSXI/gHT2Bk4ArlnA4098B/ZMsvMCHkeSJGmkTO6QJEmzsSFwOHA8cFmSK5JcAVwKvI6uC9RPAe8fXYhaZl4BfILus/ca4NIkf6T7TL6qlfkY8OpFjmtd4PF034cLk1yZ5DLgSuDdwHrAqcAbFjkuSZIkLbKq+jrdteGVwB7A14Crk1yS5DrgbLprxN2ZHGJlNt7TpgcDlyf5fZKVSU5d/eil6VXVr+kS2G+i+xyfkWQVcBXwdbr2z4tb8esXIIRPAxcDmwM/T3Jx+w6sTPLABTieJEnSSKwz6gAkSdKS8nzgUcBDgZ2AbeiGxDgf+D5wTFX9z/DdpflVVTcAT0zyCeDpdDcSN6dL7vg+8L6q+swIQnsd8APgYcC96L4rtwcuAn5Ml3Dy4aq6eQSxSZIkaZFV1XFJ7k7XM8ej6NpTmwFXA78ATqfr1e34OdT9kSQAzwR2Ae6ED/VpkVXVp5L8CnglsBewKXAe8Dm6pPYHt6KXL8CxL0vyEOAIYE9gK+CObfMG8308SZKkUUk3JJ4kSZIkSZIkSdL8S/IGup4XT6yqfaYrL2lW/KFPkpaezGUnM7glSZIkSZIkSdKCSLIl8Pdt8cujjEWSJGkps+cOSZIkSZIkSZI0Z0leAGwEfApYWVU3JVkf2Ad4M7AzcDFwr6q6dHSRSmskf+iTpKVnTj13rDPfUUiSJEmSJEmSpGVlR+CFwL8DNye5AtiEyd8grgCeYGKHJEnS3JncIUmSJEmSJEmSVscxwM3AQ4BtgTsA1wLnACcAb6+q80YXniRJ0tLnsCySJEmSJEmSJEnS0uQPfZK09MxpWJa15jsKSZIkSZIkSZIkSZIkzR+TOyRJkiRJkiRJkiRJksaYyR2SJEmSJEmSJEmSJEljzOQOSZIkSZIkSZIkSZKkMbbOqAOQJEmSJEmSJEmSNDtJPnr/+99/1GFIkmbpjDPO+GhVHTLb/UzukCRJkiRJkiRJkpagM84444xRx7BM7NymvxhpFNLC8TO+BKSqRh2DJEmSJEmSJEmSJI2lJD8AqKrdRh2LtBD8jC8Na406AEmSJGmcJNktyc1JKsnuo44HIMmDWzw3JrnPqOORJEmSFlOSFe16uJLsNep4FlKSA9v7vC7Jtgt4HNsYkiRJS4zJHZIkSVoykuzabuyuSLLrAh3mnXTXyZ+vqu8v0DFmpapOBU6kG1bxP0ccjiRJkrRaFum6fslJsgHw1rb43qo6b6GOZRtDkiRp6TG5Q5IkSUvJrsAR7TXvN4GTPBZ4YFtcMd/1r6YVbbp3kv1GGYgkSZK0mhb0un4Jew6wA3AdcOQiHG9Fm9rGkCRJWgJM7pAkSZImvbZNv1xVZ4w0kj5VdQpwalt87VRlJUmSpDVJVa2oqrTXyaOOZyEk2RB4WVs8uqrOX+hj2saQJElaWkzukCRJkoD2pNqft8UPjzKWKUzEtUeSB400EkmSJEnz6WnAlm1+MdsjtjEkSZKWCJM7JEmSpM6z2/RK4LOjDGQKnwKub/PPGWUgkiRJkubVRHvk7Kr6ziIe1zaGJEnSEmFyhyRJYyrJXkmqvVa0dfdI8q4kv0pyTZLzk3w+yV8P2P/RSb6Q5HdJrktybpL/SrLNDI+/VpInJDk2yTnteFcm+UWSdyfZZQZ13CXJ85J8MslZSa5KckOSi5KcnOSlSTadYTwHJPlEkt+0WK5Lcl6SH7f6n5PkDgP2O3niPM7gGFOWTbKi52+yV1u3T5KPtXN0Xdu2w4B975PkLUl+lOSPSa5v8X8uySFJhl6XJdmh57hHt3XbJnljkp+183pRkq8nefSA/R/c83e8rn1uPpzk7tOdk546Hpnk6PbZu7L9Dc5u6x48zb6H9cR/WFt37yRHtTquTXJpi//JSTKsDuBDPas/1FPvxGvlTN9TX/13AP6mLR5XVdfM8v3snuSYdo6vbd+3jyX58759107ylCQnJrmg/T1+meTIJJtMF2dVXQZ8qS0elOT2c3m/kiRJWp6SbNLaHx9I8sMklye5sbVRzkjy5iR3m2Wdeyd5b5Kf99R3cZJTkrw+yb17ys7pun5QW2yKeLZr19dn9LW9Pt+Ov/Y0+9+mXZjkSUm+muQPrb5zW1to59mcqymOuQvwF23xv2dQft7a2rYxJEmSlo51Rh2AJEmamSQH03WXulHP6g2BxwCPTvL0qvpQknWBo4DD+6q4C92TQAcl2bOqfj3Fse5G9/TOrgM237O9npHkDVX1miF17AWcCNzmh3q6rmYf2l7/lOSxVXXqgHIT4w5/ErhN0gLwZ+11X+BxwHrA24a9r3mWJO8EnjtNoXWANwPP47aJtRPx/y3w/CQHVtUfZnDgPYH/Ae7Ys/p2wN7A3kleW1UrWpLEvwKv6qviTsDf0X0W9q2q705xrC2Bj7e6++3YXocm+QDw7Kq6cQbxHwa8B1i/Z/UGE/ED+wGHTVfPPPsbYN02f9JsdkzyPOCt3Pra+i7tdVCSA6rqhCQbA8cCj+qrYifgpcABSR5SVRdPc8iTgAPp/i14OHDcbOKVJEnS8pRkPeAibn0dPmHz9rof8IIkL6qqd01T35Z0iQgPH7D5jsCD2+uVDG4Xzrskz6S7Nt+wb9NE2+sxwIuT7F9VK2dQ3wbAx+iuv3vdBTgUeFKSg6rqS7fZeXZ665+yPTJfbe0+tjEkSZKWAJM7JElaGnYDXgbcQJe88H26RIFHAk+mu6nzviSnAi+gS+z4X+AjwLnA1sAzgD8HtgGOprvJdhstseO7TCYOnAp8odWzdovlMLobf69OcktVrRhQ1QYtrjPpbhT9HLi0rd+O7sbRbnQ3n76QZNchN9f+jcnEjgvaezoTuAq4PXB34K+Ahwx6PwvoJXQ/0v+B7nz+lO7a6gG0Lm1bcsUngIPaPhfQJUr8GLgG2B54Et152AP4epK/nKrXCLqbiJ8BNgbeD5wC3Ej3/p9Ol6BwRJJvAPenS+z4TYvxl8BmdIkdf013/j6a5N5VdT19kmwBfAeYeHLvx3RJJb8GbqH7PB0GbNuOvQ7TJ2U8ii4R5wrgXcAPgWrxH97iPzTJN6vqgz37nUh3HvcGnt/WvaOt7zXVuZvKvj3z35vFfo8BHgtcTPf3+CndjeTH0n1u1weOTXJX4Bi69/8tuoSlC+g+A89t053pbkQ/dZpj9ibj7Ic3XiVJkjQza9Fdn54PfJWuzXgh3bX9dsCDgP3pruvfmeT8qvrMoIpaYsdpwF3bqivokiBOB1YBd6B7WOAxwJ17dl2w6/qW2PGenlWfB74IXA7cg669cVdgF+DUJPebQWL1B+narj+ga8v9lq6tfAjd+Vof+EiSe1bVJbONucdEe+QWuvb+VOarrd3LNoYkTaOqdht1DNJC8jO+NKRq2h7KJUnSCLSncXqf2Dkb2LuqfttX7hXAG9riGXRPWr0HeF5V3dJTbiO6GzYTw6nsUVXf66trLbqbcfenS1D4u6r65IDYtga+THez7hbgvlV1Zl+Z7YFNquonU7zHJ9Mla6wFHF1Vh/dtX5vuJtWmdMklD6iqi4bUtSVwh6r6Rd/6k+meWqKqpnxabLqy6YbHOaJn1anAo6tq1ZD6XshkTyIfAZ7Zn7jREkBeD7yirXpjVb2sr8wOwDk9qy4BHl5VP+4r9xTgo23xTLrElxOAJ/Qmb7Tz+iUmbyA+sao+MSD+z9DdGCzgH6vq7QPK3B74NPCItupRVfXlvjKHcetul38E7Nf/t0xyEF3yCMDPq+re9Omr6/CqOrq/zFwkOYvuhu+VwGa9351pYoAuGeSRrTvj3nLvBf6hLf6A7gbry6vqyL5yW9GdkzsBNwPbVdUFUxx/Pbob5usDP6yq+8/kPUqSJGl5a+2AfYETashN4ST3pWtDbEOXJL7ToGvjJMcz2SPd1+naHH8cUC7AAVV1XN/6w5jFdX1fW+xhVXVy3/YdgJ/RJVrfDDylv40zoFfIT1XV4wcc62Rau7B5A/Dq3nPW2s6fZrLHjZdW1Zumeg/DtL/LKrpeM86sqj+fpvxqt7UHlLeNIUmStAQMHdtdkiSNnaf2J3Y0b6b7QRq6pIyfAs/vvwHXkgp6f1Teb0BdB7Y6AF4yKLGj1XUh8ES6m2ZrAS8cUObcqW42tTIfo7vhBPDENqRMry3pEjsAPjsssaPVdXF/YscCu5ouKWJYYscGTCZsnA4cOqhHjuq8kq4HDoBnt32n8vz+xI5W13/T9c4BcB+6J9Se2t8rR1XdDKzoWXWbz0KS+zN5o/KtgxI7Wl1X0fU+ckVb9eJpYr8ReNygv2V7KvBbbfFeSbabpq55kWR9uqFRAH41VWLHADfQ3ci+bMC219IlxkCX2PGl/sQOgHYu3tkW12Zwt9a95W+gu9EOcJ92Y1mSJEmaUlXdXFVfHpbY0cr8L5PtmB3peqe4lSQPYjKx49d0yRu3Sexo9VV/YscCeQGTQ7G8eVDyelVdCzyFrgc9gIOT7NRfrs+JVfWq/nPW2gwv6Vk1qH09UzsyOfzqWdMVnqe2dn952xiSJElLgBdpkiQtDT+oqu8O2tB+uO/ttvWo9uP9IL1j7d6mVwS64Tqge2LnfVMFVFW/ZHL4ikdMVXYa327TDYH79m27tmd+ULyj9OmqOn+K7fsBW7X5t84gYWDixtsmwAOnKHcR3VAvw3yrZ/7/VdWVQ8p9jy7RAqb+LBRdAtFQLbHh+Lb4kJYsMcwXqursKbb3dse8WH/z7Zgcr3rgTekpfL6qzh20oarOA1b2rJpqzPLpvpv9JpJJ1qPr8UOSJEmaL9/umd9jwPZDeuZfX1VXL3A8M/HYNr2JKdovLTn/v9pimBxCc5iBSe6trl8Dv2uLq9N22b5nfrbtkalM1dYexDaGJEnSmFtn1AFIkqQZOW2a7Rf2zH9vaKlbl9t8wPY92/QC4JFdD7pTmkgi2T7Jhu1JqFtJsgfwVLqEhR2BjYFhTw3dmW74CgCq6ook3wMeADy8DRPyDuCUqrpxSB2L5ZRptu/ZM795kgOHluxs2zN/L+DkIeW+P02iyIw+C1V1U5JL6bpbnuqzcDnwgBl8Ftbvme5IN+7zIAOTlHqc1zM/KK6FsEXP/Gxvps7kuzkxDvnqfDf7XdpX/rxhBSVJkqRebQiTQ4G9gJ2BzYBhvQfeecC6B7dpAZ+f3+hmrw1zOJEg8eOpenxsvgK8rs0PSl7pNZP2y3asXttlTu2R1WlrD2EbQ5IkacyZ3CFJ0tJw6TTbe4fdGFq2qq7v+ZH+VjfvktweuENbvCfwmVnGuDk9PW20MXvfz2QPEDOxyYB1z6Ubw3kTumFCDgSuTnIaXW8HXwO+NcuhNObDdDe6duiZn6rHhkGmujE4L5+FvrKDbuTu0BPLXD4Lw1wyw5hg+A3m+dbb08iwnk6Gma+/x2zfd+9wQBsOLSVJkiT1SPIiuuE6p+ptr9egNtpEwsdFw4ZjWWS9vUz8cmipwWWm66Fipu2XmZ7PQWbVHpnHtnY/2xiSJEljzuQOSZKWhtkkLsw1yWHTOe43Yb2+5XcxebPperphO06nS4q4msleP/YGnt/m1+6vtKq+n2RXYAXweLqbTLdr++0NvAZYmeRVVfXR1XwPs3GbXkr6rM757D+XvRbjswDjEf9i6U2smMlNz14zfj/znIDU+/eZ7rMoSZIkkeQQ4K09q04BvkE3lOCVwA1t/VbAUW3+Nm00Jq+Zr5r/KOdk4575mQwR0xv3xkNLMe/X8MPMtj0yL23tAWxjSJIkjTmTOyRJ0oTeG1zfrKqHzrWi1s3v09vi74GHVtVvhpTddtD6XlV1DnBokmcCfwU8iK4r4IfSJXvsAHwkyfZV9W9zjRtYazX27dd7Pnds72EpuYque+bfVtX20xVe4nqfNtxiaKnxsjpDyUiSJGl5mhiK5CZg/6r60qBCSe4zTT2r6K5Hbz+Psa2O3t4ubjeD8r1xz7bnvoUw4/bIfLe1+9jGkLTGSnI03ZBkx1TVYfNc957Ay+iGld6C7v7iZ6tquiGapXmTZC/gJICqmnZ87VnWvQI4AvhGVe01n3Vr9ubzBwxJkrSEVdUVTCYkDBpXeTb2BiYuIo8cdrOpmXHiQFVdV1UnVdUbqupRdE+UvZRurGeA1yS5Q99uf3oKqnVfO5U7zjSWGegdtmV1z+coTMS/VZJh4zavKX7LZA8cSy254wbgglEGIkmSpPGXZEfgrm3xuGGJHc10bbTft+lWScbh+rn3eninGZTvLXP+PMcyFyt75qc7nwvS1u47tm0MSZqhJA8ETgT+hm646z8CFwKXte0r2muHUcUojVqSA9v3wISneWByhyRJ6vXNNt0xyd1Xo56te+bPnqbsfnM9SFVdVVVvAj7dVq0P/GVfsct75v9sWF1JNgfuMddYBvhGz/wj5rHexTIR/wbAQ0YZSJ/ebpHnJQu9qm4AftUW755krK+Rk6wP7NgWf1pVNVV5SZIkiflto53SpgH+do7xzNt1fVVdBJzbFndNsuU0u/S2z763OseeJ+cwOZzMPacpuyBtbdsYkjRnL6IbJeFbwB2rasuq2qaqDm/bj2ivHUYUn5aPa4Cz2mvcHEj3PTC5Yx6M9Y1rSZK06I7pmf/X1ajnmp75uw0rlOQA4L6rcZwJK3vm+4ed+1nP/N5T1PEcZjYO8UwdD1wyUXeSO81j3Yvhwz3zRySZz3OzOnqHu5lJl8szdVqbbgzcex7rXQi7AhO90Jw2VUFJkiSpmWkbbTvg8GHbm4/0zL8yyVyuy+f7un4i4X8duh/aBkqyMV3bD7oeID8zD8deLVV1M/CDtrhzkk2mKL5QbW3bGJI0N7u06ceryiGtNDJV9b2q2rmqdh51LFpYJndIkqRenwJOb/NPTvK2qYYySbJhksOSPKlv0+k98//cesXo33cP4INTBZPkfklenWTrKcrcEXh8Wyzgf/uKfLln/uVDYvkb4NVTxTJbVXU18Nq2uAXw5SRTdhGcZI8kb5rPOOaqqk5j8gbpnsBHp7rJmGSdJI9N8twFDu2cnvn7z2O9X+2Zf8A81rsQ9uiZP2FkUUiSJGkp+TmTvUMckOQ217yt3XUcXcLzUFX1XbpkduiGODlu2PAs6ew/YNN8X9e/A7i2zf9LkoMHxLIBXWLKRI+On66qX/WXG5GJ9shawO5TlJuXtvYAtjEkaW42atOrpiwlSfOk/8lWSZK0jFXVLe0m2HeAbYEXAk9I8kngx8AVwO2Bu9DdcNqH7imr/sSI79A9ebQbXbeDv0jyHrpu4Tak60Hjia3sR4FDhoS0KV0PIkck+RbwbeCXwJV0CRO7AE9hcmzgj1bVb/ve02lJTqFLULg7cEaL5Tdtv0cCB7R6rwHuN4NTNSNV9c4kfwk8je6pqZ8l+Rzd8DcX0PUUsmV7H/vQjYF9NvAv8xXDavo/dEPV7EL399ovySeA79ONHboh3efkfsC+wObABxY4pp8AFwFbAU9NcjHwXSZv5F5bVd8YtvMUjqcbW3o9YC9mfzN0MT2sTa8GvjbKQCRJkrQ0VNUNSY4CXgysC3wzyQfpkgVupEuwOBzYjK4Xv6dNU+WhdEOa3BV4OHB2ko+3+lbRtQ3uCzyGrk3YP/TKvF7XV9XKJP8IvIfunvenknyW7jr/croklP/D5NAj5zHZg8c4OA54XZvfCzhxSLn5amv3s40haVlLsgNdz0/7AtvTJdv9li7h7c399xuT9A9f9aEkH+pZPobu/8oJJyW3+q/w3KraYT5i15ovycnAQ+keJHwD8ALgyXT3ujdl8v/xkwCqauCQd0l2AV7V6toMOB/4It01yL2n27+nnn3orikfQJcUfA7wceCNVXVdT7m9JupsDk3S+70AeFhVnTzV8XRrJndIkqRbqarftYSE/0eXcHAnugvGYW4G/tBXR7XePE4EtqO7Yfeavv2uA55LN9bysBtOEw2ltYGHtNcwxwLPGLLtULoLye3pboAd2bf9LLqxot83Rf1zdRjwK7oL5/WBx7bXML9fgBjmpKpWJXkw8F66G4Sb0Z3jYecZukbBQsZ0U5JXA0fR3ZTuT4Q5lzmMY1pVf0xyPN3Yjwcl2aiqrpluv8WWZDPgUW3xM62HGEmSJGkmXkmXmP0wurbJs9ur11HAm5gmuaOqLknyV3TtsIkfCJ7VXrcpPmD/eb+ur6qj0v1y9lZgA7ok/gMGFP0p8LdVdfFs6l9IVfXTJD+iGx7lKdy2/TxRbr7a2n9iG0PScpfkELqHldZvq66n+zf0nu11eJLHVdVXena7sE23pEsEWcVkgiJ090svBCZ6I76M7qGiCWPzf5CWlA2Ak4EHATfRPQB5m+usQZIcRHfdtm5bdRXdff/nAQcDr5hhPS8B3tgWr6B7UG5nYAXw0CT7tiHnoPvMX0iXgLIB3TXKFX1V3oBmxWFZJEnSbVTVBVX1cLonho4CzqR72ulmusbKz+guBp8NbFdV7x9Qx6/pbhz+O10XwNfRXTSeBbwT2K2qpuwdoT2ptQvwz3RDhPyi1XFLm/6MroeFh1bVk6rq2iH1nNNi+be2z7XtffwQeDmw+0J1x1ud19M90fYa4Bt0yTA30J2T39M9GfU64K+qaq+FiGOuqmpVVT2J7km+t9Gds0vpGhBX0SWuHEeXrX23qhp4E3KeY3ovXY8rx9Gdv+vnqer/atPb0yV5jKPHM3mz4d2jDESSJElLS3uS8hF0PVZ8h+4HgevpEik+AexXVc+ia2/NpL4LW/vlb+geDvgNXc8PN9L1yvENuhv99xyy/7xf11fVe+h6H3wj8CO6duwNdD0nHk/XO8muVbVydY+1ACbaI3dL8qBhheajrd3HNoakZSvJvnQ9Vq1Nl9x4V7qekG5H94P1J+l6JvhkkrtM7FdV21TVNsDv2qoXTqxrr6e37RMe27f9Lxfh7WnN81y6ntEOBzapqi3oEoz6hym/lSQ70g1Nty5wBt298I3phhXal+5a6S0zOP5f0D00eSSwVVVtTpfg+69t+8Po6bGmqr7dvgfHtlXH9n0Ptqmqb8/guOqRqhkl9EiSJElrvCQ/pmskfaWq9ht1PP2SfJNuiKHTquqBo45HkiRJ0vxIsgFdos1WwHur6pmLdFzbGJLWeEmOpvvR+ZiqOqytW4vuQbKdgGe2pMNB+34W2B94e1W9qG/bSrqegg+vqqMH7DvxI6xDT2jOeoZlAdi/qj4/oMxeDBlWJcn7gafTJd/eq6r+2Lf9nnRDsq8/ZP8VwBFt8bVVtWLA8T9N11v116pq375tR9P3/dPc2XOHJEmSNGlFmz4iyW6jDKRfGyJnz7Z4xFRlJUmSJC0trWeViSFEn5bkzxb6mLYxJC1zD6FL7LgEuE2vxD0+3KZj9xCQlp0zByV2TKUNWXdwW3x3f2IHQFWdRdeL23SuB/5jyLbPtul9ZxOfZs/kDkmSJKmpqs/QdVENk4ke42JFm55YVSeMMhBJkiRJC+LdwDl049K/fBGOt6JNbWNIWo7+uk03Bc5P8odBL+B9rdz2owlT+pNvzWGfHemGToFuyLxhTp5BXWdW1VVDtp3fplvMMC7NkckdkiRJ0q09j26c8cck2X3UwcCfnqjbB7gJeMGIw5EkSZK0AFrvHS9ui/+QZNuFOpZtDEliooekdYGtp3ht3sptuNgBSn0umsM+W/bMnz+0FJw3g7qunGLbTW26zgzq0WrwBEuSJEk9quoMYO1Rx9Grqk4FMm1BSZIkSUtaVR3HIlz728aQpD/d+zmtqh440kikmbl5NfeveYlCI2XPHZIkSZIkSZIkSZKWkz+0qcOtaE12cc/8nw0tBQvWW5jml93hDTcAAA41SURBVMkdkiRJkiRJkiRJkpaTb7XpNgs4LO9ETwn2lKRR+Q1weZvfa4pyU21bXbe0qd+DeWByhyRJkiRJkiRJkqTl5CTg123+rUnWm6pwki3mcIxVbbrZHPaVVltVFfA/bfFZSTbvL5NkJ+AJCxiG34N5ZHKHJEmSJEmSJEmSpGWjqm4CngXcBDwY+GaSfZKsO1EmyY5JnpXkdOA5czjMT9v0kCQbrXbQ0tz8O3AtsDXwlST3A0hnb+AE4JoFPP7E92DPJDsv4HGWBZM7JEmSJEmSJEmSJC0rVfV14PHAlcAewNeAq5NckuQ64Gzg3cDuTA6xMhvvadODgcuT/D7JyiSnrn700sxU1a+Bp9ElMu0OnJFkFXAV8HVgPeDFrfj1CxDCp4GLgc2Bnye5uH0PViZ54AIcb41mcockSZIkSZIkSZKkZaeqjgPuDrwW+B7dD96b0f3I/WPg/cBBwP+dQ90fAf4OOJWuZ4Q7AdsDd56P2KWZqqpP0SV2fJIu0WJ94ELg7cD9gCta0csX4NiXAQ8BPg6cB2xK9z3YHthgvo+3pks31I4kSZIkSZIkSZIkSVpOkrwBeAVwYlXtM+p4NJw9d0iSJEmSJEmSJEmStMwk2RL4+7b45VHGounZc4ckSZIkSZIkSZIkSWugJC8ANgI+BaysqpuSrA/sA7wZ2JluuJZ7VdWlo4tU0zG5Q5IkSZIkSZIkSZKkNVCStwEvbIs3A1cAmwDrtHVXAAdW1cmLH51mY53pi0iSJEmSJEmSJEmSpCXoGLqkjocA2wJ3AK4FzgFOAN5eVeeNLjzNlD13SJIkSZIkSZIkSZIkjbG1Rh2AJEmSJEmSJEmSJEmShjO5Q5IkSZIkSZIkSZIkaYyZ3CFJkiRJkiRJkiRJkjTGTO6QJEmSJEmSJEmSJEkaYyZ3SJIkSZIkSZIkSZIkjTGTOyRJkiRJkiRJkiRJksaYyR2SJEmSJEmSJEmSJEljzOQOSZIkSZIkSZIkSdKsJVmRpNprr1HHs5CSHNje53VJtl3A4zy4HefGJPdZqONo6TG5Q5IkSZIkSZIkSZJEkl1bwsaKJLuOOp5xkWQD4K1t8b1Vdd5CHauqTgVOBNYB/nOhjqOlx+QOSZIkSZIkSZIkSRLArsAR7WVyx6TnADsA1wFHLsLxVrTp3kn2W4TjaQkwuUOSJEmSJEmSJEmSNGtVtaKq0l4njzqehZBkQ+BlbfHoqjp/oY9ZVacAp7bF1y708bQ0mNwhSZIkSZIkSZIkSdJgTwO2bPMfXsTjThxrjyQPWsTjakyZ3CFJkiRJkiRJkiRJ0mDPbtOzq+o7i3jcTwHXt/nnLOJxNaZM7pAkSZIkSZIkSZKkEUqySZJDknwgyQ+TXJ7kxiR/THJGkjcnudss69w7yXuT/LynvouTnJLk9Unu3VP2sCQFfKinig8lqb7Xyr5jrOjZttc08WyX5Mj2fv6Y5Pok5yX5fDv+2tPsf/LEsXrWPSnJV5P8odV3bpKjk+w8m3M1xTF3Af6iLf73DMrfJcnzknwyyVlJrkpyQ5KLWvwvTbLpTI5dVZcBX2qLByW5/dzehdYUqarpS0mSJEmSJEmSJEmS5l2S9YBVwPrTFL0JeFFVvWua+rakS0R4+HTHrqq0fQ7j1okdw5xbVTv0HGsFcERbfFhVnTwkpmcCbwU2nKLunwD7V9XKIXWcDDy0LW4IfAw4cEhd1wMHVdWXhmyfkSSvBv61Le5dVSdNUXYv4EQg01R7MfDYqjp1Bsd/AfD2tnhQVR03bdBaY60z6gAkSZIkSZIkSZIkaRlbiy6x43zgq8D/AhcCtwDbAQ8C9qf7bfedSc6vqs8MqqgldpwG3LWtuoIuCeJ0ugSSOwC7Ao8B7tyz64nAQcDewPPbune09b2ume2ba4kd7+lZ9Xngi8DlwD2Aw1u8uwCnJrlfVV08TbUfpEvs+AHwceC3wB2BQ+jO1/rAR5Lcs6oumW3MPfZt01uA709TdgO6xI4zgZOAnwOXtvXbtXh3A7YEvpBk12GJLD2+2zO/H2ByxzJmzx2SJEmSJEmSJEmSNCJtOJJ9gRNqyI+3Se4LnABsA/wG2KmqbhlQ7njgUW3x68ATquqPA8oFOKC/J4i+HjwOr6qjp4l9BVP03JFkB+BndD1t3Aw8pao+0VdmQ+CTwKPbqk9V1eMHHOtkJnvuAHgD8Orec5ZkLeDTTPbo8dKqetNU72GY9ndZBWwEnFlVfz5N+e2BTarqJ1OUeTLwEbqEnqOr6vBp6uzt1eWHVXX/2b0LrUnWGnUAkiRJkiRJkiRJkrRcVdXNVfXlYYkdrcz/Aq9oizvS9U5xK0kexGRix6/pkjduk9jR6qtFGuLjBUwOxfLm/sSOFsu1wFOAC9qqg5PsNE29J1bVq/rPWUt4eUnPqv3mFjbQneeN2vxZ0xWuqnOnSuxoZT5Gl9wB8MQk605T/ga6ZB6A+7TkFS1T/vElSZIkSZIkSZIkafx9u2d+jwHbD+mZf31VXb3A8czEY9v0JuDNwwpV1Srgv9pi6IaImcrbp6jr18Dv2uK9ZxbmQNv3zA9Mkpmjib/jhsB9Z1D+sjZdD7jTPMahJcbkDkmSJEmSJEmSJEkasSQ7JDkiyUlJLkhybZKaeAG/6Cl+5wFVPLhNC/j8ggc8jSRbMZkg8eOqumiaXb7SMz8oeaXXd6fZfl6bbj5Nuals0TM/4+SOJHskeUeS05NcmuSGvr/je3qKD/o79ru0Z3513o+WuHVGHYAkSZIkSZIkSZIkLWdJXgQcCaw/w102GbBuIlHgomHDsSyy3l4mfjmD8r1lpuuh4pJptl/fpjM9n4P07nvldIWTrAe8H/i7WRxj0N+x36qe+Q2HltIaz+QOSZIkSZIkSZIkSRqRJIcAb+1ZdQrwDWAlXVLBDW39VsBRbX7tAVVNJApcNf9RzsnGPfMzGSKmN+6Nh5YCquqWOUU0O9f3zM8kCeNdTCZ2XA8cD5xO14vI1cDNbdvewPPb/KC/Y79Ne+avnUF5raFM7pAkSZIkSZIkSZKk0Xldm94E7F9VXxpUKMl9pqlnFd1QIrefx9hWR29vF7ebQfneuKftKWMR9PZ+ssXQUnRD6gBPb4u/Bx5aVb8ZUnbbWcYxp+FhtOZZa9QBSJIkSZIkSZIkSdJylGRH4K5t8bhhiR3N9tNU9/s23SrJlMkIi+SCnvmdZlC+t8z58xzLXKzsmZ/ufO4NpM0fOSyxo5nu79hv4tg3cOtzqmXG5A5JkiRJkiRJkiRJGo2te+bPnqbsftNsP6VNA/ztHOPpHe4kQ0vNQFVdBJzbFndNsuU0uzyiZ/57q3PseXIOk8PJ3HOasvP5d/yTJOsDO7bFn1ZVzXRfrXlM7pAkSZIkSZIkSZKk0bimZ/5uwwol2Q44fJq6PtIz/8okMxkKpd9VPfNz2b/fp9t0HeBFwwol2Rh4Tlss4DPzcOzVUlU3Az9oizsn2WSK4jP9Ox4A3HcWYewKrNfmT5vFfloDmdwhSZIkSZIkSZIkSaPxcyZ7hzggyQP6CyTZGjgO2Hiqiqrqu8DxbXEn4Lhhw7Oks/+ATef0zN9/mthn4h3AtW3+X5IcPCCWDegSU/6srfp0Vf1qHo49H77apmsBu09R7vSe+X9Osnl/gSR7AB+c5fH36Jk/YZb7ag2zzqgDkCRJkiRJkiRJkqTlqKpuSHIU8GJgXeCbST5IlyxwI12CxeHAZsCHgadNU+WhdEOa3BV4OHB2ko+3+lYBm9P1HPEYYAduO/TKT4CLgK2Apya5GPgukwka11bVN2bx/lYm+UfgPXS/TX8qyWfpklAup0tC+T9MDj1yHpM9eIyD44DXtfm9gBOHlPsOXS8fu9Gd118keQ9wFrAhsDfwxFb2o8AhMzz+w9r0auBrs4hba6A4LI8kSZIkSZIkSZIkjUbrueJ4Jn/IH+Qo4E3A2W35mKo6bEh9WwPHAg+d5tBVVbcZ6SHJM9rxBjm3qnboKbsCOKItPqyq/n97d+yz1xjGcfx7Jh3NElMb1opFmkpMiERiMZJ00sRfYOuGySIqXUiYLGaLFIOYGNgoTSqYGd4iLsN5Eon0eWnlfXtan89y55zc577us/9yXZf33Ol89Vp14pD7fFk9PTPf7Tnjcrt/mpm/h1Juee8/WZbl89bxKN/MzKlD9p1qDX/cv2fLQfVi9Uf11u7duZl5e89591Y/VvdU787Mc7f0A9w1jGUBAAAAAAAAuE1m5qB6vLVjxafVz9X16mr1XvXEzJxvDQX8m/N+mpnHqqeqd6orrZ0ffmvtyvFRdaF6cM/3l6onW7tWXNvd5T+ZmTerB6pXqy9au3b8Wv3QGmw5V53eF+y4zd7YrSeXZTmzb9PMfF09VL3cOm7noPqltXvH69XDM3MzY1mebQ12VF282Utz99G5AwAAAAAAAABuYNdZ5WrrqJpLM/PCMdX9uHq0+mxmHjmOmmybzh0AAAAAAAAAcAO7ziqv7B6fX5blvqOuuSzL2dZgR/019ob/OeEOAAAAAAAAANjvYvVtdaJ66RjqXditH87MB8dQjzuAsSwAAAAAAAAAcIhlWZ6p3q+uVydn5vsjqnO2+qT6vTo9M18dRR3uPMIdAAAAAAAAAAAbZiwLAAAAAAAAAMCGCXcAAAAAAAAAAGyYcAcAAAAAAAAAwIYJdwAAAAAAAAAAbJhwBwAAAAAAAADAhgl3AAAAAAAAAABsmHAHAAAAAAAAAMCGCXcAAAAAAAAAAGyYcAcAAAAAAAAAwIYJdwAAAAAAAAAAbJhwBwAAAAAAAADAhgl3AAAAAAAAAABsmHAHAAAAAAAAAMCGCXcAAAAAAAAAAGyYcAcAAAAAAAAAwIb9CRzVCyapYV0PAAAAAElFTkSuQmCC\n",
                "text/plain": "<Figure size 1224x288 with 5 Axes>"
              }
            ],
            "_view_module": "@jupyter-widgets/output",
            "_model_module_version": "1.0.0",
            "_view_count": null,
            "_view_module_version": "1.0.0",
            "layout": "IPY_MODEL_1c5524a91f4d4aed9419156a7db983d8",
            "_model_module": "@jupyter-widgets/output"
          }
        },
        "00c433e0dc884a589b1184d4b701697e": {
          "model_module": "@jupyter-widgets/controls",
          "model_name": "SliderStyleModel",
          "state": {
            "_view_name": "StyleView",
            "handle_color": null,
            "_model_name": "SliderStyleModel",
            "description_width": "",
            "_view_module": "@jupyter-widgets/base",
            "_model_module_version": "1.5.0",
            "_view_count": null,
            "_view_module_version": "1.2.0",
            "_model_module": "@jupyter-widgets/controls"
          }
        },
        "e66babb4b05f42b7a53776707a7991bd": {
          "model_module": "@jupyter-widgets/base",
          "model_name": "LayoutModel",
          "state": {
            "_view_name": "LayoutView",
            "grid_template_rows": null,
            "right": null,
            "justify_content": null,
            "_view_module": "@jupyter-widgets/base",
            "overflow": null,
            "_model_module_version": "1.2.0",
            "_view_count": null,
            "flex_flow": null,
            "width": null,
            "min_width": null,
            "border": null,
            "align_items": null,
            "bottom": null,
            "_model_module": "@jupyter-widgets/base",
            "top": null,
            "grid_column": null,
            "overflow_y": null,
            "overflow_x": null,
            "grid_auto_flow": null,
            "grid_area": null,
            "grid_template_columns": null,
            "flex": null,
            "_model_name": "LayoutModel",
            "justify_items": null,
            "grid_row": null,
            "max_height": null,
            "align_content": null,
            "visibility": null,
            "align_self": null,
            "height": null,
            "min_height": null,
            "padding": null,
            "grid_auto_rows": null,
            "grid_gap": null,
            "max_width": null,
            "order": null,
            "_view_module_version": "1.2.0",
            "grid_template_areas": null,
            "object_position": null,
            "object_fit": null,
            "grid_auto_columns": null,
            "margin": null,
            "display": null,
            "left": null
          }
        },
        "03d2019692054194b1b8fef3a830202b": {
          "model_module": "@jupyter-widgets/controls",
          "model_name": "SliderStyleModel",
          "state": {
            "_view_name": "StyleView",
            "handle_color": null,
            "_model_name": "SliderStyleModel",
            "description_width": "initial",
            "_view_module": "@jupyter-widgets/base",
            "_model_module_version": "1.5.0",
            "_view_count": null,
            "_view_module_version": "1.2.0",
            "_model_module": "@jupyter-widgets/controls"
          }
        },
        "eda25df0e78649a68c61c7cb2168da83": {
          "model_module": "@jupyter-widgets/base",
          "model_name": "LayoutModel",
          "state": {
            "_view_name": "LayoutView",
            "grid_template_rows": null,
            "right": null,
            "justify_content": null,
            "_view_module": "@jupyter-widgets/base",
            "overflow": null,
            "_model_module_version": "1.2.0",
            "_view_count": null,
            "flex_flow": null,
            "width": null,
            "min_width": null,
            "border": null,
            "align_items": null,
            "bottom": null,
            "_model_module": "@jupyter-widgets/base",
            "top": null,
            "grid_column": null,
            "overflow_y": null,
            "overflow_x": null,
            "grid_auto_flow": null,
            "grid_area": null,
            "grid_template_columns": null,
            "flex": null,
            "_model_name": "LayoutModel",
            "justify_items": null,
            "grid_row": null,
            "max_height": null,
            "align_content": null,
            "visibility": null,
            "align_self": null,
            "height": null,
            "min_height": null,
            "padding": null,
            "grid_auto_rows": null,
            "grid_gap": null,
            "max_width": null,
            "order": null,
            "_view_module_version": "1.2.0",
            "grid_template_areas": null,
            "object_position": null,
            "object_fit": null,
            "grid_auto_columns": null,
            "margin": null,
            "display": null,
            "left": null
          }
        },
        "b88689f58171409585a636fd0a433d5a": {
          "model_module": "@jupyter-widgets/controls",
          "model_name": "SliderStyleModel",
          "state": {
            "_view_name": "StyleView",
            "handle_color": null,
            "_model_name": "SliderStyleModel",
            "description_width": "initial",
            "_view_module": "@jupyter-widgets/base",
            "_model_module_version": "1.5.0",
            "_view_count": null,
            "_view_module_version": "1.2.0",
            "_model_module": "@jupyter-widgets/controls"
          }
        },
        "bd9cc505d4e14c75aea4af510112dede": {
          "model_module": "@jupyter-widgets/base",
          "model_name": "LayoutModel",
          "state": {
            "_view_name": "LayoutView",
            "grid_template_rows": null,
            "right": null,
            "justify_content": null,
            "_view_module": "@jupyter-widgets/base",
            "overflow": null,
            "_model_module_version": "1.2.0",
            "_view_count": null,
            "flex_flow": null,
            "width": null,
            "min_width": null,
            "border": null,
            "align_items": null,
            "bottom": null,
            "_model_module": "@jupyter-widgets/base",
            "top": null,
            "grid_column": null,
            "overflow_y": null,
            "overflow_x": null,
            "grid_auto_flow": null,
            "grid_area": null,
            "grid_template_columns": null,
            "flex": null,
            "_model_name": "LayoutModel",
            "justify_items": null,
            "grid_row": null,
            "max_height": null,
            "align_content": null,
            "visibility": null,
            "align_self": null,
            "height": null,
            "min_height": null,
            "padding": null,
            "grid_auto_rows": null,
            "grid_gap": null,
            "max_width": null,
            "order": null,
            "_view_module_version": "1.2.0",
            "grid_template_areas": null,
            "object_position": null,
            "object_fit": null,
            "grid_auto_columns": null,
            "margin": null,
            "display": null,
            "left": null
          }
        },
        "e6c5adfe17284b0a9670fbfd1b1daa61": {
          "model_module": "@jupyter-widgets/controls",
          "model_name": "DescriptionStyleModel",
          "state": {
            "_view_name": "StyleView",
            "_model_name": "DescriptionStyleModel",
            "description_width": "",
            "_view_module": "@jupyter-widgets/base",
            "_model_module_version": "1.5.0",
            "_view_count": null,
            "_view_module_version": "1.2.0",
            "_model_module": "@jupyter-widgets/controls"
          }
        },
        "b3e18393b98942e9992c4f880e9fe80b": {
          "model_module": "@jupyter-widgets/base",
          "model_name": "LayoutModel",
          "state": {
            "_view_name": "LayoutView",
            "grid_template_rows": null,
            "right": null,
            "justify_content": null,
            "_view_module": "@jupyter-widgets/base",
            "overflow": null,
            "_model_module_version": "1.2.0",
            "_view_count": null,
            "flex_flow": null,
            "width": "max-content",
            "min_width": null,
            "border": null,
            "align_items": null,
            "bottom": null,
            "_model_module": "@jupyter-widgets/base",
            "top": null,
            "grid_column": null,
            "overflow_y": null,
            "overflow_x": null,
            "grid_auto_flow": null,
            "grid_area": null,
            "grid_template_columns": null,
            "flex": null,
            "_model_name": "LayoutModel",
            "justify_items": null,
            "grid_row": null,
            "max_height": null,
            "align_content": null,
            "visibility": null,
            "align_self": null,
            "height": null,
            "min_height": null,
            "padding": null,
            "grid_auto_rows": null,
            "grid_gap": null,
            "max_width": null,
            "order": null,
            "_view_module_version": "1.2.0",
            "grid_template_areas": null,
            "object_position": null,
            "object_fit": null,
            "grid_auto_columns": null,
            "margin": null,
            "display": null,
            "left": null
          }
        },
        "1c5524a91f4d4aed9419156a7db983d8": {
          "model_module": "@jupyter-widgets/base",
          "model_name": "LayoutModel",
          "state": {
            "_view_name": "LayoutView",
            "grid_template_rows": null,
            "right": null,
            "justify_content": null,
            "_view_module": "@jupyter-widgets/base",
            "overflow": null,
            "_model_module_version": "1.2.0",
            "_view_count": null,
            "flex_flow": null,
            "width": null,
            "min_width": null,
            "border": null,
            "align_items": null,
            "bottom": null,
            "_model_module": "@jupyter-widgets/base",
            "top": null,
            "grid_column": null,
            "overflow_y": null,
            "overflow_x": null,
            "grid_auto_flow": null,
            "grid_area": null,
            "grid_template_columns": null,
            "flex": null,
            "_model_name": "LayoutModel",
            "justify_items": null,
            "grid_row": null,
            "max_height": null,
            "align_content": null,
            "visibility": null,
            "align_self": null,
            "height": null,
            "min_height": null,
            "padding": null,
            "grid_auto_rows": null,
            "grid_gap": null,
            "max_width": null,
            "order": null,
            "_view_module_version": "1.2.0",
            "grid_template_areas": null,
            "object_position": null,
            "object_fit": null,
            "grid_auto_columns": null,
            "margin": null,
            "display": null,
            "left": null
          }
        }
      }
    }
  },
  "cells": [
    {
      "cell_type": "markdown",
      "metadata": {
        "id": "view-in-github",
        "colab_type": "text"
      },
      "source": [
        "<a href=\"https://colab.research.google.com/github/astha736/Neuromatch-TA/blob/master/W3D1/W3D1_Tutorial1.ipynb\" target=\"_parent\"><img src=\"https://colab.research.google.com/assets/colab-badge.svg\" alt=\"Open In Colab\"/></a>"
      ]
    },
    {
      "cell_type": "markdown",
      "metadata": {
        "id": "6-8AReFfA0u6"
      },
      "source": [
        "# Tutorial 1: Bayes with a binary hidden state\n",
        "**Week 3, Day 1: Bayesian Decisions**\n",
        "\n",
        "**By Neuromatch Academy**\n",
        "\n",
        "__Content creators:__ [insert your name here]\n",
        "\n",
        "__Content reviewers:__ "
      ]
    },
    {
      "cell_type": "markdown",
      "metadata": {
        "id": "DylfE0JSA0u8"
      },
      "source": [
        "**Our 2021 Sponsors, including Presenting Sponsor Facebook Reality Labs**\n",
        "\n",
        "<p align='center'><img src='https://github.com/NeuromatchAcademy/widgets/blob/master/sponsors.png?raw=True'/></p>"
      ]
    },
    {
      "cell_type": "markdown",
      "metadata": {
        "id": "TcfhzDqfA0u9"
      },
      "source": [
        "# Tutorial Objectives\n",
        "This is the first in a series of two core tutorials on Bayesian statistics. In these tutorials, we will explore the fundemental concepts of the Bayesian approach from two perspectives. This tutorial will work through an example of Bayesian inference and decision making using a binary hidden state. The second main tutorial extends these concepts to a continuous hidden state. In the next days, each of these basic ideas will be extended--first through time as we consider what happens when we infere a hidden state using multiple observations and when the hidden state changes across time. In the third day, we will introduce the notion of how to use inference and decisions to select actions for optimal control. For this tutorial, you will be introduced to our binary state fishing problem!\n",
        "\n",
        "This notebook will introduce the fundamental building blocks for Bayesian statistics: \n",
        "\n",
        "1. How do we use probability distributions to represent hidden states?\n",
        "2. How does marginalization work and how can we use it?\n",
        "3. How do we combine new information with our prior knowledge?\n",
        "4. How do we combine the possible loss (or gain) for making a decision with our probabilitic knowledge?\n"
      ]
    },
    {
      "cell_type": "code",
      "metadata": {
        "cellView": "form",
        "execution": {
          "iopub.execute_input": "2021-06-25T15:15:26.250647Z",
          "iopub.status.busy": "2021-06-25T15:15:26.250126Z",
          "iopub.status.idle": "2021-06-25T15:15:26.382494Z",
          "shell.execute_reply": "2021-06-25T15:15:26.381532Z"
        },
        "colab": {
          "base_uri": "https://localhost:8080/",
          "height": 580,
          "referenced_widgets": [
            "7503b1b03b194ef6b6d59fedaa5d5ac9",
            "3562ac50ee10497094ffccc91dc0bd6e",
            "95372be98ab747ee8c720a8c518403e9",
            "54bf40e652e54265a6c69974d360654b",
            "4f4a465d62ca4454876966447b63fee2",
            "706e9f07aa0b4eecb59c37b0f0677d7f"
          ]
        },
        "id": "xjfXG_wPA0u9",
        "outputId": "63949338-dfdf-4a5d-fd21-4ae4f8129288"
      },
      "source": [
        "# @title Video 1: Introduction to Bayesian Statistics\n",
        "from ipywidgets import widgets\n",
        "\n",
        "out2 = widgets.Output()\n",
        "with out2:\n",
        "  from IPython.display import IFrame\n",
        "  class BiliVideo(IFrame):\n",
        "      def __init__(self, id, page=1, width=400, height=300, **kwargs):\n",
        "          self.id=id\n",
        "          src = 'https://player.bilibili.com/player.html?bvid={0}&page={1}'.format(id, page)\n",
        "          super(BiliVideo, self).__init__(src, width, height, **kwargs)\n",
        "\n",
        "  video = BiliVideo(id=\"\", width=854, height=480, fs=1)\n",
        "  print('Video available at https://www.bilibili.com/video/{0}'.format(video.id))\n",
        "  display(video)\n",
        "\n",
        "out1 = widgets.Output()\n",
        "with out1:\n",
        "  from IPython.display import YouTubeVideo\n",
        "  video = YouTubeVideo(id=\"JiEIn9QsrFg\", width=854, height=480, fs=1, rel=0)\n",
        "  print('Video available at https://youtube.com/watch?v=' + video.id)\n",
        "  display(video)\n",
        "\n",
        "out = widgets.Tab([out1, out2])\n",
        "out.set_title(0, 'Youtube')\n",
        "out.set_title(1, 'Bilibili')\n",
        "\n",
        "display(out)"
      ],
      "execution_count": 1,
      "outputs": [
        {
          "output_type": "display_data",
          "data": {
            "application/vnd.jupyter.widget-view+json": {
              "model_id": "7503b1b03b194ef6b6d59fedaa5d5ac9",
              "version_minor": 0,
              "version_major": 2
            },
            "text/plain": [
              "Tab(children=(Output(), Output()), _titles={'0': 'Youtube', '1': 'Bilibili'})"
            ]
          },
          "metadata": {
            "tags": []
          }
        }
      ]
    },
    {
      "cell_type": "markdown",
      "metadata": {
        "id": "BO1ccWlpA0u-"
      },
      "source": [
        "## Setup  \n",
        "Please execute the cells below to initialize the notebook environment."
      ]
    },
    {
      "cell_type": "code",
      "metadata": {
        "execution": {
          "iopub.execute_input": "2021-06-25T15:15:26.396114Z",
          "iopub.status.busy": "2021-06-25T15:15:26.395542Z",
          "iopub.status.idle": "2021-06-25T15:15:26.779072Z",
          "shell.execute_reply": "2021-06-25T15:15:26.779955Z"
        },
        "id": "BHqOcSx8A0u_"
      },
      "source": [
        "import numpy as np\n",
        "import matplotlib.pyplot as plt\n",
        "from matplotlib import patches\n",
        "from matplotlib import transforms\n",
        "from matplotlib import gridspec\n",
        "from scipy.optimize import fsolve\n",
        "\n",
        "from collections import namedtuple"
      ],
      "execution_count": 2,
      "outputs": []
    },
    {
      "cell_type": "code",
      "metadata": {
        "cellView": "form",
        "execution": {
          "iopub.execute_input": "2021-06-25T15:15:26.783374Z",
          "iopub.status.busy": "2021-06-25T15:15:26.782267Z",
          "iopub.status.idle": "2021-06-25T15:15:26.826729Z",
          "shell.execute_reply": "2021-06-25T15:15:26.827529Z"
        },
        "id": "bJbWm0AOA0u_"
      },
      "source": [
        "#@title Figure Settings\n",
        "import ipywidgets as widgets       # interactive display\n",
        "from ipywidgets import GridspecLayout\n",
        "from IPython.display import clear_output\n",
        "%config InlineBackend.figure_format = 'retina'\n",
        "plt.style.use(\"https://raw.githubusercontent.com/NeuromatchAcademy/course-content/master/nma.mplstyle\")\n",
        "\n",
        "import warnings\n",
        "warnings.filterwarnings(\"ignore\")"
      ],
      "execution_count": 3,
      "outputs": []
    },
    {
      "cell_type": "code",
      "metadata": {
        "cellView": "form",
        "execution": {
          "iopub.execute_input": "2021-06-25T15:15:26.831991Z",
          "iopub.status.busy": "2021-06-25T15:15:26.830372Z",
          "iopub.status.idle": "2021-06-25T15:15:26.901682Z",
          "shell.execute_reply": "2021-06-25T15:15:26.901183Z"
        },
        "id": "9BR7o_GQA0u_"
      },
      "source": [
        "# @title Plotting Functions\n",
        "\n",
        "def plot_joint_probs(P, ):\n",
        "    assert np.all(P >= 0), \"probabilities should be >= 0\"\n",
        "    # normalize if not\n",
        "    P = P / np.sum(P)\n",
        "    marginal_y = np.sum(P,axis=1)\n",
        "    marginal_x = np.sum(P,axis=0)\n",
        "\n",
        "    # definitions for the axes\n",
        "    left, width = 0.1, 0.65\n",
        "    bottom, height = 0.1, 0.65\n",
        "    spacing = 0.005\n",
        "\n",
        "    # start with a square Figure\n",
        "    fig = plt.figure(figsize=(5, 5))\n",
        "\n",
        "    joint_prob = [left, bottom, width, height]\n",
        "    rect_histx = [left, bottom + height + spacing, width, 0.2]\n",
        "    rect_histy = [left + width + spacing, bottom, 0.2, height]\n",
        "\n",
        "    rect_x_cmap = plt.cm.Blues\n",
        "    rect_y_cmap = plt.cm.Reds\n",
        "\n",
        "    # Show joint probs and marginals\n",
        "    ax = fig.add_axes(joint_prob)\n",
        "    ax_x = fig.add_axes(rect_histx, sharex=ax)\n",
        "    ax_y = fig.add_axes(rect_histy, sharey=ax)\n",
        "\n",
        "    # Show joint probs and marginals\n",
        "    ax.matshow(P,vmin=0., vmax=1., cmap='Greys')\n",
        "    ax_x.bar(0, marginal_x[0], facecolor=rect_x_cmap(marginal_x[0]))\n",
        "    ax_x.bar(1, marginal_x[1], facecolor=rect_x_cmap(marginal_x[1]))\n",
        "    ax_y.barh(0, marginal_y[0], facecolor=rect_y_cmap(marginal_y[0]))\n",
        "    ax_y.barh(1, marginal_y[1], facecolor=rect_y_cmap(marginal_y[1]))\n",
        "    # set limits\n",
        "    ax_x.set_ylim([0,1])\n",
        "    ax_y.set_xlim([0,1])\n",
        "\n",
        "    # show values\n",
        "    ind = np.arange(2)\n",
        "    x,y = np.meshgrid(ind,ind)\n",
        "    for i,j in zip(x.flatten(), y.flatten()):\n",
        "        c = f\"{P[i,j]:.2f}\"\n",
        "        ax.text(j,i, c, va='center', ha='center', color='black')\n",
        "    for i in ind:\n",
        "        v = marginal_x[i]\n",
        "        c = f\"{v:.2f}\"\n",
        "        ax_x.text(i, v +0.1, c, va='center', ha='center', color='black')\n",
        "        v = marginal_y[i]\n",
        "        c = f\"{v:.2f}\"\n",
        "        ax_y.text(v+0.2, i, c, va='center', ha='center', color='black')\n",
        "\n",
        "    # set up labels\n",
        "    ax.xaxis.tick_bottom()\n",
        "    ax.yaxis.tick_left()\n",
        "    ax.set_xticks([0,1])\n",
        "    ax.set_yticks([0,1])\n",
        "    ax.set_xticklabels(['Silver','Gold'])\n",
        "    ax.set_yticklabels(['Small', 'Large'])\n",
        "    ax.set_xlabel('color')\n",
        "    ax.set_ylabel('size')\n",
        "    ax_x.axis('off')\n",
        "    ax_y.axis('off')\n",
        "    return fig\n",
        "# test\n",
        "# P = np.random.rand(2,2)\n",
        "# P = np.asarray([[0.9, 0.8], [0.4, 0.1]])\n",
        "# P = P / np.sum(P)\n",
        "# fig = plot_joint_probs(P)\n",
        "# plt.show(fig)\n",
        "# plt.close(fig)\n",
        "\n",
        "\n",
        "# fig = plot_prior_likelihood(0.5, 0.3)\n",
        "# plt.show(fig)\n",
        "# plt.close(fig)\n",
        "\n",
        "\n",
        "def plot_prior_likelihood_posterior(prior, likelihood, posterior):\n",
        "\n",
        "    # definitions for the axes\n",
        "    left, width = 0.05, 0.3\n",
        "    bottom, height = 0.05, 0.9\n",
        "    padding = 0.1\n",
        "    small_width = 0.1\n",
        "    left_space = left + small_width + padding\n",
        "    added_space = padding + width\n",
        "\n",
        "    fig = plt.figure(figsize=(10, 4))\n",
        "\n",
        "    rect_prior = [left, bottom, small_width, height]\n",
        "    rect_likelihood = [left_space , bottom , width, height]\n",
        "    rect_posterior = [left_space +  added_space, bottom , width, height]\n",
        "\n",
        "    ax_prior = fig.add_axes(rect_prior)\n",
        "    ax_likelihood = fig.add_axes(rect_likelihood, sharey=ax_prior)\n",
        "    ax_posterior = fig.add_axes(rect_posterior, sharey = ax_prior)\n",
        "\n",
        "    rect_colormap = plt.cm.Blues\n",
        "\n",
        "    # Show posterior probs and marginals\n",
        "    ax_prior.barh(0, prior[0], facecolor = rect_colormap(prior[0, 0]))\n",
        "    ax_prior.barh(1, prior[1], facecolor = rect_colormap(prior[1, 0]))\n",
        "    ax_likelihood.matshow(likelihood, vmin=0., vmax=1., cmap='Reds')\n",
        "    ax_posterior.matshow(posterior, vmin=0., vmax=1., cmap='Greens')\n",
        "\n",
        "\n",
        "    # Probabilities plot details\n",
        "    ax_prior.set(xlim = [1, 0], yticks = [0, 1], yticklabels = ['left', 'right'],\n",
        "                 ylabel = 'state (s)', title = \"Prior p(s)\")\n",
        "    ax_prior.axis('off')\n",
        "\n",
        "    # Likelihood plot details\n",
        "    ax_likelihood.set(xticks = [0, 1], xticklabels = ['fish', 'no fish'],\n",
        "                  yticks = [0, 1], yticklabels = ['left', 'right'],\n",
        "                   ylabel = 'state (s)', xlabel = 'measurement (m)',\n",
        "                   title = 'Likelihood p(m (right) | s)')\n",
        "    ax_likelihood.xaxis.set_ticks_position('bottom')\n",
        "    ax_likelihood.spines['left'].set_visible(False)\n",
        "    ax_likelihood.spines['bottom'].set_visible(False)\n",
        "\n",
        "    # Posterior plot details\n",
        "\n",
        "    ax_posterior.set(xticks = [0, 1], xticklabels = ['fish', 'no fish'],\n",
        "                  yticks = [0, 1], yticklabels = ['left', 'right'],\n",
        "                   ylabel = 'state (s)', xlabel = 'measurement (m)',\n",
        "                   title = 'Posterior p(s | m)')\n",
        "    ax_posterior.xaxis.set_ticks_position('bottom')\n",
        "    ax_posterior.spines['left'].set_visible(False)\n",
        "    ax_posterior.spines['bottom'].set_visible(False)\n",
        "\n",
        "\n",
        "    # show values\n",
        "    ind = np.arange(2)\n",
        "    x,y = np.meshgrid(ind,ind)\n",
        "    for i,j in zip(x.flatten(), y.flatten()):\n",
        "        c = f\"{posterior[i,j]:.2f}\"\n",
        "        ax_posterior.text(j,i, c, va='center', ha='center', color='black')\n",
        "    for i,j in zip(x.flatten(), y.flatten()):\n",
        "        c = f\"{likelihood[i,j]:.2f}\"\n",
        "        ax_likelihood.text(j,i, c, va='center', ha='center', color='black')\n",
        "    for i in ind:\n",
        "        v = prior[i, 0]\n",
        "        c = f\"{v:.2f}\"\n",
        "        ax_prior.text(v+0.2, i, c, va='center', ha='center', color='black')\n",
        "\n",
        "\n",
        "def plot_prior_likelihood(ps, p_a_s1, p_a_s0, measurement):\n",
        "    likelihood = np.asarray([[p_a_s1, 1-p_a_s1],[p_a_s0, 1-p_a_s0]])\n",
        "    assert 0.0 <= ps <= 1.0\n",
        "    prior = np.asarray([ps, 1 - ps])\n",
        "    if measurement:\n",
        "        posterior = likelihood[:, 0] * prior\n",
        "    else:\n",
        "        posterior = (likelihood[:, 1] * prior).reshape(-1)\n",
        "    posterior /= np.sum(posterior)\n",
        "\n",
        "    # definitions for the axes\n",
        "    left, width = 0.05, 0.3\n",
        "    bottom, height = 0.05, 0.9\n",
        "    padding = 0.1\n",
        "    small_width = 0.22\n",
        "    left_space = left + small_width + padding\n",
        "    small_padding = 0.05\n",
        "\n",
        "    fig = plt.figure(figsize=(10, 4))\n",
        "\n",
        "    rect_prior = [left, bottom, small_width, height]\n",
        "    rect_likelihood = [left_space , bottom , width, height]\n",
        "    rect_posterior = [left_space + width + small_padding, bottom , small_width, height]\n",
        "\n",
        "    ax_prior = fig.add_axes(rect_prior)\n",
        "    ax_likelihood = fig.add_axes(rect_likelihood, sharey=ax_prior)\n",
        "    ax_posterior = fig.add_axes(rect_posterior, sharey=ax_prior)\n",
        "\n",
        "    prior_colormap = plt.cm.Blues\n",
        "    posterior_colormap = plt.cm.Greens\n",
        "\n",
        "    # Show posterior probs and marginals\n",
        "    ax_prior.barh(0, prior[0], facecolor = prior_colormap(prior[0]))\n",
        "    ax_prior.barh(1, prior[1], facecolor = prior_colormap(prior[1]))\n",
        "    ax_likelihood.matshow(likelihood, vmin=0., vmax=1., cmap='Reds')\n",
        "    # ax_posterior.matshow(posterior, vmin=0., vmax=1., cmap='')\n",
        "    ax_posterior.barh(0, posterior[0], facecolor = posterior_colormap(posterior[0]))\n",
        "    ax_posterior.barh(1, posterior[1], facecolor = posterior_colormap(posterior[1]))\n",
        "\n",
        "    # Probabilities plot details\n",
        "    ax_prior.set(xlim = [1, 0], yticks = [0, 1], yticklabels = ['left', 'right'],\n",
        "                 ylabel = 'state (s)', title = \"Prior p(s)\")\n",
        "    ax_prior.axis('off')\n",
        "\n",
        "    # Likelihood plot details\n",
        "    ax_likelihood.set(xticks = [0, 1], xticklabels = ['fish', 'no fish'],\n",
        "                  yticks = [0, 1], yticklabels = ['left', 'right'],\n",
        "                   ylabel = 'state (s)', xlabel = 'measurement (m)',\n",
        "                   title = 'Likelihood p(m | s)')\n",
        "    ax_likelihood.xaxis.set_ticks_position('bottom')\n",
        "    ax_likelihood.spines['left'].set_visible(False)\n",
        "    ax_likelihood.spines['bottom'].set_visible(False)\n",
        "\n",
        "    # Posterior plot details\n",
        "    ax_posterior.set(xlim = [0, 1], yticks = [0, 1], yticklabels = ['left', 'right'],\n",
        "                 ylabel = 'state (s)', title = \"Posterior p(s | m)\")\n",
        "    ax_posterior.axis('off')\n",
        "    # ax_posterior.set(xticks = [0, 1], xticklabels = ['fish', 'no fish'],\n",
        "    #               yticks = [0, 1], yticklabels = ['left', 'right'],\n",
        "    #                ylabel = 'state (s)', xlabel = 'measurement (m)',\n",
        "    #                title = 'Posterior p(s | m)')\n",
        "    # ax_posterior.xaxis.set_ticks_position('bottom')\n",
        "    # ax_posterior.spines['left'].set_visible(False)\n",
        "    # ax_posterior.spines['bottom'].set_visible(False)\n",
        "\n",
        "\n",
        "    # show values\n",
        "    ind = np.arange(2)\n",
        "    x,y = np.meshgrid(ind,ind)\n",
        "    # for i,j in zip(x.flatten(), y.flatten()):\n",
        "    #     c = f\"{posterior[i,j]:.2f}\"\n",
        "    #     ax_posterior.text(j,i, c, va='center', ha='center', color='black')\n",
        "    for i in ind:\n",
        "        v = posterior[i]\n",
        "        c = f\"{v:.2f}\"\n",
        "        ax_posterior.text(v+0.2, i, c, va='center', ha='center', color='black')\n",
        "    for i,j in zip(x.flatten(), y.flatten()):\n",
        "        c = f\"{likelihood[i,j]:.2f}\"\n",
        "        ax_likelihood.text(j,i, c, va='center', ha='center', color='black')\n",
        "    for i in ind:\n",
        "        v = prior[i]\n",
        "        c = f\"{v:.2f}\"\n",
        "        ax_prior.text(v+0.2, i, c, va='center', ha='center', color='black')\n",
        "    return fig\n",
        "\n",
        "# fig = plot_prior_likelihood(0.5, 0.3)\n",
        "# plt.show(fig)\n",
        "# plt.close(fig)\n",
        "\n",
        "\n",
        "from matplotlib import colors\n",
        "def plot_utility(ps):\n",
        "    prior = np.asarray([ps, 1 - ps])\n",
        "\n",
        "    utility = np.array([[2, -3], [-2, 1]])\n",
        "\n",
        "    expected = prior @ utility\n",
        "\n",
        "    # definitions for the axes\n",
        "    left, width = 0.05, 0.16\n",
        "    bottom, height = 0.05, 0.9\n",
        "    padding = 0.04\n",
        "    small_width = 0.1\n",
        "    left_space = left + small_width + padding\n",
        "    added_space = padding + width\n",
        "\n",
        "    fig = plt.figure(figsize=(17, 3))\n",
        "\n",
        "    rect_prior = [left, bottom, small_width, height]\n",
        "    rect_utility = [left + added_space , bottom , width, height]\n",
        "    rect_expected = [left + 2* added_space, bottom , width, height]\n",
        "\n",
        "    ax_prior = fig.add_axes(rect_prior)\n",
        "    ax_utility = fig.add_axes(rect_utility, sharey=ax_prior)\n",
        "    ax_expected = fig.add_axes(rect_expected)\n",
        "\n",
        "    rect_colormap = plt.cm.Blues\n",
        "\n",
        "    # Data of plots\n",
        "    ax_prior.barh(0, prior[0], facecolor = rect_colormap(prior[0]))\n",
        "    ax_prior.barh(1, prior[1], facecolor = rect_colormap(prior[1]))\n",
        "    ax_utility.matshow(utility, cmap='cool')\n",
        "    norm = colors.Normalize(vmin=-3, vmax=3)\n",
        "    ax_expected.bar(0, expected[0], facecolor = rect_colormap(norm(expected[0])))\n",
        "    ax_expected.bar(1, expected[1], facecolor = rect_colormap(norm(expected[1])))\n",
        "\n",
        "    # Probabilities plot details\n",
        "    ax_prior.set(xlim = [1, 0], yticks = [0, 1], yticklabels = ['left', 'right'],\n",
        "                 ylabel = 'state (s)', title = \"Probability of state\")\n",
        "    ax_prior.axis('off')\n",
        "\n",
        "    # Utility plot details\n",
        "    ax_utility.set(xticks = [0, 1], xticklabels = ['left', 'right'],\n",
        "                  yticks = [0, 1], yticklabels = ['left', 'right'],\n",
        "                   ylabel = 'state (s)', xlabel = 'action (a)',\n",
        "                   title = 'Utility')\n",
        "    ax_utility.xaxis.set_ticks_position('bottom')\n",
        "    ax_utility.spines['left'].set_visible(False)\n",
        "    ax_utility.spines['bottom'].set_visible(False)\n",
        "\n",
        "    # Expected utility plot details\n",
        "    ax_expected.set(title = 'Expected utility', ylim = [-3, 3],\n",
        "                    xticks = [0, 1], xticklabels = ['left', 'right'],\n",
        "                    xlabel = 'action (a)',\n",
        "                    yticks = [])\n",
        "    ax_expected.xaxis.set_ticks_position('bottom')\n",
        "    ax_expected.spines['left'].set_visible(False)\n",
        "    ax_expected.spines['bottom'].set_visible(False)\n",
        "\n",
        "    # show values\n",
        "    ind = np.arange(2)\n",
        "    x,y = np.meshgrid(ind,ind)\n",
        "\n",
        "    for i,j in zip(x.flatten(), y.flatten()):\n",
        "        c = f\"{utility[i,j]:.2f}\"\n",
        "        ax_utility.text(j,i, c, va='center', ha='center', color='black')\n",
        "    for i in ind:\n",
        "        v = prior[i]\n",
        "        c = f\"{v:.2f}\"\n",
        "        ax_prior.text(v+0.2, i, c, va='center', ha='center', color='black')\n",
        "    for i in ind:\n",
        "        v = expected[i]\n",
        "        c = f\"{v:.2f}\"\n",
        "        ax_expected.text(i, 2.5, c, va='center', ha='center', color='black')\n",
        "\n",
        "    return fig\n",
        "\n",
        "\n",
        "def plot_prior_likelihood_utility(ps, p_a_s1, p_a_s0,measurement):\n",
        "    assert 0.0 <= ps <= 1.0\n",
        "    assert 0.0 <= p_a_s1 <= 1.0\n",
        "    assert 0.0 <= p_a_s0 <= 1.0\n",
        "    prior = np.asarray([ps, 1 - ps])\n",
        "    likelihood = np.asarray([[p_a_s1, 1-p_a_s1],[p_a_s0, 1-p_a_s0]])\n",
        "    utility = np.array([[2.0, -3.0], [-2.0, 1.0]])\n",
        "    # expected = np.zeros_like(utility)\n",
        "\n",
        "    if measurement:\n",
        "        posterior = likelihood[:, 0] * prior\n",
        "    else:\n",
        "        posterior = (likelihood[:, 1] * prior).reshape(-1)\n",
        "    posterior /= np.sum(posterior)\n",
        "    # expected[:, 0] = utility[:, 0] * posterior\n",
        "    # expected[:, 1] = utility[:, 1] * posterior\n",
        "    expected = posterior @ utility\n",
        "\n",
        "    # definitions for the axes\n",
        "    left, width = 0.05, 0.15\n",
        "    bottom, height = 0.05, 0.9\n",
        "    padding = 0.05\n",
        "    small_width = 0.1\n",
        "    large_padding = 0.07\n",
        "    left_space = left + small_width + large_padding\n",
        "\n",
        "    fig = plt.figure(figsize=(17, 4))\n",
        "\n",
        "    rect_prior = [left, bottom+0.05, small_width, height-0.1]\n",
        "    rect_likelihood = [left_space, bottom , width, height]\n",
        "    rect_posterior = [left_space + padding + width - 0.02, bottom+0.05 , small_width, height-0.1]\n",
        "    rect_utility = [left_space + padding + width + padding + small_width, bottom , width, height]\n",
        "    rect_expected = [left_space + padding + width + padding + small_width + padding + width, bottom+0.05 , width, height-0.1]\n",
        "\n",
        "    ax_likelihood = fig.add_axes(rect_likelihood)\n",
        "    ax_prior = fig.add_axes(rect_prior, sharey=ax_likelihood)\n",
        "    ax_posterior = fig.add_axes(rect_posterior, sharey=ax_likelihood)\n",
        "    ax_utility = fig.add_axes(rect_utility, sharey=ax_posterior)\n",
        "    ax_expected = fig.add_axes(rect_expected)\n",
        "\n",
        "\n",
        "    prior_colormap = plt.cm.Blues\n",
        "    posterior_colormap = plt.cm.Greens\n",
        "    expected_colormap = plt.cm.Wistia\n",
        "\n",
        "    # Show posterior probs and marginals\n",
        "    ax_prior.barh(0, prior[0], facecolor = prior_colormap(prior[0]))\n",
        "    ax_prior.barh(1, prior[1], facecolor = prior_colormap(prior[1]))\n",
        "    ax_likelihood.matshow(likelihood, vmin=0., vmax=1., cmap='Reds')\n",
        "    ax_posterior.barh(0, posterior[0], facecolor = posterior_colormap(posterior[0]))\n",
        "    ax_posterior.barh(1, posterior[1], facecolor = posterior_colormap(posterior[1]))\n",
        "    ax_utility.matshow(utility, vmin=0., vmax=1., cmap='cool')\n",
        "    # ax_expected.matshow(expected, vmin=0., vmax=1., cmap='Wistia')\n",
        "    ax_expected.bar(0, expected[0], facecolor = expected_colormap(expected[0]))\n",
        "    ax_expected.bar(1, expected[1], facecolor = expected_colormap(expected[1]))\n",
        "\n",
        "    # Probabilities plot details\n",
        "    ax_prior.set(xlim = [1, 0], yticks = [0, 1], yticklabels = ['left', 'right'],\n",
        "                 ylabel = 'state (s)', title = \"Prior p(s)\")\n",
        "    ax_prior.axis('off')\n",
        "\n",
        "    # Likelihood plot details\n",
        "    ax_likelihood.set(xticks = [0, 1], xticklabels = ['fish', 'no fish'],\n",
        "                  yticks = [0, 1], yticklabels = ['left', 'right'],\n",
        "                   ylabel = 'state (s)', xlabel = 'measurement (m)',\n",
        "                   title = 'Likelihood p(m | s)')\n",
        "    ax_likelihood.xaxis.set_ticks_position('bottom')\n",
        "    ax_likelihood.spines['left'].set_visible(False)\n",
        "    ax_likelihood.spines['bottom'].set_visible(False)\n",
        "\n",
        "    # Posterior plot details\n",
        "    ax_posterior.set(xlim = [0, 1], yticks = [0, 1], yticklabels = ['left', 'right'],\n",
        "                 ylabel = 'state (s)', title = \"Posterior p(s | m)\")\n",
        "    ax_posterior.axis('off')\n",
        "\n",
        "    # Utility plot details\n",
        "    ax_utility.set(xticks = [0, 1], xticklabels = ['left', 'right'],\n",
        "                   xlabel = 'action (a)',\n",
        "                   title = 'Utility')\n",
        "    ax_utility.xaxis.set_ticks_position('bottom')\n",
        "    ax_utility.spines['left'].set_visible(False)\n",
        "    ax_utility.spines['bottom'].set_visible(False)\n",
        "\n",
        "    # Expected Utility plot details\n",
        "    ax_expected.set(ylim = [-2, 2], xticks = [0, 1], xticklabels = ['left', 'right'],\n",
        "                 xlabel = 'action (a)', title = 'Expected utility', yticks=[])\n",
        "    # ax_expected.axis('off')\n",
        "    ax_expected.spines['left'].set_visible(False)\n",
        "    # ax_expected.set(xticks = [0, 1], xticklabels = ['left', 'right'],\n",
        "    #                 xlabel = 'action (a)',\n",
        "    #                title = 'Expected utility')\n",
        "    # ax_expected.xaxis.set_ticks_position('bottom')\n",
        "    # ax_expected.spines['left'].set_visible(False)\n",
        "    # ax_expected.spines['bottom'].set_visible(False)\n",
        "\n",
        "    # show values\n",
        "    ind = np.arange(2)\n",
        "    x,y = np.meshgrid(ind,ind)\n",
        "    for i in ind:\n",
        "        v = posterior[i]\n",
        "        c = f\"{v:.2f}\"\n",
        "        ax_posterior.text(v+0.2, i, c, va='center', ha='center', color='black')\n",
        "    for i,j in zip(x.flatten(), y.flatten()):\n",
        "        c = f\"{likelihood[i,j]:.2f}\"\n",
        "        ax_likelihood.text(j,i, c, va='center', ha='center', color='black')\n",
        "    for i,j in zip(x.flatten(), y.flatten()):\n",
        "        c = f\"{utility[i,j]:.2f}\"\n",
        "        ax_utility.text(j,i, c, va='center', ha='center', color='black')\n",
        "    # for i,j in zip(x.flatten(), y.flatten()):\n",
        "    #     c = f\"{expected[i,j]:.2f}\"\n",
        "    #     ax_expected.text(j,i, c, va='center', ha='center', color='black')\n",
        "    for i in ind:\n",
        "        v = prior[i]\n",
        "        c = f\"{v:.2f}\"\n",
        "        ax_prior.text(v+0.2, i, c, va='center', ha='center', color='black')\n",
        "    for i in ind:\n",
        "        v = expected[i]\n",
        "        c = f\"{v:.2f}\"\n",
        "        ax_expected.text(i, v, c, va='center', ha='center', color='black')\n",
        "\n",
        "    # # show values\n",
        "    # ind = np.arange(2)\n",
        "    # x,y = np.meshgrid(ind,ind)\n",
        "    # for i,j in zip(x.flatten(), y.flatten()):\n",
        "    #     c = f\"{P[i,j]:.2f}\"\n",
        "    #     ax.text(j,i, c, va='center', ha='center', color='white')\n",
        "    # for i in ind:\n",
        "    #     v = marginal_x[i]\n",
        "    #     c = f\"{v:.2f}\"\n",
        "    #     ax_x.text(i, v +0.2, c, va='center', ha='center', color='black')\n",
        "    #     v = marginal_y[i]\n",
        "    #     c = f\"{v:.2f}\"\n",
        "    #     ax_y.text(v+0.2, i, c, va='center', ha='center', color='black')\n",
        "\n",
        "    return fig"
      ],
      "execution_count": 4,
      "outputs": []
    },
    {
      "cell_type": "code",
      "metadata": {
        "cellView": "form",
        "execution": {
          "iopub.execute_input": "2021-06-25T15:15:26.909876Z",
          "iopub.status.busy": "2021-06-25T15:15:26.909310Z",
          "iopub.status.idle": "2021-06-25T15:15:26.913133Z",
          "shell.execute_reply": "2021-06-25T15:15:26.912415Z"
        },
        "id": "jdl6_YpNA0vF"
      },
      "source": [
        "# @title Helper Functions\n",
        "\n",
        "def compute_marginal(px, py, cor):\n",
        "    # calculate 2x2 joint probabilities given marginals p(x=1), p(y=1) and correlation\n",
        "    p11 = px*py + cor*np.sqrt(px*py*(1-px)*(1-py))\n",
        "    p01 = px - p11\n",
        "    p10 = py - p11\n",
        "    p00 = 1.0 - p11 - p01 - p10\n",
        "    return np.asarray([[p00, p01], [p10, p11]])\n",
        "# test\n",
        "# print(compute_marginal(0.4, 0.6, -0.8))\n",
        "\n",
        "\n",
        "def compute_cor_range(px,py):\n",
        "    # Calculate the allowed range of correlation values given marginals p(x=1) and p(y=1)\n",
        "    def p11(corr):\n",
        "        return px*py + corr*np.sqrt(px*py*(1-px)*(1-py))\n",
        "    def p01(corr):\n",
        "        return px - p11(corr)\n",
        "    def p10(corr):\n",
        "        return py - p11(corr)\n",
        "    def p00(corr):\n",
        "        return 1.0 - p11(corr) - p01(corr) - p10(corr)\n",
        "    Cmax = min(fsolve(p01, 0.0), fsolve(p10, 0.0))\n",
        "    Cmin = max(fsolve(p11, 0.0), fsolve(p00, 0.0))\n",
        "    return Cmin, Cmax"
      ],
      "execution_count": 5,
      "outputs": []
    },
    {
      "cell_type": "markdown",
      "metadata": {
        "id": "3kCFY9l3A0vH"
      },
      "source": [
        "---\n",
        "# Section 1: Gone Fishin'\n"
      ]
    },
    {
      "cell_type": "code",
      "metadata": {
        "cellView": "form",
        "execution": {
          "iopub.execute_input": "2021-06-25T15:15:26.924621Z",
          "iopub.status.busy": "2021-06-25T15:15:26.924066Z",
          "iopub.status.idle": "2021-06-25T15:15:27.002207Z",
          "shell.execute_reply": "2021-06-25T15:15:27.001495Z"
        },
        "colab": {
          "base_uri": "https://localhost:8080/",
          "height": 580,
          "referenced_widgets": [
            "f635293b2e2d4e328f7df4fe0241192c",
            "82172fc9e0304a54bc2cdd73cf19b57b",
            "10320972941241ab8ee4c5dec4478154",
            "b0b37c2e9c364e45bfe66f9a1110eb76",
            "d88ad368587249f98e5ab6a209b0b707",
            "347e511374874f529d6cb60ae0a6082a"
          ]
        },
        "id": "FBpvL-FdA0vH",
        "outputId": "8f65326d-c59b-4a91-f0e0-7e6044787907"
      },
      "source": [
        "# @title Video 2: Gone Fishin'\n",
        "from ipywidgets import widgets\n",
        "\n",
        "out2 = widgets.Output()\n",
        "with out2:\n",
        "  from IPython.display import IFrame\n",
        "  class BiliVideo(IFrame):\n",
        "      def __init__(self, id, page=1, width=400, height=300, **kwargs):\n",
        "          self.id=id\n",
        "          src = 'https://player.bilibili.com/player.html?bvid={0}&page={1}'.format(id, page)\n",
        "          super(BiliVideo, self).__init__(src, width, height, **kwargs)\n",
        "\n",
        "  video = BiliVideo(id=\"\", width=854, height=480, fs=1)\n",
        "  print('Video available at https://www.bilibili.com/video/{0}'.format(video.id))\n",
        "  display(video)\n",
        "\n",
        "out1 = widgets.Output()\n",
        "with out1:\n",
        "  from IPython.display import YouTubeVideo\n",
        "  video = YouTubeVideo(id=\"McALsTzb494\", width=854, height=480, fs=1, rel=0)\n",
        "  print('Video available at https://youtube.com/watch?v=' + video.id)\n",
        "  display(video)\n",
        "\n",
        "out = widgets.Tab([out1, out2])\n",
        "out.set_title(0, 'Youtube')\n",
        "out.set_title(1, 'Bilibili')\n",
        "\n",
        "display(out)"
      ],
      "execution_count": 6,
      "outputs": [
        {
          "output_type": "display_data",
          "data": {
            "application/vnd.jupyter.widget-view+json": {
              "model_id": "f635293b2e2d4e328f7df4fe0241192c",
              "version_minor": 0,
              "version_major": 2
            },
            "text/plain": [
              "Tab(children=(Output(), Output()), _titles={'0': 'Youtube', '1': 'Bilibili'})"
            ]
          },
          "metadata": {
            "tags": []
          }
        }
      ]
    },
    {
      "cell_type": "markdown",
      "metadata": {
        "id": "a5n6wnieA0vH"
      },
      "source": [
        "You were just introduced to the **binary hidden state problem** we are going to explore. You need to decide which side to fish on. We know fish like to school together. On different days the school of fish is either on the left or right side, but we don’t know what the case is today. We will represent our knowledge probabilistically, asking how to make a decision (where to decide the fish are or where to fish) and what to expect in terms of gains or losses. In the next two sections we will consider just the probability of where the fish might be and what you gain or lose by choosing where to fish.\n",
        "\n",
        "Remember, you can either think of your self as a scientist conducting an experiment or as a brain trying to make a decision. The Bayesian approach is the same!\n"
      ]
    },
    {
      "cell_type": "markdown",
      "metadata": {
        "id": "AXQPz_k5A0vI"
      },
      "source": [
        "---\n",
        "# Section 2: Deciding where to fish \n",
        "\n"
      ]
    },
    {
      "cell_type": "code",
      "metadata": {
        "cellView": "form",
        "execution": {
          "iopub.execute_input": "2021-06-25T15:15:27.027109Z",
          "iopub.status.busy": "2021-06-25T15:15:27.026597Z",
          "iopub.status.idle": "2021-06-25T15:15:27.095976Z",
          "shell.execute_reply": "2021-06-25T15:15:27.095432Z"
        },
        "colab": {
          "base_uri": "https://localhost:8080/",
          "height": 580,
          "referenced_widgets": [
            "642a3f3498e84754816f1bb7a4d7a4d6",
            "f9e2554ba16f43feb69e8e71a468295e",
            "d76fe1b14e3e472694ac26f11ad94bc1",
            "6ebfded671a34f108cb004378852c3c7",
            "e62a5d5e0d3a4b79a935ef8f056d3495",
            "0baae6b75738482ea3edddc2739fd994"
          ]
        },
        "id": "JsvIID9MA0vI",
        "outputId": "193d0dc9-6022-4fa1-8eba-6dbfdb70ed7c"
      },
      "source": [
        "# @title Video 3: Utility\n",
        "from ipywidgets import widgets\n",
        "\n",
        "out2 = widgets.Output()\n",
        "with out2:\n",
        "  from IPython.display import IFrame\n",
        "  class BiliVideo(IFrame):\n",
        "      def __init__(self, id, page=1, width=400, height=300, **kwargs):\n",
        "          self.id=id\n",
        "          src = 'https://player.bilibili.com/player.html?bvid={0}&page={1}'.format(id, page)\n",
        "          super(BiliVideo, self).__init__(src, width, height, **kwargs)\n",
        "\n",
        "  video = BiliVideo(id=\"\", width=854, height=480, fs=1)\n",
        "  print('Video available at https://www.bilibili.com/video/{0}'.format(video.id))\n",
        "  display(video)\n",
        "\n",
        "out1 = widgets.Output()\n",
        "with out1:\n",
        "  from IPython.display import YouTubeVideo\n",
        "  video = YouTubeVideo(id=\"xvIVZrqF_5s\", width=854, height=480, fs=1, rel=0)\n",
        "  print('Video available at https://youtube.com/watch?v=' + video.id)\n",
        "  display(video)\n",
        "\n",
        "out = widgets.Tab([out1, out2])\n",
        "out.set_title(0, 'Youtube')\n",
        "out.set_title(1, 'Bilibili')\n",
        "\n",
        "display(out)"
      ],
      "execution_count": 7,
      "outputs": [
        {
          "output_type": "display_data",
          "data": {
            "application/vnd.jupyter.widget-view+json": {
              "model_id": "642a3f3498e84754816f1bb7a4d7a4d6",
              "version_minor": 0,
              "version_major": 2
            },
            "text/plain": [
              "Tab(children=(Output(), Output()), _titles={'0': 'Youtube', '1': 'Bilibili'})"
            ]
          },
          "metadata": {
            "tags": []
          }
        }
      ]
    },
    {
      "cell_type": "markdown",
      "metadata": {
        "id": "N1Uzxv6mA0vI"
      },
      "source": [
        "You know the probability that the school of fish is on the left side of the dock today, $P(s = left)$. You also know the probability that it is on the right, $P(s = right)$, because these two probabilities must add up to 1. You need to decide where to fish. It may seem obvious - you could just fish on the side where the probability of the fish being is higher! Unfortunately, decisions and actions are always a little more complicated. Deciding to fish may be influenced by more than just the probability of the school of fish being there as we saw by the potential issues of submarines and sunburn. \n",
        "\n",
        "We quantify these factors numerically using **utility**, which describes the consequences of your actions: how much value you gain (or if negative, lose) given the state of the world ($s$) and the action you take ($a$). In our example, our utility can be summarized as:\n",
        "\n",
        "| Utility: U(s,a)   | a = left   | a = right  |\n",
        "| ----------------- |----------|----------|\n",
        "| s = Left          | 2          | -3         |\n",
        "| s = right         | -2         |  1         |\n",
        "\n",
        "To use utility to choose an action, we calculate the **expected utility** of that action by weighing these utilities with the probability of that state occuring. This allows us to choose actions by taking probabilities of events into account: we don't care if the outcome of an action-state pair is a loss if the probability of that state is very low. We can formalize this as:\n",
        "\n",
        "$$\\text{Expected utility of action a} = \\sum_{s}U(s,a)P(s) $$\n",
        "\n",
        "In other words, the expected utility of an action a is the sum over possible states of the utility of that action and state times the probability of that state.\n"
      ]
    },
    {
      "cell_type": "markdown",
      "metadata": {
        "id": "IiAYg6n6A0vI"
      },
      "source": [
        "## Interactive Demo 2: Exploring the decision\n",
        "\n",
        "Let's start to get a sense of how all this works. \n",
        "\n",
        "Take a look at the interactive demo below. You can change the probability that the school of fish is on the left side ($p(s = left)$ using the slider. You will see the utility matrix and the corresponding expected utility of each action.\n",
        "\n",
        "First, make sure you understand how the expected utility of each action is being computed from the probabilities and the utility values. In the initial state: the probability of the fish being on the left is 0.9 and on the right is 0.1. The expected utility of the action of fishing on the left is then $U(s = left,a = left)p(s = left) + U(s = right,a = left)p(s = right) = 2(0.9) + -2(0.1) = 1.6$.\n",
        "\n",
        "For each of these scenarios, think and discuss first. Then use the demo to try out each and see if your action would have been correct (that is, if the expected value of that action is the highest).\n",
        "\n",
        "\n",
        "1.  You just arrived at the dock for the first time and have no sense of where the fish might be. So you guess that the probability of the school being on the left side is 0.5 (so the probability on the right side is also 0.5). Which side would you choose to fish on given our utility values?\n",
        "2.  You think that the probability of the school being on the left side is very low (0.1) and correspondingly high on the right side (0.9). Which side would you choose to fish on given our utility values?\n",
        "3.  What would you choose if the probability of the school being on the left side is slightly lower than on the right side (0. 4 vs 0.6)?"
      ]
    },
    {
      "cell_type": "code",
      "metadata": {
        "cellView": "form",
        "execution": {
          "iopub.execute_input": "2021-06-25T15:15:27.125816Z",
          "iopub.status.busy": "2021-06-25T15:15:27.125160Z",
          "iopub.status.idle": "2021-06-25T15:15:27.363022Z",
          "shell.execute_reply": "2021-06-25T15:15:27.362492Z"
        },
        "colab": {
          "base_uri": "https://localhost:8080/",
          "height": 326,
          "referenced_widgets": [
            "1fa684103eaf4e71beb0794f615280c8",
            "07dc440dceeb423596dde872186a73a6",
            "dbd6e41d60be4af38975e64ec36e33b3",
            "d26c3d911dd8482a8eecc94ba8ecd98b",
            "0a6560e6b1944a179531c75f47d11ceb",
            "b9233c211e4940b49811c06c5147523f",
            "d63c1957c2184c94898c5f64e1c76d37"
          ]
        },
        "id": "SEiaFZjOA0vJ",
        "outputId": "b313f5c1-69c1-4ed9-fc1f-75351fd3f4fc"
      },
      "source": [
        "# @markdown Execute this cell to use the widget\n",
        "ps_widget = widgets.FloatSlider(0.9, description='p(s = left)', min=0.0, max=1.0, step=0.01)\n",
        "\n",
        "@widgets.interact(\n",
        "    ps = ps_widget,\n",
        ")\n",
        "def make_utility_plot(ps):\n",
        "    fig = plot_utility(ps)\n",
        "    plt.show(fig)\n",
        "    plt.close(fig)\n",
        "    return None"
      ],
      "execution_count": 8,
      "outputs": [
        {
          "output_type": "display_data",
          "data": {
            "application/vnd.jupyter.widget-view+json": {
              "model_id": "1fa684103eaf4e71beb0794f615280c8",
              "version_minor": 0,
              "version_major": 2
            },
            "text/plain": [
              "interactive(children=(FloatSlider(value=0.9, description='p(s = left)', max=1.0, step=0.01), Output()), _dom_c…"
            ]
          },
          "metadata": {
            "tags": []
          }
        }
      ]
    },
    {
      "cell_type": "markdown",
      "metadata": {
        "execution": {
          "iopub.execute_input": "2021-06-25T15:15:27.368248Z",
          "iopub.status.busy": "2021-06-25T15:15:27.367081Z",
          "iopub.status.idle": "2021-06-25T15:15:27.368872Z",
          "shell.execute_reply": "2021-06-25T15:15:27.369319Z"
        },
        "id": "4H0zR9GJA0vJ"
      },
      "source": [
        "[*Click for solution*](https://github.com/NeuromatchAcademy/course-content/tree/master//tutorials/W3D1_BayesianDecisions/solutions/W3D1_Tutorial1_Solution_459cbf35.py)\n",
        "\n"
      ]
    },
    {
      "cell_type": "markdown",
      "metadata": {
        "id": "C1sfzbTUA0vJ"
      },
      "source": [
        "In this section, you have seen that both the utility of various state and action pairs and our knowledge of the probability of each state affects your decision. Importantly, we want our knowledge of the probability of each state to be as accurate as possible! \n",
        "\n",
        "So how do we know these probabilities? We may have prior knowledge from years of fishing at the same dock. Over those years, we may have learned that the fish are more likely to be on the left side for example. We want to make sure this knowledge is as accurate as possible though. To do this, we want to collect more data, or take some more measurements! For the next few sections, we will focus on making our knowledge of the probability as accurate as possible, before coming back to using utility to make decisions."
      ]
    },
    {
      "cell_type": "markdown",
      "metadata": {
        "id": "GlH4EmC6A0vJ"
      },
      "source": [
        "---\n",
        "# Section 3: Likelihood of the fish being on either side\n",
        " \n"
      ]
    },
    {
      "cell_type": "code",
      "metadata": {
        "cellView": "form",
        "execution": {
          "iopub.execute_input": "2021-06-25T15:15:27.382108Z",
          "iopub.status.busy": "2021-06-25T15:15:27.380574Z",
          "iopub.status.idle": "2021-06-25T15:15:27.447741Z",
          "shell.execute_reply": "2021-06-25T15:15:27.448200Z"
        },
        "colab": {
          "base_uri": "https://localhost:8080/",
          "height": 580,
          "referenced_widgets": [
            "426035297c0f43d3a08d644f6da9f528",
            "3e43e9403e3a4ee4a8bb86d2823bbeea",
            "9055a14efb814bfca0faaa386d04cbed",
            "c517695dd8bf4585a8e0488d3e5e42d2",
            "fb4db23427654f6fbf07a65c9d2d45b8",
            "02125631116b47b395c89c86283d28fe"
          ]
        },
        "id": "QK66zwGcA0vK",
        "outputId": "04b94290-6950-42c9-9e5e-8fd16caca203"
      },
      "source": [
        "# @title Video 4: Likelihood\n",
        "from ipywidgets import widgets\n",
        "\n",
        "out2 = widgets.Output()\n",
        "with out2:\n",
        "  from IPython.display import IFrame\n",
        "  class BiliVideo(IFrame):\n",
        "      def __init__(self, id, page=1, width=400, height=300, **kwargs):\n",
        "          self.id=id\n",
        "          src = 'https://player.bilibili.com/player.html?bvid={0}&page={1}'.format(id, page)\n",
        "          super(BiliVideo, self).__init__(src, width, height, **kwargs)\n",
        "\n",
        "  video = BiliVideo(id=\"\", width=854, height=480, fs=1)\n",
        "  print('Video available at https://www.bilibili.com/video/{0}'.format(video.id))\n",
        "  display(video)\n",
        "\n",
        "out1 = widgets.Output()\n",
        "with out1:\n",
        "  from IPython.display import YouTubeVideo\n",
        "  video = YouTubeVideo(id=\"l4m0JzMWGio\", width=854, height=480, fs=1, rel=0)\n",
        "  print('Video available at https://youtube.com/watch?v=' + video.id)\n",
        "  display(video)\n",
        "\n",
        "out = widgets.Tab([out1, out2])\n",
        "out.set_title(0, 'Youtube')\n",
        "out.set_title(1, 'Bilibili')\n",
        "\n",
        "display(out)"
      ],
      "execution_count": 9,
      "outputs": [
        {
          "output_type": "display_data",
          "data": {
            "application/vnd.jupyter.widget-view+json": {
              "model_id": "426035297c0f43d3a08d644f6da9f528",
              "version_minor": 0,
              "version_major": 2
            },
            "text/plain": [
              "Tab(children=(Output(), Output()), _titles={'0': 'Youtube', '1': 'Bilibili'})"
            ]
          },
          "metadata": {
            "tags": []
          }
        }
      ]
    },
    {
      "cell_type": "markdown",
      "metadata": {
        "id": "j4msgmvPA0vK"
      },
      "source": [
        "First, we'll think about what it means to take a measurement (also often called an observation or just data) and what it tells you about what the hidden state may be. Specifically, we'll be looking at the **likelihood**, which is the probability of your measurement ($m$) given the hidden state ($s$): $P(m | s)$. Remember that in this case, the hidden state is which side of the dock the school of fish is on.\n",
        "\n",
        "We will watch someone fish (for let's say 10 minutes) and our measurement is whether they catch a fish or not. We know something about what catching a fish means for the likelihood of the fish being on one side or the other. "
      ]
    },
    {
      "cell_type": "markdown",
      "metadata": {
        "id": "Ex3dlPvHA0vK"
      },
      "source": [
        "## Think! 3: Guessing the location of the fish\n",
        "\n",
        "Let's say we go to different dock from the one in the video. Here, there are different probabilities of catching fish given the state of the world. In this case, if they fish on the side of the dock where the fish are, they have a 70% chance of catching a fish. Otherwise, they catch a fish with only 20% probability. \n",
        "\n",
        "The fisherperson is fishing on the left side. \n",
        "\n",
        "1) Figure out each of the following:\n",
        "- probability of catching a fish given that the school of fish is on the left side, $P(m = catch\\text{ } fish | s = left )$\n",
        "- probability of not catching a fish given that the school of fish is on the left side, $P(m = no \\text{ } fish | s = left)$\n",
        "- probability of catching a fish given that the school of fish is on the right side, $P(m = catch  \\text{ } fish | s = right)$\n",
        "- probability of not catching a fish given that the school of fish is on the right side, $P(m = no \\text{ } fish | s = right)$\n",
        "\n",
        "2) If the fisherperson catches a fish, which side would you guess the school is on? Why?\n",
        "\n",
        "3) If the fisherperson does not catch a fish, which side would you guess the school is on? Why?\n"
      ]
    },
    {
      "cell_type": "markdown",
      "metadata": {
        "execution": {
          "iopub.execute_input": "2021-06-25T15:15:27.459236Z",
          "iopub.status.busy": "2021-06-25T15:15:27.458560Z",
          "iopub.status.idle": "2021-06-25T15:15:27.460258Z",
          "shell.execute_reply": "2021-06-25T15:15:27.459756Z"
        },
        "id": "kSyvhAJiA0vL"
      },
      "source": [
        "[*Click for solution*](https://github.com/NeuromatchAcademy/course-content/tree/master//tutorials/W3D1_BayesianDecisions/solutions/W3D1_Tutorial1_Solution_2284aaf4.py)\n",
        "\n"
      ]
    },
    {
      "cell_type": "markdown",
      "metadata": {
        "id": "TC-j0NdZA0vL"
      },
      "source": [
        "In the prior exercise, you guessed where the school of fish was based on the measurement you took (watching someone fish). You did this by choosing the state (side of school) that maximized the probability of the measurement. In other words, you estimated the state by maximizing the likelihood (had the highest probability of measurement given state $P(m|s$)). This is called maximum likelihood estimation (MLE) and you've encountered it before during this course, in W1D3!\n",
        "\n",
        "What if you had been going to this river for years and you knew that the fish were almost always on the left side? This would probably affect how you make your estimate - you would rely less on the single new measurement and more on your prior knowledge. This is the idea behind Bayesian inference, as we will see later in this tutorial!"
      ]
    },
    {
      "cell_type": "markdown",
      "metadata": {
        "id": "UZ-fd-kiA0vL"
      },
      "source": [
        "---\n",
        "# Section 4: Correlation and marginalization\n"
      ]
    },
    {
      "cell_type": "code",
      "metadata": {
        "cellView": "form",
        "execution": {
          "iopub.execute_input": "2021-06-25T15:15:27.507590Z",
          "iopub.status.busy": "2021-06-25T15:15:27.505019Z",
          "iopub.status.idle": "2021-06-25T15:15:27.573883Z",
          "shell.execute_reply": "2021-06-25T15:15:27.572166Z"
        },
        "colab": {
          "base_uri": "https://localhost:8080/",
          "height": 580,
          "referenced_widgets": [
            "1e95a71955ec45bcaa0c954e783770dd",
            "cf479651e8c143ccbc2a1e2c1292645c",
            "59fc00de46bc44bc8fd4e7498a39f8ce",
            "3f2db45d8de34791a0ad1b3b98913b7b",
            "3999f7818b7948d48b4947f3a5613e09",
            "ac961caa5dc1437f929949d87a578e46"
          ]
        },
        "id": "FuUaSCvRA0vL",
        "outputId": "16ea2c96-e22a-497b-d77e-2a2650abf467"
      },
      "source": [
        "# @title Video 5: Correlation and marginalization\n",
        "from ipywidgets import widgets\n",
        "\n",
        "out2 = widgets.Output()\n",
        "with out2:\n",
        "  from IPython.display import IFrame\n",
        "  class BiliVideo(IFrame):\n",
        "      def __init__(self, id, page=1, width=400, height=300, **kwargs):\n",
        "          self.id=id\n",
        "          src = 'https://player.bilibili.com/player.html?bvid={0}&page={1}'.format(id, page)\n",
        "          super(BiliVideo, self).__init__(src, width, height, **kwargs)\n",
        "\n",
        "  video = BiliVideo(id=\"\", width=854, height=480, fs=1)\n",
        "  print('Video available at https://www.bilibili.com/video/{0}'.format(video.id))\n",
        "  display(video)\n",
        "\n",
        "out1 = widgets.Output()\n",
        "with out1:\n",
        "  from IPython.display import YouTubeVideo\n",
        "  video = YouTubeVideo(id=\"vsDjtWi-BVo\", width=854, height=480, fs=1, rel=0)\n",
        "  print('Video available at https://youtube.com/watch?v=' + video.id)\n",
        "  display(video)\n",
        "\n",
        "out = widgets.Tab([out1, out2])\n",
        "out.set_title(0, 'Youtube')\n",
        "out.set_title(1, 'Bilibili')\n",
        "\n",
        "display(out)"
      ],
      "execution_count": 10,
      "outputs": [
        {
          "output_type": "display_data",
          "data": {
            "application/vnd.jupyter.widget-view+json": {
              "model_id": "1e95a71955ec45bcaa0c954e783770dd",
              "version_minor": 0,
              "version_major": 2
            },
            "text/plain": [
              "Tab(children=(Output(), Output()), _titles={'0': 'Youtube', '1': 'Bilibili'})"
            ]
          },
          "metadata": {
            "tags": []
          }
        }
      ]
    },
    {
      "cell_type": "markdown",
      "metadata": {
        "id": "8bJUOGktA0vL"
      },
      "source": [
        "In this section, we are going to take a step back for a bit and think more generally about the amount of information shared between two random variables. We want to know how much information you gain when you observe one variable (take a measurement) if you know something about another. We will see that the fundamental concept is the same if we think about two attributes, for example the size and color of the fish, or the prior information and the likelihood."
      ]
    },
    {
      "cell_type": "markdown",
      "metadata": {
        "id": "XxSx7B_UA0vL"
      },
      "source": [
        "## Math Exercise 4: Computing marginal likelihoods\n",
        "\n",
        "To understand the information between two variables, let's first consider the size and color of the fish.\n",
        "\n",
        "| P(X, Y)   | Y = silver   | Y = gold  |\n",
        "| ----------------- |----------|----------|\n",
        "| X = small          | 0.4          | 0.2         |\n",
        "| X = large         | 0.1         |  0.3         |\n",
        "\n",
        "The table above shows us the **joint probabilities**: the probability of both specific attributes occuring together. For example, the probability of a fish being small and silver ($P(X = small, Y = silver$) is 0.4.\n",
        "\n",
        "We want to know what the probability of a fish being small  regardless of color. Since the fish are either silver or gold, this would be the probability of a fish being small and silver plus the probability of a fish being small and gold. This is an example of marginalizing, or averaging out, the variable we are not interested in across the rows or columns.. In math speak: $P(X = small) = \\sum_y{P(X = small, Y)}$. This gives us a **marginal probability**, a probability of a variable outcome (in this case size), regardless of the other variables (in this case color).\n",
        "\n",
        "Please complete the following math problems to further practice thinking through probabilities:\n",
        "\n",
        "1. Calculate the probability of a fish being silver.\n",
        "2. Calculate the probability of a fish being small, large, silver, or gold.\n",
        "3. Calculate the probability of a fish being small OR gold. (Hint: $P(A\\ \\textrm{or}\\ B) = P(A) + P(B) - P(A\\ \\textrm{and}\\ B)$)\n",
        "\n",
        "\n"
      ]
    },
    {
      "cell_type": "markdown",
      "metadata": {
        "execution": {
          "iopub.execute_input": "2021-06-25T15:15:27.584366Z",
          "iopub.status.busy": "2021-06-25T15:15:27.583666Z",
          "iopub.status.idle": "2021-06-25T15:15:27.585405Z",
          "shell.execute_reply": "2021-06-25T15:15:27.584927Z"
        },
        "id": "H86yv-r-A0vL"
      },
      "source": [
        "[*Click for solution*](https://github.com/NeuromatchAcademy/course-content/tree/master//tutorials/W3D1_BayesianDecisions/solutions/W3D1_Tutorial1_Solution_65e69cd1.py)\n",
        "\n"
      ]
    },
    {
      "cell_type": "markdown",
      "metadata": {
        "id": "IIGUXJQhA0vM"
      },
      "source": [
        "## Think! 4: Covarying probability distributions\n",
        "\n",
        "The relationship between the marginal probabilities and the joint probabilities is determined by the correlation between the two random variables - a normalized measure of how much the variables covary. We can also think of this as gaining some information about one of the variables when we observe a measurement from the other. We will think about this more formally in Tutorial 2. \n",
        "\n",
        "Here, we want to think about how the correlation between size and color of these fish changes how much information we gain about one attribute based on the other. See Bonus Section 1 for the formula for correlation.\n",
        "\n",
        "Use the widget below and answer the following questions:\n",
        "\n",
        "1. When the correlation is zero, $\\rho = 0$, what does the distribution of size tell you about color?\n",
        "2. Set $\\rho$ to something small. As you change the probability of golden fish, what happens to the ratio of size probabilities? Set $\\rho$ larger (can be negative). Can you explain the pattern of changes in the probabilities of size as you change the probability of golden fish?\n",
        "3. Set the probability of golden fish and of large fish to around 65%. As the correlation goes towards 1, how often will you see silver large fish?\n",
        "4. What is increasing the (absolute) correlation telling you about how likely you are to see one of the properties if you see a fish with the other?\n"
      ]
    },
    {
      "cell_type": "code",
      "metadata": {
        "cellView": "form",
        "execution": {
          "iopub.execute_input": "2021-06-25T15:15:27.641822Z",
          "iopub.status.busy": "2021-06-25T15:15:27.640659Z",
          "iopub.status.idle": "2021-06-25T15:15:27.846348Z",
          "shell.execute_reply": "2021-06-25T15:15:27.845374Z"
        },
        "colab": {
          "base_uri": "https://localhost:8080/",
          "height": 474,
          "referenced_widgets": [
            "cd3710f0540e41eab31425d90c09415d",
            "f0a5f3c223704a19a05a631f839b7bbe",
            "1d2fca57c5b7410c8b099e84bca3fac3",
            "8a55d1f2aa8843caaf33f7b4363f0518",
            "6d0edc7ef4504f079302f37e6e8a4e7b",
            "c18c799c704549a08af19e6dd2618b87",
            "8fd007fe5a1e4b06ba0e268b3f801283",
            "040f666c6a8f42a4ab7d3f9f0e9eaf89",
            "1ae0f1b251814cbbb510160dc61c1f2c",
            "40509c63625246de9c9b1255d1c4f92b",
            "4db76256d82b468bac8be0544b21624d",
            "ea4e0c10095b41488afee4868d5420f6",
            "d82e6c6e3a6748bbb67ff5082a1420e2"
          ]
        },
        "id": "h0vtii0eA0vM",
        "outputId": "6a3026dd-d601-480e-babd-573b4f9cc2a1"
      },
      "source": [
        "# @markdown Execute this cell to enable the widget\n",
        "style = {'description_width': 'initial'}\n",
        "gs = GridspecLayout(2,2)\n",
        "\n",
        "cor_widget = widgets.FloatSlider(0.0, description='ρ', min=-1, max=1, step=0.01)\n",
        "px_widget = widgets.FloatSlider(0.5, description='p(color=golden)', min=0.01, max=0.99, step=0.01, style=style)\n",
        "py_widget = widgets.FloatSlider(0.5, description='p(size=large)', min=0.01, max=0.99, step=0.01, style=style)\n",
        "gs[0,0] = cor_widget\n",
        "gs[0,1] = px_widget\n",
        "gs[1,0] = py_widget\n",
        "\n",
        "\n",
        "@widgets.interact(\n",
        "    px=px_widget,\n",
        "    py=py_widget,\n",
        "    cor=cor_widget,\n",
        ")\n",
        "def make_corr_plot(px, py, cor):\n",
        "    Cmin, Cmax = compute_cor_range(px, py) #allow correlation values\n",
        "    cor_widget.min, cor_widget.max = Cmin+0.01, Cmax-0.01\n",
        "    if cor_widget.value > Cmax:\n",
        "        cor_widget.value = Cmax\n",
        "    if cor_widget.value < Cmin:\n",
        "        cor_widget.value = Cmin\n",
        "    cor = cor_widget.value\n",
        "    P = compute_marginal(px,py,cor)\n",
        "    # print(P)\n",
        "    fig = plot_joint_probs(P)\n",
        "    plt.show(fig)\n",
        "    plt.close(fig)\n",
        "    return None\n",
        "\n",
        "# gs[1,1] = make_corr_plot()"
      ],
      "execution_count": 11,
      "outputs": [
        {
          "output_type": "display_data",
          "data": {
            "application/vnd.jupyter.widget-view+json": {
              "model_id": "cd3710f0540e41eab31425d90c09415d",
              "version_minor": 0,
              "version_major": 2
            },
            "text/plain": [
              "interactive(children=(FloatSlider(value=0.5, description='p(color=golden)', layout=Layout(grid_area='widget002…"
            ]
          },
          "metadata": {
            "tags": []
          }
        }
      ]
    },
    {
      "cell_type": "markdown",
      "metadata": {
        "execution": {
          "iopub.execute_input": "2021-06-25T15:15:27.850935Z",
          "iopub.status.busy": "2021-06-25T15:15:27.849827Z",
          "iopub.status.idle": "2021-06-25T15:15:27.851764Z",
          "shell.execute_reply": "2021-06-25T15:15:27.852245Z"
        },
        "id": "pVRdBa9zA0vM"
      },
      "source": [
        "[*Click for solution*](https://github.com/NeuromatchAcademy/course-content/tree/master//tutorials/W3D1_BayesianDecisions/solutions/W3D1_Tutorial1_Solution_9727d8f3.py)\n",
        "\n"
      ]
    },
    {
      "cell_type": "markdown",
      "metadata": {
        "id": "bYDnirHNA0vM"
      },
      "source": [
        "We have just seen how two random variables can be more or less independent. The more correlated, the less independent, and the more shared information. We also learned that we can marginalize to determine the marginal likelihood of a hidden state or to find the marginal probability distribution of two random variables. We are going to now complete our journey towards being fully Bayesian!"
      ]
    },
    {
      "cell_type": "markdown",
      "metadata": {
        "id": "WMnRDI68A0vM"
      },
      "source": [
        "---\n",
        "# Section 5: Bayes' Rule and the Posterior"
      ]
    },
    {
      "cell_type": "markdown",
      "metadata": {
        "id": "LD4bvEUdA0vM"
      },
      "source": [
        "Marginalization is going to be used to combine our prior knowlege, which we call the **prior**, and our new information from a measurement, the **likelihood**. Only in this case, the information we gain about the hidden state we are interested in, where the fish are, is based on the relationship between the probabilities of the measurement and our prior. \n",
        "\n",
        "We can now calculate the full posterior distribution for the hidden state ($s$) using Bayes' Rule. As we've seen, the posterior is proportional the the prior times the likelihood. This means that the posterior probability of the hidden state ($s$) given a measurement ($m$) is proportional to the likelihood of the measurement given the state times the prior probability of that state (the marginal likelihood):\n",
        "\n",
        "$$ P(s | m) \\propto P(m | s) P(s)  $$\n",
        "\n",
        "We say proportional to instead of equal because we need to normalize to produce a full probability distribution:\n",
        "\n",
        "$$ P(s | m) = \\frac{P(m | s) P(s)}{P(m)}  $$\n",
        "\n",
        "Normalizing by this $P(m)$ means that our posterior is a complete probability distribution that sums or integrates to 1 appropriately. We now can use this new, complete probability distribution for any future inference or decisions we like! In fact, as we will see tomorrow, we can use it as a new prior! Finally, we often call this probability distribution our beliefs over the hidden states, to emphasize that it is our subjective knowlege about the hidden state.\n",
        "\n",
        "For many complicated cases, like those we might be using to model behavioral or brain inferences, the normalization term can be intractable or extremely complex to calculate. We can be careful to choose probability distributions were we can analytically calculate the posterior probability or numerical approximation is reliable. Better yet, we sometimes don't need to bother with this normalization! The normalization term, $P(m)$, is the probability of the measurement. This does not depend on state so is essentially a constant we can often ignore. We can compare the unnormalized posterior distribution values for different states because how they relate to each other is unchanged when divided by the same constant. We will see how to do this to compare evidence for different hypotheses tomorrow. (It's also used to compare the likelihood of models fit using maximum likelihood estimation, as you did in W1D5.)\n",
        "\n",
        "In this relatively simple example, we can compute the marginal probability $P(m)$ easily by using:\n",
        "$$P(m) = \\sum_s P(m | s) P(s)$$\n",
        "We can then normalize so that we deal with the full posterior distribution.\n"
      ]
    },
    {
      "cell_type": "markdown",
      "metadata": {
        "id": "VNMlBPiPA0vM"
      },
      "source": [
        "## Math Exercise 5: Calculating a posterior probability\n",
        "\n",
        "Our prior is $p(s = left) = 0.3$ and $p(s = right) = 0.7$. In the video, we learned that the chance of catching a fish given they fish on the same side as the school was 50%. Otherwise, it was 10%. We observe a person fishing on the left side. Our likelihood is: \n",
        "\n",
        "\n",
        "| Likelihood: p(m \\| s) | m = catch fish   | m = no fish  |\n",
        "| ----------------- |----------|----------|\n",
        "| s = left          | 0.5          | 0.5         |\n",
        "| s = right         | 0.1        |  0.9       |\n",
        "\n",
        "\n",
        "Calculate the posterior probability (on paper) that:\n",
        "\n",
        "1. The school is on the left if the fisherperson catches a fish: $p(s = left | m = catch fish)$ (hint: normalize by compute $p(m = catch fish)$)\n",
        "2. The school is on the right if the fisherperson does not catch a fish: $p(s = right | m = no fish)$"
      ]
    },
    {
      "cell_type": "markdown",
      "metadata": {
        "execution": {
          "iopub.execute_input": "2021-06-25T15:15:27.856837Z",
          "iopub.status.busy": "2021-06-25T15:15:27.855645Z",
          "iopub.status.idle": "2021-06-25T15:15:27.857534Z",
          "shell.execute_reply": "2021-06-25T15:15:27.857980Z"
        },
        "id": "3u8hHBMLA0vM"
      },
      "source": [
        "[*Click for solution*](https://github.com/NeuromatchAcademy/course-content/tree/master//tutorials/W3D1_BayesianDecisions/solutions/W3D1_Tutorial1_Solution_46a5b352.py)\n",
        "\n"
      ]
    },
    {
      "cell_type": "markdown",
      "metadata": {
        "id": "mwvEPhiYA0vN"
      },
      "source": [
        "## Coding Exercise 5: Computing Posteriors\n",
        "\n",
        "Let's implement our above math to be able to compute posteriors for different priors and likelihood.s\n",
        "\n",
        "As before, our prior is $p(s = left) = 0.3$ and $p(s = right) = 0.7$. In the video, we learned that the chance of catching a fish given they fish on the same side as the school was 50%. Otherwise, it was 10%. We observe a person fishing on the left side. Our likelihood is: \n",
        "\n",
        "\n",
        "| Likelihood: p(m \\| s) | m = catch fish   | m = no fish  |\n",
        "| ----------------- |----------|----------|\n",
        "| s = left          | 0.5          | 0.5         |\n",
        "| s = right         | 0.1        |  0.9       |\n",
        "\n",
        "\n",
        "We want our full posterior to take the same 2 by 2 form. Make sure the outputs match your math answers!\n",
        "\n"
      ]
    },
    {
      "cell_type": "code",
      "metadata": {
        "execution": {
          "iopub.execute_input": "2021-06-25T15:15:27.865944Z",
          "iopub.status.busy": "2021-06-25T15:15:27.865375Z",
          "iopub.status.idle": "2021-06-25T15:15:27.960980Z",
          "shell.execute_reply": "2021-06-25T15:15:27.961872Z"
        },
        "id": "TtO_6-7PA0vN"
      },
      "source": [
        "def compute_posterior(likelihood, prior):\n",
        "  \"\"\" Use Bayes' Rule to compute posterior from likelihood and prior\n",
        "\n",
        "  Args:\n",
        "    likelihood (ndarray): i x j array with likelihood probabilities where i is\n",
        "                    number of state options, j is number of measurement options\n",
        "    prior (ndarray): i x 1 array with prior probability of each state\n",
        "\n",
        "  Returns:\n",
        "    ndarray: i x j array with posterior probabilities where i is\n",
        "            number of state options, j is number of measurement options\n",
        "\n",
        "  \"\"\"\n",
        "\n",
        "  #################################################\n",
        "  ## TODO for students ##\n",
        "  # Fill out function and remove\n",
        "  raise NotImplementedError(\"Student exercise: implement compute_posterior\")\n",
        "  #################################################\n",
        "\n",
        "  # Compute unnormalized posterior (likelihood times prior)\n",
        "  posterior = ... # first row is s = left, second row is s = right\n",
        "\n",
        "  # Compute p(m)\n",
        "  p_m = np.sum(posterior, axis = 0)\n",
        "\n",
        "  # Normalize posterior (divide elements by p_m)\n",
        "  posterior /= ...\n",
        "\n",
        "  return posterior\n",
        "\n",
        "# Make prior\n",
        "prior = np.array([0.3, 0.7]).reshape((2, 1)) # first row is s = left, second row is s = right\n",
        "\n",
        "# Make likelihood\n",
        "likelihood = np.array([[0.5, 0.5], [0.1, 0.9]]) # first row is s = left, second row is s = right\n",
        "\n",
        "# Compute posterior\n",
        "posterior = compute_posterior(likelihood, prior)\n",
        "\n",
        "# Visualize\n",
        "with plt.xkcd():\n",
        "  plot_prior_likelihood_posterior(prior, likelihood, posterior)"
      ],
      "execution_count": null,
      "outputs": []
    },
    {
      "cell_type": "markdown",
      "metadata": {
        "execution": {
          "iopub.execute_input": "2021-06-25T15:15:27.968291Z",
          "iopub.status.busy": "2021-06-25T15:15:27.967743Z",
          "iopub.status.idle": "2021-06-25T15:15:28.290753Z",
          "shell.execute_reply": "2021-06-25T15:15:28.290286Z"
        },
        "id": "J7vDnFQkA0vN"
      },
      "source": [
        "[*Click for solution*](https://github.com/NeuromatchAcademy/course-content/tree/master//tutorials/W3D1_BayesianDecisions/solutions/W3D1_Tutorial1_Solution_042b00b7.py)\n",
        "\n",
        "*Example output:*\n",
        "\n",
        "<img alt='Solution hint' align='left' width=669 height=314 src=https://raw.githubusercontent.com/NeuromatchAcademy/course-content/master/tutorials/W3D1_BayesianDecisions/static/W3D1_Tutorial1_Solution_042b00b7_0.png>\n",
        "\n"
      ]
    },
    {
      "cell_type": "markdown",
      "metadata": {
        "id": "wW0xli2pA0vN"
      },
      "source": [
        "## Interactive Demo 5: What affects the posterior?\n",
        "\n",
        "Now that we can understand the implementation of *Bayes rule*, let's vary the parameters of the prior and likelihood to see how changing the prior and likelihood affect the posterior. \n",
        "\n",
        "In the demo below, you can change the prior by playing with the slider for $p( s = left)$. You can also change the likelihood by changing the probability of catching a fish given that the school is on the left and the probability of catching a fish given that the school is on the right. The fisherperson you are observing is fishing on the left.\n",
        " \n",
        "\n",
        "1.   Keeping the likelihood constant, when does the prior have the strongest influence over the posterior? Meaning, when does the posterior look most like the prior no matter whether a fish was caught or not?\n",
        "2.   Keeping the likelihood constant, when does the prior exert the weakest influence?  Meaning, when does the posterior look least like the prior and depend most on whether a fish was caught or not?\n",
        "3.  Set the prior probability of the state = left to 0.6 and play with the likelihood. When does the likelihood exert the most influence over the posterior?"
      ]
    },
    {
      "cell_type": "code",
      "metadata": {
        "cellView": "form",
        "execution": {
          "iopub.execute_input": "2021-06-25T15:15:28.333682Z",
          "iopub.status.busy": "2021-06-25T15:15:28.333070Z",
          "iopub.status.idle": "2021-06-25T15:15:28.570340Z",
          "shell.execute_reply": "2021-06-25T15:15:28.570771Z"
        },
        "colab": {
          "base_uri": "https://localhost:8080/",
          "height": 455,
          "referenced_widgets": [
            "1ce5355c080a42e2830676f2244fdae1",
            "71d0897b2f134bc08cbfba651620b801",
            "9d700b1a16444d588d4eb8ef9145cf46",
            "35a6ca0430cd4a24ab709727d097075b",
            "76a59e2df0a24cb38c2b6df3cefba3d0",
            "7afaacb2be2a4a349b62c5b0f0d8ee75",
            "0138a74c967247929fc6adaf21df73ac",
            "d16b8bb21651496d9378b624e28f43ff",
            "66c71b3ec8db47c28a428b979576fef4",
            "a5606d42472843c8b6999ce9dd456282",
            "4227a2b70cbb469bad4a85c471ccbed2",
            "8ca87d421ac945cc8c977bc9bd2b01d7",
            "90361b3784584394bf2a5139ac5933ce",
            "d88d7a910c4846f69f7788fdee0693e3",
            "c509a8f6460b4833adbc1852e41256f5",
            "9de7bcb9e2d445d68a467779f0d9d4ba"
          ]
        },
        "id": "PDHZS8ftA0vN",
        "outputId": "db639b71-c752-46a5-f876-09c10ae8496e"
      },
      "source": [
        "# @markdown Execute this cell to enable the widget\n",
        "style = {'description_width': 'initial'}\n",
        "ps_widget = widgets.FloatSlider(0.3, description='p(s = left)',\n",
        "                                min=0.01, max=0.99, step=0.01)\n",
        "p_a_s1_widget = widgets.FloatSlider(0.5, description='p(fish | s = left)',\n",
        "                                    min=0.01, max=0.99, step=0.01, style=style)\n",
        "p_a_s0_widget = widgets.FloatSlider(0.1, description='p(fish | s = right)',\n",
        "                                    min=0.01, max=0.99, step=0.01, style=style)\n",
        "observed_widget = widgets.Checkbox(value=False, description='Observed fish (m)',\n",
        "                                 disabled=False, indent=False, layout={'width': 'max-content'})\n",
        "\n",
        "@widgets.interact(\n",
        "    ps=ps_widget,\n",
        "    p_a_s1=p_a_s1_widget,\n",
        "    p_a_s0=p_a_s0_widget,\n",
        "    m_right=observed_widget\n",
        ")\n",
        "def make_prior_likelihood_plot(ps,p_a_s1,p_a_s0,m_right):\n",
        "    fig = plot_prior_likelihood(ps,p_a_s1,p_a_s0,m_right)\n",
        "    plt.show(fig)\n",
        "    plt.close(fig)\n",
        "    return None"
      ],
      "execution_count": 12,
      "outputs": [
        {
          "output_type": "display_data",
          "data": {
            "application/vnd.jupyter.widget-view+json": {
              "model_id": "1ce5355c080a42e2830676f2244fdae1",
              "version_minor": 0,
              "version_major": 2
            },
            "text/plain": [
              "interactive(children=(FloatSlider(value=0.3, description='p(s = left)', max=0.99, min=0.01, step=0.01), FloatS…"
            ]
          },
          "metadata": {
            "tags": []
          }
        }
      ]
    },
    {
      "cell_type": "markdown",
      "metadata": {
        "execution": {
          "iopub.execute_input": "2021-06-25T15:15:28.577224Z",
          "iopub.status.busy": "2021-06-25T15:15:28.576677Z",
          "iopub.status.idle": "2021-06-25T15:15:28.580420Z",
          "shell.execute_reply": "2021-06-25T15:15:28.579966Z"
        },
        "id": "blrxaDuOA0vN"
      },
      "source": [
        "[*Click for solution*](https://github.com/NeuromatchAcademy/course-content/tree/master//tutorials/W3D1_BayesianDecisions/solutions/W3D1_Tutorial1_Solution_a004d68d.py)\n",
        "\n"
      ]
    },
    {
      "cell_type": "markdown",
      "metadata": {
        "id": "6yi-o_8sA0vN"
      },
      "source": [
        "# Section 6: Making Bayesian fishing decisions\n",
        "\n",
        "We will explore how to consider the expected utility of an action based on our belief (the posterior distribution) about where we think the fish are. Now we have all the components of a Bayesian decision: our prior information, the likelihood given a measurement, the posterior distribution (belief) and our utility (the gains and losses). This allows us to consider the relationship between the true value of the hidden state, $s$, and what we *expect* to get if we take action, $a$, based on our belief!\n",
        "\n",
        "Let's use the following widget to think about the relationship between these probability distributions and utility function."
      ]
    },
    {
      "cell_type": "markdown",
      "metadata": {
        "id": "_5M2U7x8A0vN"
      },
      "source": [
        "## Think! 6: What is more important, the probabilities or the utilities?\n",
        "\n",
        "We are now going to put everything we've learned together to gain some intuitions for how each of the elements that goes into a Bayesian decision comes together. Remember, the common assumption in neuroscience, psychology, economics, ecology, etc. is that we (humans and animals) are tying to maximize our expected utility.\n",
        "\n",
        "1. Can you find a situation where the expected utility is the same for both actions?\n",
        "2. What is more important for determining the expected utility: the prior or a new measurement (the likelihood)?\n",
        "3. Why is this a normative model?\n",
        "4. Can you think of ways in which this model would need to be extended to describe human or animal behavior?"
      ]
    },
    {
      "cell_type": "code",
      "metadata": {
        "cellView": "form",
        "execution": {
          "iopub.execute_input": "2021-06-25T15:15:28.632070Z",
          "iopub.status.busy": "2021-06-25T15:15:28.628105Z",
          "iopub.status.idle": "2021-06-25T15:15:29.020824Z",
          "shell.execute_reply": "2021-06-25T15:15:29.020317Z"
        },
        "colab": {
          "base_uri": "https://localhost:8080/",
          "height": 448,
          "referenced_widgets": [
            "10b22660599b440393c70444b1239b0a",
            "d2c61d1b790c4bdc8d9f5e4d20296653",
            "fda58b8494dd47f7801a0b53b65d50e7",
            "836556efe14845d3b04635056f5818ed",
            "34953b40bcb34fdd813c89d6bfe44f8e",
            "b4026a46005142538d39b192b22fda92",
            "90b2f9de8d9e4cbb83f5fd81f1d20f5b",
            "00c433e0dc884a589b1184d4b701697e",
            "e66babb4b05f42b7a53776707a7991bd",
            "03d2019692054194b1b8fef3a830202b",
            "eda25df0e78649a68c61c7cb2168da83",
            "b88689f58171409585a636fd0a433d5a",
            "bd9cc505d4e14c75aea4af510112dede",
            "e6c5adfe17284b0a9670fbfd1b1daa61",
            "b3e18393b98942e9992c4f880e9fe80b",
            "1c5524a91f4d4aed9419156a7db983d8"
          ]
        },
        "id": "45WJ9JDaA0vO",
        "outputId": "87c6533a-d2db-4264-b110-940320858bba"
      },
      "source": [
        "# @markdown Execute this cell to enable the widget\n",
        "style = {'description_width': 'initial'}\n",
        "ps_widget = widgets.FloatSlider(0.3, description='p(s)',\n",
        "                                min=0.01, max=0.99, step=0.01)\n",
        "p_a_s1_widget = widgets.FloatSlider(0.5, description='p(fish | s = left)',\n",
        "                                    min=0.01, max=0.99, step=0.01, style=style)\n",
        "p_a_s0_widget = widgets.FloatSlider(0.1, description='p(fish | s = right)',\n",
        "                                    min=0.01, max=0.99, step=0.01, style=style)\n",
        "observed_widget = widgets.Checkbox(value=False, description='Observed fish (m)',\n",
        "                                 disabled=False, indent=False, layout={'width': 'max-content'})\n",
        "\n",
        "@widgets.interact(\n",
        "    ps=ps_widget,\n",
        "    p_a_s1=p_a_s1_widget,\n",
        "    p_a_s0=p_a_s0_widget,\n",
        "    m_right=observed_widget\n",
        ")\n",
        "def make_prior_likelihood_utility_plot(ps, p_a_s1, p_a_s0,m_right):\n",
        "    fig = plot_prior_likelihood_utility(ps, p_a_s1, p_a_s0,m_right)\n",
        "    plt.show(fig)\n",
        "    plt.close(fig)\n",
        "    return None"
      ],
      "execution_count": 13,
      "outputs": [
        {
          "output_type": "display_data",
          "data": {
            "application/vnd.jupyter.widget-view+json": {
              "model_id": "10b22660599b440393c70444b1239b0a",
              "version_minor": 0,
              "version_major": 2
            },
            "text/plain": [
              "interactive(children=(FloatSlider(value=0.3, description='p(s)', max=0.99, min=0.01, step=0.01), FloatSlider(v…"
            ]
          },
          "metadata": {
            "tags": []
          }
        }
      ]
    },
    {
      "cell_type": "markdown",
      "metadata": {
        "execution": {
          "iopub.execute_input": "2021-06-25T15:15:29.026803Z",
          "iopub.status.busy": "2021-06-25T15:15:29.025580Z",
          "iopub.status.idle": "2021-06-25T15:15:29.027429Z",
          "shell.execute_reply": "2021-06-25T15:15:29.027901Z"
        },
        "id": "zuCrnjmmA0vO"
      },
      "source": [
        "[*Click for solution*](https://github.com/NeuromatchAcademy/course-content/tree/master//tutorials/W3D1_BayesianDecisions/solutions/W3D1_Tutorial1_Solution_3a230382.py)\n",
        "\n"
      ]
    },
    {
      "cell_type": "markdown",
      "metadata": {
        "id": "b65_5hm3A0vO"
      },
      "source": [
        "---\n",
        "# Summary\n",
        "\n",
        "In this tutorial, you learned about combining prior information with new measurements to update your knowledge using Bayes Rulem, in the context of a fishing problem. \n",
        "\n",
        "Specifically, we covered:\n",
        "\n",
        "* That the likelihood is the probability of the measurement given some hidden state\n",
        "\n",
        "* That how the prior and likelihood interact to create the posterior, the probability of the hidden state given a measurement, depends on how they covary\n",
        "\n",
        "* That utility is the gain from each action and state pair, and the expected utility for an action is the sum of the utility for all state pairs, weighted by the probability of that state happening. You can then choose the action with highest expected utility.\n"
      ]
    },
    {
      "cell_type": "markdown",
      "metadata": {
        "id": "upY23ZweA0vO"
      },
      "source": [
        "---\n",
        "# Bonus"
      ]
    },
    {
      "cell_type": "markdown",
      "metadata": {
        "id": "kzamTZ3YA0vO"
      },
      "source": [
        "## Bonus Section 1: Correlation Formula\n",
        "To understand the way we calculate the correlation, we need to review the definition of covariance and correlation.\n",
        "\n",
        "Covariance:\n",
        "\n",
        "$$\n",
        "cov(X,Y) = \\sigma_{XY} = E[(X - \\mu_{x})(Y - \\mu_{y})] = E[X]E[Y] - \\mu_{x}\\mu_{y}\n",
        "$$\n",
        "\n",
        "Correlation:\n",
        "\n",
        "$$\n",
        "\\rho_{XY} = \\frac{cov(Y,Y)}{\\sqrt{V(X)V(Y)}} = \\frac{\\sigma_{XY}}{\\sigma_{X}\\sigma_{Y}}\n",
        "$$"
      ]
    }
  ]
}