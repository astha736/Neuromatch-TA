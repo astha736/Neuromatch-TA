{
  "nbformat": 4,
  "nbformat_minor": 0,
  "metadata": {
    "colab": {
      "name": "W2D4_Tutorial1",
      "provenance": [],
      "collapsed_sections": [],
      "toc_visible": true,
      "include_colab_link": true
    },
    "kernel": {
      "display_name": "Python 3",
      "language": "python",
      "name": "python3"
    },
    "kernelspec": {
      "display_name": "Python 3",
      "name": "python3"
    },
    "language_info": {
      "codemirror_mode": {
        "name": "ipython",
        "version": 3
      },
      "file_extension": ".py",
      "mimetype": "text/x-python",
      "name": "python",
      "nbconvert_exporter": "python",
      "pygments_lexer": "ipython3",
      "version": "3.7.10"
    },
    "widgets": {
      "application/vnd.jupyter.widget-state+json": {
        "3959321174bd4669bd471b704459ad65": {
          "model_module": "@jupyter-widgets/controls",
          "model_name": "TabModel",
          "state": {
            "_view_name": "TabView",
            "_dom_classes": [],
            "_titles": {
              "0": "Youtube",
              "1": "Bilibili"
            },
            "_model_name": "TabModel",
            "_view_module": "@jupyter-widgets/controls",
            "selected_index": 0,
            "_model_module_version": "1.5.0",
            "_view_count": null,
            "_view_module_version": "1.5.0",
            "box_style": "",
            "layout": "IPY_MODEL_db8a8f6284db4b7bb099828e92ccb2af",
            "_model_module": "@jupyter-widgets/controls",
            "children": [
              "IPY_MODEL_7fd4a54e12274b4caa77c62d6b4ae0de",
              "IPY_MODEL_b0299103addc4498b4be28183d43d9a2"
            ]
          }
        },
        "db8a8f6284db4b7bb099828e92ccb2af": {
          "model_module": "@jupyter-widgets/base",
          "model_name": "LayoutModel",
          "state": {
            "_view_name": "LayoutView",
            "grid_template_rows": null,
            "right": null,
            "justify_content": null,
            "_view_module": "@jupyter-widgets/base",
            "overflow": null,
            "_model_module_version": "1.2.0",
            "_view_count": null,
            "flex_flow": null,
            "width": null,
            "min_width": null,
            "border": null,
            "align_items": null,
            "bottom": null,
            "_model_module": "@jupyter-widgets/base",
            "top": null,
            "grid_column": null,
            "overflow_y": null,
            "overflow_x": null,
            "grid_auto_flow": null,
            "grid_area": null,
            "grid_template_columns": null,
            "flex": null,
            "_model_name": "LayoutModel",
            "justify_items": null,
            "grid_row": null,
            "max_height": null,
            "align_content": null,
            "visibility": null,
            "align_self": null,
            "height": null,
            "min_height": null,
            "padding": null,
            "grid_auto_rows": null,
            "grid_gap": null,
            "max_width": null,
            "order": null,
            "_view_module_version": "1.2.0",
            "grid_template_areas": null,
            "object_position": null,
            "object_fit": null,
            "grid_auto_columns": null,
            "margin": null,
            "display": null,
            "left": null
          }
        },
        "7fd4a54e12274b4caa77c62d6b4ae0de": {
          "model_module": "@jupyter-widgets/output",
          "model_name": "OutputModel",
          "state": {
            "_view_name": "OutputView",
            "msg_id": "",
            "_dom_classes": [],
            "_model_name": "OutputModel",
            "outputs": [
              {
                "output_type": "stream",
                "metadata": {
                  "tags": []
                },
                "text": "Video available at https://youtube.com/watch?v=p848349hPyw\n",
                "stream": "stdout"
              },
              {
                "output_type": "display_data",
                "metadata": {
                  "tags": []
                },
                "text/html": "\n        <iframe\n            width=\"854\"\n            height=\"480\"\n            src=\"https://www.youtube.com/embed/p848349hPyw?fs=1&rel=0\"\n            frameborder=\"0\"\n            allowfullscreen\n        ></iframe>\n        ",
                "text/plain": "<IPython.lib.display.YouTubeVideo at 0x7f2138aa9190>",
                "image/jpeg": "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\n"
              }
            ],
            "_view_module": "@jupyter-widgets/output",
            "_model_module_version": "1.0.0",
            "_view_count": null,
            "_view_module_version": "1.0.0",
            "layout": "IPY_MODEL_4a8e94a5635f4cf1aa419af39427e6c7",
            "_model_module": "@jupyter-widgets/output"
          }
        },
        "b0299103addc4498b4be28183d43d9a2": {
          "model_module": "@jupyter-widgets/output",
          "model_name": "OutputModel",
          "state": {
            "_view_name": "OutputView",
            "msg_id": "",
            "_dom_classes": [],
            "_model_name": "OutputModel",
            "outputs": [
              {
                "output_type": "stream",
                "metadata": {
                  "tags": []
                },
                "text": "Video available at https://www.bilibili.com/video/\n",
                "stream": "stdout"
              },
              {
                "output_type": "display_data",
                "metadata": {
                  "tags": []
                },
                "text/html": "\n        <iframe\n            width=\"854\"\n            height=\"480\"\n            src=\"https://player.bilibili.com/player.html?bvid=&page=1?fs=1\"\n            frameborder=\"0\"\n            allowfullscreen\n        ></iframe>\n        ",
                "text/plain": "<__main__.BiliVideo at 0x7f2149183150>"
              }
            ],
            "_view_module": "@jupyter-widgets/output",
            "_model_module_version": "1.0.0",
            "_view_count": null,
            "_view_module_version": "1.0.0",
            "layout": "IPY_MODEL_62700793f4bc4786a5f46e458af8af9c",
            "_model_module": "@jupyter-widgets/output"
          }
        },
        "4a8e94a5635f4cf1aa419af39427e6c7": {
          "model_module": "@jupyter-widgets/base",
          "model_name": "LayoutModel",
          "state": {
            "_view_name": "LayoutView",
            "grid_template_rows": null,
            "right": null,
            "justify_content": null,
            "_view_module": "@jupyter-widgets/base",
            "overflow": null,
            "_model_module_version": "1.2.0",
            "_view_count": null,
            "flex_flow": null,
            "width": null,
            "min_width": null,
            "border": null,
            "align_items": null,
            "bottom": null,
            "_model_module": "@jupyter-widgets/base",
            "top": null,
            "grid_column": null,
            "overflow_y": null,
            "overflow_x": null,
            "grid_auto_flow": null,
            "grid_area": null,
            "grid_template_columns": null,
            "flex": null,
            "_model_name": "LayoutModel",
            "justify_items": null,
            "grid_row": null,
            "max_height": null,
            "align_content": null,
            "visibility": null,
            "align_self": null,
            "height": null,
            "min_height": null,
            "padding": null,
            "grid_auto_rows": null,
            "grid_gap": null,
            "max_width": null,
            "order": null,
            "_view_module_version": "1.2.0",
            "grid_template_areas": null,
            "object_position": null,
            "object_fit": null,
            "grid_auto_columns": null,
            "margin": null,
            "display": null,
            "left": null
          }
        },
        "62700793f4bc4786a5f46e458af8af9c": {
          "model_module": "@jupyter-widgets/base",
          "model_name": "LayoutModel",
          "state": {
            "_view_name": "LayoutView",
            "grid_template_rows": null,
            "right": null,
            "justify_content": null,
            "_view_module": "@jupyter-widgets/base",
            "overflow": null,
            "_model_module_version": "1.2.0",
            "_view_count": null,
            "flex_flow": null,
            "width": null,
            "min_width": null,
            "border": null,
            "align_items": null,
            "bottom": null,
            "_model_module": "@jupyter-widgets/base",
            "top": null,
            "grid_column": null,
            "overflow_y": null,
            "overflow_x": null,
            "grid_auto_flow": null,
            "grid_area": null,
            "grid_template_columns": null,
            "flex": null,
            "_model_name": "LayoutModel",
            "justify_items": null,
            "grid_row": null,
            "max_height": null,
            "align_content": null,
            "visibility": null,
            "align_self": null,
            "height": null,
            "min_height": null,
            "padding": null,
            "grid_auto_rows": null,
            "grid_gap": null,
            "max_width": null,
            "order": null,
            "_view_module_version": "1.2.0",
            "grid_template_areas": null,
            "object_position": null,
            "object_fit": null,
            "grid_auto_columns": null,
            "margin": null,
            "display": null,
            "left": null
          }
        },
        "57179e52743f4f95843112cc5ea9eae6": {
          "model_module": "@jupyter-widgets/controls",
          "model_name": "VBoxModel",
          "state": {
            "_view_name": "VBoxView",
            "_dom_classes": [
              "widget-interact"
            ],
            "_model_name": "VBoxModel",
            "_view_module": "@jupyter-widgets/controls",
            "_model_module_version": "1.5.0",
            "_view_count": null,
            "_view_module_version": "1.5.0",
            "box_style": "",
            "layout": "IPY_MODEL_f959255f0ed54e54a71ce912682cc002",
            "_model_module": "@jupyter-widgets/controls",
            "children": [
              "IPY_MODEL_e5fdfb2a3df348f993eaafcac245f6cc",
              "IPY_MODEL_ab9bf61cb05c4007a75464e7e8d45477",
              "IPY_MODEL_4dc0b72619f047c7aae04229f44beb20"
            ]
          }
        },
        "f959255f0ed54e54a71ce912682cc002": {
          "model_module": "@jupyter-widgets/base",
          "model_name": "LayoutModel",
          "state": {
            "_view_name": "LayoutView",
            "grid_template_rows": null,
            "right": null,
            "justify_content": null,
            "_view_module": "@jupyter-widgets/base",
            "overflow": null,
            "_model_module_version": "1.2.0",
            "_view_count": null,
            "flex_flow": null,
            "width": null,
            "min_width": null,
            "border": null,
            "align_items": null,
            "bottom": null,
            "_model_module": "@jupyter-widgets/base",
            "top": null,
            "grid_column": null,
            "overflow_y": null,
            "overflow_x": null,
            "grid_auto_flow": null,
            "grid_area": null,
            "grid_template_columns": null,
            "flex": null,
            "_model_name": "LayoutModel",
            "justify_items": null,
            "grid_row": null,
            "max_height": null,
            "align_content": null,
            "visibility": null,
            "align_self": null,
            "height": null,
            "min_height": null,
            "padding": null,
            "grid_auto_rows": null,
            "grid_gap": null,
            "max_width": null,
            "order": null,
            "_view_module_version": "1.2.0",
            "grid_template_areas": null,
            "object_position": null,
            "object_fit": null,
            "grid_auto_columns": null,
            "margin": null,
            "display": null,
            "left": null
          }
        },
        "e5fdfb2a3df348f993eaafcac245f6cc": {
          "model_module": "@jupyter-widgets/controls",
          "model_name": "FloatSliderModel",
          "state": {
            "_view_name": "FloatSliderView",
            "style": "IPY_MODEL_8c1c393be2cc407fb56843dd77dc4e2d",
            "_dom_classes": [],
            "description": "a",
            "step": 0.3,
            "_model_name": "FloatSliderModel",
            "orientation": "horizontal",
            "max": 3,
            "_view_module": "@jupyter-widgets/controls",
            "_model_module_version": "1.5.0",
            "value": 0.3,
            "_view_count": null,
            "disabled": false,
            "_view_module_version": "1.5.0",
            "min": 0.3,
            "continuous_update": true,
            "readout_format": ".2f",
            "description_tooltip": null,
            "readout": true,
            "_model_module": "@jupyter-widgets/controls",
            "layout": "IPY_MODEL_1759d60182c24d7aab9a0b4e3c104ab0"
          }
        },
        "ab9bf61cb05c4007a75464e7e8d45477": {
          "model_module": "@jupyter-widgets/controls",
          "model_name": "FloatSliderModel",
          "state": {
            "_view_name": "FloatSliderView",
            "style": "IPY_MODEL_a41ebcc358b34e4e94b3cf54989dd558",
            "_dom_classes": [],
            "description": "theta",
            "step": 0.2,
            "_model_name": "FloatSliderModel",
            "orientation": "horizontal",
            "max": 4,
            "_view_module": "@jupyter-widgets/controls",
            "_model_module_version": "1.5.0",
            "value": 3.8,
            "_view_count": null,
            "disabled": false,
            "_view_module_version": "1.5.0",
            "min": 2,
            "continuous_update": true,
            "readout_format": ".2f",
            "description_tooltip": null,
            "readout": true,
            "_model_module": "@jupyter-widgets/controls",
            "layout": "IPY_MODEL_f396aa71ea174535ac7f6e3bbbb81f6d"
          }
        },
        "4dc0b72619f047c7aae04229f44beb20": {
          "model_module": "@jupyter-widgets/output",
          "model_name": "OutputModel",
          "state": {
            "_view_name": "OutputView",
            "msg_id": "",
            "_dom_classes": [],
            "_model_name": "OutputModel",
            "outputs": [
              {
                "output_type": "display_data",
                "metadata": {
                  "tags": [],
                  "image/png": {
                    "width": 558,
                    "height": 413
                  },
                  "needs_background": "light"
                },
                "image/png": "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\n",
                "text/plain": "<Figure size 576x432 with 1 Axes>"
              }
            ],
            "_view_module": "@jupyter-widgets/output",
            "_model_module_version": "1.0.0",
            "_view_count": null,
            "_view_module_version": "1.0.0",
            "layout": "IPY_MODEL_c1fdac1f2b21457eb042354b2c2cf911",
            "_model_module": "@jupyter-widgets/output"
          }
        },
        "8c1c393be2cc407fb56843dd77dc4e2d": {
          "model_module": "@jupyter-widgets/controls",
          "model_name": "SliderStyleModel",
          "state": {
            "_view_name": "StyleView",
            "handle_color": null,
            "_model_name": "SliderStyleModel",
            "description_width": "",
            "_view_module": "@jupyter-widgets/base",
            "_model_module_version": "1.5.0",
            "_view_count": null,
            "_view_module_version": "1.2.0",
            "_model_module": "@jupyter-widgets/controls"
          }
        },
        "1759d60182c24d7aab9a0b4e3c104ab0": {
          "model_module": "@jupyter-widgets/base",
          "model_name": "LayoutModel",
          "state": {
            "_view_name": "LayoutView",
            "grid_template_rows": null,
            "right": null,
            "justify_content": null,
            "_view_module": "@jupyter-widgets/base",
            "overflow": null,
            "_model_module_version": "1.2.0",
            "_view_count": null,
            "flex_flow": null,
            "width": null,
            "min_width": null,
            "border": null,
            "align_items": null,
            "bottom": null,
            "_model_module": "@jupyter-widgets/base",
            "top": null,
            "grid_column": null,
            "overflow_y": null,
            "overflow_x": null,
            "grid_auto_flow": null,
            "grid_area": null,
            "grid_template_columns": null,
            "flex": null,
            "_model_name": "LayoutModel",
            "justify_items": null,
            "grid_row": null,
            "max_height": null,
            "align_content": null,
            "visibility": null,
            "align_self": null,
            "height": null,
            "min_height": null,
            "padding": null,
            "grid_auto_rows": null,
            "grid_gap": null,
            "max_width": null,
            "order": null,
            "_view_module_version": "1.2.0",
            "grid_template_areas": null,
            "object_position": null,
            "object_fit": null,
            "grid_auto_columns": null,
            "margin": null,
            "display": null,
            "left": null
          }
        },
        "a41ebcc358b34e4e94b3cf54989dd558": {
          "model_module": "@jupyter-widgets/controls",
          "model_name": "SliderStyleModel",
          "state": {
            "_view_name": "StyleView",
            "handle_color": null,
            "_model_name": "SliderStyleModel",
            "description_width": "",
            "_view_module": "@jupyter-widgets/base",
            "_model_module_version": "1.5.0",
            "_view_count": null,
            "_view_module_version": "1.2.0",
            "_model_module": "@jupyter-widgets/controls"
          }
        },
        "f396aa71ea174535ac7f6e3bbbb81f6d": {
          "model_module": "@jupyter-widgets/base",
          "model_name": "LayoutModel",
          "state": {
            "_view_name": "LayoutView",
            "grid_template_rows": null,
            "right": null,
            "justify_content": null,
            "_view_module": "@jupyter-widgets/base",
            "overflow": null,
            "_model_module_version": "1.2.0",
            "_view_count": null,
            "flex_flow": null,
            "width": null,
            "min_width": null,
            "border": null,
            "align_items": null,
            "bottom": null,
            "_model_module": "@jupyter-widgets/base",
            "top": null,
            "grid_column": null,
            "overflow_y": null,
            "overflow_x": null,
            "grid_auto_flow": null,
            "grid_area": null,
            "grid_template_columns": null,
            "flex": null,
            "_model_name": "LayoutModel",
            "justify_items": null,
            "grid_row": null,
            "max_height": null,
            "align_content": null,
            "visibility": null,
            "align_self": null,
            "height": null,
            "min_height": null,
            "padding": null,
            "grid_auto_rows": null,
            "grid_gap": null,
            "max_width": null,
            "order": null,
            "_view_module_version": "1.2.0",
            "grid_template_areas": null,
            "object_position": null,
            "object_fit": null,
            "grid_auto_columns": null,
            "margin": null,
            "display": null,
            "left": null
          }
        },
        "c1fdac1f2b21457eb042354b2c2cf911": {
          "model_module": "@jupyter-widgets/base",
          "model_name": "LayoutModel",
          "state": {
            "_view_name": "LayoutView",
            "grid_template_rows": null,
            "right": null,
            "justify_content": null,
            "_view_module": "@jupyter-widgets/base",
            "overflow": null,
            "_model_module_version": "1.2.0",
            "_view_count": null,
            "flex_flow": null,
            "width": null,
            "min_width": null,
            "border": null,
            "align_items": null,
            "bottom": null,
            "_model_module": "@jupyter-widgets/base",
            "top": null,
            "grid_column": null,
            "overflow_y": null,
            "overflow_x": null,
            "grid_auto_flow": null,
            "grid_area": null,
            "grid_template_columns": null,
            "flex": null,
            "_model_name": "LayoutModel",
            "justify_items": null,
            "grid_row": null,
            "max_height": null,
            "align_content": null,
            "visibility": null,
            "align_self": null,
            "height": null,
            "min_height": null,
            "padding": null,
            "grid_auto_rows": null,
            "grid_gap": null,
            "max_width": null,
            "order": null,
            "_view_module_version": "1.2.0",
            "grid_template_areas": null,
            "object_position": null,
            "object_fit": null,
            "grid_auto_columns": null,
            "margin": null,
            "display": null,
            "left": null
          }
        },
        "67e692e1f965499a8ff338e13ce2a9fc": {
          "model_module": "@jupyter-widgets/controls",
          "model_name": "VBoxModel",
          "state": {
            "_view_name": "VBoxView",
            "_dom_classes": [
              "widget-interact"
            ],
            "_model_name": "VBoxModel",
            "_view_module": "@jupyter-widgets/controls",
            "_model_module_version": "1.5.0",
            "_view_count": null,
            "_view_module_version": "1.5.0",
            "box_style": "",
            "layout": "IPY_MODEL_d436fd4e322543ed88bfbac4879b4173",
            "_model_module": "@jupyter-widgets/controls",
            "children": [
              "IPY_MODEL_8a67e818a5b74841b8057f879f2552ac",
              "IPY_MODEL_a457ade43faa4937ac25da535c4e4adf",
              "IPY_MODEL_7fd472b06a17497db8254897a8c79c6e"
            ]
          }
        },
        "d436fd4e322543ed88bfbac4879b4173": {
          "model_module": "@jupyter-widgets/base",
          "model_name": "LayoutModel",
          "state": {
            "_view_name": "LayoutView",
            "grid_template_rows": null,
            "right": null,
            "justify_content": null,
            "_view_module": "@jupyter-widgets/base",
            "overflow": null,
            "_model_module_version": "1.2.0",
            "_view_count": null,
            "flex_flow": null,
            "width": null,
            "min_width": null,
            "border": null,
            "align_items": null,
            "bottom": null,
            "_model_module": "@jupyter-widgets/base",
            "top": null,
            "grid_column": null,
            "overflow_y": null,
            "overflow_x": null,
            "grid_auto_flow": null,
            "grid_area": null,
            "grid_template_columns": null,
            "flex": null,
            "_model_name": "LayoutModel",
            "justify_items": null,
            "grid_row": null,
            "max_height": null,
            "align_content": null,
            "visibility": null,
            "align_self": null,
            "height": null,
            "min_height": null,
            "padding": null,
            "grid_auto_rows": null,
            "grid_gap": null,
            "max_width": null,
            "order": null,
            "_view_module_version": "1.2.0",
            "grid_template_areas": null,
            "object_position": null,
            "object_fit": null,
            "grid_auto_columns": null,
            "margin": null,
            "display": null,
            "left": null
          }
        },
        "8a67e818a5b74841b8057f879f2552ac": {
          "model_module": "@jupyter-widgets/controls",
          "model_name": "FloatSliderModel",
          "state": {
            "_view_name": "FloatSliderView",
            "style": "IPY_MODEL_6c370861af0d4e2b87197786dff27df6",
            "_dom_classes": [],
            "description": "I_ext",
            "step": 1,
            "_model_name": "FloatSliderModel",
            "orientation": "horizontal",
            "max": 10,
            "_view_module": "@jupyter-widgets/controls",
            "_model_module_version": "1.5.0",
            "value": 1,
            "_view_count": null,
            "disabled": false,
            "_view_module_version": "1.5.0",
            "min": 0,
            "continuous_update": true,
            "readout_format": ".2f",
            "description_tooltip": null,
            "readout": true,
            "_model_module": "@jupyter-widgets/controls",
            "layout": "IPY_MODEL_c3c55af2906f41cb83d5d74454b1cf91"
          }
        },
        "a457ade43faa4937ac25da535c4e4adf": {
          "model_module": "@jupyter-widgets/controls",
          "model_name": "FloatSliderModel",
          "state": {
            "_view_name": "FloatSliderView",
            "style": "IPY_MODEL_580b07a5caa34af8a5331d9b9ea073c5",
            "_dom_classes": [],
            "description": "tau",
            "step": 0.2,
            "_model_name": "FloatSliderModel",
            "orientation": "horizontal",
            "max": 5,
            "_view_module": "@jupyter-widgets/controls",
            "_model_module_version": "1.5.0",
            "value": 4.4,
            "_view_count": null,
            "disabled": false,
            "_view_module_version": "1.5.0",
            "min": 1,
            "continuous_update": true,
            "readout_format": ".2f",
            "description_tooltip": null,
            "readout": true,
            "_model_module": "@jupyter-widgets/controls",
            "layout": "IPY_MODEL_fce26945f939415fac096fa3d179a8fa"
          }
        },
        "7fd472b06a17497db8254897a8c79c6e": {
          "model_module": "@jupyter-widgets/output",
          "model_name": "OutputModel",
          "state": {
            "_view_name": "OutputView",
            "msg_id": "",
            "_dom_classes": [],
            "_model_name": "OutputModel",
            "outputs": [
              {
                "output_type": "display_data",
                "metadata": {
                  "tags": [],
                  "image/png": {
                    "width": 558,
                    "height": 413
                  },
                  "needs_background": "light"
                },
                "image/png": "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\n",
                "text/plain": "<Figure size 576x432 with 1 Axes>"
              }
            ],
            "_view_module": "@jupyter-widgets/output",
            "_model_module_version": "1.0.0",
            "_view_count": null,
            "_view_module_version": "1.0.0",
            "layout": "IPY_MODEL_3e20f457e79e435e81efc8d16398e127",
            "_model_module": "@jupyter-widgets/output"
          }
        },
        "6c370861af0d4e2b87197786dff27df6": {
          "model_module": "@jupyter-widgets/controls",
          "model_name": "SliderStyleModel",
          "state": {
            "_view_name": "StyleView",
            "handle_color": null,
            "_model_name": "SliderStyleModel",
            "description_width": "",
            "_view_module": "@jupyter-widgets/base",
            "_model_module_version": "1.5.0",
            "_view_count": null,
            "_view_module_version": "1.2.0",
            "_model_module": "@jupyter-widgets/controls"
          }
        },
        "c3c55af2906f41cb83d5d74454b1cf91": {
          "model_module": "@jupyter-widgets/base",
          "model_name": "LayoutModel",
          "state": {
            "_view_name": "LayoutView",
            "grid_template_rows": null,
            "right": null,
            "justify_content": null,
            "_view_module": "@jupyter-widgets/base",
            "overflow": null,
            "_model_module_version": "1.2.0",
            "_view_count": null,
            "flex_flow": null,
            "width": null,
            "min_width": null,
            "border": null,
            "align_items": null,
            "bottom": null,
            "_model_module": "@jupyter-widgets/base",
            "top": null,
            "grid_column": null,
            "overflow_y": null,
            "overflow_x": null,
            "grid_auto_flow": null,
            "grid_area": null,
            "grid_template_columns": null,
            "flex": null,
            "_model_name": "LayoutModel",
            "justify_items": null,
            "grid_row": null,
            "max_height": null,
            "align_content": null,
            "visibility": null,
            "align_self": null,
            "height": null,
            "min_height": null,
            "padding": null,
            "grid_auto_rows": null,
            "grid_gap": null,
            "max_width": null,
            "order": null,
            "_view_module_version": "1.2.0",
            "grid_template_areas": null,
            "object_position": null,
            "object_fit": null,
            "grid_auto_columns": null,
            "margin": null,
            "display": null,
            "left": null
          }
        },
        "580b07a5caa34af8a5331d9b9ea073c5": {
          "model_module": "@jupyter-widgets/controls",
          "model_name": "SliderStyleModel",
          "state": {
            "_view_name": "StyleView",
            "handle_color": null,
            "_model_name": "SliderStyleModel",
            "description_width": "",
            "_view_module": "@jupyter-widgets/base",
            "_model_module_version": "1.5.0",
            "_view_count": null,
            "_view_module_version": "1.2.0",
            "_model_module": "@jupyter-widgets/controls"
          }
        },
        "fce26945f939415fac096fa3d179a8fa": {
          "model_module": "@jupyter-widgets/base",
          "model_name": "LayoutModel",
          "state": {
            "_view_name": "LayoutView",
            "grid_template_rows": null,
            "right": null,
            "justify_content": null,
            "_view_module": "@jupyter-widgets/base",
            "overflow": null,
            "_model_module_version": "1.2.0",
            "_view_count": null,
            "flex_flow": null,
            "width": null,
            "min_width": null,
            "border": null,
            "align_items": null,
            "bottom": null,
            "_model_module": "@jupyter-widgets/base",
            "top": null,
            "grid_column": null,
            "overflow_y": null,
            "overflow_x": null,
            "grid_auto_flow": null,
            "grid_area": null,
            "grid_template_columns": null,
            "flex": null,
            "_model_name": "LayoutModel",
            "justify_items": null,
            "grid_row": null,
            "max_height": null,
            "align_content": null,
            "visibility": null,
            "align_self": null,
            "height": null,
            "min_height": null,
            "padding": null,
            "grid_auto_rows": null,
            "grid_gap": null,
            "max_width": null,
            "order": null,
            "_view_module_version": "1.2.0",
            "grid_template_areas": null,
            "object_position": null,
            "object_fit": null,
            "grid_auto_columns": null,
            "margin": null,
            "display": null,
            "left": null
          }
        },
        "3e20f457e79e435e81efc8d16398e127": {
          "model_module": "@jupyter-widgets/base",
          "model_name": "LayoutModel",
          "state": {
            "_view_name": "LayoutView",
            "grid_template_rows": null,
            "right": null,
            "justify_content": null,
            "_view_module": "@jupyter-widgets/base",
            "overflow": null,
            "_model_module_version": "1.2.0",
            "_view_count": null,
            "flex_flow": null,
            "width": null,
            "min_width": null,
            "border": null,
            "align_items": null,
            "bottom": null,
            "_model_module": "@jupyter-widgets/base",
            "top": null,
            "grid_column": null,
            "overflow_y": null,
            "overflow_x": null,
            "grid_auto_flow": null,
            "grid_area": null,
            "grid_template_columns": null,
            "flex": null,
            "_model_name": "LayoutModel",
            "justify_items": null,
            "grid_row": null,
            "max_height": null,
            "align_content": null,
            "visibility": null,
            "align_self": null,
            "height": null,
            "min_height": null,
            "padding": null,
            "grid_auto_rows": null,
            "grid_gap": null,
            "max_width": null,
            "order": null,
            "_view_module_version": "1.2.0",
            "grid_template_areas": null,
            "object_position": null,
            "object_fit": null,
            "grid_auto_columns": null,
            "margin": null,
            "display": null,
            "left": null
          }
        },
        "b51a190efab647e1b0939c16c6434dd2": {
          "model_module": "@jupyter-widgets/controls",
          "model_name": "TabModel",
          "state": {
            "_view_name": "TabView",
            "_dom_classes": [],
            "_titles": {
              "0": "Youtube",
              "1": "Bilibili"
            },
            "_model_name": "TabModel",
            "_view_module": "@jupyter-widgets/controls",
            "selected_index": 0,
            "_model_module_version": "1.5.0",
            "_view_count": null,
            "_view_module_version": "1.5.0",
            "box_style": "",
            "layout": "IPY_MODEL_5bb0f46e42d84e3da6aaaba41dce8a9f",
            "_model_module": "@jupyter-widgets/controls",
            "children": [
              "IPY_MODEL_0b8d53745dca48c4ab8390b9ef126734",
              "IPY_MODEL_ce01cd532c6d4d40a5bf34261f177da7"
            ]
          }
        },
        "5bb0f46e42d84e3da6aaaba41dce8a9f": {
          "model_module": "@jupyter-widgets/base",
          "model_name": "LayoutModel",
          "state": {
            "_view_name": "LayoutView",
            "grid_template_rows": null,
            "right": null,
            "justify_content": null,
            "_view_module": "@jupyter-widgets/base",
            "overflow": null,
            "_model_module_version": "1.2.0",
            "_view_count": null,
            "flex_flow": null,
            "width": null,
            "min_width": null,
            "border": null,
            "align_items": null,
            "bottom": null,
            "_model_module": "@jupyter-widgets/base",
            "top": null,
            "grid_column": null,
            "overflow_y": null,
            "overflow_x": null,
            "grid_auto_flow": null,
            "grid_area": null,
            "grid_template_columns": null,
            "flex": null,
            "_model_name": "LayoutModel",
            "justify_items": null,
            "grid_row": null,
            "max_height": null,
            "align_content": null,
            "visibility": null,
            "align_self": null,
            "height": null,
            "min_height": null,
            "padding": null,
            "grid_auto_rows": null,
            "grid_gap": null,
            "max_width": null,
            "order": null,
            "_view_module_version": "1.2.0",
            "grid_template_areas": null,
            "object_position": null,
            "object_fit": null,
            "grid_auto_columns": null,
            "margin": null,
            "display": null,
            "left": null
          }
        },
        "0b8d53745dca48c4ab8390b9ef126734": {
          "model_module": "@jupyter-widgets/output",
          "model_name": "OutputModel",
          "state": {
            "_view_name": "OutputView",
            "msg_id": "",
            "_dom_classes": [],
            "_model_name": "OutputModel",
            "outputs": [
              {
                "output_type": "stream",
                "metadata": {
                  "tags": []
                },
                "text": "Video available at https://youtube.com/watch?v=Ox3ELd1UFyo\n",
                "stream": "stdout"
              },
              {
                "output_type": "display_data",
                "metadata": {
                  "tags": []
                },
                "text/html": "\n        <iframe\n            width=\"854\"\n            height=\"480\"\n            src=\"https://www.youtube.com/embed/Ox3ELd1UFyo?fs=1&rel=0\"\n            frameborder=\"0\"\n            allowfullscreen\n        ></iframe>\n        ",
                "text/plain": "<IPython.lib.display.YouTubeVideo at 0x7f2138aa9190>",
                "image/jpeg": "/9j/4AAQSkZJRgABAQAAAQABAAD/2wCEAAUDBAkICAoICggICAgICAgKCggICwgKCAgICAgICgoICAgIChALCAgOCggIDRUNDhERExMTCAsWGBYSGBASExIBBQUFCAcIDwkJDhINDw0SEhISEhISEhISEhISEhISEhISEhISEhISEhISEhISEhISEhISEhISEhISEhISEhISEv/AABEIAWgB4AMBIgACEQEDEQH/xAAdAAEAAgMBAQEBAAAAAAAAAAAABQYEBwgDAgEJ/8QAXRAAAQQBAQMGBwcODAUDAQkAAQACAwQRBQYSIQcTMUFRkRQWIlJhcdIIMlOBkqHRFRgjMzZCVFVyk5Sx4vA0YnN1doKys7S1weEJJDdD8WN0wiU1REaDlaKj09T/xAAZAQEAAwEBAAAAAAAAAAAAAAAAAQMEAgX/xAAuEQEAAgIBAwEGBAcAAAAAAAAAARECAyEEEjFRFCIyQXGhE1JhgSMzkbHB0eH/2gAMAwEAAhEDEQA/AOMkREBERAREQEREBERAREQEREBERAREQEREBERAREQEREBERAREQEREBERAREQEREBERAREQEREBERAREQEREBERAREQEREBERAREQEREBERAREQEREBERAREQEREBERAREQEREBERAREQEREBERAREQEREBERAREQEREBERAREQEREBERAREQEREBERAREQEREBERAREQEU/4qT+fD3v8AYTxUn8+Hvf7CCART/ipP58Pe/wBhPFSfz4e9/sIIBFP+Kk/nw97/AGE8VJ/Ph73+wggEU/4qT+fD3v8AYTxUn8+Hvf7CCART/ipP58Pe/wBhPFSfz4e9/sIIBFP+Kk/nw97/AGE8VJ/Ph73+wggEU/4qT+fD3v8AYTxUn8+Hvf7CCART/ipP58Pe/wBhPFSfz4e9/sIIBFP+Kk/nw97/AGE8VJ/Ph73+wggEU/4qT+fD3v8AYTxUn8+Hvf7CCART/ipP58Pe/wBhPFSfz4e9/sIIBFP+Kk/nw97/AGE8VJ/Ph73+wggEU/4qT+fD3v8AYTxUn8+Hvf7CCART/ipP58Pe/wBhPFSfz4e9/sIIBFP+Kk/nw97/AGE8VJ/Ph73+wggEU/4qT+fD3v8AYTxUn8+Hvf7CCART/ipP58Pe/wBhPFSfz4e9/sIIBFP+Kk/nw97/AGE8VJ/Ph73+wggEU/4qT+fD3v8AYTxUn8+Hvf7CCART/ipP58Pe/wBhPFSfz4e9/sIIBFP+Kk/nw97/AGE8VJ/Ph73+wggEU/4qT+fD3v8AYTxUn8+Hvf7CCART/ipP58Pe/wBhPFSfz4e9/sIIBFP+Kk/nw97/AGE8VJ/Ph73+wggEU/4qT+fD3v8AYTxUn8+Hvf7CCART/ipP58Pe/wBhPFSfz4e9/sIIBFP+Kk/nw97/AGE8VJ/Ph73+wggEU/4qT+fD3v8AYTxUn8+Hvf7CCART/ipP58Pe/wBhPFSfz4e9/sIIBFP+Kk/nw97/AGE8VJ/Ph73+wguaIi6ciIiAiIgIiICIiAiIgIiICIiAiIgIiICIiAiIgIiICIiAiIgIiICIiAiIgIiICIiAiIgIiICIiAiIgIiICIiAiIgIiICIiAiIgIiICIq1LtWGuLeYJ3SRnnOw48xQlZUVX8bh+Dn85+wnjcPwc/nP2EKWhFV/G4fg5/OfsJ43D8HP5z9hCloRVfxuH4Ofzn7CeNw/Bz+c/YQpaEVX8bh+Dn85+wnjcPwc/nP2EKWhFV/G4fg5/OfsJ43D8HP5z9hCloRVfxuH4Ofzn7CeNw/Bz+c/YQpaEVX8bh+Dn85+wnjcPwc/nP2EKWhFV/G4fg5/OfsJ43D8HP5z9hCloRVfxuH4Ofzn7CeNw/Bz+c/YQpaEVX8bh+Dn85+wnjcPwc/nP2EKWhFV/G4fg5/OfsJ43D8HP5z9hCloRVfxuH4Ofzn7CeNw/Bz+c/YQpaEVX8bh+Dn85+wnjcPwc/nP2EKWhFV/G4fg5/OfsJ43D8HP5z9hCloRVfxuH4Ofzn7CeNw/Bz+c/YQpaEVcp7UCSRkfMEb72Nzv5xvOAzjc49KsaAiIpQIiICIiAiIgIiICIiAiIgIiICIiAiIgIiICIiAiIgBayt/bH/lu/tFbNC1lb+2P/Ld/aKiUw8kRFCRERAREQEREBERAREQEREBERAREQEREBERAREQEREBERAREQZej/wAJh/l4v7xq2OtcaP8AwmH+Xi/vGrY6mESIiKUCIiAiIgIiICIiAiIgIiICIiAiIgIiICIiAiIgIiIAWsrf2x/5bv7RWzQtZW/tj/y3f2iolMOg9ofctS6dM2tc2s2Uo2ZGNeyvcuOrzPje5zGvbFNGHuYXse0EAgljh1Kq8pvud9d0Kj9VHeBanpobvPu6TM6xFCzIAfI2SNknNk58trXNGDkjhm9f8Rr7qqn8wVP8w1Rev/D52im+rFzQZTz2l6np9iSWpJ5cPPxc0wybjstbvwPkjfgeWBFnO41QlzEi6S0nkq0fUdm9p4qtU+MWy2pW92wJrTja0yvYkc0ug5wwmQw17jBuMyTBFx8sqse5n2D027X1rXtZrOs6NoWnOfzAkng8KvyZdDDHPC9hL92Jzd0OHlWYM8DxDSiLpTkL5M9m9T2L1LXNX3qLqOtOY7UIZLBkioxRaXKadau6UwyTyunlhY57HuBsNPlboCk9P2b2N2p2d1+fSdEuaLc2covuRWZrM0z7UTYbUwbMx872Zf4JI1zSDuc4wtdjIQcsIr3yU6vs7Sbbl1rSLmszFsAo1YLL6dXP2fnzbsQvEzT/AAfd3GvH2zI6FtbbPZjZzXdh7m1el6M/QLuk6hDWnqtsz2oJ2yy0ohuumwMbt6J+81jDvRyA7ww4hzci6N5BeTLZ7VNjNV1jV3vpyUNUiYdTjfOZYKcf1NkkrwVhJzElmYSzQMc+N+H2WHDt0BWnYXYvYnbPStWFHTLOzMmhshmOqWLM9nNN4nkfPZifO6PgyrNvM+9yzdfjIAckq7cjnJ3NtNdnpQ3KdJ1ejLbMt1z2xOZFLBGYmljSecJsAjh0McugeSbZfYTaya7s5p2jahWsVtPlsVtes2ZXWLD4XwwGxJXEnNxkvnieItzcI3/JjcAFrT3HWwum7Qa1dqalV8KrwaHbtRsEtiHcsxW6EbJN+tIxzsMmlG6SR5XRwGA0mi3N7lnknq7SWrtvUrLquiaHWbZvPY4MfIHCV7I+cIPNQc3WsPe8eUGxgDBeHNyNq9uth5YblOnsXPWHg1tlDU3alcdZZafE4V57FN0hYWNlLXFjpZAA3GD0INTbH6I/U9Rp6bG9kcuoXatSOSTe5tklueOFr37oJ3A6QE4BOAVaeW/kp1DZK+yldMUongbNBar84a87c7r2sdIxpErHjDmEZAcw9D2k4nIT91Wg/wBING/zGsuzeU1tXbqTX9j5uai1zQbPhekTuw3nonwRu3HObx3A+XmJOGN2Wu/D3MJAcdbG8mdnVND1XXY7FeOvonM89DJzvPTc90czusLeH8YhURdL8i1KWtsFtvXmjfDPBJVilikBa+KWJ7mPje08Wva5pBHaCoHkb5OdLg2bt7Ya3Ts6nWjseCado9eWSDw6xlrXSzWIPsjIQ8uHDoFeYlr/ACWkNDLPj0W26q682pZdSjeGPuCKU1WSEgCN9gN5tryXN4E58odq31t9sXoutbI2NqtJ0efZ+3pN1kF/THTT2YJoZnwMZYgfOA5uPCITlrWABk4LThrzsjYnXdn4+Sx88+gzT6dDfqw3aQu2WPu6kxtBst9k7X71dj5i1/MtIaN3GOKDi5F0Lp+x2ga/sjtFq2maU6jqWjXo7EMRtXJnxaRI2FxjmEsxjkIbHqJD93P2Boz0lWP3OvITpmtbJWrtuAP1nURqn1Fdz1lm6KMLY2yCGJ7Y5sXC8OD2u8lo7Sg5XRbi5FNidPm2f2j2i1SsbFfS6TK9BjpJ44n6vcduxPd4LIyR/NPdVBaTu7tok5xltp0LYTZ/ZnZejtHr9CfW7+tvDtP0hliSpXirBvONnnmgO+4GPm3k4eP+Zhbue+cg50RdF6vsPs9tTsxqGv6BQm0PUtBJl1DSX2ZbleWo5r5DPFNOd9n2OOZzSAwf8tMzc4tePfkF5N9mr2xWo69rLZYHafrG467BJPz3gkUWlyeBQVxIIHzTvnkha5zSQbIOfJGA1FyG7HRbQbQUdHmllghuyTNfLDuGVgjrTSgsDwW5JiA4jrKieUfQ2aXrOo6bG98kWn6leqskkxzj2VbMsTXv3RjfIYCccMlb15G9d0K9t/s+dE0eXR60JuRyRzTSTyWH+C3XNmc+SR5a7cIBGTjHSeCyYeSyrb2i2l2m15zq2y2ma9rW/wAXMm1W03ULDW0qhYWvLN8hrntIJcQxpyXuiDmJFtHkp2a07anbKtp7K50nSb9qwW1YZZZZIatarNO2AWbT3vfNIK4aXk43pXFrQN1oufLNqGy2mT6loXiLa061Wbcio6nLf1Dn3zBz2QXn1JsNmqPc3fB5yRpbjGQeAaG0f+Ew/wAvF/eNWx1rjR/4TD/Lxf3jVsdTCJERFKBERAREQERfcMTnuaxrXPe8hrWNBLnOPQ1rRxJ9CD4QBbV2Q5HJ52iS5I6uDg+DxAOmAPwrz5ER9HErZWhbEafR3ebrwFzfv3jnps9pe4YB9WFmz6nHHxyux05T+jnbT9mb9hu9FSsyN85sbt3vIwpSPk71d3HwCUflFg/W5dGXdSazgHbvDo3o28PUOIHxqEt600/fOd2Yy74utVe1Zeiz8CPVoa5sPqcTS51GbA6Szdf8zCSoW5RmhOJIZYjjOJGObw7fKC3jqesnJaJHjr4tDf7WMqCuazJ7x5bNE7I3ZGtcOjrByDxVmO7KfMOMtUerUwjOM4Xwtv6VXoagTG+mIngZ3ovIb08cjoCiNp+TZ0YL6z3SDiRHIACR2NeOGfXhWxtj58OJ1y1ui9LELo3mN7Sx7DhzXDDmnsIK81Y4ERFKBERAREQEREALWVv7Y/8ALd/aK2aFrK39sf8Alu/tFRKYdi+7i5Ldd1zaOta07S7N2uzRq0Lpoub3GzNu6g90ZL3jyg2WM/1wsLkK2Mdyc1ru1e0JiqXH05KunaQJYZLVmSR8b3EiEuAe4xQtG647jHzOeG4C5wPKftCf/wAQ65/+oX//AO5V3V9UsXJTPZsT2piADNZkkllIHQDJK4uI4nr61CW5vcjcoj6G2MctqTeh1+SWnc3gSx01+UPhkcz3v8L5tpceDWTS9AJV891ZTq7H7OVdjaMoLtS1K7qlst9+6k208Uopw4lzuDKzN/PlO0onhnC0NyHs0z6v0ZNWttp6ZWsNsWJHMmk5wVjzjK4ZBG955yRsbDwGGuecggLN90Tt54ybR3tTa4uqmXmKed4Yo1vscLg14DozIAZi0jg6d4QbR2F/6O6//SSv/a2eXx7kX7ndu/6NSf4HWFoCHXbjKj6DblplCaQSyUmzTCpLKObxLJWDubfJ9ii8ogn7GzsCaVrlypHPFXuWq0VuMxWY680sUdqEte0xWGRuAmj3ZHjdfkYe7tKDpb3MGzZZsfq2vaVplTVtqq98QVmWY47D6dYMqF0tWtIQDYMc9pwcOLubDfK3XMdftWobWapyb63V1iGe1rc1mlNWosiqC6NOZd06QHwKgwGPLq19wa5oeeadw4ALjLZjajUNLe6ShqF3T5JGhr30p567pGA5DZDC8b7QTnBzxWXp+3ms17E1uHWdVht293wizFctssWdwEN8ImbIHzFoPDeJx1YQbv5Of+kO03890f8AFaAv33In3Nbef0bd/gNaXPtfXbkdSSgy5ajo2HtfNTZNM2pPI0xlr5q7Xc3I8GKIguBI5tnYE0rXblSOeGvctVorkfNWYq800UdqIte3mrDI3Bs8e7JIN1+Rh7u0oOg/+HT91dn+Yrf+N01fH/D2+6PUf6NX/wDHaWuf9A125p8pnp3LVGZzDGZqc00Ero3FrjGZIXNcWEsad3OMtHYmg65coSOlp3LVKWSN0T5Kk0sEj4XOa50T3wuaXRlzGEtPAljewIOjPcQ6nXuVNodlJbEdWxtBpr2U3v4b0ngtyCZo4/ZHtZPFIIxxLYpj1Fat1bkH2oqvstl0S21lGKaaayebFPmK7HyPljtueIpRuMc7da4uPAYycLXEEzo3tkY5zHsc1zXsJa9j2nLXNcOLXAgEEdGFZ9T5SdetQurz69rNiu9hY+Ca9dkhkY7ILJI3ylr2kOIwQeHDoQZHIT91Wg/0g0b/ADGsr7y+bU2tE5R9Q1Wm8R26WoRSRlwJY4GnC18UjQQXRSRufG4AglsjhkdK0rRtSQSsnikkhmhkZJHNE5zJYpY3BzJI5GEOZI1wBDgQQQCvTVdRntzPsWJ5rNiU5knsPfLNI4ADMkshLnnAAyT1BB31yiW9L1XYXX9ptOBjGv6dUfbg4fYrtKQQyCQY8mcAtjdjyXcwx4zvlzqN7nHarU72wM2k7PXWVdpdEtSzNrObTe+7RnsPlcGNuxvj3SZ5GhwAIfBGCWiQZ5HpbQ3oKstGK9chpWHF01OKeZlWdxDAXTV2PEcrsRsGXA+8b2BY+kalYpzMs1rE1WxESY568kkU0ZILSY5YiHsO6SOB6CUG/NvNqeUu7pF+PVI9RZpMcQF03NO06nGYudjA3JXVI5JRzm5xhJPxKf5MdHsaxyTarQowyXLsGuNldUgG/YfG06dKTFC3ypDzYeQAMu5p4GSMLn/aDlB1vUITXua1q1yAhoMFq5bmhdukEF0Ukha45AOSM5GVg7L7U6jpT3SUNQu6fJI0Ne+lPNA6RrSSGyGF432gknByg3p7iud1TaW7s3qMEsEeuaZco2KVmN0bxPHE6UMnjlaHRu8H8MZuuA4zAdiu+0W1TNmttdkNn2StdX2cpVdPtvjyxj7euRNjtzvaXfaiH1LO6c4PaQFyd9X7vhn1Q8Nt+HmQyG9z03hhlIwZfCd7necI++3srw1LU7Fmd1qexPYsyODn2J5JJJ3uaAA580ji9zgGtGSeoIOpfdk1YNm9Gq7MVXMB1TWtW1u1zXkfYX2ZW0oZGffNEUkceTwLtOBHUB58p2hWNsNg9mbukQyX7Gztd+nXaFYCS3ERWqQul8HYS+TjQhcGsBcW22uxgOLeZNoNduahKJ7ly3emawME1yaaeURtc5wjEkznODA57zjOMuPavXZraW/pkjpaN+7p8rwA6SlPPXe9oOQ17oXtL256jwQdL8lWz9nZDYXae/rET9Pl2hqN06jRsjm7ksjqt6EPMDzvtybz3bjgHBtSRxGCCYbYH/o7tD/SKt/ebPLQO0u02oanI2W9qF3UJGAhj7s89hzGk5LWOne4sbkDgOHBeUGuXI6klBly0yjNIJJaTJpm1JZRzeJJawdzckg5qLyiCfsbOwINle47+7fR/wCXs/4C2t/artHQ22tazsLqsrKWpUde1d+h6gwNjjkfFctiOvPEzDJJ2se9hyMyscTwlbvv4w0nUp6kzLNaearYiJMc9eR8U0ZLS0lksZDmEtc4cD0EpNqM77BtunmdadMZnWXPebDrBfvmd0xO+Zi/yt/Oc8c5QXSnyba/V2i+okFaaLXqr3ywthlbDITWY6dtmpZc9gI5uMyMe1wJwMceC6p5Obmt7R6Xqmnbb6IItN07T55o9cv1vArVezHkF8Re0MleIt94nga0AQFr+cEwC40ubYapNaiuy6pqMt2u3dhtyWrL7UDDv+TDYdIZI2/ZH8Gke/d2lZO0W3+tajD4Pd1nVb1fLTzFu3amhJactc6OWQtc4HjvEZ6EELo/8Jh/l4v7xq2OtcaP/CYf5eL+8atjqYRIiIpQIiICIvqKMvcGtGXOIAA6yVAy9F0ua5MyCFhfI8gADoGes9g+hdB7C7C1NIjE0mJLW75c7sZYSOLIj/229XDyj2joWDyd7OR6NW56XBtTAbx6XMBxiFn8biMn1DsWbqmscece4A9EbAC7dz8G3755z77u4ZJw7d05z2x4bNevt5nynb+uEAMYGsHU3d8r4o+GPW4j1FQljVXPBDnOf/FyO/GA0D0huFXrOpPJOBg9DiTnd6/skuMNOMncYC7HZheEOoSO8msxp3ffWp8CJh6y0dZ9JJPoVXbSy0tO4gEvMcbRxIAaXAfx3zHcb8QasI3S/hE18g7RvPb6fKmc1mfyWlQb9Sqxuy98moTjJy/ArM7S1p8kD0gfGF5XdctzcGuFaEDi5hDPJxnDc+W4ek8OK7jFz3Ji6JGjyzFGOyRzA7Hq3Aom4YXgtc6M4zxaeg9uWgEFQBBkfiNpldnjKc49ZfIS4nHUMepfLaEodneA44/il3Zns4qyMXEytmy8ghkcIw8mRo4xuAJ3eok7pyeJ9OFIWNo3sfukuLeHB2A7GT9BHXxWLpOjGINe527K3dfuOBwR1EO4bzcHq7eK8NoImSZcDukE738Un0dTeHpHxJPI8NqdHi1KMvYQLLW/Y5OADwP+3J2jsPUfQtVyMLXFrgWuaSC08CHA4II7QVsejadE7B6RjI84Hrb28FC8omlgObcZxbNgSY6A/Hku9RAx62+lWasqntn9lezH5wqCIi0qBERAREQEREALWVv7Y/8ALd/aK2aFrK39sf8Alu/tFRKYeSIihIiIgIiICIiD3oVXzyxwRt35ZpGRxsyBvSSODWty4gDLiBknHFbc+tg2z/ETv0zSf/8AYtOtcQQQSCDkEdII6weordnuNtTsSbcaQx9ieRhffy18kjmnGl3iMhxweKDAue5p2xhjfM/Q3NjiY+R7vC9KO6yNpc44bbJOADwHFahV85bNVst2l1xgszhg1zWGhgkkDQ36oWBuhodjGOpTvKFya0tP2Q0LaCKW265rMtlliKV8JrRiF0wbzDGQtkaTzbc7z3daDUyLa2u8m9KDYOhtQ2W2dQu61JRkhc+E02wMZqDg+OMQiUS5qR8TIRxdw4jG8Nt62xbdg9AksR7Tt0l9y94I+q3RRq75hYuiTw9zxzDot4S7m5x3RHnjlBxyi3PyQ8lmnTaHa2r1+1cq6JVmFeCtp4j8P1G3luWxOnBjZEC4M/jES5dGI8uk9T5Mtn9d0PUtb2Zn1WGfQ2ia9pOseDOd4HzbnGzVmr8N0MhneQ5zieZeMN8jeDQqsXJ9sTqOv3PANNq+F2xE+XmucrxfYoy0Ofv2ZGM4F7eGc8VtnkX5HtF1XZW3tFqeqWtMbp+rmvNKwxOg8CjgoylkVcwGWS9K+06JmH4Bew7jt0tdJ8huyWha5teKWi3dpdL05ujyvNltivW1V1qGWNr8zQNkj8Ge10bt0AcR0NxhBziit/JhV0GSad+uWdSgqxV96GLSmQut2rBkYOaa+y0wxNDC9xL8Zx09R2dtnydbN39k7e1OgP1er9Srletao6qaz+cbPJXjEkLoMlrt65Ccl5GI3jdHAkNcU+Ta3Ls1PtQJqoo1tQbRfAXTeFumc2Ah7GiLmzH/AMwzpeDwdw6M0ldF7P8A/R/Uf6Ux/wB1pq50QEREBERAREQEREGXo/8ACYf5eL+8atjrXGj/AMJh/l4v7xq2OphEiIilAiIgLY3I3s81z3apOAIKxIiDuiSZoBL+PS1mR8Z9C17WhdI9sbRl8j2saO1zyAPnIW59Ve2vFX02LhFBE0yHta3pLh2vfkntyVm6jOYjtj5/2X6cImbn5MzVNaLy6d44cRHH1hrujDeGXuJ+f1qLkl3MyzOcZHcNxuS9ufvQR730gcT2hY1i2GkOIJcODB0lhI6h8JjuyVHXdTEeegydBLuLYyeOCM+U/wDi96y44+jTLPuWhgGUADH2Oq3h5OeDpD0MZnjngPRnioq7bks+RkBjeG6wODGjzWNA4u+ft6FHmTey+RzvLOe2R+Osk/H6B35TW+hgG41w8iJnlPf6fyfSeB6h1q2IcTLNMkcIAx0j3rPKkeePEu6M+rOOPELxYx87xHwaD960nDQegyydLj0dHT6crwggc44GDI7pdwLIx6Xffkd3Z2qf0unugNaDxyS93vnHrcT044/P385ZxinHCcn0yu2KPcAGCP6zscOgdAJz0Y6erhj8ELmlri5x44PHgB2ehuOGB61NR6fw3iP/AB2D0L8u0SG+kBZ/aGj8Cni6+TGI9/ea0DDHEB8fVmNxIy09gUdZe7g45x0B5BHTjDJOGcdHldWV8XoyBx6ugev/AEUOLRY4tPFpJBYevtb9HUfiV0Zd3hTONM6aMDyejrb2g9gA6BnqXvVjFiCWm/HlxncPYekY9TsFYrMOblpJHEsz0jHTG70jhg9mOsL2ru6Hj3zSCPSOsfGCD83UV3bimtpGFri0jDmkgjsLTgjvC+VO7c1RHbL2jDLDRIPWeDvjyM/1lBLbjNxbHMVNCIi6QIiICIiAFrK39sf+W7+0Vs0LWVv7Y/8ALd/aKiUw8kRFCRERAREQEREBbi9xb93Okfl6h/lV5adWVpWoz1Jm2K881aePO5PXe+KZm80tO5JGQ5uWucDg9DiOtBZuW/7p9c/n7WP8wsLfm0Wx2obR8muzEelVX6hLTuXY54oCznIXOntsy9rnDdaCG5J6BIw9ByuWLdh80j5ZHvllle58kkjnPkkke4uc973El7y4kkniSSpbZ7a7U9OY+KlqeoUI5jmSOnZs12SnGMyMgkaHnHDjlB0ly7bIy6FyX6Tpk80EtuDaUGw2u4SR17EtTWJH1DK07r5Yt8McRwDg4DOMnD2j2ZvazyWbODTqdjUZKOpaiLEFKN09iLft6iATBCHSEeXGeA4CVhOAcrm2xrVuSuKb7dl9RkpmbVfLK6u2d2/mZsDnbglPOSeUBny3dpWZs5tdqemsfHR1TUaDJjmRlK1ZrslOMZkbBI0POOHFB0Fsppsm1PJgNG05vP6ts9rJuSUGFnhNmtN4XiWFhOXjdvy4HSTUe0AktDs3kG0G5sjsvtPrWsVpdMZf07wCjVvMfDZt25I7bGs8FkAlawySxcS33glf71hK5i0XVrNGYWKtmxUsMBDZ6sskMzQekNlicHAH0FZO0m02oam5r72oXtQfGCGPu2J7Dow7G8GOne4tB3W5x2BBvPZH/pBrH9Kof7nRV+/8Pf7r3fzTd/vaq0HHrFptV1Jtqy2nJJzr6jZZRVfMAwc6+AO5t0mI2eURnyG9gTRdYtUZefq2rNObdLeeqyywy7jsZbzkTg7dOBwz1BBvz3I+xVW9p2vao3TKeu6zpleEafpN5okrF8rZi6eWu9wbazuANYccYnAEF7S3aWoaZtLqPJ5tBW1HTGxanPY06eppVGrUgsNoR3aLy/wGk3nQCatwjnQXnmH44ALjPQNcuafN4RTuWqNjdLefpzSwTbjsZZzsLmu3TgcM9QWfT221eGxNbi1fVIrVtobYsx27bLFlrQAG2JmyB8zQABhxPQEG7Nn/APo/qP8ASmP+701c6LOZrFptV1IWrIpvk511QSyiq6XDRzroA7m3SYY3yiM+SOxYKAiIgIiICIiAiIgy9H/hMP8ALxf3jVsda40f+Ew/y8X941bHUwiRERSgREQWnkxrNde59/COnFJO4+kDdb8eXE/1VY2XXPL5jjfmkJA4+S0e9B6sNHzkKu7LyiHT7L/v5poogO1sbd/HqLntz8akZLQjiHDLg0YcelrRwz6STnv9Cxbecp/o16uMXpq18RDdacynr6dwfxeHviev6FFVYy4ggb8n/wDHGCenH3x9P615U2mVxe7o6R0BrWec7s4f6dqzhKX4jiBDevcHlP6skn3reP79C58OvLymbhxAcJZz7554xxD0Do4di99PqZ4jJ3vfSHjJJ2ho4brf34KZ0bZOaUDLN1vpHp7OG8fWrrpWzDYgMjJ7SqNm+I8cr8NN+VW0vSTw8nA7Or+t2n5vWrLR00N6f3wpqKgG9STRYWHPZMtUREeGEGAnHUOn/QLztMBB4fvhZO7j9/1rxcCVVbqle1OoCD6lTdbrlpLvV8y2TYgDvSq1tFS8gnHRx9a1aNnNKduNwqmk3SDkE9IBH8btx6fnyVNsLd4FvvJOrPRnPR6nZGP4yqRdzcm8ODXOw4dh6MH5vnU1Vmy3c6AeId2E8M46vK3SvQmGKJfG3Fbeqsl++gl3D/JyDp+U1vylSVsbUGeEUpRjyzE4kfx4sO78tIWuVo0TxXoo3RzYiIr1IiIgIiIAWsrf2x/5bv7RWzQtZW/tj/y3f2iolMPJERQkREQEREBERAREQEREBERAREQEREBERAREQEREBERAREQEREGXo/8ACYf5eL+8atjrXGjfwmH+Xi/vGrY6mESIiKUCIiCeY8sp12jpkmfJgfl7g+PyF92HGV4jByBxce3H/wAer1BYuqv3Yqw82BpHoLiTnvcVPcnOl+H2mRAZBJLx/wCmzq4dAPR3rHnxy1Yea+iR2e2ZsXSBGwiHI8rqcR1/xsdy2xs7sNBWaC9u87AJJ7fpUqaclaINY+OEBuA1rc4A6s5ACq+qavcZkCcHp9B9YHH9aw55Tk24RGK3OjibwAHq4cFhSSAAkd3T+tVCtq8xPlEnoyenuPd86lY5y5vz+pUTEtETCTL2gcehYdi2wffAes44Yyo25acGkA5x1Ku2XPk98/d48PVnoXMY2iZpaTehz9sZ3hfhvQnA325PZ1/GqtUhibxPl+viMj0d6k4qsD8ZYAfRkd3HjwUzrxhHdKcZE1wyCD6lG6xUBYQs2lp4b5cZcw46N4kH0FpJWXLDvt6uniFxOPbzBbRe0cXMzFh96/t6M/v+oL00+UEbpPH3p7QSMZz6vnaFN8q+llrRIB0OVR0uxvAO6yMEdpbw/UW/P2L1dU92ESwbI7cqW7SrJHT17pcO7fHx4eqFqEHNTSRfByPZ8TXEA9wCtlOxuvBJ4b4yP5QNzj5b/nUHtfDuW3/xw13xkYPztKv0zU0p28wiERFpZxERAREQF8cy3zG9w+hfaIleeQnk9g2k1Y6bLM6qwUp7HOxMje/ehlrsDN1/DB54nP8AFC3v9aJQ/G9v9HqrXnuKfuod/NF3/EUV2yoS5p+tEofje3+j1U+tEofje3+j1V0sigc0/WiUPxvb/R6qfWiUPxvb/R6q6K1rVa1KB1m1ZgqVo9zfsWpI4YIzI9sbA+WVwY3ee9jRk8S9o6SsqGRr2h7XNex7Q5rmkFrmuGQ5rhwLSCDkdqDmv60Sh+N7f6PVT60Sh+N7f6PVXSyIOafrRKH43t/o9VPrRKH43t/o9VdLIg5p+tEofje3+j1U+tEofje3+j1V0siDmn60Sh+N7f6PVT60Sh+N7f6PVXSyIOafrRKH43t/o9VPrRKH43t/o9VdLZRBzT9aJQ/G9v8AR6qfWiUPxvb/AEequlkQc0/WiUPxvb/R6qfWiUPxvb/R6q6WRBzT9aJQ/G9v9Hqp9aJQ/G9v9HqrpZEHNP1olD8b2/0eqn1olD8b2/0equlkQc0/WiUPxvb/AEeqn1olD8b2/wBHqrpZEHNP1olD8b2/0eqn1olD8b2/0equlkQc0/WiUPxvb/R6q515W9kIdE1u7pMbzYZSdWAmkYxr5Ofo1bJLmsGBg2C3h1NC/pAuA/dS/dlq/wDKad/k2mqYRLWQiaPvW9wX2iKUCIiAiL8KCZ2kZuthHZXi+do+kLZnuXqGTdtEZETYo2+guL3E9wb3Ki7Z1/Ihdj30LB8bWhvHuat3e5f0pv1IsPdwEt17c46o4YgcdvFzvnXnbc/4f1bcMKzRW3+2sddzm7xJ81vTw/Utc7Q7XWowJHVt1kgy3ePlbva4dWVuvbHZDTmlzjVEjnZJLsl3HpIJ61q/afZ2tIA0ts7rDhrCXHGfvc9OM9uVl1Trj4rls2Y5z8HCF2e2wEjsOaY35Aw73p9APUVtvZuuLMBlHZx7QtU6VsU2WQNbDKQHNJ3nOGMdBOOhb02Y0416rm9YAHxnp4dQUbe2/ddYY5VWSl62zmwfR8/78VrvaHWnR5PZwB6srZ20sfOZAOO7h8faqFrOhGTHkNeB29I9Sp1TF8rM8ZrhT9Uu2o6zbIsEc44gMHUB24++PZ6+lfmg7QXcl3OmUtDCIy3JeD0jI96R05KtlXR4x0wRnHUT/oetWDSaDeG5XaOPV0D/AMLXnvwiK7WbHRn3X3PjZjap78NlifET0Eg4J9Y6CrvTk5wDgcHjxBHZ2rApUWDi5rc/Fw+bgpaowZwOzo6v3wvPnK544aZwpAbd6UJqrxjjg960VBCYnu4cMj4nN/0Iz3LpbWIxzLwcZLSfmXPltoFmRnU8vGOw8SD3rf0k1EwxdRF1Lz5zyy3o4s+dpC9NvW5dXl+Eg+drv2lgyv3ZTnqkj/suGfnCk9suNWoesc83ucP9ltx4yj92bKPdlVURFrZhERAREQEREG7fcU/dQ7+aLv8AiKK675RnFujakQSCNMvkEEggirLggjiCuRPcU/dQ7+aLv+IorrrlJ/8AsXUv5rv/AOElUS6ah9zftlHpfJrT1m86zPFUi1KSZzPstl7RrV1g3edeN8jLRxcOAW159t6jNB8Yt2c0PqU3U9wNZ4SarqoshvNl4bz3NkeTvYz19a5w2T/6Iv8A/Y6n/n1tXvabVq9TkoidPPHC2fY2lWi3zgy2bOjxRwwxjpfI57hwHQA4nABIgfPup9oIdV5NLupQNkbXvVtHsRNmDWyiObVtOc0SNa5wa/BGQCfWpTlosabHstpbtSm1aCsbGjBj9HdC20bDoCI2SGfyfBj5W8Bx6FQ+U3/ovF/M2zv+Y6Ypb3V/3F6R/OWz/wDdOQXr3RlnTY4tH+qE2rQtftFp7Kx0l0DXSXXNn5qO7z/vqBAfvhvlcG4Vh5TOUWtoRrxvparqVq6LDoKOj1JLluWOqa4nk3GlrGRsNqDJc4e/GMrW/uzP4Ps3/TPR/wCxaVj5UOUXUYteo7LaPBRdqd6m+9Nd1N0vgdKjHJIzLa9dzZbdhxhmAaHN3S1mctc5zAk+SvlgobQW7WnMralpmqUGMkn0zV4G1rogeI8TtibI/MX2aIcSD9lYcYc0nA2o5etF07UNQ0uYXnX9MdTZ4LBC2WfUJ70Imig02GOUyWJNxw3t5rGtOMniCaByeV70XKlbZfuVbtrxQG9LUruqRBh1CiWxmB9iV2+Bx3i7iHN4BZ3JXp0EnKbtbZfCx89atozYZXAF8In0+uJebJ96XCNgJHHAI6CchsPkl5XKG0cturDX1HT7+nGPwjTtWgFa5HHKMsl5psjxzZ6OneHDIAc0uitsuXGrp1izAzQ9p9UZRdI2zb0zTnS0oHQ/bWmzLLG1xZxyW5A3XceBVY2RaByr6zgAb2zFQnH3xE2ngE9pwAM9gWVslt5r21R1Gzpc2j6Toun3LNFk92Cxev2pqrWukmfEyzDDVgLJYyGu3nDJzkcUG19gdrKeuadBqlGUy1LTXFjnNcx4LHujkjkY7i2RkjHtI6Mt4EjBOj+VLVL+1O2I2LqX7WmaVptJtzWbFJxit2TK2F0dSKfdOGbtmqMA4PPTFwfzbWqX9wj9xNP/AN1qH+MlVf0a+3ROVjUWXHNgh2m0up4BM8kNlsQxVIxXLyA1r3Pq22gZ4u5kDjIAgtE/uWdlA0GvUu6fZaDuXqd6+LcbiMc4wzyyRB/E/eY49Cz/AHTh0upsy1uqWtahpRWKUfhGjvhbqLpWtc1hc+cbhY7BLuGTlTPulNtLez2zN3VqYhNqq6mGCdpfFie9WgfvMa5pPkSuxx6cLWnu3LTp9gYp3435rGkyP3Rhu/IxznYHUMk8EG6uUnbvT9nqXh1+YxROkbFFHG10lizYfncgrws8qSU4PoABJIAyqbs3y86dYvV9PuaZr+z8954jpu1+iacN2Y4xBBMJHt53ymDDt0Eva0ElwCqnuhAwbb7EutBvgIt6iGGTHNDUCyv4Nne4CXnxV3OvLeHQvX3ehj8VA3puO1XTxRDMmc3N9/8ABw3yud5nnx5PHj6UGxeU3lW0vZyzRr6i+WAamLro7Iaw14W0I4pJTYcXh4yJmBoY15ceAGSM+Wy/KxQuaZc1iavqWkafp5JfPq9Z1bn4Axr22asQc580L94NbgbznENDcnC1z7oSiyztdsJDZjjmBtaw58bwHRulig02RpLeggSMa7s8kL1930yY7HvMe9zDdSoG3u9Pgu/IB6B/zDqvTwzhBJs90rpTaz782k7TVNNET3wanZ05zKF7AzGyrYbKW783/b5zca4nBIPBS3K9tJpeobES6rak1arpF2pp1kyacYY9VjisWqj4RHvl0THl74mvGSN0vGV4e6M2m0uHYi/ILlRlW/pMsOn7j2Flp08GK8dNjPtuQWkboIa1pccBpIofKZ/0ai/mDZ7/ABGmILby9W9Hj2NqSX7OuwaXjS+bn0x9duqneh+w86+Uc3xb7/HX0LY/KRt1Q2fpi5dkeGySshgggY6W1csyZ5utVgbxlmdg4HADGSQOK0L7rj/prR/J0L/DhZXur2WhtTsg+K3DQYbOoxwXbUPhFSvflbWEXOwlzWl7jzbWkuGCC4e9KDZ3J7yx0dX1A6S+jq+jan4ObMVHXKppz2qwODNWxI9sgBBy0kO8iTAIY4ib5OuUCnrrr8ddtiGbSNQmo2oLTY2Ssnh6XtbHI8GBxDw12RkxP4cONAh5Kdes69pOt6ltBRtnRH2zHFV081XyR3YealjdKLLsjAGMg4y7tVZ2512HYrbuXVbD+a0fajRp32DkBo1XRYd9pDet74RHG0DJfJfPDrQbhq8o1GXVtR0hjbLptEqRWb1kMaakAmjEkcG+H84+wYt5+61hGI3jORhUTUPdI6bVLJbWi7U0dNklZGNYt6ZJFpvl+9kL3S86YyOjEZccHDTgqI5Ebx0HY/UNsdRidJd1mS1rlljMb7o5z/yNSJ5zuwGN0bm5zueFO6hhUvl/1TaPVeT+zrF6xo1TTr8OlWYtLqV7Mto1rV6jJWEmozWQ1tgB8b3BkJBDXDhnIDrZjg4BwIIIBBHEEHoII6QuBPdS/dlq/wDKad/k2mrurZX+AVP/AGlb+5YuFfdS/dlq/wDKad/k2mqYRLWqIilAiIgL9Y3JA7SB3nC/Fk6WzeniHbLH3bwUT4TC9baxBrYRwwY+3OCGt6fjK3Z7nchuz8I63WLhJ/jGw/8A0AWl9vo8RtA6Wtc3uLR+/qWy/c4amHabPWyN6vbe7HXzc8bCD8pkq8rZzh+709ce9y2nfia/g4ZHbw7lWtT0uufvWjJ6fn4n0rK1XVMA9GOrH+v79Sp+r6yRnyuPHo6B/vhYpypvxwWSnHAzDGloc44w0dPbx9SnL0LYoCMjLsHHV6BjrK19sBcbJbke8jDIS4Z7d5o6/We5Tmu6+xzeDs9IHHox8y6uvKezmkFqzQHZGO0+tQUs8e8B0Hq7Dx4qQdaaRxOc9p6fWoPaItDBji5zsADOTnr4dHrVMYxK6k5Vijd0gHB6cDu/fsUixjW+9AAA4cMdwVT0e6WjGTkcD28e3KnWW849Xx5UZRPzcVDO3SekjPRkdXRw6OBWTTGMfqPUsOCXPD1KTgcM/F+59SnGFecvDX5MRO/JK501SfN0Eec7Ppyf/C33tnYDKsrz0Brj3Bc7yTNks77TkY/f/Veh0seZefv8QyLxy5x9LD39XepLafjSqu/9SYd4jI+YKLsnIf6A3/Tj84Upqw39Njd8HP8AM5rh9C2R5j6ss+JVlERa2YREQEREBERBu33FP3UO/mi7/iKK3nyyaztbO7UdF03ZiKepcr+DV9dk1GnFHEy3UYyeeSi/7KXQySzgDOTzTSGuBwdFe4teG7TuJIaPqTd4kgDPhFHrPqXavhUfwkfym/Sol0pHJpya1tM2Wr7M2Ay5XbSlgtDyxHO+4+WW1uHIe2Myzy7pGHAbuMEcKro3uaNna7JInjULsbq9qvAy9afNHp0NxhZM3T4y0MrvLTweQ5wOCDnitw+FR/CR/Kb9KeFR/CR/Kb9KgVLWOTPTbWzzdmJWTHSmQVIAxshE3NU5YZYhzwGch8EeT1gHtXttvyeafrGnQaZabM6rUlqyxiOQsk5ym0tiLngeUADxHWrP4VH8JH8pv0p4VH8JH8pv0oOaeV3atu2FvZ/StN07WBYqbR0b97wyjZqs06rTEolNqWdojD8SkgNc4Es3Qd5zQ7bnKlyRaXtDYrXbBuVNQogtg1HTZ3VbscRcXGHnmtOY8ufjIy3nH7pbvOzevCo/hI/lN+lPCo/hI/lN+lBrDTeQPRKmoUtUqHUqV2iSXz17k4k1Pen597dWkkLpLrXyZ3gXDeaQw5Y1rW2/QthqVLVr+tRNlF7V21m2nOeXRuFSJscXNx4xHhrRnHSrB4VH8JH8pv0p4VH8JH8pv0oK9R2Fow65Y2hY2X6o26bKcrjITCa8boXNDYehrsws8r19qpT/AHPGgG/YuAajHDemdPa0qK5Yj0m3O55eXz1GEGRpe5x5ou5sAloaG8FtbwqP4SP5TfpTwqP4SP5TfpQU7kv5MaGzj7ngEl1le/Pz3gEsxfRpvJcSKFfdArtdvYPFxIYwZw0AZPKhyb6TtLWbV1Omyy2JznQygujsV3PADjBPGQ9gdusy3O67cbvA7oxaPCo/hI/lN+lPCo/hI/lN+lBpeX3NemzM5i3ru1mpUeH/ANOv6o6Sj5Lg5g5qOFjvJLRjyuGO3iqV7ovWotpdPr7H6Zp+rC8NXqwSNnp244aVOm6SJ1yS1K0xSV8Bjg8POWnJx0Hp3wqP4SP5TfpTwqP4SP5TfpQQXKLsPp20FI6fqNZtmuXtkb5T2SwzMzuTQTRkPilAc4ZB4hzmnLXEGn7N8hGkVb1fUZ59X1m1QeX0n63dnusov4EOrRPwwOaWtILg7dcxjhhzWkbN8Kj+Ej+U36U8Kj+Ej+U36UFf2n2HpajqOm6pO2U29FfZfUcx5axrrbImS84wDEgLYWYz0cV68pNqvDpNyS1p8+qVWwOE2n1YBantRPIa6KOsSBKcOzgkYDScjGVN+FR/CR/Kb9KeFR/CR/Kb9KDjHaTSNlRRtVNl9ltXt6/qcD6MXP1dW3dOZc+xTTST6o4xVMRPkbzrTw3sOc1heVbOWXVWt2QOwVWnqtvXYaujacxkdG0K1l1OWg6W5FaI5kVHNgkIcXcC4ZAAJHUXhUfwkfym/SnhUfwkfym/Sgpe03JnS1jQauh6iJJIK8VIP5iR0ZdLUhDAQ8DO7nJx6lNcoOxena/Sdp+o1WW6rnNeGu3mvilYHBs0ErCHwzAOeN5pBw97TkOIM14VH8JH8pv0p4VH8JH8pv0oNcbIci1HTrUNr6p7Q3jUfv1q+o6lZnqVyGFrRHX8ljg0E4D97GfQFN8rPJppm1FWKnqUUkkUFgTxmGR0UjZBHJH9sbx3C2Q5b0Ehp6grZ4VH8JH8pv0p4VH8JH8pv0oMPVtAqW6MmmzV2SUZqzqz63FrDXdHzfNtLCHMAbwBaQRgEEEArVem+5q2eiryVJfqlfrOjmZXr37k00GmiYEOdp8GBHBKN4kSFrnA9fE53B4VH8JH8pv0p4VH8JH8pv0oIfk/2Xj0XToNNis3bUNVpZHNqE3P2dzJLY3S7rRzbBhrWgANa1oAAAXEPupfuy1f+U07/JtNXe3hUfwkfym/SuCPdRuB2x1cgggyafgjiD/9G07oPWphEtbIiKUCIiApDZqLfuQN7ZWfr4lR6svJlVEupRZGWxh73egNbjPo4uC4zmsZl1hFzC2bfR+9HoI49PlvByR6gvPkO1Z1bVRCThl2KSIjq52NrpIzx6/Jc3/8xe23R3nxjp33Z+LBd3eUqZUtuqy1rQzmC1HL6xHIHEeo8QvNw5wr1ejPGVt+65cOTx4fv1KmXrLpX7jeJzxIJwP91eNcpCXecziHeU0jrDm5bjvB+NUerKyvnfDiQ52Q1rnO4HhwHox3rFHlvxy4WTZ3T9yM5GQ4cenr9IUNqdcV94NMjmucThznOx6t4nCz6e1sJaQ2OY7pwd6N8YB7PLAWJa1yGT/tDh2OaT6cjKs7J9FmPKHmHOYDujzePT25ysqCs0YxknHSSSfi7AsK1qUW8d1h6e0AZ60j1ljRxAHre3/VROOXyh1dMuxAQd4DB+dZNG1g7ruB9fSoK5tKA4NbXmkJ6mgY49eXEcF7RW3yFmY90ucBjIJ6eIOOHaoyxmuVU5crdUmwc4Pr7P8AZS1SXOOrt/0/WoiozA9Q7z/4WfR6fR9CotzPKB5X7Yj094zxfhg/rcP1LQ+lN4ud6/1FbT5a9Q3ubgB6Mvd+oZ+dayosw1w7Gkk+kkBen00Vh9Xn7+c2U88Xelre7ipmPD9LlaelrmuA/Idx+ZQ+Mud+Rw9HEf7qV0/BpuHRvCUD1lr+HzK+Z8fVT6/RWERFtZBERAREQEREHy9gcMEAjsIBHzr48Gj+DZ8lv0L1RB5eDR/Bs+S36E8Gj+DZ8lv0L1RB5eDR/Bs+S36E8Gj+DZ8lv0L1RB5eDR/Bs+S36E8Gj+DZ8lv0L1RB5eDR/Bs+S36E8Gj+DZ8lv0L1RB5eDR/Bs+S36E8Gj+DZ8lv0L1RB5eDR/Bs+S36E8Gj+DZ8lv0L1RB5eDR/Bs+S36E8Gj+DZ8lv0L1RB5eDR/Bs+S36E8Gj+DZ8lv0L1RB5eDR/Bs+S36E8Gj+DZ8lv0L1RB5eDR/Bs+S36E8Gj+DZ8lv0L1RB5eDR/Bs+S36E8Gj+DZ8lv0L1RB5eDR/Bs+S36E8Gj+DZ8lv0L1RB5eDR/Bs+S36E8Gj+DZ8lv0L1RB5eDR/Bs+S36F9saAMAADsHAdwX0iAiIgIiICuvJQzEs0mOiINB6hk9Hpz/8AFUpXrkmJJsjOA2OMgfxnvIJP9UKjqP5crtHxwndqBvW4mAElkTzj+oQP1HuVK1it5LGjscM+tzQPmCvmrNBsOfk7+JGD0YDRnPT98fjKqluZrHMJAw2Rg9QcG8T8ZJWDXdxDdnVW29yV6yy5p7Yi7M1M+DPHXuxjEUnxxgDPa1y99T00NsCRrQ5uRvjtGR5Q9IWpNitVdptmxa4mFhZHKwffsdKcPA63tAJHrI61vXRbUVhrZGPa+KRm81w4hzSM5WbdrrK/Vfp2XDzNWNo3gAFW9oXVT5LoI3O6yWjJ+NWbUxg4HQQf3/WqtqNORzj5Ocfv0JGzKOGrGaVZ2m1QTiEZOc5OR09QPoXvT0xvUxjR6GjhlSElR7eluPiX7GHDpymWyVmWU+j4ZRY3jgEnrX5BWzMHY4NBx61kxgk9PQs1kYA4dCz5ZTKvLiH23H7/ABL0sW2wxl7jjAJ/ftWFLOG8cgAKs7Q6mZcsB8kfOfoCYRcqZU3bS6ZpJJT0nOB2D/wq9UGGPPoH62f7qV2mIDD6cN+UQFHMGIvW5v8Aa4/qXq6vhYNnxPVnS49oePi6c/OpGgf+T49TmnveRx+UFG1vKB7fKH/7QpjTB/yEvXgHPb5L4nf6Fd5f5hX/AKVYjCL6kHlH8o/rXyt0MgiIpQIiICIiAiIgIiICIiAiIgIiICIiAiIgIiICIiAiIgIiICIiAiIgIiICIiAiIgIiICvvJH0XPOEcTvTgOeP9VQla+S3UBDf5tzt1lqKSHPUHuBMZP9YY/rKnfjeEwt1TWcSvep8bOR1te7HaHEH4+OAqLrEDy9rQx2HYc4Y7C7APDzmgK77QtOQ8ENcIi3HaHhrgSB1hw+ZRm0MrPsUzXeQ6FxcCc8YsyMB6yQXY9YWLHib/AEhsy5hCVIeE0TuPOgPyMf8Aajm3ujoO8QvzYfbKXSn827L6ucuYPfRlxB5yPv4t61g7G2i+Uxkk53nD1PG64erGPnUVtQ1sc8jGnLRI9jT/ABWkgfMAu88Oe2XGOfHdDpWjqsVuBk8b2vY4ZDh0dPRjpB6eHoXnPa3W5ceHAADpK15yKWN6m6PPvZXj9T//AJK1aq6QeTukDHAtPDI+dedPGUw9PXneMW+71pu7wPADq6SfV1rAMm91jj1LBkLvTjHR/r618sl3el2fi9HUFFLu6KScZHqWPfvhvWo+xcPQAsJzC48Tn1qurVZZW/bdp0nDOG/rUdbjO6ccOHD6VJNhwsTURhh9R+ccF3jNOJUbahp5tg86aPPqz/4UdqTiIY+0uB+cn/VTu0TAcDsIx/V/8KA1/wAmOIfv70cPnK9HTNxEMG6KmZZWncS70SfNk/6frVg2dbmtO3pG6/h6Cx3+yrOlyZGevDXesxkZ/f0q07HvAlfGegnBz2OGAT8WO9NvhGFSqFpuHuH8YrzUltFS5idzeoHGfV0fNhRq9DGbi2GYqRERdIEREBFP7D7Os1OWzCbkdSSvp165E18Ukrrj6MLpnVImxkFsjoo53b3lECF2Gu6BjaDsxqOoM5ynpuoXY+P2WpWszxAt4Ec7DGWbwPVnPBBEosjUaM1aUwzwT1p2gEw2Y5IZmgkgF0UzQ8AkHiR1FY6AiIgIiICIiAiIgIiICImUBEWRVoTzMlkjgnljrsD55Io5Hx143HAknexpbCwngHOIGUGOiIgIiICIiAiIgIiICIiAiIgIiICIiAv1jiCCCQQQQR0gg5BHpyvuvA+Q7rGOe7sYCT8eOhS8GzzwN6aRsI80YfJ3A7rfjKC0Uta8Kj53yQ8RhkjT07zQTvfR+X6Fg1bIMjGyNG6+PBbnhxDuzoyMg/kpp0EVeN4YHDfaQXuOXv4HGMDDRk9SjnVZDWEoIO6924PvuByRjp3evjwWHZjUtmubjllwV69Bjp2yOfNukA4wxgIHve0+k9ypV60ZZOs5OfVxUjrmo+EEE+RgDLR0B3WcKI8IY3yW5c9xxk9X0BdRE+Z5lzMx4jw2lyIWC3whnUHxOHrc1wd/ZatsSt3m59HetXcktIxtdngXtac9pz/utnVJOG7/AOcLxuom85mHpaorCEJqFbGTjCi5YcK1X2N/2UFcaM9Krt2iyz0I1i9zHnoQs3V0PIjqUbqXRj08fiKz5X/v/soq7JwJ4qcYRKqbQyBufRn9Srutv368bx1O4/1gpPa6TDXH0KArz70AaeIGWn0Hpae7h8S9Xp8fdiXn7srmYe2i2Qx2DxHScdhGCe79StFN/NStlbxb5OcHgWO4gjtHT8lUeGTdPpHX1H0FS+k6sGeS8F0RzjHvoicEj8jPH0FW7Ncyqw2Uve2WnCWv4W0+9YN7zXtyMYPU8dnZ8aoKstbaXFSes17XRzxlu68cchwIc3q3wesHtVaVnTRMY1LjdU5XAiItCkREQb75INvfAq1TVdVl0+7VoBmj6ZSr1aUuvVX4YDYbIGslipNqmRrsvcZCWDd3nAvwuX3atj7mpVZRr+m6pStwwUq0d0O0U04pP4W2qxkbqxmrbsjQ3fyZIvKADgqZsLWju6JrNFlStLqUAp6lWm5oOvuq1Zdy/DXm98AyJ0cojbxcHT8DwxUecs6habvST3bluWGJr5pHyz2JpCyKJhmmcS9xJjYN49G6OACJXbYra1+ovi0PWJ5bun25GwwW7BM17R7c7tyG5UtSZlMHOOjbJC9xYWZwBgh1F1qhJTsT1ZgBPUnnglaM4EteR8bw0kAlu8w4PWMLaGznJdqJpWWs0W+zaPS9W057HWCxlCSlK2Tgwy/8taEc9fee5riNyZhBIDmmo8sdhk+s3J2ajU1Y2CyR92jA6tUlmdCwPbBE6STLGloG+Hv3+LskkoLdrvJTp2lGo7U9pIqcV+lWsRNio2bFjflaTLzkUMhENWMmPEzjmQl4DW7hJjrnI/dZtAdBbYrvDawuu1F2WVmaZu5dekZvFzAHfY9wE+WQN7dO+Pb3Td6Gzd010M0U7W7LaUwuheyRrZBJfcYyWEgP3XsO704e3tW0tS22oVdqhzl2rHV1LY2pQ8P+w2K1Sy988sTrIdvRGHdxvNeC37JHvYaSUQ0/d2E0+xSuW9I1z6rP0qAWLdaWlPRkNTeLX3ajppHCaJnS5hw5rcEnJa10TyhbHHSINMmNgWPqtpFfUN0R834OZ2h3MZ33c6Ggt8vyc8fJC2TtFFrtKhdfa1nZSpXnoWoN3T49HNrVY5o8Op0xTpNmLJRw3yWbvkuIGMt+dstn27SaRoVqpqekQM0zRIaGoC/aZXfRmrMja58kbmlzoziQjoJAYW7wfkEoWryMuk12nog1Eb13RI9T8IFckRmRs48GERnG/wCXB9s3m8H+94ccXTeSyC5bj06nrtW3dibNLqjm17LNO0qtXa3nZm6hIQy+GyuEY5sN3i4E7gDiNuVtboN270yaO/VfTZshDE20ZYmxkt8Pe1r3F2I5TEWv3DxAcOC0z7nnW6ld9/TrthlKvrmiWdP8Nk4R1J5Y8RvmceDIiHSAuJABDM4GSCGRJybULlW3No2vN1exptd1ixSkpWaU0taM/ZLFIzPdz7W+YBni3jlzQ76h5MqUOladrOoa8yhT1OOZ3Nsp2LVpsscmGRQRQPJmYYw575SGhhDG4eXjFm5PdC8T3XdX1G/pT3u0q1VpUqFplqa/YsuhIcxrGgtqt5puXuHASZIbu8azypXIX7M7JwxzRSSV6ertlYx7HPiJsUmgSsacxkmN+N7Gdx3Ygzte5JNP0uaP6o7TVq1K62N+n2IKdmxLbgkYxxszwRv3aNdhkYN9z3B3EjdwcR7ORy59X7WhvswRR0K5t2NUka4VY9P5tjxaMe9kOPOBvNlww5knlbrS9fvuirsU9bQRFNFMY9k9PY8RPa8xyBjxzbwwnckyD5JweC2ptftLp0202tadJqFWCvr+zlajFqPOMfVgtcxKY2zysdusjc2wSSSB5LB9+EGudn+SjTtWNl2mbSMtx0aVieZs1CzWsh8bcxc3FPIBLVkcHgyA5jIYC12+CJ2pstoT9imPfrcUTHa61ztW+pNx80dh1AB2mcw13Pvja0l3Oh3NnHRlZXI1siNn7eoy6jqmjssS6DqEUFatcimdIxxiklsSOw0RRjmIwwOw5+/Id0c2VXeT+qzWNj5dCht0oNUg1xl5te7PHX8IqmnHCXQPk4Pc15fkdW4M43m5JQ2mcnVOHT6+p6trTdKrag6bwCGOnPcuXIIiAbboIng16/FruOeEkfEFzQbvyT7MwR1dqqEGr0LdWbRdOeNVbvxVYoZTqBe+3G7L68kTWvc+PLiAG9ZwMLXtGbtRpGjMpXtNi1DQqJ027QuWYoH4r81Gy3Wfksnrv5gu32ktIkbxy0hY+x1GvpOnbWUXapp1yR+h0QJKcwdA+y591slSvI/d8KfG58TS5gxmVowDkAhXNW5PKT9Is6tpWtjVmaY+Bt6CSlYoyxMsO3WWIW2Hl0kWSeBA4RyccsLVrpbP5J70MWzu1cck0Uck1LSREx72NfM4WLgIiY45kIL2ZDc4329q1ggIiICIiAiIgIiICIiAiIgIiICntmaFd7HSzZduv3Q3OG+9ByccT09qgV7QSvxzbc4cc/qH+iC3nVGgc3C1rGDzAAPm6V4sIPluO+7qbngPX2n0KMdiJgaPfEcSvnSZ3OcYz1nIJ7ESn4qznsdKc9GG+n1epQ+p3mwxCFhyQ0hzh68kA9nSpC7dPN8209WC89nYwdiqWonJwBw/fiquzm5d93FQhL0mXE9pWXsrS5+w0EcN4LFuM446z1K9clWjmSYHHX09ip359uC3Rh3ZfRtXZWkIwAOHk4+f5+hWfmxnq4dXr7V4aZQwpcw+TnHR3rwZ5esjrsAI+JQU1Xj/AOOKnrRA4LFFfe4qBDmEAZKwLbuzpU7dh4dHeoObpOBkqbEdZdkKG1J+BjrVglgJHQoDU4OPR09f79Cuwhzkou2TsRjtc7HdxP6vnVXhfgFvU79YUzttY3rHNjoiaG/1nDed+to+JQeF7OjGsYeRuyvOX1lfTeC+QvoK5UyabvKHpUio2r78etSS6hAiIugREQZejanPSsRW60z69qvIJIZ4yA+N4BGRkEEFpc0tcC1zXOaQQSDcpdqdEuu5+7oc9W4XB8ljQbbasM8ucl/gFqCWKq4nBJhcASScAqhIg3/yU8rjxZOkU21tIp2oNRc2/rV61emi1E05HVrU1q29sEcRmiiDoGxbpMjiCXE72n9rdo2346zPqbpVGWq2dss+mV46ovOlewiSeOECPLAzDd0AfZH4wCGiAREvwBAF+oiH4GgdQCFo6cDK/UQfmB2L9REH4GgdAA9SYX6iCa0rZPULVc2oKcssA54h7ebDpeYbvTGCJzhJa3B74xNdu4OcYXm3Zi8aZ1AVJfAxG6QzeR9obJzbrAi3uddWEh3TMG7gIILuBV75O9ptLpN06SWWOGSqLjLQkoOuXHSWZLTWTU7kjiyjTbDPAXMgDJd6GfyZDLvKD1K/p01eCZ166yetoVXSzRqxuifO+pXbULnW35i+pk8TTK+Jw3yZHs3eO8ghNU2O1CpC2aahNFG58TOhjnslnaXQxzQRuMteV4B3WSNa52OAKkNU5P79an4RPXljmdqVShFUDGyyTzWoLsha10Mjt2yx1RkZrlu/myzO7wDr0NuNKqyWJ4JIZWnVtG1CvVj090M74NM1EzurXtSmc+e5qBikH2SV7ot6F7g/Mm6IvZrafS9HdG6K3Z1LGvwX3g1nxFtP6m6xTc7E78Sagx2oRvcODHFjA154loU2xsTqTZ4qrqEzp7DJ3wxx83LzwrMc+cRPhc5kkkbWkuYDvNyAQC4A+t/YTVYInzyUJWwwwundKHQOYYI270k8JjkPhETG8Xui3gwZ3t1WkbXU60bKsU1d8ba+vOL9O0/6n1W2dQ0ObT6wbE7M8k7nlnOSHdY1oiA390uUZo201WJ2mFznhtLZ/XKMuGE7trUPGDmWsH3zD9UauXDgMuz71BV7WgW4pLEb60jJKMTJbLXbv/LxSOgax7znG642a4GCc863GVHLY+22o83oVBj45odS1StTZcbM1zHSafoMlqDT5y2TD92w2SA75HlfUppBIIzrhAREQEREBERAREQEREBERAREQFI6KweU/GSOju/3Ucs/TpCGEDo3s/MEHvYYSS5xDQejPSfiCyKkYHlAeV1HsWIwZOSs6N2BhEvmcHB9SiLjg0H1KUtP4KvavNgKJIfuhUfCHTSHe3Y2gDdBPlvcAN7hwbje4+pdCckWgsZW5wgbxwPmytecnmg7ulyTSEw86+PcO80eEOcT9ic0jOABn0kehb12G07m6g6sn9XBeR1eXdNPT6SKxtIx1QOGPjXpJBgZws5sWOBX3IzqwsNNaoXq5LvjXtWpcFOWKYLs/qX3BXAHRlRGIqGtQbreA4noCh4tJJy53R2dfetiSUW+/fjPUOxRdyBqdsinWaOBwCq2vwthjkmf72JjnH0ho6B6SeHxrZMsIcFqjl3vCGvFVbwdYeXvx8FERgH1vLfkFW6MJyziHGzKMcZlpi5KZHukPvnuc4+txyf1rxwvtwXyV7zxH6wr6XnlfEs2728UQzqp8tvrUmoChYLpWDHAn/QqfXWKRERdIEVM8a5/Mh7n+2njXP5kPc/21CaXNFTPGufzIe5/tp41z+ZD3P8AbQpc0VM8a5/Mh7n+2njXP5kPc/20KXNFTPGufzIe5/tp41z+ZD3P9tClzRUzxrn8yHuf7aeNc/mQ9z/bQpc0VM8a5/Mh7n+2njXP5kPc/wBtClzRUzxrn8yHuf7aeNc/mQ9z/bQpc0VM8a5/Mh7n+2njXP5kPc/20KXNFTPGufzIe5/tp41z+ZD3P9tClzRUzxrn8yHuf7aeNc/mQ9z/AG0KXRxJOSSTgDJ4nAAAGT1AAD1AL8VM8a5/Mh7n+2njXP5kPc/20KXNFTPGufzIe5/tp41z+ZD3P9tClzRUzxrn8yHuf7aeNc/mQ9z/AG0KXNFTPGufzIe5/tp41z+ZD3P9tClzRUzxrn8yHuf7aeNc/mQ9z/bQpc0VM8a5/Mh7n+2njXP5kPc/20KXNFTPGufzIe5/tp41z+ZD3P8AbQpc0VM8a5/Mh7n+2njXP5kPc/20KXNZdJ3kkZ++/wBAqD41z+ZD3P8AbTxrn8yHuf7aFNkxkdo7wsgSNx74d4WrvGqfzIfkv9tPGufzIe5/toU2PdlGOBHBQXMmedsfQC7i53BoHWSeoKq+Nc/mQ/Jf7aeNc/mQ9z/bUTA7I2X06tX0KYOkrRP3Y8l0sJ594bE0PjYHktbnyQDg8OhX/Tp6sULGeE1uDRn7LF09f33av57eNE3wcHyX+2njPN8FX+S/21l2dLGU3f2aNe+cIqn9EDqNbP8ACa352L2l4v1Gsf8A7zX/ADsXtL+evjPN8FX+S/208Z5vg6/yX+2q/YI/N9lvtk+n3f0DfqNf8Jr/AJ2L2l8s1Kv+E1+H/qxe0v5/eNE3wcHyX+2njRN8HB8l/tqPYI/N9k+2z6ff/jvW/qkH4VB6hLH+veUXPqcJ/wC/B+cj/VvLh7xom+Dg+S/208aJvg4Pkv8AbT2CPzfYnrZ9Pu7Xfbh4nn4fVzkftLnfla1PwvU5nA70cOIWFvEER53iD15kc/5lrHxom+Dg+S/21++Nc/mQ9z/bVunpY1zd2q3dROyKqk25p7D3FebmO7D3FRHjXP5kPyX+2njXP5kPc/21ppmpKmN3mnuK+hET0tPxgqI8a5/Mh7n+2njXY8yHuf7aUUm6lXdka4dGeg54cD14UwqZ41z+ZD8l/tp41z+ZD3P9tTBS5oqZ41z+ZD3P9tPGufzIe5/tqSkAiIoSIiICIiAiIgIiICIiAiIgIiICIiAiIgIiICIiAiIgIiICIiAiIgIiICIiAiIgIiICIiAiIgIiICIiAiIgIiICIiAiIgIiICIiAiIgIiICIiAiIgIiICIiAiIgIiICIiAiIgIiICIiAiIgIiICIiAiIgIiICIiAiIgIiICIiAiIgIiICIiAiIgIiICIiAiIgIiICIiAiIgIiICIiAiIgIiICIiAiIgIiICIiAiIgIiICIiAiIgIiICIiAiIgIiICIiAiIgIiICIiAiIgIiICIiAiIgIiICIiAiIgIiICIiD//Z\n"
              }
            ],
            "_view_module": "@jupyter-widgets/output",
            "_model_module_version": "1.0.0",
            "_view_count": null,
            "_view_module_version": "1.0.0",
            "layout": "IPY_MODEL_44e355ee4a9040d19e362405e36ca203",
            "_model_module": "@jupyter-widgets/output"
          }
        },
        "ce01cd532c6d4d40a5bf34261f177da7": {
          "model_module": "@jupyter-widgets/output",
          "model_name": "OutputModel",
          "state": {
            "_view_name": "OutputView",
            "msg_id": "",
            "_dom_classes": [],
            "_model_name": "OutputModel",
            "outputs": [
              {
                "output_type": "stream",
                "metadata": {
                  "tags": []
                },
                "text": "Video available at https://www.bilibili.com/video/\n",
                "stream": "stdout"
              },
              {
                "output_type": "display_data",
                "metadata": {
                  "tags": []
                },
                "text/html": "\n        <iframe\n            width=\"854\"\n            height=\"480\"\n            src=\"https://player.bilibili.com/player.html?bvid=&page=1?fs=1\"\n            frameborder=\"0\"\n            allowfullscreen\n        ></iframe>\n        ",
                "text/plain": "<__main__.BiliVideo at 0x7f212f041850>"
              }
            ],
            "_view_module": "@jupyter-widgets/output",
            "_model_module_version": "1.0.0",
            "_view_count": null,
            "_view_module_version": "1.0.0",
            "layout": "IPY_MODEL_7d4a9d3515d24349bf7ba643a3e81456",
            "_model_module": "@jupyter-widgets/output"
          }
        },
        "44e355ee4a9040d19e362405e36ca203": {
          "model_module": "@jupyter-widgets/base",
          "model_name": "LayoutModel",
          "state": {
            "_view_name": "LayoutView",
            "grid_template_rows": null,
            "right": null,
            "justify_content": null,
            "_view_module": "@jupyter-widgets/base",
            "overflow": null,
            "_model_module_version": "1.2.0",
            "_view_count": null,
            "flex_flow": null,
            "width": null,
            "min_width": null,
            "border": null,
            "align_items": null,
            "bottom": null,
            "_model_module": "@jupyter-widgets/base",
            "top": null,
            "grid_column": null,
            "overflow_y": null,
            "overflow_x": null,
            "grid_auto_flow": null,
            "grid_area": null,
            "grid_template_columns": null,
            "flex": null,
            "_model_name": "LayoutModel",
            "justify_items": null,
            "grid_row": null,
            "max_height": null,
            "align_content": null,
            "visibility": null,
            "align_self": null,
            "height": null,
            "min_height": null,
            "padding": null,
            "grid_auto_rows": null,
            "grid_gap": null,
            "max_width": null,
            "order": null,
            "_view_module_version": "1.2.0",
            "grid_template_areas": null,
            "object_position": null,
            "object_fit": null,
            "grid_auto_columns": null,
            "margin": null,
            "display": null,
            "left": null
          }
        },
        "7d4a9d3515d24349bf7ba643a3e81456": {
          "model_module": "@jupyter-widgets/base",
          "model_name": "LayoutModel",
          "state": {
            "_view_name": "LayoutView",
            "grid_template_rows": null,
            "right": null,
            "justify_content": null,
            "_view_module": "@jupyter-widgets/base",
            "overflow": null,
            "_model_module_version": "1.2.0",
            "_view_count": null,
            "flex_flow": null,
            "width": null,
            "min_width": null,
            "border": null,
            "align_items": null,
            "bottom": null,
            "_model_module": "@jupyter-widgets/base",
            "top": null,
            "grid_column": null,
            "overflow_y": null,
            "overflow_x": null,
            "grid_auto_flow": null,
            "grid_area": null,
            "grid_template_columns": null,
            "flex": null,
            "_model_name": "LayoutModel",
            "justify_items": null,
            "grid_row": null,
            "max_height": null,
            "align_content": null,
            "visibility": null,
            "align_self": null,
            "height": null,
            "min_height": null,
            "padding": null,
            "grid_auto_rows": null,
            "grid_gap": null,
            "max_width": null,
            "order": null,
            "_view_module_version": "1.2.0",
            "grid_template_areas": null,
            "object_position": null,
            "object_fit": null,
            "grid_auto_columns": null,
            "margin": null,
            "display": null,
            "left": null
          }
        },
        "fd0e81ce79714842950e6b19020e84e0": {
          "model_module": "@jupyter-widgets/controls",
          "model_name": "VBoxModel",
          "state": {
            "_view_name": "VBoxView",
            "_dom_classes": [
              "widget-interact"
            ],
            "_model_name": "VBoxModel",
            "_view_module": "@jupyter-widgets/controls",
            "_model_module_version": "1.5.0",
            "_view_count": null,
            "_view_module_version": "1.5.0",
            "box_style": "",
            "layout": "IPY_MODEL_be327830b392458db11a7337dbb39d4f",
            "_model_module": "@jupyter-widgets/controls",
            "children": [
              "IPY_MODEL_15d34b3758a34a1c95d5d6461ac684ec",
              "IPY_MODEL_e646e386ba1a4528a77e9d2c1af92e2a",
              "IPY_MODEL_3f01204d5b4e46059d64e1d6bf6bd962"
            ]
          }
        },
        "be327830b392458db11a7337dbb39d4f": {
          "model_module": "@jupyter-widgets/base",
          "model_name": "LayoutModel",
          "state": {
            "_view_name": "LayoutView",
            "grid_template_rows": null,
            "right": null,
            "justify_content": null,
            "_view_module": "@jupyter-widgets/base",
            "overflow": null,
            "_model_module_version": "1.2.0",
            "_view_count": null,
            "flex_flow": null,
            "width": null,
            "min_width": null,
            "border": null,
            "align_items": null,
            "bottom": null,
            "_model_module": "@jupyter-widgets/base",
            "top": null,
            "grid_column": null,
            "overflow_y": null,
            "overflow_x": null,
            "grid_auto_flow": null,
            "grid_area": null,
            "grid_template_columns": null,
            "flex": null,
            "_model_name": "LayoutModel",
            "justify_items": null,
            "grid_row": null,
            "max_height": null,
            "align_content": null,
            "visibility": null,
            "align_self": null,
            "height": null,
            "min_height": null,
            "padding": null,
            "grid_auto_rows": null,
            "grid_gap": null,
            "max_width": null,
            "order": null,
            "_view_module_version": "1.2.0",
            "grid_template_areas": null,
            "object_position": null,
            "object_fit": null,
            "grid_auto_columns": null,
            "margin": null,
            "display": null,
            "left": null
          }
        },
        "15d34b3758a34a1c95d5d6461ac684ec": {
          "model_module": "@jupyter-widgets/controls",
          "model_name": "FloatSliderModel",
          "state": {
            "_view_name": "FloatSliderView",
            "style": "IPY_MODEL_9065f640bd5944f1aa68ea5d4d04e592",
            "_dom_classes": [],
            "description": "w",
            "step": 0.2,
            "_model_name": "FloatSliderModel",
            "orientation": "horizontal",
            "max": 7,
            "_view_module": "@jupyter-widgets/controls",
            "_model_module_version": "1.5.0",
            "value": 4,
            "_view_count": null,
            "disabled": false,
            "_view_module_version": "1.5.0",
            "min": 1,
            "continuous_update": true,
            "readout_format": ".2f",
            "description_tooltip": null,
            "readout": true,
            "_model_module": "@jupyter-widgets/controls",
            "layout": "IPY_MODEL_1f5501ce13f64e7f95a92c53129b6e7e"
          }
        },
        "e646e386ba1a4528a77e9d2c1af92e2a": {
          "model_module": "@jupyter-widgets/controls",
          "model_name": "FloatSliderModel",
          "state": {
            "_view_name": "FloatSliderView",
            "style": "IPY_MODEL_5ebe545fc15d4cc380adb8fba7971882",
            "_dom_classes": [],
            "description": "I_ext",
            "step": 0.1,
            "_model_name": "FloatSliderModel",
            "orientation": "horizontal",
            "max": 3,
            "_view_module": "@jupyter-widgets/controls",
            "_model_module_version": "1.5.0",
            "value": 1,
            "_view_count": null,
            "disabled": false,
            "_view_module_version": "1.5.0",
            "min": 0,
            "continuous_update": true,
            "readout_format": ".2f",
            "description_tooltip": null,
            "readout": true,
            "_model_module": "@jupyter-widgets/controls",
            "layout": "IPY_MODEL_d968a61764104298bde85df71fd95586"
          }
        },
        "3f01204d5b4e46059d64e1d6bf6bd962": {
          "model_module": "@jupyter-widgets/output",
          "model_name": "OutputModel",
          "state": {
            "_view_name": "OutputView",
            "msg_id": "",
            "_dom_classes": [],
            "_model_name": "OutputModel",
            "outputs": [
              {
                "output_type": "display_data",
                "metadata": {
                  "tags": [],
                  "image/png": {
                    "width": 558,
                    "height": 413
                  },
                  "needs_background": "light"
                },
                "image/png": "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\n",
                "text/plain": "<Figure size 576x432 with 1 Axes>"
              }
            ],
            "_view_module": "@jupyter-widgets/output",
            "_model_module_version": "1.0.0",
            "_view_count": null,
            "_view_module_version": "1.0.0",
            "layout": "IPY_MODEL_05bedfd473a14b85a5646cf26dc06e47",
            "_model_module": "@jupyter-widgets/output"
          }
        },
        "9065f640bd5944f1aa68ea5d4d04e592": {
          "model_module": "@jupyter-widgets/controls",
          "model_name": "SliderStyleModel",
          "state": {
            "_view_name": "StyleView",
            "handle_color": null,
            "_model_name": "SliderStyleModel",
            "description_width": "",
            "_view_module": "@jupyter-widgets/base",
            "_model_module_version": "1.5.0",
            "_view_count": null,
            "_view_module_version": "1.2.0",
            "_model_module": "@jupyter-widgets/controls"
          }
        },
        "1f5501ce13f64e7f95a92c53129b6e7e": {
          "model_module": "@jupyter-widgets/base",
          "model_name": "LayoutModel",
          "state": {
            "_view_name": "LayoutView",
            "grid_template_rows": null,
            "right": null,
            "justify_content": null,
            "_view_module": "@jupyter-widgets/base",
            "overflow": null,
            "_model_module_version": "1.2.0",
            "_view_count": null,
            "flex_flow": null,
            "width": null,
            "min_width": null,
            "border": null,
            "align_items": null,
            "bottom": null,
            "_model_module": "@jupyter-widgets/base",
            "top": null,
            "grid_column": null,
            "overflow_y": null,
            "overflow_x": null,
            "grid_auto_flow": null,
            "grid_area": null,
            "grid_template_columns": null,
            "flex": null,
            "_model_name": "LayoutModel",
            "justify_items": null,
            "grid_row": null,
            "max_height": null,
            "align_content": null,
            "visibility": null,
            "align_self": null,
            "height": null,
            "min_height": null,
            "padding": null,
            "grid_auto_rows": null,
            "grid_gap": null,
            "max_width": null,
            "order": null,
            "_view_module_version": "1.2.0",
            "grid_template_areas": null,
            "object_position": null,
            "object_fit": null,
            "grid_auto_columns": null,
            "margin": null,
            "display": null,
            "left": null
          }
        },
        "5ebe545fc15d4cc380adb8fba7971882": {
          "model_module": "@jupyter-widgets/controls",
          "model_name": "SliderStyleModel",
          "state": {
            "_view_name": "StyleView",
            "handle_color": null,
            "_model_name": "SliderStyleModel",
            "description_width": "",
            "_view_module": "@jupyter-widgets/base",
            "_model_module_version": "1.5.0",
            "_view_count": null,
            "_view_module_version": "1.2.0",
            "_model_module": "@jupyter-widgets/controls"
          }
        },
        "d968a61764104298bde85df71fd95586": {
          "model_module": "@jupyter-widgets/base",
          "model_name": "LayoutModel",
          "state": {
            "_view_name": "LayoutView",
            "grid_template_rows": null,
            "right": null,
            "justify_content": null,
            "_view_module": "@jupyter-widgets/base",
            "overflow": null,
            "_model_module_version": "1.2.0",
            "_view_count": null,
            "flex_flow": null,
            "width": null,
            "min_width": null,
            "border": null,
            "align_items": null,
            "bottom": null,
            "_model_module": "@jupyter-widgets/base",
            "top": null,
            "grid_column": null,
            "overflow_y": null,
            "overflow_x": null,
            "grid_auto_flow": null,
            "grid_area": null,
            "grid_template_columns": null,
            "flex": null,
            "_model_name": "LayoutModel",
            "justify_items": null,
            "grid_row": null,
            "max_height": null,
            "align_content": null,
            "visibility": null,
            "align_self": null,
            "height": null,
            "min_height": null,
            "padding": null,
            "grid_auto_rows": null,
            "grid_gap": null,
            "max_width": null,
            "order": null,
            "_view_module_version": "1.2.0",
            "grid_template_areas": null,
            "object_position": null,
            "object_fit": null,
            "grid_auto_columns": null,
            "margin": null,
            "display": null,
            "left": null
          }
        },
        "05bedfd473a14b85a5646cf26dc06e47": {
          "model_module": "@jupyter-widgets/base",
          "model_name": "LayoutModel",
          "state": {
            "_view_name": "LayoutView",
            "grid_template_rows": null,
            "right": null,
            "justify_content": null,
            "_view_module": "@jupyter-widgets/base",
            "overflow": null,
            "_model_module_version": "1.2.0",
            "_view_count": null,
            "flex_flow": null,
            "width": null,
            "min_width": null,
            "border": null,
            "align_items": null,
            "bottom": null,
            "_model_module": "@jupyter-widgets/base",
            "top": null,
            "grid_column": null,
            "overflow_y": null,
            "overflow_x": null,
            "grid_auto_flow": null,
            "grid_area": null,
            "grid_template_columns": null,
            "flex": null,
            "_model_name": "LayoutModel",
            "justify_items": null,
            "grid_row": null,
            "max_height": null,
            "align_content": null,
            "visibility": null,
            "align_self": null,
            "height": null,
            "min_height": null,
            "padding": null,
            "grid_auto_rows": null,
            "grid_gap": null,
            "max_width": null,
            "order": null,
            "_view_module_version": "1.2.0",
            "grid_template_areas": null,
            "object_position": null,
            "object_fit": null,
            "grid_auto_columns": null,
            "margin": null,
            "display": null,
            "left": null
          }
        },
        "a74382101a35404db8deddcc0478654e": {
          "model_module": "@jupyter-widgets/controls",
          "model_name": "TabModel",
          "state": {
            "_view_name": "TabView",
            "_dom_classes": [],
            "_titles": {
              "0": "Youtube",
              "1": "Bilibili"
            },
            "_model_name": "TabModel",
            "_view_module": "@jupyter-widgets/controls",
            "selected_index": 0,
            "_model_module_version": "1.5.0",
            "_view_count": null,
            "_view_module_version": "1.5.0",
            "box_style": "",
            "layout": "IPY_MODEL_73e9f4320705457ea3b3127d514e21c3",
            "_model_module": "@jupyter-widgets/controls",
            "children": [
              "IPY_MODEL_83c350fd85a94c9094a1647a16e1b43f",
              "IPY_MODEL_3e9b7854639e4d37a13d2b2e8efd9999"
            ]
          }
        },
        "73e9f4320705457ea3b3127d514e21c3": {
          "model_module": "@jupyter-widgets/base",
          "model_name": "LayoutModel",
          "state": {
            "_view_name": "LayoutView",
            "grid_template_rows": null,
            "right": null,
            "justify_content": null,
            "_view_module": "@jupyter-widgets/base",
            "overflow": null,
            "_model_module_version": "1.2.0",
            "_view_count": null,
            "flex_flow": null,
            "width": null,
            "min_width": null,
            "border": null,
            "align_items": null,
            "bottom": null,
            "_model_module": "@jupyter-widgets/base",
            "top": null,
            "grid_column": null,
            "overflow_y": null,
            "overflow_x": null,
            "grid_auto_flow": null,
            "grid_area": null,
            "grid_template_columns": null,
            "flex": null,
            "_model_name": "LayoutModel",
            "justify_items": null,
            "grid_row": null,
            "max_height": null,
            "align_content": null,
            "visibility": null,
            "align_self": null,
            "height": null,
            "min_height": null,
            "padding": null,
            "grid_auto_rows": null,
            "grid_gap": null,
            "max_width": null,
            "order": null,
            "_view_module_version": "1.2.0",
            "grid_template_areas": null,
            "object_position": null,
            "object_fit": null,
            "grid_auto_columns": null,
            "margin": null,
            "display": null,
            "left": null
          }
        },
        "83c350fd85a94c9094a1647a16e1b43f": {
          "model_module": "@jupyter-widgets/output",
          "model_name": "OutputModel",
          "state": {
            "_view_name": "OutputView",
            "msg_id": "",
            "_dom_classes": [],
            "_model_name": "OutputModel",
            "outputs": [
              {
                "output_type": "stream",
                "metadata": {
                  "tags": []
                },
                "text": "Video available at https://youtube.com/watch?v=KKMlWWU83Jg\n",
                "stream": "stdout"
              },
              {
                "output_type": "display_data",
                "metadata": {
                  "tags": []
                },
                "text/html": "\n        <iframe\n            width=\"854\"\n            height=\"480\"\n            src=\"https://www.youtube.com/embed/KKMlWWU83Jg?fs=1&rel=0\"\n            frameborder=\"0\"\n            allowfullscreen\n        ></iframe>\n        ",
                "text/plain": "<IPython.lib.display.YouTubeVideo at 0x7f212ee11390>",
                "image/jpeg": "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\n"
              }
            ],
            "_view_module": "@jupyter-widgets/output",
            "_model_module_version": "1.0.0",
            "_view_count": null,
            "_view_module_version": "1.0.0",
            "layout": "IPY_MODEL_a260dd67f324426aa5113602f678e1cc",
            "_model_module": "@jupyter-widgets/output"
          }
        },
        "3e9b7854639e4d37a13d2b2e8efd9999": {
          "model_module": "@jupyter-widgets/output",
          "model_name": "OutputModel",
          "state": {
            "_view_name": "OutputView",
            "msg_id": "",
            "_dom_classes": [],
            "_model_name": "OutputModel",
            "outputs": [
              {
                "output_type": "stream",
                "metadata": {
                  "tags": []
                },
                "text": "Video available at https://www.bilibili.com/video/\n",
                "stream": "stdout"
              },
              {
                "output_type": "display_data",
                "metadata": {
                  "tags": []
                },
                "text/html": "\n        <iframe\n            width=\"854\"\n            height=\"480\"\n            src=\"https://player.bilibili.com/player.html?bvid=&page=1?fs=1\"\n            frameborder=\"0\"\n            allowfullscreen\n        ></iframe>\n        ",
                "text/plain": "<__main__.BiliVideo at 0x7f212ee115d0>"
              }
            ],
            "_view_module": "@jupyter-widgets/output",
            "_model_module_version": "1.0.0",
            "_view_count": null,
            "_view_module_version": "1.0.0",
            "layout": "IPY_MODEL_e42d84da432c45cd840ed7ff6e4b45d9",
            "_model_module": "@jupyter-widgets/output"
          }
        },
        "a260dd67f324426aa5113602f678e1cc": {
          "model_module": "@jupyter-widgets/base",
          "model_name": "LayoutModel",
          "state": {
            "_view_name": "LayoutView",
            "grid_template_rows": null,
            "right": null,
            "justify_content": null,
            "_view_module": "@jupyter-widgets/base",
            "overflow": null,
            "_model_module_version": "1.2.0",
            "_view_count": null,
            "flex_flow": null,
            "width": null,
            "min_width": null,
            "border": null,
            "align_items": null,
            "bottom": null,
            "_model_module": "@jupyter-widgets/base",
            "top": null,
            "grid_column": null,
            "overflow_y": null,
            "overflow_x": null,
            "grid_auto_flow": null,
            "grid_area": null,
            "grid_template_columns": null,
            "flex": null,
            "_model_name": "LayoutModel",
            "justify_items": null,
            "grid_row": null,
            "max_height": null,
            "align_content": null,
            "visibility": null,
            "align_self": null,
            "height": null,
            "min_height": null,
            "padding": null,
            "grid_auto_rows": null,
            "grid_gap": null,
            "max_width": null,
            "order": null,
            "_view_module_version": "1.2.0",
            "grid_template_areas": null,
            "object_position": null,
            "object_fit": null,
            "grid_auto_columns": null,
            "margin": null,
            "display": null,
            "left": null
          }
        },
        "e42d84da432c45cd840ed7ff6e4b45d9": {
          "model_module": "@jupyter-widgets/base",
          "model_name": "LayoutModel",
          "state": {
            "_view_name": "LayoutView",
            "grid_template_rows": null,
            "right": null,
            "justify_content": null,
            "_view_module": "@jupyter-widgets/base",
            "overflow": null,
            "_model_module_version": "1.2.0",
            "_view_count": null,
            "flex_flow": null,
            "width": null,
            "min_width": null,
            "border": null,
            "align_items": null,
            "bottom": null,
            "_model_module": "@jupyter-widgets/base",
            "top": null,
            "grid_column": null,
            "overflow_y": null,
            "overflow_x": null,
            "grid_auto_flow": null,
            "grid_area": null,
            "grid_template_columns": null,
            "flex": null,
            "_model_name": "LayoutModel",
            "justify_items": null,
            "grid_row": null,
            "max_height": null,
            "align_content": null,
            "visibility": null,
            "align_self": null,
            "height": null,
            "min_height": null,
            "padding": null,
            "grid_auto_rows": null,
            "grid_gap": null,
            "max_width": null,
            "order": null,
            "_view_module_version": "1.2.0",
            "grid_template_areas": null,
            "object_position": null,
            "object_fit": null,
            "grid_auto_columns": null,
            "margin": null,
            "display": null,
            "left": null
          }
        }
      }
    }
  },
  "cells": [
    {
      "cell_type": "markdown",
      "metadata": {
        "id": "view-in-github",
        "colab_type": "text"
      },
      "source": [
        "<a href=\"https://colab.research.google.com/github/astha736/Neuromatch-TA/blob/master/W2D4/W2D4_Tutorial1.ipynb\" target=\"_parent\"><img src=\"https://colab.research.google.com/assets/colab-badge.svg\" alt=\"Open In Colab\"/></a>"
      ]
    },
    {
      "cell_type": "markdown",
      "metadata": {
        "id": "vGeVGJNoul7V"
      },
      "source": [
        "# Tutorial 1: Neural Rate Models\n",
        "**Week 2, Day 4: Dynamic Networks**\n",
        "\n",
        "**By Neuromatch Academy**\n",
        "\n",
        "__Content creators:__ Qinglong Gu, Songtin Li, Arvind Kumar, John Murray, Julijana Gjorgjieva \n",
        "\n",
        "__Content reviewers:__  Maryam Vaziri-Pashkam, Ella Batty, Lorenzo Fontolan, Richard Gao, Spiros Chavlis, Michael Waskom\n"
      ]
    },
    {
      "cell_type": "markdown",
      "metadata": {
        "id": "iujUwve1ul7X"
      },
      "source": [
        "**Our 2021 Sponsors, including Presenting Sponsor Facebook Reality Labs**\n",
        "\n",
        "<p align='center'><img src='https://github.com/NeuromatchAcademy/widgets/blob/master/sponsors.png?raw=True'/></p>"
      ]
    },
    {
      "cell_type": "markdown",
      "metadata": {
        "id": "JQLnibdmul7X"
      },
      "source": [
        "---\n",
        "# Tutorial Objectives\n",
        "\n",
        "The brain is a complex system, not because it is composed of a large number of diverse types of neurons, but mainly because of how neurons are connected to each other. The brain is indeed a network of highly specialized neuronal networks. \n",
        "\n",
        "The activity of a neural network constantly evolves in time. For this reason, neurons can be modeled as dynamical systems. The dynamical system approach is only one of the many modeling approaches that computational neuroscientists have developed (other points of view include information processing,  statistical models, etc.). \n",
        "\n",
        "How the dynamics of neuronal networks affect the representation and processing of information in the brain is an open question. However, signatures of altered brain dynamics present in many brain diseases (e.g., in epilepsy or Parkinson's disease) tell us that it is crucial to study network activity dynamics if we want to understand the brain.\n",
        "\n",
        "In this tutorial, we will simulate and study one of the simplest models of biological neuronal networks. Instead of modeling and simulating individual excitatory neurons (e.g., LIF models that you implemented yesterday), we will treat them as a single homogeneous population and approximate their dynamics using a single one-dimensional equation describing the evolution of their average spiking rate in time.\n",
        "\n",
        "In this tutorial, we will learn how to build a firing rate model of a single population of excitatory neurons. \n",
        "\n",
        "**Steps:**\n",
        "- Write the equation for the firing rate dynamics of a 1D excitatory population.\n",
        "- Visualize the response of the population as a function of parameters such as threshold level and gain, using the frequency-current (F-I) curve.\n",
        "- Numerically simulate the dynamics of the excitatory population and find the fixed points of the system. \n",
        "- Investigate the stability of the fixed points by linearizing the dynamics around them.\n",
        " \n"
      ]
    },
    {
      "cell_type": "markdown",
      "metadata": {
        "id": "1_eswVjDul7Y"
      },
      "source": [
        "---\n",
        "# Setup"
      ]
    },
    {
      "cell_type": "code",
      "metadata": {
        "cellView": "both",
        "execution": {
          "iopub.execute_input": "2021-06-25T15:15:10.187317Z",
          "iopub.status.busy": "2021-06-25T15:15:10.186700Z",
          "iopub.status.idle": "2021-06-25T15:15:10.568400Z",
          "shell.execute_reply": "2021-06-25T15:15:10.568921Z"
        },
        "id": "b7YAMSe0ul7Z"
      },
      "source": [
        "# Imports\n",
        "import matplotlib.pyplot as plt\n",
        "import numpy as np\n",
        "import scipy.optimize as opt       # root-finding algorithm"
      ],
      "execution_count": 1,
      "outputs": []
    },
    {
      "cell_type": "code",
      "metadata": {
        "cellView": "form",
        "execution": {
          "iopub.execute_input": "2021-06-25T15:15:10.572334Z",
          "iopub.status.busy": "2021-06-25T15:15:10.571136Z",
          "iopub.status.idle": "2021-06-25T15:15:10.656719Z",
          "shell.execute_reply": "2021-06-25T15:15:10.656122Z"
        },
        "id": "R4FqMtN8ul7Z"
      },
      "source": [
        "# @title Figure Settings\n",
        "import ipywidgets as widgets       # interactive display\n",
        "%config InlineBackend.figure_format = 'retina'\n",
        "plt.style.use(\"https://raw.githubusercontent.com/NeuromatchAcademy/course-content/master/nma.mplstyle\")"
      ],
      "execution_count": 2,
      "outputs": []
    },
    {
      "cell_type": "code",
      "metadata": {
        "cellView": "form",
        "execution": {
          "iopub.execute_input": "2021-06-25T15:15:10.664479Z",
          "iopub.status.busy": "2021-06-25T15:15:10.663940Z",
          "iopub.status.idle": "2021-06-25T15:15:10.667416Z",
          "shell.execute_reply": "2021-06-25T15:15:10.666963Z"
        },
        "id": "pLF8qSuqul7a"
      },
      "source": [
        "# @title Helper functions\n",
        "\n",
        "\n",
        "def plot_fI(x, f):\n",
        "  plt.figure(figsize=(6, 4))  # plot the figure\n",
        "  plt.plot(x, f, 'k')\n",
        "  plt.xlabel('x (a.u.)', fontsize=14)\n",
        "  plt.ylabel('F(x)', fontsize=14)\n",
        "  plt.show()\n",
        "\n",
        "\n",
        "def plot_dr_r(r, drdt, x_fps=None):\n",
        "  plt.figure()\n",
        "  plt.plot(r, drdt, 'k')\n",
        "  plt.plot(r, 0. * r, 'k--')\n",
        "  if x_fps is not None:\n",
        "    plt.plot(x_fps, np.zeros_like(x_fps), \"ko\", ms=12)\n",
        "  plt.xlabel(r'$r$')\n",
        "  plt.ylabel(r'$\\frac{dr}{dt}$', fontsize=20)\n",
        "  plt.ylim(-0.1, 0.1)\n",
        "\n",
        "\n",
        "def plot_dFdt(x, dFdt):\n",
        "  plt.figure()\n",
        "  plt.plot(x, dFdt, 'r')\n",
        "  plt.xlabel('x (a.u.)', fontsize=14)\n",
        "  plt.ylabel('dF(x)', fontsize=14)\n",
        "  plt.show()"
      ],
      "execution_count": 3,
      "outputs": []
    },
    {
      "cell_type": "markdown",
      "metadata": {
        "id": "rcsaPg7Nul7b"
      },
      "source": [
        "---\n",
        "# Section 1: Neuronal network dynamics"
      ]
    },
    {
      "cell_type": "code",
      "metadata": {
        "cellView": "form",
        "execution": {
          "iopub.execute_input": "2021-06-25T15:15:10.678567Z",
          "iopub.status.busy": "2021-06-25T15:15:10.677994Z",
          "iopub.status.idle": "2021-06-25T15:15:10.756215Z",
          "shell.execute_reply": "2021-06-25T15:15:10.755683Z"
        },
        "id": "SGvZrxFYul7b",
        "outputId": "2a3b345d-ac5f-4bd2-f925-803d4ddc5856",
        "colab": {
          "base_uri": "https://localhost:8080/",
          "height": 580,
          "referenced_widgets": [
            "3959321174bd4669bd471b704459ad65",
            "db8a8f6284db4b7bb099828e92ccb2af",
            "7fd4a54e12274b4caa77c62d6b4ae0de",
            "b0299103addc4498b4be28183d43d9a2",
            "4a8e94a5635f4cf1aa419af39427e6c7",
            "62700793f4bc4786a5f46e458af8af9c"
          ]
        }
      },
      "source": [
        "# @title Video 1: Dynamic networks\n",
        "from ipywidgets import widgets\n",
        "\n",
        "out2 = widgets.Output()\n",
        "with out2:\n",
        "  from IPython.display import IFrame\n",
        "  class BiliVideo(IFrame):\n",
        "      def __init__(self, id, page=1, width=400, height=300, **kwargs):\n",
        "          self.id=id\n",
        "          src = 'https://player.bilibili.com/player.html?bvid={0}&page={1}'.format(id, page)\n",
        "          super(BiliVideo, self).__init__(src, width, height, **kwargs)\n",
        "\n",
        "  video = BiliVideo(id=\"\", width=854, height=480, fs=1)\n",
        "  print('Video available at https://www.bilibili.com/video/{0}'.format(video.id))\n",
        "  display(video)\n",
        "\n",
        "out1 = widgets.Output()\n",
        "with out1:\n",
        "  from IPython.display import YouTubeVideo\n",
        "  video = YouTubeVideo(id=\"p848349hPyw\", width=854, height=480, fs=1, rel=0)\n",
        "  print('Video available at https://youtube.com/watch?v=' + video.id)\n",
        "  display(video)\n",
        "\n",
        "out = widgets.Tab([out1, out2])\n",
        "out.set_title(0, 'Youtube')\n",
        "out.set_title(1, 'Bilibili')\n",
        "\n",
        "display(out)"
      ],
      "execution_count": 4,
      "outputs": [
        {
          "output_type": "display_data",
          "data": {
            "application/vnd.jupyter.widget-view+json": {
              "model_id": "3959321174bd4669bd471b704459ad65",
              "version_minor": 0,
              "version_major": 2
            },
            "text/plain": [
              "Tab(children=(Output(), Output()), _titles={'0': 'Youtube', '1': 'Bilibili'})"
            ]
          },
          "metadata": {
            "tags": []
          }
        }
      ]
    },
    {
      "cell_type": "markdown",
      "metadata": {
        "id": "wenLWWmOul7c"
      },
      "source": [
        "## Section 1.1: Dynamics of a single excitatory population\n",
        "\n",
        "Individual neurons respond by spiking. When we average the spikes of neurons in a population, we can define the average firing activity of the population. In this model, we are interested in how the population-averaged firing varies as a function of time and network parameters. Mathematically, we can describe the firing rate dynamic as:\n",
        "\n",
        "\\begin{align}\n",
        "\\tau \\frac{dr}{dt} &= -r + F(w\\cdot r + I_{\\text{ext}})  \\quad\\qquad (1)\n",
        "\\end{align}\n",
        "\n",
        "$r(t)$ represents the average firing rate of the excitatory population at time $t$, $\\tau$ controls the timescale of the evolution of the average firing rate, $w$ denotes the strength (synaptic weight) of the recurrent input to the population, $I_{\\text{ext}}$ represents the external input, and the transfer function $F(\\cdot)$ (which can be related to f-I curve of individual neurons described in the next sections) represents the population activation function in response to all received inputs.\n",
        "\n",
        "To start building the model, please execute the cell below to initialize the simulation parameters."
      ]
    },
    {
      "cell_type": "code",
      "metadata": {
        "cellView": "form",
        "execution": {
          "iopub.execute_input": "2021-06-25T15:15:10.769768Z",
          "iopub.status.busy": "2021-06-25T15:15:10.768940Z",
          "iopub.status.idle": "2021-06-25T15:15:10.770659Z",
          "shell.execute_reply": "2021-06-25T15:15:10.770309Z"
        },
        "id": "KoJ5Ziliul7d"
      },
      "source": [
        "# @markdown *Execute this cell to set default parameters for a single excitatory population model*\n",
        "\n",
        "\n",
        "def default_pars_single(**kwargs):\n",
        "  pars = {}\n",
        "\n",
        "  # Excitatory parameters\n",
        "  pars['tau'] = 1.     # Timescale of the E population [ms]\n",
        "  pars['a'] = 1.2      # Gain of the E population\n",
        "  pars['theta'] = 2.8  # Threshold of the E population\n",
        "\n",
        "  # Connection strength\n",
        "  pars['w'] = 0.  # E to E, we first set it to 0\n",
        "\n",
        "  # External input\n",
        "  pars['I_ext'] = 0.\n",
        "\n",
        "  # simulation parameters\n",
        "  pars['T'] = 20.       # Total duration of simulation [ms]\n",
        "  pars['dt'] = .1       # Simulation time step [ms]\n",
        "  pars['r_init'] = 0.2  # Initial value of E\n",
        "\n",
        "  # External parameters if any\n",
        "  pars.update(kwargs)\n",
        "\n",
        "  # Vector of discretized time points [ms]\n",
        "  pars['range_t'] = np.arange(0, pars['T'], pars['dt'])\n",
        "\n",
        "  return pars"
      ],
      "execution_count": 5,
      "outputs": []
    },
    {
      "cell_type": "markdown",
      "metadata": {
        "id": "OVkUkm03ul7f"
      },
      "source": [
        "You can now use:\n",
        "- `pars = default_pars_single()` to get all the parameters, and then you can execute `print(pars)` to check these parameters. \n",
        "- `pars = default_pars_single(T=T_sim, dt=time_step)` to set new simulation time and time step\n",
        "- To update an existing parameter dictionary, use `pars['New_para'] = value`\n",
        "\n",
        "Because `pars` is a dictionary, it can be passed to a function that requires individual parameters as arguments using `my_func(**pars)` syntax."
      ]
    },
    {
      "cell_type": "markdown",
      "metadata": {
        "id": "nnHbAaWCul7f"
      },
      "source": [
        "## Section 1.2: F-I curves\n",
        "In electrophysiology, a neuron is often characterized by its spike rate output in response to input currents. This is often called the **F-I** curve, denoting the output spike frequency (**F**) in response to different injected currents (**I**). We estimated this for an LIF neuron in yesterday's tutorial.\n",
        "\n",
        "The transfer function $F(\\cdot)$ in Equation $1$ represents the gain of the population as a function of the total input. The gain is often modeled as a sigmoidal function, i.e., more input drive leads to a nonlinear increase in the population firing rate. The output firing rate will eventually saturate for high input values. \n",
        "\n",
        "A sigmoidal $F(\\cdot)$ is parameterized by its gain $a$ and threshold $\\theta$.\n",
        "\n",
        "$$ F(x;a,\\theta) = \\frac{1}{1+\\text{e}^{-a(x-\\theta)}} - \\frac{1}{1+\\text{e}^{a\\theta}}  \\quad(2)$$\n",
        "\n",
        "The argument $x$ represents the input to the population. Note that the second term is chosen so that $F(0;a,\\theta)=0$.\n",
        "\n",
        "Many other transfer functions (generally monotonic) can be also used. Examples are the rectified linear function $ReLU(x)$ or the hyperbolic tangent $tanh(x)$."
      ]
    },
    {
      "cell_type": "markdown",
      "metadata": {
        "id": "SdAQn7qBul7g"
      },
      "source": [
        "### Exercise 1: Implement F-I curve \n",
        "\n",
        "Let's first investigate the activation functions before simulating the dynamics of the entire population. \n",
        "\n",
        "In this exercise, you will implement a sigmoidal **F-I** curve or transfer function $F(x)$, with gain $a$ and threshold level $\\theta$ as parameters."
      ]
    },
    {
      "cell_type": "code",
      "metadata": {
        "execution": {
          "iopub.execute_input": "2021-06-25T15:15:10.775579Z",
          "iopub.status.busy": "2021-06-25T15:15:10.774568Z",
          "iopub.status.idle": "2021-06-25T15:15:10.776252Z",
          "shell.execute_reply": "2021-06-25T15:15:10.776744Z"
        },
        "id": "OyjnZy6qul7g",
        "outputId": "b5ddd87f-527a-4693-f94b-db448aa226d6",
        "colab": {
          "base_uri": "https://localhost:8080/",
          "height": 287
        }
      },
      "source": [
        "def F(x, a, theta):\n",
        "  \"\"\"\n",
        "  Population activation function.\n",
        "\n",
        "  Args:\n",
        "    x (float): the population input\n",
        "    a (float): the gain of the function\n",
        "    theta (float): the threshold of the function\n",
        "\n",
        "  Returns:\n",
        "    float: the population activation response F(x) for input x\n",
        "  \"\"\"\n",
        "  #################################################\n",
        "  ## TODO for students: compute f = F(x) ##\n",
        "  # Fill out function and remove\n",
        "  # raise NotImplementedError(\"Student excercise: implement the f-I function\")\n",
        "  #################################################\n",
        "\n",
        "  # Define the sigmoidal transfer function f = F(x)\n",
        "  f = (1 + np.exp(-a * (x - theta)))**-1 - (1 + np.exp(a * theta))**-1\n",
        "\n",
        "  return f\n",
        "\n",
        "\n",
        "pars = default_pars_single()  # get default parameters\n",
        "x = np.arange(-10, 10, .1)      # set the range of input\n",
        "\n",
        "# Uncomment below to test your function\n",
        "f = F(x, pars['a'], pars['theta'])\n",
        "plot_fI(x, f)"
      ],
      "execution_count": 8,
      "outputs": [
        {
          "output_type": "display_data",
          "data": {
            "image/png": "[encoded data removed]",
            "text/plain": [
              "<Figure size 432x288 with 1 Axes>"
            ]
          },
          "metadata": {
            "tags": [],
            "image/png": {
              "width": 414,
              "height": 270
            },
            "needs_background": "light"
          }
        }
      ]
    },
    {
      "cell_type": "markdown",
      "metadata": {
        "cellView": "both",
        "execution": {
          "iopub.execute_input": "2021-06-25T15:15:10.796201Z",
          "iopub.status.busy": "2021-06-25T15:15:10.781946Z",
          "iopub.status.idle": "2021-06-25T15:15:10.964125Z",
          "shell.execute_reply": "2021-06-25T15:15:10.964532Z"
        },
        "id": "y3DzkzR9ul7g"
      },
      "source": [
        "[*Click for solution*](https://github.com/NeuromatchAcademy/course-content/tree/master//tutorials/W2D4_DynamicNetworks/solutions/W2D4_Tutorial1_Solution_45ddc05f.py)\n",
        "\n",
        "*Example output:*\n",
        "\n",
        "<img alt='Solution hint' align='left' width=416 height=272 src=https://raw.githubusercontent.com/NeuromatchAcademy/course-content/master/tutorials/W2D4_DynamicNetworks/static/W2D4_Tutorial1_Solution_45ddc05f_0.png>\n",
        "\n"
      ]
    },
    {
      "cell_type": "markdown",
      "metadata": {
        "id": "Q1KwS-kTul7h"
      },
      "source": [
        "### Interactive Demo: Parameter exploration of F-I curve\n",
        "Here's an interactive demo that shows how the F-I curve changes for different values of the gain and threshold parameters. How do the gain and threshold parameters affect the F-I curve?"
      ]
    },
    {
      "cell_type": "code",
      "metadata": {
        "cellView": "form",
        "execution": {
          "iopub.execute_input": "2021-06-25T15:15:10.968493Z",
          "iopub.status.busy": "2021-06-25T15:15:10.967286Z",
          "iopub.status.idle": "2021-06-25T15:15:11.200736Z",
          "shell.execute_reply": "2021-06-25T15:15:11.200240Z"
        },
        "id": "k82A5iMJul7h",
        "outputId": "a5adb3ee-6c96-4313-ff69-32349bd62ccc",
        "colab": {
          "base_uri": "https://localhost:8080/",
          "height": 494,
          "referenced_widgets": [
            "57179e52743f4f95843112cc5ea9eae6",
            "f959255f0ed54e54a71ce912682cc002",
            "e5fdfb2a3df348f993eaafcac245f6cc",
            "ab9bf61cb05c4007a75464e7e8d45477",
            "4dc0b72619f047c7aae04229f44beb20",
            "8c1c393be2cc407fb56843dd77dc4e2d",
            "1759d60182c24d7aab9a0b4e3c104ab0",
            "a41ebcc358b34e4e94b3cf54989dd558",
            "f396aa71ea174535ac7f6e3bbbb81f6d",
            "c1fdac1f2b21457eb042354b2c2cf911"
          ]
        }
      },
      "source": [
        "# @title\n",
        "\n",
        "# @markdown Make sure you execute this cell to enable the widget!\n",
        "\n",
        "\n",
        "def interactive_plot_FI(a, theta):\n",
        "  \"\"\"\n",
        "  Population activation function.\n",
        "\n",
        "  Expecxts:\n",
        "    a     : the gain of the function\n",
        "    theta : the threshold of the function\n",
        "\n",
        "  Returns:\n",
        "    plot the F-I curve with give parameters\n",
        "  \"\"\"\n",
        "\n",
        "  # set the range of input\n",
        "  x = np.arange(0, 10, .1)\n",
        "  plt.figure()\n",
        "  plt.plot(x, F(x, a, theta), 'k')\n",
        "  plt.xlabel('x (a.u.)', fontsize=14)\n",
        "  plt.ylabel('F(x)', fontsize=14)\n",
        "  plt.show()\n",
        "\n",
        "\n",
        "_ = widgets.interact(interactive_plot_FI, a=(0.3, 3, 0.3), theta=(2, 4, 0.2))"
      ],
      "execution_count": 9,
      "outputs": [
        {
          "output_type": "display_data",
          "data": {
            "application/vnd.jupyter.widget-view+json": {
              "model_id": "57179e52743f4f95843112cc5ea9eae6",
              "version_minor": 0,
              "version_major": 2
            },
            "text/plain": [
              "interactive(children=(FloatSlider(value=1.5, description='a', max=3.0, min=0.3, step=0.3), FloatSlider(value=3…"
            ]
          },
          "metadata": {
            "tags": []
          }
        }
      ]
    },
    {
      "cell_type": "markdown",
      "metadata": {
        "execution": {
          "iopub.execute_input": "2021-06-25T15:15:11.208332Z",
          "iopub.status.busy": "2021-06-25T15:15:11.207816Z",
          "iopub.status.idle": "2021-06-25T15:15:11.211407Z",
          "shell.execute_reply": "2021-06-25T15:15:11.210989Z"
        },
        "id": "qAIiXaxBul7h"
      },
      "source": [
        "[*Click for solution*](https://github.com/NeuromatchAcademy/course-content/tree/master//tutorials/W2D4_DynamicNetworks/solutions/W2D4_Tutorial1_Solution_1c0165d7.py)\n",
        "\n"
      ]
    },
    {
      "cell_type": "markdown",
      "metadata": {
        "id": "rbpVa7F3ul7h"
      },
      "source": [
        "## Section 1.3: Simulation scheme of E dynamics\n",
        "\n",
        "Because $F(\\cdot)$ is a nonlinear function, the exact solution of Equation $1$ can not be determined via analytical methods. Therefore, numerical methods must be used to find the solution. In practice, the derivative on the left-hand side of Equation $1$ can be approximated using the Euler method on a time-grid of stepsize $\\Delta t$:\n",
        "\n",
        "\\begin{align}\n",
        "&\\frac{dr}{dt} \\approx \\frac{r[k+1]-r[k]}{\\Delta t} \n",
        "\\end{align}\n",
        "where $r[k] = r(k\\Delta t)$. \n",
        "\n",
        "Thus,\n",
        "\n",
        "$$\\Delta r[k] = \\frac{\\Delta t}{\\tau}[-r[k] + F(w\\cdot r[k] + I_{\\text{ext}}[k];a,\\theta)]$$\n",
        "\n",
        "\n",
        "Hence, Equation (1) is updated at each time step by:\n",
        "\n",
        "$$r[k+1] = r[k] + \\Delta r[k]$$\n"
      ]
    },
    {
      "cell_type": "code",
      "metadata": {
        "cellView": "form",
        "execution": {
          "iopub.execute_input": "2021-06-25T15:15:11.219766Z",
          "iopub.status.busy": "2021-06-25T15:15:11.218784Z",
          "iopub.status.idle": "2021-06-25T15:15:11.222450Z",
          "shell.execute_reply": "2021-06-25T15:15:11.222795Z"
        },
        "id": "LXguvviful7h",
        "outputId": "a518a50e-feb0-4fc8-c214-6451e83c539d",
        "colab": {
          "base_uri": "https://localhost:8080/"
        }
      },
      "source": [
        "# @markdown *Execute this cell to enable the single population rate model simulator: `simulate_single`*\n",
        "\n",
        "\n",
        "def simulate_single(pars):\n",
        "  \"\"\"\n",
        "  Simulate an excitatory population of neurons\n",
        "\n",
        "  Args:\n",
        "    pars   : Parameter dictionary\n",
        "\n",
        "  Returns:\n",
        "    rE     : Activity of excitatory population (array)\n",
        "\n",
        "  Example:\n",
        "    pars = default_pars_single()\n",
        "    r = simulate_single(pars)\n",
        "  \"\"\"\n",
        "\n",
        "  # Set parameters\n",
        "  tau, a, theta = pars['tau'], pars['a'], pars['theta']\n",
        "  w = pars['w']\n",
        "  I_ext = pars['I_ext']\n",
        "  r_init = pars['r_init']\n",
        "  dt, range_t = pars['dt'], pars['range_t']\n",
        "  Lt = range_t.size\n",
        "\n",
        "  # Initialize activity\n",
        "  r = np.zeros(Lt)\n",
        "  r[0] = r_init\n",
        "  I_ext = I_ext * np.ones(Lt)\n",
        "\n",
        "  # Update the E activity\n",
        "  for k in range(Lt - 1):\n",
        "      dr = dt / tau * (-r[k] + F(w * r[k] + I_ext[k], a, theta))\n",
        "      r[k+1] = r[k] + dr\n",
        "\n",
        "  return r\n",
        "\n",
        "help(simulate_single)"
      ],
      "execution_count": 10,
      "outputs": [
        {
          "output_type": "stream",
          "text": [
            "Help on function simulate_single in module __main__:\n",
            "\n",
            "simulate_single(pars)\n",
            "    Simulate an excitatory population of neurons\n",
            "    \n",
            "    Args:\n",
            "      pars   : Parameter dictionary\n",
            "    \n",
            "    Returns:\n",
            "      rE     : Activity of excitatory population (array)\n",
            "    \n",
            "    Example:\n",
            "      pars = default_pars_single()\n",
            "      r = simulate_single(pars)\n",
            "\n"
          ],
          "name": "stdout"
        }
      ]
    },
    {
      "cell_type": "markdown",
      "metadata": {
        "id": "zBJR6O_Gul7h"
      },
      "source": [
        "### Interactive Demo: Parameter Exploration of single population dynamics\n",
        "\n",
        "Note that $w=0$, as in the default setting, means no recurrent input to the neuron population in Equation (1). Hence, the dynamics are entirely determined by the external input $I_{\\text{ext}}$. Explore these dynamics in this interactive demo.\n",
        "\n",
        "How does $r_{\\text{sim}}(t)$ change with different $I_{\\text{ext}}$ values? How does it change with different $\\tau$ values? Investigate the relationship between $F(I_{\\text{ext}}; a, \\theta)$ and the steady value of $r(t)$. \n",
        "\n",
        "Note that, $r_{\\rm ana}(t)$ denotes the analytical solution - you will learn how this is computed in the next section."
      ]
    },
    {
      "cell_type": "code",
      "metadata": {
        "cellView": "form",
        "execution": {
          "iopub.execute_input": "2021-06-25T15:15:11.256333Z",
          "iopub.status.busy": "2021-06-25T15:15:11.255617Z",
          "iopub.status.idle": "2021-06-25T15:15:11.719557Z",
          "shell.execute_reply": "2021-06-25T15:15:11.720049Z"
        },
        "id": "s4HgccXkul7i",
        "outputId": "fe83fc92-96e5-412f-bd93-cd3afc1dfa48",
        "colab": {
          "base_uri": "https://localhost:8080/",
          "height": 494,
          "referenced_widgets": [
            "67e692e1f965499a8ff338e13ce2a9fc",
            "d436fd4e322543ed88bfbac4879b4173",
            "8a67e818a5b74841b8057f879f2552ac",
            "a457ade43faa4937ac25da535c4e4adf",
            "7fd472b06a17497db8254897a8c79c6e",
            "6c370861af0d4e2b87197786dff27df6",
            "c3c55af2906f41cb83d5d74454b1cf91",
            "580b07a5caa34af8a5331d9b9ea073c5",
            "fce26945f939415fac096fa3d179a8fa",
            "3e20f457e79e435e81efc8d16398e127"
          ]
        }
      },
      "source": [
        "# @title\n",
        "\n",
        "# @markdown Make sure you execute this cell to enable the widget!\n",
        "\n",
        "# get default parameters\n",
        "pars = default_pars_single(T=20.)\n",
        "\n",
        "\n",
        "def Myplot_E_diffI_difftau(I_ext, tau):\n",
        "  # set external input and time constant\n",
        "  pars['I_ext'] = I_ext\n",
        "  pars['tau'] = tau\n",
        "\n",
        "  # simulation\n",
        "  r = simulate_single(pars)\n",
        "\n",
        "  # Analytical Solution\n",
        "  r_ana = (pars['r_init']\n",
        "           + (F(I_ext, pars['a'], pars['theta'])\n",
        "           - pars['r_init']) * (1. - np.exp(-pars['range_t'] / pars['tau'])))\n",
        "\n",
        "  # plot\n",
        "  plt.figure()\n",
        "  plt.plot(pars['range_t'], r, 'b', label=r'$r_{\\mathrm{sim}}$(t)', alpha=0.5,\n",
        "           zorder=1)\n",
        "  plt.plot(pars['range_t'], r_ana, 'b--', lw=5, dashes=(2, 2),\n",
        "           label=r'$r_{\\mathrm{ana}}$(t)', zorder=2)\n",
        "  plt.plot(pars['range_t'],\n",
        "           F(I_ext, pars['a'], pars['theta']) * np.ones(pars['range_t'].size),\n",
        "           'k--', label=r'$F(I_{\\mathrm{ext}})$')\n",
        "  plt.xlabel('t (ms)', fontsize=16.)\n",
        "  plt.ylabel('Activity r(t)', fontsize=16.)\n",
        "  plt.legend(loc='best', fontsize=14.)\n",
        "  plt.show()\n",
        "\n",
        "\n",
        "_ = widgets.interact(Myplot_E_diffI_difftau, I_ext=(0.0, 10., 1.),\n",
        "                     tau=(1., 5., 0.2))"
      ],
      "execution_count": 11,
      "outputs": [
        {
          "output_type": "display_data",
          "data": {
            "application/vnd.jupyter.widget-view+json": {
              "model_id": "67e692e1f965499a8ff338e13ce2a9fc",
              "version_minor": 0,
              "version_major": 2
            },
            "text/plain": [
              "interactive(children=(FloatSlider(value=5.0, description='I_ext', max=10.0, step=1.0), FloatSlider(value=3.0, …"
            ]
          },
          "metadata": {
            "tags": []
          }
        }
      ]
    },
    {
      "cell_type": "markdown",
      "metadata": {
        "execution": {
          "iopub.execute_input": "2021-06-25T15:15:11.727079Z",
          "iopub.status.busy": "2021-06-25T15:15:11.725878Z",
          "iopub.status.idle": "2021-06-25T15:15:11.727708Z",
          "shell.execute_reply": "2021-06-25T15:15:11.728189Z"
        },
        "id": "_LnY0Qn-ul7i"
      },
      "source": [
        "[*Click for solution*](https://github.com/NeuromatchAcademy/course-content/tree/master//tutorials/W2D4_DynamicNetworks/solutions/W2D4_Tutorial1_Solution_65dee3e7.py)\n",
        "\n"
      ]
    },
    {
      "cell_type": "markdown",
      "metadata": {
        "id": "UVzZ6B03ul7i"
      },
      "source": [
        "## Think!\n",
        "Above, we have numerically solved a system driven by a positive input. Yet, $r_E(t)$ either decays to zero or reaches a fixed non-zero value.\n",
        "- Why doesn't the solution of the system \"explode\" in a finite time? In other words, what guarantees that $r_E$(t) stays finite? \n",
        "- Which parameter would you change in order to increase the maximum value of the response? "
      ]
    },
    {
      "cell_type": "markdown",
      "metadata": {
        "execution": {
          "iopub.execute_input": "2021-06-25T15:15:11.732649Z",
          "iopub.status.busy": "2021-06-25T15:15:11.731465Z",
          "iopub.status.idle": "2021-06-25T15:15:11.733349Z",
          "shell.execute_reply": "2021-06-25T15:15:11.733831Z"
        },
        "id": "1gLrQtCnul7i"
      },
      "source": [
        "[*Click for solution*](https://github.com/NeuromatchAcademy/course-content/tree/master//tutorials/W2D4_DynamicNetworks/solutions/W2D4_Tutorial1_Solution_5a95a98e.py)\n",
        "\n"
      ]
    },
    {
      "cell_type": "markdown",
      "metadata": {
        "id": "GMQYRov5ul7i"
      },
      "source": [
        "---\n",
        "# Section 2: Fixed points of the single population system\n"
      ]
    },
    {
      "cell_type": "code",
      "metadata": {
        "cellView": "form",
        "execution": {
          "iopub.execute_input": "2021-06-25T15:15:11.746888Z",
          "iopub.status.busy": "2021-06-25T15:15:11.745402Z",
          "iopub.status.idle": "2021-06-25T15:15:11.828368Z",
          "shell.execute_reply": "2021-06-25T15:15:11.827871Z"
        },
        "id": "HM6A2MDPul7i",
        "outputId": "7cd5374b-80d6-4f51-f5f2-adcbea3db9ec",
        "colab": {
          "base_uri": "https://localhost:8080/",
          "height": 580,
          "referenced_widgets": [
            "b51a190efab647e1b0939c16c6434dd2",
            "5bb0f46e42d84e3da6aaaba41dce8a9f",
            "0b8d53745dca48c4ab8390b9ef126734",
            "ce01cd532c6d4d40a5bf34261f177da7",
            "44e355ee4a9040d19e362405e36ca203",
            "7d4a9d3515d24349bf7ba643a3e81456"
          ]
        }
      },
      "source": [
        "# @title Video 2: Fixed point\n",
        "from ipywidgets import widgets\n",
        "\n",
        "out2 = widgets.Output()\n",
        "with out2:\n",
        "  from IPython.display import IFrame\n",
        "  class BiliVideo(IFrame):\n",
        "      def __init__(self, id, page=1, width=400, height=300, **kwargs):\n",
        "          self.id=id\n",
        "          src = 'https://player.bilibili.com/player.html?bvid={0}&page={1}'.format(id, page)\n",
        "          super(BiliVideo, self).__init__(src, width, height, **kwargs)\n",
        "\n",
        "  video = BiliVideo(id=\"\", width=854, height=480, fs=1)\n",
        "  print('Video available at https://www.bilibili.com/video/{0}'.format(video.id))\n",
        "  display(video)\n",
        "\n",
        "out1 = widgets.Output()\n",
        "with out1:\n",
        "  from IPython.display import YouTubeVideo\n",
        "  video = YouTubeVideo(id=\"Ox3ELd1UFyo\", width=854, height=480, fs=1, rel=0)\n",
        "  print('Video available at https://youtube.com/watch?v=' + video.id)\n",
        "  display(video)\n",
        "\n",
        "out = widgets.Tab([out1, out2])\n",
        "out.set_title(0, 'Youtube')\n",
        "out.set_title(1, 'Bilibili')\n",
        "\n",
        "display(out)"
      ],
      "execution_count": 12,
      "outputs": [
        {
          "output_type": "display_data",
          "data": {
            "application/vnd.jupyter.widget-view+json": {
              "model_id": "b51a190efab647e1b0939c16c6434dd2",
              "version_minor": 0,
              "version_major": 2
            },
            "text/plain": [
              "Tab(children=(Output(), Output()), _titles={'0': 'Youtube', '1': 'Bilibili'})"
            ]
          },
          "metadata": {
            "tags": []
          }
        }
      ]
    },
    {
      "cell_type": "markdown",
      "metadata": {
        "id": "8GZSy5Syul7j"
      },
      "source": [
        "As you varied the two parameters in the last Interactive Demo, you noticed that, while at first the system output quickly changes, with time, it reaches its maximum/minimum value and does not change anymore. The value eventually reached by the system is called the **steady state** of the system, or the **fixed point**. Essentially, in the steady states the derivative with respect to time of the activity ($r$) is zero, i.e. $\\displaystyle \\frac{dr}{dt}=0$. \n",
        "\n",
        "We can find that the steady state of the Equation. (1) by setting $\\displaystyle{\\frac{dr}{dt}=0}$ and solve for $r$:\n",
        "\n",
        "$$-r_{\\text{steady}} + F(w\\cdot r_{\\text{steady}} + I_{\\text{ext}};a,\\theta) = 0, \\qquad (3)$$\n",
        "\n",
        "When it exists, the solution of Equation. (3) defines a **fixed point** of the dynamical system in Equation (1). Note that if $F(x)$ is nonlinear, it is not always possible to find an analytical solution, but the solution can be found via numerical simulations, as we will do later.\n",
        "\n",
        "From the Interactive Demo, one could also notice that the value of $\\tau$ influences how quickly the activity will converge to the steady state from its initial value. \n",
        "\n",
        "In the specific case of $w=0$, we can also analytically compute  the solution of Equation (1) (i.e., the thick blue dashed line) and deduce the role of $\\tau$ in determining the convergence to the fixed point: \n",
        "\n",
        "$$\\displaystyle{r(t) = \\big{[}F(I_{\\text{ext}};a,\\theta) -r(t=0)\\big{]} (1-\\text{e}^{-\\frac{t}{\\tau}})} + r(t=0)$$ \\\\\n",
        "\n",
        "We can now numerically calculate the fixed point with a root finding algorithm."
      ]
    },
    {
      "cell_type": "markdown",
      "metadata": {
        "id": "qeW8nJ3Kul7j"
      },
      "source": [
        "## Exercise 2: Visualization of the fixed points\n",
        "\n",
        "When it is not possible to find the solution for Equation (3) analytically, a graphical approach can be taken. To that end, it is useful to plot $\\displaystyle{\\frac{dr}{dt}}$ as a function of $r$. The values of $r$ for which the plotted function crosses zero on the y axis correspond to fixed points. \n",
        "\n",
        "Here, let us, for example, set $w=5.0$ and $I^{\\text{ext}}=0.5$. From Equation (1), you can obtain\n",
        "\n",
        "$$\\frac{dr}{dt} = [-r + F(w\\cdot r + I^{\\text{ext}})]\\,/\\,\\tau $$\n",
        "\n",
        "Then, plot the $dr/dt$ as a function of $r$, and check for the presence of fixed points. "
      ]
    },
    {
      "cell_type": "code",
      "metadata": {
        "execution": {
          "iopub.execute_input": "2021-06-25T15:15:11.842123Z",
          "iopub.status.busy": "2021-06-25T15:15:11.841508Z",
          "iopub.status.idle": "2021-06-25T15:15:11.843138Z",
          "shell.execute_reply": "2021-06-25T15:15:11.842657Z"
        },
        "id": "cPvRYehzul7j",
        "outputId": "12ead9b8-27c0-4f18-c4bd-10f346a8711a",
        "colab": {
          "base_uri": "https://localhost:8080/",
          "height": 430
        }
      },
      "source": [
        "def compute_drdt(r, I_ext, w, a, theta, tau, **other_pars):\n",
        "  \"\"\"Given parameters, compute dr/dt as a function of r.\n",
        "\n",
        "  Args:\n",
        "    r (1D array) : Average firing rate of the excitatory population\n",
        "    I_ext, w, a, theta, tau (numbers): Simulation parameters to use\n",
        "    other_pars : Other simulation parameters are unused by this function\n",
        "\n",
        "  Returns\n",
        "    drdt function for each value of r\n",
        "  \"\"\"\n",
        "  #########################################################################\n",
        "  # TODO compute drdt and disable the error\n",
        "  # raise NotImplementedError(\"Finish the compute_drdt function\")\n",
        "  #########################################################################\n",
        "\n",
        "  # Calculate drdt\n",
        "  drdt = (-r + F(w * r + I_ext, a, theta)) / tau\n",
        "\n",
        "  return drdt\n",
        "\n",
        "\n",
        "# Define a vector of r values and the simulation parameters\n",
        "r = np.linspace(0, 1, 1000)\n",
        "pars = default_pars_single(I_ext=0.5, w=5)\n",
        "\n",
        "# Uncomment to test your function\n",
        "drdt = compute_drdt(r, **pars)\n",
        "plot_dr_r(r, drdt)"
      ],
      "execution_count": 13,
      "outputs": [
        {
          "output_type": "display_data",
          "data": {
            "image/png": "[encoded data removed]",
            "text/plain": [
              "<Figure size 576x432 with 1 Axes>"
            ]
          },
          "metadata": {
            "tags": [],
            "image/png": {
              "width": 558,
              "height": 413
            },
            "needs_background": "light"
          }
        }
      ]
    },
    {
      "cell_type": "markdown",
      "metadata": {
        "execution": {
          "iopub.execute_input": "2021-06-25T15:15:11.862228Z",
          "iopub.status.busy": "2021-06-25T15:15:11.847873Z",
          "iopub.status.idle": "2021-06-25T15:15:12.129912Z",
          "shell.execute_reply": "2021-06-25T15:15:12.129421Z"
        },
        "id": "gheoDqB8ul7j"
      },
      "source": [
        "[*Click for solution*](https://github.com/NeuromatchAcademy/course-content/tree/master//tutorials/W2D4_DynamicNetworks/solutions/W2D4_Tutorial1_Solution_c5280901.py)\n",
        "\n",
        "*Example output:*\n",
        "\n",
        "<img alt='Solution hint' align='left' width=558 height=413 src=https://raw.githubusercontent.com/NeuromatchAcademy/course-content/master/tutorials/W2D4_DynamicNetworks/static/W2D4_Tutorial1_Solution_c5280901_0.png>\n",
        "\n"
      ]
    },
    {
      "cell_type": "markdown",
      "metadata": {
        "id": "zOKjNQq0ul7j"
      },
      "source": [
        "## Exercise 3: Fixed point calculation\n",
        "\n",
        "We will now find the fixed points numerically. To do so, we need to specif initial values ($r_{\\text{guess}}$) for the root-finding algorithm to start from. From the line $\\displaystyle{\\frac{dr}{dt}}$ plotted above in Exercise 2, initial values can be chosen as a set of values close to where the line crosses zero on the y axis (real fixed point).\n",
        "\n",
        "The next cell defines three helper functions that we will use:\n",
        "\n",
        "- `my_fp_single(r_guess, **pars)` uses a root-finding algorithm to locate a fixed point near a given initial value\n",
        "- `check_fp_single(x_fp, **pars)`, verifies that the values of $r_{\\rm fp}$ for which $\\displaystyle{\\frac{dr}{dt}} = 0$ are the true fixed points\n",
        "- `my_fp_finder(r_guess_vector, **pars)` accepts an array of initial values and finds the same number of fixed points, using the above two functions"
      ]
    },
    {
      "cell_type": "code",
      "metadata": {
        "cellView": "form",
        "execution": {
          "iopub.execute_input": "2021-06-25T15:15:12.139245Z",
          "iopub.status.busy": "2021-06-25T15:15:12.138129Z",
          "iopub.status.idle": "2021-06-25T15:15:12.141171Z",
          "shell.execute_reply": "2021-06-25T15:15:12.140698Z"
        },
        "id": "D1Z_Ci9iul7j",
        "outputId": "f1e34cbe-7bb3-46cd-9384-1e05c9add95b",
        "colab": {
          "base_uri": "https://localhost:8080/"
        }
      },
      "source": [
        "# @markdown *Execute this cell to enable the fixed point functions*\n",
        "\n",
        "def my_fp_single(r_guess, a, theta, w, I_ext, **other_pars):\n",
        "  \"\"\"\n",
        "  Calculate the fixed point through drE/dt=0\n",
        "\n",
        "  Args:\n",
        "    r_guess  : Initial value used for scipy.optimize function\n",
        "    a, theta, w, I_ext : simulation parameters\n",
        "\n",
        "  Returns:\n",
        "    x_fp    : value of fixed point\n",
        "  \"\"\"\n",
        "  # define the right hand of E dynamics\n",
        "  def my_WCr(x):\n",
        "    r = x\n",
        "    drdt = (-r + F(w * r + I_ext, a, theta))\n",
        "    y = np.array(drdt)\n",
        "\n",
        "    return y\n",
        "\n",
        "  x0 = np.array(r_guess)\n",
        "  x_fp = opt.root(my_WCr, x0).x.item()\n",
        "\n",
        "  return x_fp\n",
        "\n",
        "\n",
        "def check_fp_single(x_fp, a, theta, w, I_ext, mytol=1e-4, **other_pars):\n",
        "  \"\"\"\n",
        "   Verify |dr/dt| < mytol\n",
        "\n",
        "  Args:\n",
        "    fp      : value of fixed point\n",
        "    a, theta, w, I_ext: simulation parameters\n",
        "    mytol   : tolerance, default as 10^{-4}\n",
        "\n",
        "  Returns :\n",
        "    Whether it is a correct fixed point: True/False\n",
        "  \"\"\"\n",
        "  # calculate Equation(3)\n",
        "  y = x_fp - F(w * x_fp + I_ext, a, theta)\n",
        "\n",
        "  # Here we set tolerance as 10^{-4}\n",
        "  return np.abs(y) < mytol\n",
        "\n",
        "\n",
        "def my_fp_finder(pars, r_guess_vector, mytol=1e-4):\n",
        "  \"\"\"\n",
        "  Calculate the fixed point(s) through drE/dt=0\n",
        "\n",
        "  Args:\n",
        "    pars    : Parameter dictionary\n",
        "    r_guess_vector  : Initial values used for scipy.optimize function\n",
        "    mytol   : tolerance for checking fixed point, default as 10^{-4}\n",
        "\n",
        "  Returns:\n",
        "    x_fps   : values of fixed points\n",
        "\n",
        "  \"\"\"\n",
        "  x_fps = []\n",
        "  correct_fps = []\n",
        "  for r_guess in r_guess_vector:\n",
        "    x_fp = my_fp_single(r_guess, **pars)\n",
        "    if check_fp_single(x_fp, **pars, mytol=mytol):\n",
        "      x_fps.append(x_fp)\n",
        "\n",
        "  return x_fps\n",
        "\n",
        "help(my_fp_finder)"
      ],
      "execution_count": 14,
      "outputs": [
        {
          "output_type": "stream",
          "text": [
            "Help on function my_fp_finder in module __main__:\n",
            "\n",
            "my_fp_finder(pars, r_guess_vector, mytol=0.0001)\n",
            "    Calculate the fixed point(s) through drE/dt=0\n",
            "    \n",
            "    Args:\n",
            "      pars    : Parameter dictionary\n",
            "      r_guess_vector  : Initial values used for scipy.optimize function\n",
            "      mytol   : tolerance for checking fixed point, default as 10^{-4}\n",
            "    \n",
            "    Returns:\n",
            "      x_fps   : values of fixed points\n",
            "\n"
          ],
          "name": "stdout"
        }
      ]
    },
    {
      "cell_type": "code",
      "metadata": {
        "execution": {
          "iopub.execute_input": "2021-06-25T15:15:12.146364Z",
          "iopub.status.busy": "2021-06-25T15:15:12.145337Z",
          "iopub.status.idle": "2021-06-25T15:15:12.147218Z",
          "shell.execute_reply": "2021-06-25T15:15:12.147587Z"
        },
        "id": "xMhkughOul7k",
        "outputId": "12d8c2c2-15d3-4c06-e174-5121ac74a794",
        "colab": {
          "base_uri": "https://localhost:8080/",
          "height": 430
        }
      },
      "source": [
        "r = np.linspace(0, 1, 1000)\n",
        "pars = default_pars_single(I_ext=0.5, w=5)\n",
        "drdt = compute_drdt(r, **pars)\n",
        "\n",
        "#############################################################################\n",
        "# TODO for students:\n",
        "# Define initial values close to the intersections of drdt and y=0\n",
        "# (How many initial values? Hint: How many times do the two lines intersect?)\n",
        "# Calculate the fixed point with these initial values and plot them\n",
        "#############################################################################\n",
        "r_guess_vector = [0, .4, .9]\n",
        "\n",
        "# Uncomment to test your values\n",
        "x_fps = my_fp_finder(pars, r_guess_vector)\n",
        "plot_dr_r(r, drdt, x_fps)"
      ],
      "execution_count": 15,
      "outputs": [
        {
          "output_type": "display_data",
          "data": {
            "image/png": "[encoded data removed]",
            "text/plain": [
              "<Figure size 576x432 with 1 Axes>"
            ]
          },
          "metadata": {
            "tags": [],
            "image/png": {
              "width": 558,
              "height": 413
            },
            "needs_background": "light"
          }
        }
      ]
    },
    {
      "cell_type": "markdown",
      "metadata": {
        "execution": {
          "iopub.execute_input": "2021-06-25T15:15:12.153603Z",
          "iopub.status.busy": "2021-06-25T15:15:12.151712Z",
          "iopub.status.idle": "2021-06-25T15:15:12.419974Z",
          "shell.execute_reply": "2021-06-25T15:15:12.420695Z"
        },
        "id": "fVzwEuR4ul7k"
      },
      "source": [
        "[*Click for solution*](https://github.com/NeuromatchAcademy/course-content/tree/master//tutorials/W2D4_DynamicNetworks/solutions/W2D4_Tutorial1_Solution_0637b6bf.py)\n",
        "\n",
        "*Example output:*\n",
        "\n",
        "<img alt='Solution hint' align='left' width=558 height=413 src=https://raw.githubusercontent.com/NeuromatchAcademy/course-content/master/tutorials/W2D4_DynamicNetworks/static/W2D4_Tutorial1_Solution_0637b6bf_0.png>\n",
        "\n"
      ]
    },
    {
      "cell_type": "markdown",
      "metadata": {
        "id": "wpZDoFx7ul7k"
      },
      "source": [
        "## Interactive Demo: fixed points as a function of recurrent and external inputs.\n",
        "\n",
        "You can now explore how the previous plot changes when the recurrent coupling $w$ and the external input $I_{\\text{ext}}$ take different values. How does the number of fixed points change?"
      ]
    },
    {
      "cell_type": "code",
      "metadata": {
        "cellView": "form",
        "execution": {
          "iopub.execute_input": "2021-06-25T15:15:12.448868Z",
          "iopub.status.busy": "2021-06-25T15:15:12.448346Z",
          "iopub.status.idle": "2021-06-25T15:15:12.682598Z",
          "shell.execute_reply": "2021-06-25T15:15:12.682104Z"
        },
        "id": "pQlSc4Plul7k",
        "outputId": "cec4340c-a5d5-4893-fc73-c15dc020c804",
        "colab": {
          "base_uri": "https://localhost:8080/",
          "height": 494,
          "referenced_widgets": [
            "fd0e81ce79714842950e6b19020e84e0",
            "be327830b392458db11a7337dbb39d4f",
            "15d34b3758a34a1c95d5d6461ac684ec",
            "e646e386ba1a4528a77e9d2c1af92e2a",
            "3f01204d5b4e46059d64e1d6bf6bd962",
            "9065f640bd5944f1aa68ea5d4d04e592",
            "1f5501ce13f64e7f95a92c53129b6e7e",
            "5ebe545fc15d4cc380adb8fba7971882",
            "d968a61764104298bde85df71fd95586",
            "05bedfd473a14b85a5646cf26dc06e47"
          ]
        }
      },
      "source": [
        "# @title\n",
        "\n",
        "# @markdown Make sure you execute this cell to enable the widget!\n",
        "\n",
        "\n",
        "def plot_intersection_single(w, I_ext):\n",
        "  # set your parameters\n",
        "  pars = default_pars_single(w=w, I_ext=I_ext)\n",
        "\n",
        "  # find fixed points\n",
        "  r_init_vector = [0, .4, .9]\n",
        "  x_fps = my_fp_finder(pars, r_init_vector)\n",
        "\n",
        "  # plot\n",
        "  r = np.linspace(0, 1., 1000)\n",
        "  drdt = (-r + F(w * r + I_ext, pars['a'], pars['theta'])) / pars['tau']\n",
        "\n",
        "  plot_dr_r(r, drdt, x_fps)\n",
        "\n",
        "_ = widgets.interact(plot_intersection_single, w=(1, 7, 0.2),\n",
        "                     I_ext=(0, 3, 0.1))"
      ],
      "execution_count": 16,
      "outputs": [
        {
          "output_type": "display_data",
          "data": {
            "application/vnd.jupyter.widget-view+json": {
              "model_id": "fd0e81ce79714842950e6b19020e84e0",
              "version_minor": 0,
              "version_major": 2
            },
            "text/plain": [
              "interactive(children=(FloatSlider(value=4.0, description='w', max=7.0, min=1.0, step=0.2), FloatSlider(value=1…"
            ]
          },
          "metadata": {
            "tags": []
          }
        }
      ]
    },
    {
      "cell_type": "markdown",
      "metadata": {
        "execution": {
          "iopub.execute_input": "2021-06-25T15:15:12.691041Z",
          "iopub.status.busy": "2021-06-25T15:15:12.690482Z",
          "iopub.status.idle": "2021-06-25T15:15:12.693971Z",
          "shell.execute_reply": "2021-06-25T15:15:12.693313Z"
        },
        "id": "rivEXVKjul7k"
      },
      "source": [
        "[*Click for solution*](https://github.com/NeuromatchAcademy/course-content/tree/master//tutorials/W2D4_DynamicNetworks/solutions/W2D4_Tutorial1_Solution_20486792.py)\n",
        "\n"
      ]
    },
    {
      "cell_type": "markdown",
      "metadata": {
        "id": "iX5u7CFGul7k"
      },
      "source": [
        "---\n",
        "# Summary\n",
        "\n",
        "In this tutorial, we have investigated the dynamics of a rate-based single population of neurons.\n",
        "\n",
        "We learned about:\n",
        "- The effect of the input parameters and the time constant of the network on the dynamics of the population.\n",
        "- How to find the fixed point(s) of the system.\n",
        "\n",
        "Next, we have two Bonus, but important concepts in dynamical system analysis and simulation. If you have time left, watch the next video and proceed to solve the exercises. You will learn:\n",
        "\n",
        "- How to determine the stability of a fixed point by linearizing the system.\n",
        "- How to add realistic inputs to our model."
      ]
    },
    {
      "cell_type": "markdown",
      "metadata": {
        "id": "2gx2_K-Kul7l"
      },
      "source": [
        "---\n",
        "# Bonus 1: Stability of a fixed point"
      ]
    },
    {
      "cell_type": "code",
      "metadata": {
        "cellView": "form",
        "execution": {
          "iopub.execute_input": "2021-06-25T15:15:12.705492Z",
          "iopub.status.busy": "2021-06-25T15:15:12.704981Z",
          "iopub.status.idle": "2021-06-25T15:15:12.801011Z",
          "shell.execute_reply": "2021-06-25T15:15:12.800002Z"
        },
        "id": "4d7Iomk3ul7l",
        "outputId": "9ea19169-fe07-445f-cb69-64d76243c7ad",
        "colab": {
          "base_uri": "https://localhost:8080/",
          "height": 580,
          "referenced_widgets": [
            "a74382101a35404db8deddcc0478654e",
            "73e9f4320705457ea3b3127d514e21c3",
            "83c350fd85a94c9094a1647a16e1b43f",
            "3e9b7854639e4d37a13d2b2e8efd9999",
            "a260dd67f324426aa5113602f678e1cc",
            "e42d84da432c45cd840ed7ff6e4b45d9"
          ]
        }
      },
      "source": [
        "# @title Video 3: Stability of fixed points\n",
        "from ipywidgets import widgets\n",
        "\n",
        "out2 = widgets.Output()\n",
        "with out2:\n",
        "  from IPython.display import IFrame\n",
        "  class BiliVideo(IFrame):\n",
        "      def __init__(self, id, page=1, width=400, height=300, **kwargs):\n",
        "          self.id=id\n",
        "          src = 'https://player.bilibili.com/player.html?bvid={0}&page={1}'.format(id, page)\n",
        "          super(BiliVideo, self).__init__(src, width, height, **kwargs)\n",
        "\n",
        "  video = BiliVideo(id=\"\", width=854, height=480, fs=1)\n",
        "  print('Video available at https://www.bilibili.com/video/{0}'.format(video.id))\n",
        "  display(video)\n",
        "\n",
        "out1 = widgets.Output()\n",
        "with out1:\n",
        "  from IPython.display import YouTubeVideo\n",
        "  video = YouTubeVideo(id=\"KKMlWWU83Jg\", width=854, height=480, fs=1, rel=0)\n",
        "  print('Video available at https://youtube.com/watch?v=' + video.id)\n",
        "  display(video)\n",
        "\n",
        "out = widgets.Tab([out1, out2])\n",
        "out.set_title(0, 'Youtube')\n",
        "out.set_title(1, 'Bilibili')\n",
        "\n",
        "display(out)"
      ],
      "execution_count": 18,
      "outputs": [
        {
          "output_type": "display_data",
          "data": {
            "application/vnd.jupyter.widget-view+json": {
              "model_id": "a74382101a35404db8deddcc0478654e",
              "version_minor": 0,
              "version_major": 2
            },
            "text/plain": [
              "Tab(children=(Output(), Output()), _titles={'0': 'Youtube', '1': 'Bilibili'})"
            ]
          },
          "metadata": {
            "tags": []
          }
        }
      ]
    },
    {
      "cell_type": "markdown",
      "metadata": {
        "id": "2QkLfqtCul7l"
      },
      "source": [
        "#### Initial values and trajectories\n",
        "\n",
        "Here, let us first set $w=5.0$ and $I_{\\text{ext}}=0.5$, and investigate the dynamics of $r(t)$ starting with different initial values $r(0) \\equiv r_{\\text{init}}$. We will plot the trajectories of $r(t)$ with $r_{\\text{init}} = 0.0, 0.1, 0.2,..., 0.9$."
      ]
    },
    {
      "cell_type": "code",
      "metadata": {
        "cellView": "form",
        "execution": {
          "iopub.execute_input": "2021-06-25T15:15:12.896431Z",
          "iopub.status.busy": "2021-06-25T15:15:12.867952Z",
          "iopub.status.idle": "2021-06-25T15:15:13.326712Z",
          "shell.execute_reply": "2021-06-25T15:15:13.327184Z"
        },
        "id": "Cv0RAd-Tul7l",
        "outputId": "b915925b-ae14-43c1-a0ad-6240978a6252",
        "colab": {
          "base_uri": "https://localhost:8080/",
          "height": 358
        }
      },
      "source": [
        "# @markdown Execute this cell to see the trajectories!\n",
        "\n",
        "pars = default_pars_single()\n",
        "pars['w'] = 5.0\n",
        "pars['I_ext'] = 0.5\n",
        "\n",
        "plt.figure(figsize=(8, 5))\n",
        "for ie in range(10):\n",
        "  pars['r_init'] = 0.1 * ie  # set the initial value\n",
        "  r = simulate_single(pars)  # run the simulation\n",
        "\n",
        "  # plot the activity with given initial\n",
        "  plt.plot(pars['range_t'], r, 'b', alpha=0.1 + 0.1 * ie,\n",
        "           label=r'r$_{\\mathrm{init}}$=%.1f' % (0.1 * ie))\n",
        "\n",
        "plt.xlabel('t (ms)')\n",
        "plt.title('Two steady states?')\n",
        "plt.ylabel(r'$r$(t)')\n",
        "plt.legend(loc=[1.01, -0.06], fontsize=14)\n",
        "plt.show()"
      ],
      "execution_count": 17,
      "outputs": [
        {
          "output_type": "display_data",
          "data": {
            "image/png": "[encoded data removed]",
            "text/plain": [
              "<Figure size 576x360 with 1 Axes>"
            ]
          },
          "metadata": {
            "tags": [],
            "image/png": {
              "width": 557,
              "height": 341
            },
            "needs_background": "light"
          }
        }
      ]
    },
    {
      "cell_type": "markdown",
      "metadata": {
        "id": "uOl1CcsHul7l"
      },
      "source": [
        "## Interactive Demo: dynamics as a function of the initial value\n",
        "\n",
        "Let's now set $r_{\\rm init}$ to a value of your choice in this demo. How does the solution change? What do you observe?"
      ]
    },
    {
      "cell_type": "code",
      "metadata": {
        "cellView": "form",
        "execution": {
          "iopub.execute_input": "2021-06-25T15:15:13.352572Z",
          "iopub.status.busy": "2021-06-25T15:15:13.351453Z",
          "iopub.status.idle": "2021-06-25T15:15:13.539943Z",
          "shell.execute_reply": "2021-06-25T15:15:13.540507Z"
        },
        "id": "ssSJK-_lul7l"
      },
      "source": [
        "# @title\n",
        "\n",
        "# @markdown Make sure you execute this cell to enable the widget!\n",
        "\n",
        "pars = default_pars_single(w=5.0, I_ext=0.5)\n",
        "\n",
        "def plot_single_diffEinit(r_init):\n",
        "  pars['r_init'] = r_init\n",
        "  r = simulate_single(pars)\n",
        "\n",
        "  plt.figure()\n",
        "  plt.plot(pars['range_t'], r, 'b', zorder=1)\n",
        "  plt.plot(0, r[0], 'bo', alpha=0.7, zorder=2)\n",
        "  plt.xlabel('t (ms)', fontsize=16)\n",
        "  plt.ylabel(r'$r(t)$', fontsize=16)\n",
        "  plt.ylim(0, 1.0)\n",
        "  plt.show()\n",
        "\n",
        "\n",
        "_ = widgets.interact(plot_single_diffEinit, r_init=(0, 1, 0.02))"
      ],
      "execution_count": null,
      "outputs": []
    },
    {
      "cell_type": "markdown",
      "metadata": {
        "execution": {
          "iopub.execute_input": "2021-06-25T15:15:13.545657Z",
          "iopub.status.busy": "2021-06-25T15:15:13.545105Z",
          "iopub.status.idle": "2021-06-25T15:15:13.547456Z",
          "shell.execute_reply": "2021-06-25T15:15:13.546975Z"
        },
        "id": "CwfNoVmEul7l"
      },
      "source": [
        "[*Click for solution*](https://github.com/NeuromatchAcademy/course-content/tree/master//tutorials/W2D4_DynamicNetworks/solutions/W2D4_Tutorial1_Solution_4d2de6a0.py)\n",
        "\n"
      ]
    },
    {
      "cell_type": "markdown",
      "metadata": {
        "id": "2E2q0KhTul7l"
      },
      "source": [
        "### Stability analysis via linearization of the dynamics\n",
        "\n",
        "Just like Equation $1$ in the case ($w=0$) discussed above, a generic linear system \n",
        "$$\\frac{dx}{dt} = \\lambda (x - b),$$ \n",
        "has a fixed point for $x=b$. The analytical solution of such a system can be found to be:\n",
        "$$x(t) = b + \\big{(} x(0) - b \\big{)} \\text{e}^{\\lambda t}.$$ \n",
        "Now consider a small perturbation of the activity around the fixed point: $x(0) = b+ \\epsilon$, where $|\\epsilon| \\ll 1$. Will the perturbation $\\epsilon(t)$ grow with time or will it decay to the fixed point? The evolution of the perturbation with time can be written, using the analytical solution for $x(t)$, as:\n",
        " $$\\epsilon (t) = x(t) - b = \\epsilon \\text{e}^{\\lambda t}$$\n",
        "\n",
        "- if $\\lambda < 0$, $\\epsilon(t)$ decays to zero, $x(t)$ will still converge to $b$ and the fixed point is \"**stable**\".\n",
        "\n",
        "- if $\\lambda > 0$, $\\epsilon(t)$ grows with time, $x(t)$ will leave the fixed point $b$ exponentially, and the fixed point is, therefore, \"**unstable**\" ."
      ]
    },
    {
      "cell_type": "markdown",
      "metadata": {
        "id": "rFACv3Ajul7l"
      },
      "source": [
        "### Compute the stability of Equation $1$\n",
        "\n",
        "Similar to what we did in the linear system above, in order to determine the stability of a fixed point $r^{*}$ of the excitatory population dynamics, we perturb Equation (1) around $r^{*}$ by $\\epsilon$, i.e. $r = r^{*} + \\epsilon$. We can plug in Equation (1) and obtain the equation determining the time evolution of the perturbation $\\epsilon(t)$:\n",
        "\n",
        "\\begin{align}\n",
        "\\tau \\frac{d\\epsilon}{dt} \\approx -\\epsilon + w F'(w\\cdot r^{*} + I_{\\text{ext}};a,\\theta) \\epsilon \n",
        "\\end{align}\n",
        "\n",
        "where $F'(\\cdot)$ is the derivative of the transfer function $F(\\cdot)$. We can rewrite the above equation as:\n",
        "\n",
        "\\begin{align}\n",
        "\\frac{d\\epsilon}{dt} \\approx \\frac{\\epsilon}{\\tau }[-1 + w F'(w\\cdot r^* + I_{\\text{ext}};a,\\theta)] \n",
        "\\end{align}\n",
        "\n",
        "That is, as in the linear system above, the value of\n",
        "\n",
        "$$\\lambda = [-1+ wF'(w\\cdot r^* + I_{\\text{ext}};a,\\theta)]/\\tau \\qquad (4)$$\n",
        "\n",
        "determines whether the perturbation will grow or decay to zero, i.e., $\\lambda$ defines the stability of the fixed point. This value is called the **eigenvalue** of the dynamical system."
      ]
    },
    {
      "cell_type": "markdown",
      "metadata": {
        "id": "lBCl5TrPul7m"
      },
      "source": [
        "## Exercise 4: Compute $dF$\n",
        "\n",
        "The derivative of the sigmoid transfer function is:\n",
        "\\begin{align} \n",
        "\\frac{dF}{dx} & = \\frac{d}{dx} (1+\\exp\\{-a(x-\\theta)\\})^{-1}  \\\\\n",
        "& = a\\exp\\{-a(x-\\theta)\\} (1+\\exp\\{-a(x-\\theta)\\})^{-2}. \\qquad (5)\n",
        "\\end{align}\n",
        "\n",
        "Let's now find the expression for the derivative $\\displaystyle{\\frac{dF}{dx}}$ in the following cell and plot it."
      ]
    },
    {
      "cell_type": "code",
      "metadata": {
        "execution": {
          "iopub.execute_input": "2021-06-25T15:15:13.553341Z",
          "iopub.status.busy": "2021-06-25T15:15:13.552566Z",
          "iopub.status.idle": "2021-06-25T15:15:13.554151Z",
          "shell.execute_reply": "2021-06-25T15:15:13.554766Z"
        },
        "id": "ZxyvhR_Vul7m"
      },
      "source": [
        "def dF(x, a, theta):\n",
        "  \"\"\"\n",
        "  Population activation function.\n",
        "\n",
        "  Args:\n",
        "    x     : the population input\n",
        "    a     : the gain of the function\n",
        "    theta : the threshold of the function\n",
        "\n",
        "  Returns:\n",
        "    dFdx  : the population activation response F(x) for input x\n",
        "  \"\"\"\n",
        "\n",
        "  ###########################################################################\n",
        "  # TODO for students: compute dFdx ##\n",
        "  raise NotImplementedError(\"Student excercise: compute the deravitive of F\")\n",
        "  ###########################################################################\n",
        "\n",
        "  # Calculate the population activation\n",
        "  dFdx = ...\n",
        "\n",
        "  return dFdx\n",
        "\n",
        "\n",
        "pars = default_pars_single()  # get default parameters\n",
        "x = np.arange(0, 10, .1)      # set the range of input\n",
        "\n",
        "# Uncomment below to test your function\n",
        "# df = dF(x, pars['a'], pars['theta'])\n",
        "# plot_dFdt(x, df)"
      ],
      "execution_count": null,
      "outputs": []
    },
    {
      "cell_type": "markdown",
      "metadata": {
        "execution": {
          "iopub.execute_input": "2021-06-25T15:15:13.572848Z",
          "iopub.status.busy": "2021-06-25T15:15:13.560863Z",
          "iopub.status.idle": "2021-06-25T15:15:13.785322Z",
          "shell.execute_reply": "2021-06-25T15:15:13.784294Z"
        },
        "id": "K1W3u9unul7m"
      },
      "source": [
        "[*Click for solution*](https://github.com/NeuromatchAcademy/course-content/tree/master//tutorials/W2D4_DynamicNetworks/solutions/W2D4_Tutorial1_Solution_ce2e3bc5.py)\n",
        "\n",
        "*Example output:*\n",
        "\n",
        "<img alt='Solution hint' align='left' width=560 height=416 src=https://raw.githubusercontent.com/NeuromatchAcademy/course-content/master/tutorials/W2D4_DynamicNetworks/static/W2D4_Tutorial1_Solution_ce2e3bc5_0.png>\n",
        "\n"
      ]
    },
    {
      "cell_type": "markdown",
      "metadata": {
        "id": "NmQGKDCZul7n"
      },
      "source": [
        "## Exercise 5: Compute eigenvalues\n",
        "\n",
        "As discussed above, for the case with $w=5.0$ and $I_{\\text{ext}}=0.5$, the system displays **three** fixed points. However, when we simulated the dynamics and varied the initial conditions $r_{\\rm init}$, we could only obtain **two** steady states. In this exercise, we will now check the stability of each of the three fixed points by calculating the corresponding eigenvalues with the function `eig_single`. Check the sign of each eigenvalue (i.e., stability of each fixed point). How many of the fixed points are stable?\n",
        "\n",
        "Note that the expression of the eigenvalue at fixed point $r^*$\n",
        "$$\\lambda = [-1+ wF'(w\\cdot r^* + I_{\\text{ext}};a,\\theta)]/\\tau$$"
      ]
    },
    {
      "cell_type": "code",
      "metadata": {
        "execution": {
          "iopub.execute_input": "2021-06-25T15:15:13.791210Z",
          "iopub.status.busy": "2021-06-25T15:15:13.790710Z",
          "iopub.status.idle": "2021-06-25T15:15:13.794190Z",
          "shell.execute_reply": "2021-06-25T15:15:13.793716Z"
        },
        "id": "YJ_mxvC2ul7n"
      },
      "source": [
        "def eig_single(fp, tau, a, theta, w, I_ext, **other_pars):\n",
        "  \"\"\"\n",
        "  Args:\n",
        "    fp   : fixed point r_fp\n",
        "    tau, a, theta, w, I_ext : Simulation parameters\n",
        "\n",
        "  Returns:\n",
        "    eig : eigevalue of the linearized system\n",
        "  \"\"\"\n",
        "  #####################################################################\n",
        "  ## TODO for students: compute eigenvalue and disable the error\n",
        "  raise NotImplementedError(\"Student excercise: compute the eigenvalue\")\n",
        "  ######################################################################\n",
        "  # Compute the eigenvalue\n",
        "  eig = ...\n",
        "\n",
        "  return eig\n",
        "\n",
        "\n",
        "# Find the eigenvalues for all fixed points of Exercise 2\n",
        "pars = default_pars_single(w=5, I_ext=.5)\n",
        "r_guess_vector = [0, .4, .9]\n",
        "x_fp = my_fp_finder(pars, r_guess_vector)\n",
        "\n",
        "# Uncomment below lines after completing the eig_single function.\n",
        "\n",
        "# for fp in x_fp:\n",
        "#   eig_fp = eig_single(fp, **pars)\n",
        "#   print(f'Fixed point1 at {fp:.3f} with Eigenvalue={eig_fp:.3f}')"
      ],
      "execution_count": null,
      "outputs": []
    },
    {
      "cell_type": "markdown",
      "metadata": {
        "id": "zJ40RWP9ul7o"
      },
      "source": [
        "**SAMPLE OUTPUT**\n",
        "\n",
        "```\n",
        "Fixed point1 at 0.042 with Eigenvalue=-0.583\n",
        "Fixed point2 at 0.447 with Eigenvalue=0.498\n",
        "Fixed point3 at 0.900 with Eigenvalue=-0.626\n",
        "```"
      ]
    },
    {
      "cell_type": "markdown",
      "metadata": {
        "execution": {
          "iopub.execute_input": "2021-06-25T15:15:13.800648Z",
          "iopub.status.busy": "2021-06-25T15:15:13.799737Z",
          "iopub.status.idle": "2021-06-25T15:15:13.803763Z",
          "shell.execute_reply": "2021-06-25T15:15:13.804221Z"
        },
        "id": "YHetabnwul7o"
      },
      "source": [
        "[*Click for solution*](https://github.com/NeuromatchAcademy/course-content/tree/master//tutorials/W2D4_DynamicNetworks/solutions/W2D4_Tutorial1_Solution_e285f60d.py)\n",
        "\n"
      ]
    },
    {
      "cell_type": "markdown",
      "metadata": {
        "id": "NQsB11SBul7o"
      },
      "source": [
        "## Think! \n",
        "Throughout the tutorial, we have assumed $w> 0 $, i.e., we considered a single population of **excitatory** neurons. What do you think will be the behavior of a population of inhibitory neurons, i.e., where $w> 0$ is replaced by $w< 0$? "
      ]
    },
    {
      "cell_type": "markdown",
      "metadata": {
        "execution": {
          "iopub.execute_input": "2021-06-25T15:15:13.808027Z",
          "iopub.status.busy": "2021-06-25T15:15:13.807492Z",
          "iopub.status.idle": "2021-06-25T15:15:13.811454Z",
          "shell.execute_reply": "2021-06-25T15:15:13.811008Z"
        },
        "id": "V1SOMcJYul7o"
      },
      "source": [
        "[*Click for solution*](https://github.com/NeuromatchAcademy/course-content/tree/master//tutorials/W2D4_DynamicNetworks/solutions/W2D4_Tutorial1_Solution_579bc9c9.py)\n",
        "\n"
      ]
    },
    {
      "cell_type": "markdown",
      "metadata": {
        "id": "riAJTsTxul7o"
      },
      "source": [
        "---\n",
        "# Bonus 2: Noisy input drives the transition between two stable states\n",
        "\n"
      ]
    },
    {
      "cell_type": "markdown",
      "metadata": {
        "id": "tF5JNErnul7o"
      },
      "source": [
        "## Ornstein-Uhlenbeck (OU) process\n",
        "\n",
        "As discussed in several previous tutorials, the OU process is usually used to generate a noisy input into the neuron. The OU input $\\eta(t)$ follows: \n",
        "\n",
        "$$\\tau_\\eta \\frac{d}{dt}\\eta(t) = -\\eta (t) + \\sigma_\\eta\\sqrt{2\\tau_\\eta}\\xi(t)$$\n",
        "\n",
        "Execute the following function `my_OU(pars, sig, myseed=False)` to generate an OU process."
      ]
    },
    {
      "cell_type": "code",
      "metadata": {
        "cellView": "form",
        "execution": {
          "iopub.execute_input": "2021-06-25T15:15:13.821655Z",
          "iopub.status.busy": "2021-06-25T15:15:13.820501Z",
          "iopub.status.idle": "2021-06-25T15:15:14.013270Z",
          "shell.execute_reply": "2021-06-25T15:15:14.012756Z"
        },
        "id": "5xDAZNGeul7o"
      },
      "source": [
        "# @title OU process `my_OU(pars, sig, myseed=False)`\n",
        "\n",
        "# @markdown Make sure you execute this cell to visualize the noise!\n",
        "\n",
        "\n",
        "def my_OU(pars, sig, myseed=False):\n",
        "  \"\"\"\n",
        "  A functions that generates Ornstein-Uhlenback process\n",
        "\n",
        "  Args:\n",
        "    pars       : parameter dictionary\n",
        "    sig        : noise amplitute\n",
        "    myseed     : random seed. int or boolean\n",
        "\n",
        "  Returns:\n",
        "    I          : Ornstein-Uhlenbeck input current\n",
        "  \"\"\"\n",
        "\n",
        "  # Retrieve simulation parameters\n",
        "  dt, range_t = pars['dt'], pars['range_t']\n",
        "  Lt = range_t.size\n",
        "  tau_ou = pars['tau_ou']  # [ms]\n",
        "\n",
        "  # set random seed\n",
        "  if myseed:\n",
        "      np.random.seed(seed=myseed)\n",
        "  else:\n",
        "      np.random.seed()\n",
        "\n",
        "  # Initialize\n",
        "  noise = np.random.randn(Lt)\n",
        "  I_ou = np.zeros(Lt)\n",
        "  I_ou[0] = noise[0] * sig\n",
        "\n",
        "  # generate OU\n",
        "  for it in range(Lt - 1):\n",
        "    I_ou[it + 1] = (I_ou[it]\n",
        "                    + dt / tau_ou * (0. - I_ou[it])\n",
        "                    + np.sqrt(2 * dt / tau_ou) * sig * noise[it + 1])\n",
        "\n",
        "  return I_ou\n",
        "\n",
        "\n",
        "pars = default_pars_single(T=100)\n",
        "pars['tau_ou'] = 1.  # [ms]\n",
        "sig_ou = 0.1\n",
        "I_ou = my_OU(pars, sig=sig_ou, myseed=2020)\n",
        "plt.figure(figsize=(10, 4))\n",
        "plt.plot(pars['range_t'], I_ou, 'r')\n",
        "plt.xlabel('t (ms)')\n",
        "plt.ylabel(r'$I_{\\mathrm{OU}}$')\n",
        "plt.show()"
      ],
      "execution_count": null,
      "outputs": []
    },
    {
      "cell_type": "markdown",
      "metadata": {
        "id": "wYvEIu5jul7p"
      },
      "source": [
        "## Example: Up-Down transition\n",
        "\n",
        "In the presence of two or more fixed points, noisy inputs can drive a transition between the fixed points! Here, we stimulate an E population for 1,000 ms applying OU inputs."
      ]
    },
    {
      "cell_type": "code",
      "metadata": {
        "cellView": "form",
        "execution": {
          "iopub.execute_input": "2021-06-25T15:15:14.019077Z",
          "iopub.status.busy": "2021-06-25T15:15:14.018084Z",
          "iopub.status.idle": "2021-06-25T15:15:14.266392Z",
          "shell.execute_reply": "2021-06-25T15:15:14.265575Z"
        },
        "id": "lyIZOLKhul7p"
      },
      "source": [
        "# @title Simulation of an E population with OU inputs\n",
        "\n",
        "# @markdown Make sure you execute this cell to spot the Up-Down states!\n",
        "\n",
        "pars = default_pars_single(T=1000)\n",
        "pars['w'] = 5.0\n",
        "sig_ou = 0.7\n",
        "pars['tau_ou'] = 1.  # [ms]\n",
        "pars['I_ext'] = 0.56 + my_OU(pars, sig=sig_ou, myseed=2020)\n",
        "\n",
        "r = simulate_single(pars)\n",
        "\n",
        "plt.figure(figsize=(10, 4))\n",
        "plt.plot(pars['range_t'], r, 'b', alpha=0.8)\n",
        "plt.xlabel('t (ms)')\n",
        "plt.ylabel(r'$r(t)$')\n",
        "plt.show()"
      ],
      "execution_count": null,
      "outputs": []
    }
  ]
}